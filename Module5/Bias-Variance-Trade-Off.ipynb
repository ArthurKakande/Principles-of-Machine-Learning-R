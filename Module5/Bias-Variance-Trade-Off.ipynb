{
 "cells": [
  {
   "cell_type": "markdown",
   "metadata": {},
   "source": [
    "\n",
    "\n",
    "# Regularization and the bias-variance trade-off\n",
    "\n",
    "**Over-fitting** is a constant danger with machine learning models. Over-fit models fit the training data well. However, an over-fit model will not **generalize**. A model that generalizes is a model which exhibits good performance on data cases beyond the ones used in training. Models that generalize will be useful in production. \n",
    "\n",
    "As a general rule, an over-fit model has learned the training data too well. The over-fitting likely involved learning noise present in the training data. The noise in the data is random and uninformative. When a new data case is presented to such a model it may produce unexpected results since the random noise will be different. \n",
    "\n",
    "So, what is one to do to prevent over-fitting of machine learning models? The most widely used set of tools for preventing over-fitting are known as **regularization methods**. Regularization methods take a number of forms, but all have the same goal, to prevent over-fitting of machine learning models. \n",
    "\n",
    "Regularization is not free however. While regularization reduces the **variance** in the model results, it introduces **bias**. Whereas, an over-fit model exhibits low bias but the variance is high. The high variance leads to unpredictable results when the model is exposed to new data cases. On the other hand, the stronger the regularization of a model the lower the variance, but the greater the bias. This all means that when applying regularization you will need to contend with the **bias-variance trade-off**. \n",
    "\n",
    "To better understand the bias variance trade-off consider the following examples of extreme model cases:\n",
    "\n",
    "- If the prediction for all cases is just the mean (or median), variance is minimized. The estimate for all cases is the same, so the bias of the estimates is zero. However, there is likely considerable variance in these estimates. \n",
    "- On the other hand, consider what happens when the data are fit with a kNN model with k=1. The training data will fit this model perfectly, since there is one model coefficient per training data point. The variance will be low. However, the model will have considerable bias when applied to test data. \n",
    "\n",
    "In either case, these extreme models will not generalize well and will exhibit large errors on any independent test data. Any practical model must come to terms with the trade-off between bias and variance to make accurate predictions. \n",
    "\n",
    "To better understand this trade-off you should consider the example of the mean square error, which can be decomposed into its components. The mean square error can be written as:\n",
    "\n",
    "$$\\Delta x = E \\Big[ \\big(Y - \\hat{f}(X) \\big)^2 \\Big] = \\frac{1}{N} \\sum_{i=1}^N \\big(y_i - \\hat{f}(x_i) \\big)^2 $$\n",
    "\n",
    "Where,\n",
    "$Y = $ the label vector.  \n",
    "$X = $ the feature matrix.   \n",
    "$\\hat{f}(x) = $ the trained model.   \n",
    "\n",
    "Expanding the representation of the mean square error:\n",
    "\n",
    "$$\\Delta x = \\big( E[ \\hat{f}(X)] - \\hat{f}(X) \\big)^2 + E \\big[ ( \\hat{f}(X) - E[ \\hat{f}(X)])^2 \\big] + \\sigma^2\\\\\n",
    "\\Delta x = Bias^2 + Variance + Irreducable\\ Error$$\n",
    "\n",
    "Study this relationship. Notice that as regularization reduces variance, bias increases. The irreducible error will remain unchanged. Regularization parameters are chosen to minimize $\\Delta x$. In many cases, this will prove challenging. "
   ]
  },
  {
   "cell_type": "markdown",
   "metadata": {},
   "source": [
    "## Load a  data set\n",
    "\n",
    "With the above bit of theory in mind, it is time to try an example. In this example you will compute and compare linear regression models using different levels and types of regularization. \n",
    "\n",
    "Execute the code in the cell below to load the packages required for the rest of this notebook."
   ]
  },
  {
   "cell_type": "code",
   "execution_count": 2,
   "metadata": {},
   "outputs": [
    {
     "name": "stderr",
     "output_type": "stream",
     "text": [
      "Loading required package: Matrix\n",
      "Loading required package: foreach\n",
      "Loaded glmnet 2.0-16\n",
      "\n"
     ]
    }
   ],
   "source": [
    "## Import packages\n",
    "library(ggplot2)\n",
    "library(repr)\n",
    "library(dplyr)\n",
    "library(caret)\n",
    "library(glmnet)\n",
    "\n",
    "options(repr.plot.width=4, repr.plot.height=4) # Set the initial plot area dimensions"
   ]
  },
  {
   "cell_type": "markdown",
   "metadata": {},
   "source": [
    "The code in the cell below loads the dataset which was prepared in a previous lab. Execute this code and ensure that the expected columns are present. "
   ]
  },
  {
   "cell_type": "code",
   "execution_count": 3,
   "metadata": {
    "scrolled": false
   },
   "outputs": [
    {
     "name": "stdout",
     "output_type": "stream",
     "text": [
      "[1] 195  28\n"
     ]
    },
    {
     "data": {
      "text/html": [
       "<ol class=list-inline>\n",
       "\t<li>'X'</li>\n",
       "\t<li>'symboling'</li>\n",
       "\t<li>'normalized.losses'</li>\n",
       "\t<li>'make'</li>\n",
       "\t<li>'fuel.type'</li>\n",
       "\t<li>'aspiration'</li>\n",
       "\t<li>'num.of.doors'</li>\n",
       "\t<li>'body.style'</li>\n",
       "\t<li>'drive.wheels'</li>\n",
       "\t<li>'engine.location'</li>\n",
       "\t<li>'wheel.base'</li>\n",
       "\t<li>'length'</li>\n",
       "\t<li>'width'</li>\n",
       "\t<li>'height'</li>\n",
       "\t<li>'curb.weight'</li>\n",
       "\t<li>'engine.type'</li>\n",
       "\t<li>'num.of.cylinders'</li>\n",
       "\t<li>'engine.size'</li>\n",
       "\t<li>'fuel.system'</li>\n",
       "\t<li>'bore'</li>\n",
       "\t<li>'stroke'</li>\n",
       "\t<li>'compression.ratio'</li>\n",
       "\t<li>'horsepower'</li>\n",
       "\t<li>'peak.rpm'</li>\n",
       "\t<li>'city.mpg'</li>\n",
       "\t<li>'highway.mpg'</li>\n",
       "\t<li>'price'</li>\n",
       "\t<li>'log_price'</li>\n",
       "</ol>\n"
      ],
      "text/latex": [
       "\\begin{enumerate*}\n",
       "\\item 'X'\n",
       "\\item 'symboling'\n",
       "\\item 'normalized.losses'\n",
       "\\item 'make'\n",
       "\\item 'fuel.type'\n",
       "\\item 'aspiration'\n",
       "\\item 'num.of.doors'\n",
       "\\item 'body.style'\n",
       "\\item 'drive.wheels'\n",
       "\\item 'engine.location'\n",
       "\\item 'wheel.base'\n",
       "\\item 'length'\n",
       "\\item 'width'\n",
       "\\item 'height'\n",
       "\\item 'curb.weight'\n",
       "\\item 'engine.type'\n",
       "\\item 'num.of.cylinders'\n",
       "\\item 'engine.size'\n",
       "\\item 'fuel.system'\n",
       "\\item 'bore'\n",
       "\\item 'stroke'\n",
       "\\item 'compression.ratio'\n",
       "\\item 'horsepower'\n",
       "\\item 'peak.rpm'\n",
       "\\item 'city.mpg'\n",
       "\\item 'highway.mpg'\n",
       "\\item 'price'\n",
       "\\item 'log\\_price'\n",
       "\\end{enumerate*}\n"
      ],
      "text/markdown": [
       "1. 'X'\n",
       "2. 'symboling'\n",
       "3. 'normalized.losses'\n",
       "4. 'make'\n",
       "5. 'fuel.type'\n",
       "6. 'aspiration'\n",
       "7. 'num.of.doors'\n",
       "8. 'body.style'\n",
       "9. 'drive.wheels'\n",
       "10. 'engine.location'\n",
       "11. 'wheel.base'\n",
       "12. 'length'\n",
       "13. 'width'\n",
       "14. 'height'\n",
       "15. 'curb.weight'\n",
       "16. 'engine.type'\n",
       "17. 'num.of.cylinders'\n",
       "18. 'engine.size'\n",
       "19. 'fuel.system'\n",
       "20. 'bore'\n",
       "21. 'stroke'\n",
       "22. 'compression.ratio'\n",
       "23. 'horsepower'\n",
       "24. 'peak.rpm'\n",
       "25. 'city.mpg'\n",
       "26. 'highway.mpg'\n",
       "27. 'price'\n",
       "28. 'log_price'\n",
       "\n",
       "\n"
      ],
      "text/plain": [
       " [1] \"X\"                 \"symboling\"         \"normalized.losses\"\n",
       " [4] \"make\"              \"fuel.type\"         \"aspiration\"       \n",
       " [7] \"num.of.doors\"      \"body.style\"        \"drive.wheels\"     \n",
       "[10] \"engine.location\"   \"wheel.base\"        \"length\"           \n",
       "[13] \"width\"             \"height\"            \"curb.weight\"      \n",
       "[16] \"engine.type\"       \"num.of.cylinders\"  \"engine.size\"      \n",
       "[19] \"fuel.system\"       \"bore\"              \"stroke\"           \n",
       "[22] \"compression.ratio\" \"horsepower\"        \"peak.rpm\"         \n",
       "[25] \"city.mpg\"          \"highway.mpg\"       \"price\"            \n",
       "[28] \"log_price\"        "
      ]
     },
     "metadata": {},
     "output_type": "display_data"
    }
   ],
   "source": [
    "auto_prices = read.csv('Auto_Prices_Preped.csv')\n",
    "print(dim(auto_prices))\n",
    "names(auto_prices)"
   ]
  },
  {
   "cell_type": "markdown",
   "metadata": {},
   "source": [
    "Notice that there are 195 cases and two label columns. "
   ]
  },
  {
   "cell_type": "markdown",
   "metadata": {},
   "source": [
    "## Split the dataset\n",
    "\n",
    "You must now create randomly sampled training and test data sets. The `createDataPartition` function from the R caret package is used  to create indices for the training data sample. In this case 75% of the data will be used  for training the model. Since this data set is small, only 48 cases will be included in the test dataset. Execute this code and note the dimensions of the resulting data frame."
   ]
  },
  {
   "cell_type": "code",
   "execution_count": 4,
   "metadata": {
    "scrolled": true
   },
   "outputs": [
    {
     "data": {
      "text/html": [
       "<ol class=list-inline>\n",
       "\t<li>147</li>\n",
       "\t<li>28</li>\n",
       "</ol>\n"
      ],
      "text/latex": [
       "\\begin{enumerate*}\n",
       "\\item 147\n",
       "\\item 28\n",
       "\\end{enumerate*}\n"
      ],
      "text/markdown": [
       "1. 147\n",
       "2. 28\n",
       "\n",
       "\n"
      ],
      "text/plain": [
       "[1] 147  28"
      ]
     },
     "metadata": {},
     "output_type": "display_data"
    },
    {
     "data": {
      "text/html": [
       "<ol class=list-inline>\n",
       "\t<li>48</li>\n",
       "\t<li>28</li>\n",
       "</ol>\n"
      ],
      "text/latex": [
       "\\begin{enumerate*}\n",
       "\\item 48\n",
       "\\item 28\n",
       "\\end{enumerate*}\n"
      ],
      "text/markdown": [
       "1. 48\n",
       "2. 28\n",
       "\n",
       "\n"
      ],
      "text/plain": [
       "[1] 48 28"
      ]
     },
     "metadata": {},
     "output_type": "display_data"
    }
   ],
   "source": [
    "set.seed(1955)\n",
    "## Randomly sample cases to create independent training and test data\n",
    "partition = createDataPartition(auto_prices[,'fuel.type'], times = 1, p = 0.75, list = FALSE)\n",
    "training = auto_prices[partition,] # Create the training sample\n",
    "dim(training)\n",
    "test = auto_prices[-partition,] # Create the test sample\n",
    "dim(test)"
   ]
  },
  {
   "cell_type": "markdown",
   "metadata": {},
   "source": [
    "## Scale numeric features\n",
    "\n",
    "Numeric features must be rescaled so they have a similar range of values. Rescaling prevents features from having an undue influence on model training simply because then have a larger range of numeric variables. \n",
    "\n",
    "The code in the cell below uses the `preProcess` function from the caret function. The processing is as follows:\n",
    "1. The preprocessing model object is computed. In this case the processing includes centering and scaling the numeric feature. Notice that this model is fit only to the training data.\n",
    "2. The scaling is applied to both the test and training partitions.\n",
    "\n",
    "Execute the code. "
   ]
  },
  {
   "cell_type": "code",
   "execution_count": 5,
   "metadata": {},
   "outputs": [
    {
     "data": {
      "text/html": [
       "<table>\n",
       "<thead><tr><th></th><th scope=col>wheel.base</th><th scope=col>length</th><th scope=col>width</th><th scope=col>height</th><th scope=col>curb.weight</th><th scope=col>engine.type</th><th scope=col>num.of.cylinders</th><th scope=col>engine.size</th><th scope=col>fuel.system</th><th scope=col>bore</th><th scope=col>stroke</th><th scope=col>compression.ratio</th><th scope=col>horsepower</th><th scope=col>peak.rpm</th><th scope=col>city.mpg</th></tr></thead>\n",
       "<tbody>\n",
       "\t<tr><th scope=row>1</th><td>-1.66334530</td><td>-0.4791643 </td><td>-0.8655069 </td><td>-2.1632960 </td><td>-0.07121387</td><td>dohc       </td><td>three_four </td><td>-0.01271573</td><td>mpfi       </td><td> 0.4347487 </td><td>-1.8385856 </td><td>-0.2953773 </td><td>0.1417937  </td><td>-0.2071160 </td><td>-0.6352759 </td></tr>\n",
       "\t<tr><th scope=row>2</th><td>-1.66334530</td><td>-0.4791643 </td><td>-0.8655069 </td><td>-2.1632960 </td><td>-0.07121387</td><td>dohc       </td><td>three_four </td><td>-0.01271573</td><td>mpfi       </td><td> 0.4347487 </td><td>-1.8385856 </td><td>-0.2953773 </td><td>0.1417937  </td><td>-0.2071160 </td><td>-0.6352759 </td></tr>\n",
       "\t<tr><th scope=row>6</th><td> 0.07441198</td><td> 0.1737428 </td><td> 0.1267119 </td><td>-0.3189213 </td><td>-0.14739526</td><td>ohc        </td><td>five_six   </td><td> 0.12405588</td><td>mpfi       </td><td>-0.5901228 </td><td> 0.4874471 </td><td>-0.4195707 </td><td>0.1160607  </td><td> 0.8284638 </td><td>-0.9389687 </td></tr>\n",
       "\t<tr><th scope=row>7</th><td> 1.00535338</td><td> 1.3566568 </td><td> 2.4268556 </td><td> 0.7962820 </td><td> 0.47877864</td><td>ohc        </td><td>five_six   </td><td> 0.12405588</td><td>mpfi       </td><td>-0.5901228 </td><td> 0.4874471 </td><td>-0.4195707 </td><td>0.1160607  </td><td> 0.8284638 </td><td>-0.9389687 </td></tr>\n",
       "\t<tr><th scope=row>8</th><td> 1.00535338</td><td> 1.3566568 </td><td> 2.4268556 </td><td> 0.7962820 </td><td> 0.68316774</td><td>ohc        </td><td>five_six   </td><td> 0.12405588</td><td>mpfi       </td><td>-0.5901228 </td><td> 0.4874471 </td><td>-0.4195707 </td><td>0.1160607  </td><td> 0.8284638 </td><td>-0.9389687 </td></tr>\n",
       "\t<tr><th scope=row>9</th><td> 1.00535338</td><td> 1.3566568 </td><td> 2.4268556 </td><td> 0.8820669 </td><td> 0.92843467</td><td>ohc        </td><td>five_six   </td><td> 0.01007954</td><td>mpfi       </td><td>-0.8097382 </td><td> 0.4874471 </td><td>-0.4692480 </td><td>0.8880485  </td><td> 0.8284638 </td><td>-1.2426616 </td></tr>\n",
       "</tbody>\n",
       "</table>\n"
      ],
      "text/latex": [
       "\\begin{tabular}{r|lllllllllllllll}\n",
       "  & wheel.base & length & width & height & curb.weight & engine.type & num.of.cylinders & engine.size & fuel.system & bore & stroke & compression.ratio & horsepower & peak.rpm & city.mpg\\\\\n",
       "\\hline\n",
       "\t1 & -1.66334530  & -0.4791643   & -0.8655069   & -2.1632960   & -0.07121387  & dohc         & three\\_four & -0.01271573  & mpfi         &  0.4347487   & -1.8385856   & -0.2953773   & 0.1417937    & -0.2071160   & -0.6352759  \\\\\n",
       "\t2 & -1.66334530  & -0.4791643   & -0.8655069   & -2.1632960   & -0.07121387  & dohc         & three\\_four & -0.01271573  & mpfi         &  0.4347487   & -1.8385856   & -0.2953773   & 0.1417937    & -0.2071160   & -0.6352759  \\\\\n",
       "\t6 &  0.07441198  &  0.1737428   &  0.1267119   & -0.3189213   & -0.14739526  & ohc          & five\\_six   &  0.12405588  & mpfi         & -0.5901228   &  0.4874471   & -0.4195707   & 0.1160607    &  0.8284638   & -0.9389687  \\\\\n",
       "\t7 &  1.00535338  &  1.3566568   &  2.4268556   &  0.7962820   &  0.47877864  & ohc          & five\\_six   &  0.12405588  & mpfi         & -0.5901228   &  0.4874471   & -0.4195707   & 0.1160607    &  0.8284638   & -0.9389687  \\\\\n",
       "\t8 &  1.00535338  &  1.3566568   &  2.4268556   &  0.7962820   &  0.68316774  & ohc          & five\\_six   &  0.12405588  & mpfi         & -0.5901228   &  0.4874471   & -0.4195707   & 0.1160607    &  0.8284638   & -0.9389687  \\\\\n",
       "\t9 &  1.00535338  &  1.3566568   &  2.4268556   &  0.8820669   &  0.92843467  & ohc          & five\\_six   &  0.01007954  & mpfi         & -0.8097382   &  0.4874471   & -0.4692480   & 0.8880485    &  0.8284638   & -1.2426616  \\\\\n",
       "\\end{tabular}\n"
      ],
      "text/markdown": [
       "\n",
       "| <!--/--> | wheel.base | length | width | height | curb.weight | engine.type | num.of.cylinders | engine.size | fuel.system | bore | stroke | compression.ratio | horsepower | peak.rpm | city.mpg | \n",
       "|---|---|---|---|---|---|\n",
       "| 1 | -1.66334530 | -0.4791643  | -0.8655069  | -2.1632960  | -0.07121387 | dohc        | three_four  | -0.01271573 | mpfi        |  0.4347487  | -1.8385856  | -0.2953773  | 0.1417937   | -0.2071160  | -0.6352759  | \n",
       "| 2 | -1.66334530 | -0.4791643  | -0.8655069  | -2.1632960  | -0.07121387 | dohc        | three_four  | -0.01271573 | mpfi        |  0.4347487  | -1.8385856  | -0.2953773  | 0.1417937   | -0.2071160  | -0.6352759  | \n",
       "| 6 |  0.07441198 |  0.1737428  |  0.1267119  | -0.3189213  | -0.14739526 | ohc         | five_six    |  0.12405588 | mpfi        | -0.5901228  |  0.4874471  | -0.4195707  | 0.1160607   |  0.8284638  | -0.9389687  | \n",
       "| 7 |  1.00535338 |  1.3566568  |  2.4268556  |  0.7962820  |  0.47877864 | ohc         | five_six    |  0.12405588 | mpfi        | -0.5901228  |  0.4874471  | -0.4195707  | 0.1160607   |  0.8284638  | -0.9389687  | \n",
       "| 8 |  1.00535338 |  1.3566568  |  2.4268556  |  0.7962820  |  0.68316774 | ohc         | five_six    |  0.12405588 | mpfi        | -0.5901228  |  0.4874471  | -0.4195707  | 0.1160607   |  0.8284638  | -0.9389687  | \n",
       "| 9 |  1.00535338 |  1.3566568  |  2.4268556  |  0.8820669  |  0.92843467 | ohc         | five_six    |  0.01007954 | mpfi        | -0.8097382  |  0.4874471  | -0.4692480  | 0.8880485   |  0.8284638  | -1.2426616  | \n",
       "\n",
       "\n"
      ],
      "text/plain": [
       "  wheel.base  length     width      height     curb.weight engine.type\n",
       "1 -1.66334530 -0.4791643 -0.8655069 -2.1632960 -0.07121387 dohc       \n",
       "2 -1.66334530 -0.4791643 -0.8655069 -2.1632960 -0.07121387 dohc       \n",
       "6  0.07441198  0.1737428  0.1267119 -0.3189213 -0.14739526 ohc        \n",
       "7  1.00535338  1.3566568  2.4268556  0.7962820  0.47877864 ohc        \n",
       "8  1.00535338  1.3566568  2.4268556  0.7962820  0.68316774 ohc        \n",
       "9  1.00535338  1.3566568  2.4268556  0.8820669  0.92843467 ohc        \n",
       "  num.of.cylinders engine.size fuel.system bore       stroke    \n",
       "1 three_four       -0.01271573 mpfi         0.4347487 -1.8385856\n",
       "2 three_four       -0.01271573 mpfi         0.4347487 -1.8385856\n",
       "6 five_six          0.12405588 mpfi        -0.5901228  0.4874471\n",
       "7 five_six          0.12405588 mpfi        -0.5901228  0.4874471\n",
       "8 five_six          0.12405588 mpfi        -0.5901228  0.4874471\n",
       "9 five_six          0.01007954 mpfi        -0.8097382  0.4874471\n",
       "  compression.ratio horsepower peak.rpm   city.mpg  \n",
       "1 -0.2953773        0.1417937  -0.2071160 -0.6352759\n",
       "2 -0.2953773        0.1417937  -0.2071160 -0.6352759\n",
       "6 -0.4195707        0.1160607   0.8284638 -0.9389687\n",
       "7 -0.4195707        0.1160607   0.8284638 -0.9389687\n",
       "8 -0.4195707        0.1160607   0.8284638 -0.9389687\n",
       "9 -0.4692480        0.8880485   0.8284638 -1.2426616"
      ]
     },
     "metadata": {},
     "output_type": "display_data"
    }
   ],
   "source": [
    "num_cols = c('wheel.base', 'length', 'width', 'height', 'curb.weight', 'engine.type', \n",
    "             'num.of.cylinders', 'engine.size', 'fuel.system', 'bore', 'stroke', \n",
    "             'compression.ratio', 'horsepower', 'peak.rpm', 'city.mpg')\n",
    "preProcValues <- preProcess(training[,num_cols], method = c(\"center\", \"scale\"))\n",
    "\n",
    "training[,num_cols] = predict(preProcValues, training[,num_cols])\n",
    "test[,num_cols] = predict(preProcValues, test[,num_cols])\n",
    "head(training[,num_cols])"
   ]
  },
  {
   "cell_type": "markdown",
   "metadata": {},
   "source": [
    "## A first linear regression model\n",
    "\n",
    "To create a baseline for comparison, you will first create a model using all 45 features and no regularization. In the terminology used before this model has high variance and low bias. In other words, this model is over-fit. \n",
    "\n",
    "The code in the cell below should be familiar. In summary, it performs the following processing:\n",
    "1. Define and train the linear regression model using the training features and labels. The model is defined using the R modeling language.\n",
    "2. Score the model using the test feature set. \n",
    "3. Compute and display key performance metrics for the model using the test feature set. \n",
    "4. Plot a histogram of the residuals of the model using the test partition.\n",
    "5. Plot a Q-Q Normal plot of the residuals of the model using the test partition.\n",
    "6. Plot the residuals of the model vs. the predicted values using the test partition. \n",
    "\n",
    "Execute this code and examine the results for the linear regression model. "
   ]
  },
  {
   "cell_type": "code",
   "execution_count": 6,
   "metadata": {},
   "outputs": [
    {
     "name": "stdout",
     "output_type": "stream",
     "text": [
      "Mean Square Error      =  0.0269 \n",
      "Root Mean Square Error =  0.164 \n",
      "Mean Absolute Error    =  0.1299 \n",
      "Median Absolute Error  =  0.1035 \n",
      "R^2                    =  0.9715 \n",
      "Adjusted R^2           =  0.9592 \n"
     ]
    },
    {
     "data": {},
     "metadata": {},
     "output_type": "display_data"
    },
    {
     "data": {},
     "metadata": {},
     "output_type": "display_data"
    },
    {
     "data": {
      "image/png": "[encoded data removed]",
      "text/plain": [
       "plot without title"
      ]
     },
     "metadata": {},
     "output_type": "display_data"
    },
    {
     "data": {},
     "metadata": {},
     "output_type": "display_data"
    },
    {
     "data": {
      "image/png": "[encoded data removed]",
      "text/plain": [
       "plot without title"
      ]
     },
     "metadata": {},
     "output_type": "display_data"
    },
    {
     "data": {
      "image/png": "[encoded data removed]",
      "text/plain": [
       "plot without title"
      ]
     },
     "metadata": {},
     "output_type": "display_data"
    }
   ],
   "source": [
    "print_metrics = function(lin_mod, df, score, label){\n",
    "    resids = df[,label] - score\n",
    "    resids2 = resids**2\n",
    "    N = length(score)\n",
    "    r2 = as.character(round(summary(lin_mod)$r.squared, 4))\n",
    "    adj_r2 = as.character(round(summary(lin_mod)$adj.r.squared, 4))\n",
    "    cat(paste('Mean Square Error      = ', as.character(round(sum(resids2)/N, 4)), '\\n'))\n",
    "    cat(paste('Root Mean Square Error = ', as.character(round(sqrt(sum(resids2)/N), 4)), '\\n'))\n",
    "    cat(paste('Mean Absolute Error    = ', as.character(round(sum(abs(resids))/N, 4)), '\\n'))\n",
    "    cat(paste('Median Absolute Error  = ', as.character(round(median(abs(resids)), 4)), '\\n'))\n",
    "    cat(paste('R^2                    = ', r2, '\\n'))\n",
    "    cat(paste('Adjusted R^2           = ', adj_r2, '\\n'))\n",
    "}\n",
    "\n",
    "hist_resids = function(df, score, label, bins = 10){\n",
    "    options(repr.plot.width=4, repr.plot.height=3) # Set the initial plot area dimensions\n",
    "    df$resids = df[,label] - score\n",
    "    bw = (max(df$resids) - min(df$resids))/(bins + 1)\n",
    "    ggplot(df, aes(resids)) + \n",
    "       geom_histogram(binwidth = bw, aes(y=..density..), alpha = 0.5) +\n",
    "       geom_density(aes(y=..density..), color = 'blue') +\n",
    "       xlab('Residual value') + ggtitle('Histogram of residuals')\n",
    "}\n",
    "\n",
    "resids_qq = function(df, score, label){\n",
    "    options(repr.plot.width=4, repr.plot.height=3.5) # Set the initial plot area dimensions\n",
    "    df$resids = df[,label] - score\n",
    "    ggplot() + \n",
    "    geom_qq(data = df, aes(sample = resids)) + \n",
    "    ylab('Quantiles of residuals') + xlab('Quantiles of standard Normal') +\n",
    "    ggtitle('QQ plot of residual values')\n",
    "}\n",
    "\n",
    "\n",
    "resid_plot = function(df, score, label){\n",
    "    df$score = score\n",
    "    df$resids = df[,label] - score\n",
    "    ggplot(df, aes(score, resids)) + \n",
    "    geom_point() + \n",
    "    ggtitle('Residuals vs. Predicted Values') +\n",
    "    xlab('Predicted values') + ylab('Residuals')\n",
    "}\n",
    "\n",
    "lin_mod = lm(log_price ~ make + fuel.type + aspiration + num.of.doors + body.style +\n",
    "             drive.wheels + engine.location + wheel.base + length +\n",
    "             width + height + curb.weight + num.of.cylinders +\n",
    "             engine.size + bore + stroke + compression.ratio +\n",
    "             horsepower + peak.rpm + city.mpg, data = training)\n",
    "\n",
    "score = predict(lin_mod, newdata = test)\n",
    "print_metrics(lin_mod, test, score, label = 'log_price')      \n",
    "hist_resids(test, score, label = 'log_price')   \n",
    "resids_qq(test, score, label = 'log_price')\n",
    "resid_plot(test, score, label = 'log_price')"
   ]
  },
  {
   "cell_type": "markdown",
   "metadata": {},
   "source": [
    "Overall these results are reasonably good. The error metrics are relatively small. Further, the distribution of the residuals is a bit skewed, but otherwise well behaved. There is one notable outlier."
   ]
  },
  {
   "cell_type": "markdown",
   "metadata": {},
   "source": [
    "## Create model matrix\n",
    "\n",
    "To explore the bias-variance trade-off for l1 and l2 regularization, you work with the R `glmnet` model. The `glmnet` model will not work with data frames. Rather, this model function requires a numeric matrix for the training features and a vector of labels. \n",
    "\n",
    "To create model matrix the code in the cell below uses the `dummyVars` function from the caret package. A predict method is applied to create numeric model matrices for training and test. Execute the code and examine the resulting matrix."
   ]
  },
  {
   "cell_type": "code",
   "execution_count": 7,
   "metadata": {},
   "outputs": [
    {
     "name": "stdout",
     "output_type": "stream",
     "text": [
      "[1] 147  52\n"
     ]
    },
    {
     "data": {
      "text/html": [
       "<table>\n",
       "<thead><tr><th></th><th scope=col>make.alfa-romero</th><th scope=col>make.audi</th><th scope=col>make.bmw</th><th scope=col>make.chevrolet</th><th scope=col>make.dodge</th><th scope=col>make.honda</th><th scope=col>make.isuzu</th><th scope=col>make.jaguar</th><th scope=col>make.mazda</th><th scope=col>make.mercedes-benz</th><th scope=col>...</th><th scope=col>num.of.cylinders.eight_twelve</th><th scope=col>num.of.cylinders.five_six</th><th scope=col>num.of.cylinders.three_four</th><th scope=col>engine.size</th><th scope=col>bore</th><th scope=col>stroke</th><th scope=col>compression.ratio</th><th scope=col>horsepower</th><th scope=col>peak.rpm</th><th scope=col>city.mpg</th></tr></thead>\n",
       "<tbody>\n",
       "\t<tr><th scope=row>1</th><td>1          </td><td>0          </td><td>0          </td><td>0          </td><td>0          </td><td>0          </td><td>0          </td><td>0          </td><td>0          </td><td>0          </td><td>...        </td><td>0          </td><td>0          </td><td>1          </td><td>-0.01271573</td><td> 0.4347487 </td><td>-1.8385856 </td><td>-0.2953773 </td><td>0.1417937  </td><td>-0.2071160 </td><td>-0.6352759 </td></tr>\n",
       "\t<tr><th scope=row>2</th><td>1          </td><td>0          </td><td>0          </td><td>0          </td><td>0          </td><td>0          </td><td>0          </td><td>0          </td><td>0          </td><td>0          </td><td>...        </td><td>0          </td><td>0          </td><td>1          </td><td>-0.01271573</td><td> 0.4347487 </td><td>-1.8385856 </td><td>-0.2953773 </td><td>0.1417937  </td><td>-0.2071160 </td><td>-0.6352759 </td></tr>\n",
       "\t<tr><th scope=row>6</th><td>0          </td><td>1          </td><td>0          </td><td>0          </td><td>0          </td><td>0          </td><td>0          </td><td>0          </td><td>0          </td><td>0          </td><td>...        </td><td>0          </td><td>1          </td><td>0          </td><td> 0.12405588</td><td>-0.5901228 </td><td> 0.4874471 </td><td>-0.4195707 </td><td>0.1160607  </td><td> 0.8284638 </td><td>-0.9389687 </td></tr>\n",
       "\t<tr><th scope=row>7</th><td>0          </td><td>1          </td><td>0          </td><td>0          </td><td>0          </td><td>0          </td><td>0          </td><td>0          </td><td>0          </td><td>0          </td><td>...        </td><td>0          </td><td>1          </td><td>0          </td><td> 0.12405588</td><td>-0.5901228 </td><td> 0.4874471 </td><td>-0.4195707 </td><td>0.1160607  </td><td> 0.8284638 </td><td>-0.9389687 </td></tr>\n",
       "\t<tr><th scope=row>8</th><td>0          </td><td>1          </td><td>0          </td><td>0          </td><td>0          </td><td>0          </td><td>0          </td><td>0          </td><td>0          </td><td>0          </td><td>...        </td><td>0          </td><td>1          </td><td>0          </td><td> 0.12405588</td><td>-0.5901228 </td><td> 0.4874471 </td><td>-0.4195707 </td><td>0.1160607  </td><td> 0.8284638 </td><td>-0.9389687 </td></tr>\n",
       "\t<tr><th scope=row>9</th><td>0          </td><td>1          </td><td>0          </td><td>0          </td><td>0          </td><td>0          </td><td>0          </td><td>0          </td><td>0          </td><td>0          </td><td>...        </td><td>0          </td><td>1          </td><td>0          </td><td> 0.01007954</td><td>-0.8097382 </td><td> 0.4874471 </td><td>-0.4692480 </td><td>0.8880485  </td><td> 0.8284638 </td><td>-1.2426616 </td></tr>\n",
       "</tbody>\n",
       "</table>\n"
      ],
      "text/latex": [
       "\\begin{tabular}{r|llllllllllllllllllllllllllllllllllllllllllllllllllll}\n",
       "  & make.alfa-romero & make.audi & make.bmw & make.chevrolet & make.dodge & make.honda & make.isuzu & make.jaguar & make.mazda & make.mercedes-benz & ... & num.of.cylinders.eight\\_twelve & num.of.cylinders.five\\_six & num.of.cylinders.three\\_four & engine.size & bore & stroke & compression.ratio & horsepower & peak.rpm & city.mpg\\\\\n",
       "\\hline\n",
       "\t1 & 1           & 0           & 0           & 0           & 0           & 0           & 0           & 0           & 0           & 0           & ...         & 0           & 0           & 1           & -0.01271573 &  0.4347487  & -1.8385856  & -0.2953773  & 0.1417937   & -0.2071160  & -0.6352759 \\\\\n",
       "\t2 & 1           & 0           & 0           & 0           & 0           & 0           & 0           & 0           & 0           & 0           & ...         & 0           & 0           & 1           & -0.01271573 &  0.4347487  & -1.8385856  & -0.2953773  & 0.1417937   & -0.2071160  & -0.6352759 \\\\\n",
       "\t6 & 0           & 1           & 0           & 0           & 0           & 0           & 0           & 0           & 0           & 0           & ...         & 0           & 1           & 0           &  0.12405588 & -0.5901228  &  0.4874471  & -0.4195707  & 0.1160607   &  0.8284638  & -0.9389687 \\\\\n",
       "\t7 & 0           & 1           & 0           & 0           & 0           & 0           & 0           & 0           & 0           & 0           & ...         & 0           & 1           & 0           &  0.12405588 & -0.5901228  &  0.4874471  & -0.4195707  & 0.1160607   &  0.8284638  & -0.9389687 \\\\\n",
       "\t8 & 0           & 1           & 0           & 0           & 0           & 0           & 0           & 0           & 0           & 0           & ...         & 0           & 1           & 0           &  0.12405588 & -0.5901228  &  0.4874471  & -0.4195707  & 0.1160607   &  0.8284638  & -0.9389687 \\\\\n",
       "\t9 & 0           & 1           & 0           & 0           & 0           & 0           & 0           & 0           & 0           & 0           & ...         & 0           & 1           & 0           &  0.01007954 & -0.8097382  &  0.4874471  & -0.4692480  & 0.8880485   &  0.8284638  & -1.2426616 \\\\\n",
       "\\end{tabular}\n"
      ],
      "text/markdown": [
       "\n",
       "| <!--/--> | make.alfa-romero | make.audi | make.bmw | make.chevrolet | make.dodge | make.honda | make.isuzu | make.jaguar | make.mazda | make.mercedes-benz | ... | num.of.cylinders.eight_twelve | num.of.cylinders.five_six | num.of.cylinders.three_four | engine.size | bore | stroke | compression.ratio | horsepower | peak.rpm | city.mpg | \n",
       "|---|---|---|---|---|---|\n",
       "| 1 | 1           | 0           | 0           | 0           | 0           | 0           | 0           | 0           | 0           | 0           | ...         | 0           | 0           | 1           | -0.01271573 |  0.4347487  | -1.8385856  | -0.2953773  | 0.1417937   | -0.2071160  | -0.6352759  | \n",
       "| 2 | 1           | 0           | 0           | 0           | 0           | 0           | 0           | 0           | 0           | 0           | ...         | 0           | 0           | 1           | -0.01271573 |  0.4347487  | -1.8385856  | -0.2953773  | 0.1417937   | -0.2071160  | -0.6352759  | \n",
       "| 6 | 0           | 1           | 0           | 0           | 0           | 0           | 0           | 0           | 0           | 0           | ...         | 0           | 1           | 0           |  0.12405588 | -0.5901228  |  0.4874471  | -0.4195707  | 0.1160607   |  0.8284638  | -0.9389687  | \n",
       "| 7 | 0           | 1           | 0           | 0           | 0           | 0           | 0           | 0           | 0           | 0           | ...         | 0           | 1           | 0           |  0.12405588 | -0.5901228  |  0.4874471  | -0.4195707  | 0.1160607   |  0.8284638  | -0.9389687  | \n",
       "| 8 | 0           | 1           | 0           | 0           | 0           | 0           | 0           | 0           | 0           | 0           | ...         | 0           | 1           | 0           |  0.12405588 | -0.5901228  |  0.4874471  | -0.4195707  | 0.1160607   |  0.8284638  | -0.9389687  | \n",
       "| 9 | 0           | 1           | 0           | 0           | 0           | 0           | 0           | 0           | 0           | 0           | ...         | 0           | 1           | 0           |  0.01007954 | -0.8097382  |  0.4874471  | -0.4692480  | 0.8880485   |  0.8284638  | -1.2426616  | \n",
       "\n",
       "\n"
      ],
      "text/plain": [
       "  make.alfa-romero make.audi make.bmw make.chevrolet make.dodge make.honda\n",
       "1 1                0         0        0              0          0         \n",
       "2 1                0         0        0              0          0         \n",
       "6 0                1         0        0              0          0         \n",
       "7 0                1         0        0              0          0         \n",
       "8 0                1         0        0              0          0         \n",
       "9 0                1         0        0              0          0         \n",
       "  make.isuzu make.jaguar make.mazda make.mercedes-benz ...\n",
       "1 0          0           0          0                  ...\n",
       "2 0          0           0          0                  ...\n",
       "6 0          0           0          0                  ...\n",
       "7 0          0           0          0                  ...\n",
       "8 0          0           0          0                  ...\n",
       "9 0          0           0          0                  ...\n",
       "  num.of.cylinders.eight_twelve num.of.cylinders.five_six\n",
       "1 0                             0                        \n",
       "2 0                             0                        \n",
       "6 0                             1                        \n",
       "7 0                             1                        \n",
       "8 0                             1                        \n",
       "9 0                             1                        \n",
       "  num.of.cylinders.three_four engine.size bore       stroke    \n",
       "1 1                           -0.01271573  0.4347487 -1.8385856\n",
       "2 1                           -0.01271573  0.4347487 -1.8385856\n",
       "6 0                            0.12405588 -0.5901228  0.4874471\n",
       "7 0                            0.12405588 -0.5901228  0.4874471\n",
       "8 0                            0.12405588 -0.5901228  0.4874471\n",
       "9 0                            0.01007954 -0.8097382  0.4874471\n",
       "  compression.ratio horsepower peak.rpm   city.mpg  \n",
       "1 -0.2953773        0.1417937  -0.2071160 -0.6352759\n",
       "2 -0.2953773        0.1417937  -0.2071160 -0.6352759\n",
       "6 -0.4195707        0.1160607   0.8284638 -0.9389687\n",
       "7 -0.4195707        0.1160607   0.8284638 -0.9389687\n",
       "8 -0.4195707        0.1160607   0.8284638 -0.9389687\n",
       "9 -0.4692480        0.8880485   0.8284638 -1.2426616"
      ]
     },
     "metadata": {},
     "output_type": "display_data"
    }
   ],
   "source": [
    "cols = c('make', 'fuel.type', 'aspiration', 'num.of.doors', 'body.style',\n",
    "         'drive.wheels', 'engine.location', 'wheel.base', 'length',\n",
    "         'width', 'height', 'curb.weight', 'num.of.cylinders', 'engine.size', \n",
    "         'bore', 'stroke', 'compression.ratio', 'horsepower', \n",
    "         'peak.rpm', 'city.mpg', 'log_price')\n",
    "\n",
    "dummies <- dummyVars(log_price ~ ., data = auto_prices[,cols])\n",
    "training_dummies = predict(dummies, newdata = training[,cols])\n",
    "print(dim(training_dummies))\n",
    "head(training_dummies)"
   ]
  },
  {
   "cell_type": "markdown",
   "metadata": {},
   "source": [
    "Notice that there is now one **dummy variable** for each category of the categorical variables. Only one dummy variable is coded with a one for each set of categories. This is known as **one hot encoding**. By using numeric dummy variable, the entire training feature array is now numeric. \n",
    "\n",
    "Execute the code in the cell below to encode the test features as a dummy variable matrix."
   ]
  },
  {
   "cell_type": "code",
   "execution_count": 8,
   "metadata": {},
   "outputs": [],
   "source": [
    "test_dummies = predict(dummies, newdata = test[,cols])"
   ]
  },
  {
   "cell_type": "markdown",
   "metadata": {},
   "source": [
    "## Apply l2 regularization\n",
    "\n",
    "Now, you will apply **l2 regularization** to constrain the model parameters. Constraining the model parameters prevent over-fitting of the model. This method is also known as **Ridge Regression**. \n",
    "\n",
    "But, how does this work? l2 regularization applies a **penalty** proportional to the **l2** or **Euclidean norm** of the model weights to the loss function. For linear regression using squared error as the metric, the total **loss function** is the sum of the squared error and the regularization term. The total loss function can then be written as follows:  \n",
    "\n",
    "$$J(\\beta) = ||A \\beta + b||^2 + \\lambda ||\\beta||^2$$\n",
    "\n",
    "Where the penalty term on the model coefficients, $\\beta_i$, is written:\n",
    "\n",
    "$$\\lambda || \\beta||^2 = \\lambda \\big(\\beta_1^2 + \\beta_2^2 + \\ldots + \\beta_n^2 \\big)^{\\frac{1}{2}} = \\lambda \\Big( \\sum_{i=1}^n \\beta_i^2 \\Big)^{\\frac{1}{2}}$$\n",
    "\n",
    "We call $||\\beta||^2$ the **l2 norm** of the coefficients, since we raise the weights of each coefficient to the power of 2, sum the squares, and then raise the sum to the power of $\\frac{1}{2}$. \n",
    "\n",
    "You can think of this penalty as constraining the 12 or Euclidean norm of the model weight vector. The value of $\\lambda$ determines how much the norm of the coefficient vector constrains the solution. You can see a geometric interpretation of the l2 penalty constraint in the figure below.  \n",
    "\n",
    "<img src=\"img/L2.jpg\" alt=\"Drawing\" style=\"width:750px; height:400px\"/>\n",
    "<center> **Geometric view of l2 regularization**\n",
    "\n",
    "Notice that for a constant value of the l2 norm, the values of the model parameters $B_1$ and $B_2$ are related. The Euclidean or l2 norm of the coefficients is shown as the dotted circle. The constant value of the l2 norm is a constant value of the penalty. Along this circle the coefficients change in relation to each other to maintain a constant l2 norm. For example, if $B_1$ is maximized then $B_2 \\sim 0$, or vice versa. It is important to note that l2 regularization is a **soft constraint**. Coefficients are driven close to, but likely not exactly to, zero.    "
   ]
  },
  {
   "cell_type": "markdown",
   "metadata": {},
   "source": [
    "With this bit of theory in mind, it is time to try an example of l2 regularization. The code in the cell below performs the following  processing:\n",
    "1. Constructs a glmnet model using the feature matrix and vector of labels with the following arguments:\n",
    "  - The `nlambda` argument determines the number of regularization parameters to be tested. \n",
    "  - `alpha` determines the weighting between l1 (alpha = 1) and l2 regularization (alpha = 0). \n",
    "  - A `gaussian` distribution family is used for the response since this is a regression problem and the residuals are expected to have a Gaussian or Normal distribution. \n",
    "2. A plot is created of the model parameters vs. the regularization constraint hyperparameter, lambda. \n",
    "\n",
    "Execute this code and examine the results. "
   ]
  },
  {
   "cell_type": "code",
   "execution_count": 9,
   "metadata": {
    "scrolled": false
   },
   "outputs": [
    {
     "data": {
      "image/png": "[encoded data removed]",
      "text/plain": [
       "plot without title"
      ]
     },
     "metadata": {},
     "output_type": "display_data"
    }
   ],
   "source": [
    "options(repr.plot.width=6, repr.plot.height=6) # Set the initial plot area dimensions\n",
    "\n",
    "glmnet_mod_l2 = glmnet(x = training_dummies, y = training[,'log_price'], \n",
    "                       nlambda = 20, alpha = 0, family = 'gaussian')\n",
    "plot(glmnet_mod_l2, xlab = 'Inverse of regulariation')"
   ]
  },
  {
   "cell_type": "markdown",
   "metadata": {},
   "source": [
    "Next, execute the code in the cell below to compute a cross validation of the model with different regularization hyperparameters and display the result. Cross validation is discussed in another lab. "
   ]
  },
  {
   "cell_type": "code",
   "execution_count": 10,
   "metadata": {
    "scrolled": false
   },
   "outputs": [
    {
     "data": {
      "image/png": "[encoded data removed]",
      "text/plain": [
       "plot without title"
      ]
     },
     "metadata": {},
     "output_type": "display_data"
    }
   ],
   "source": [
    "cv_fit = cv.glmnet(x = training_dummies, y = training[,'log_price'], \n",
    "                       nlambda = 20, alpha = 0, family = 'gaussian')\n",
    "plot(cv_fit)"
   ]
  },
  {
   "cell_type": "markdown",
   "metadata": {},
   "source": [
    "Examine these results.\n",
    "\n",
    "The first plot shows the value of each model coefficient vs. the regularization hyperparameter. The hyperparamter increases to the left. On the right the hyperparameter is small and the model is under-constrained. The model parameters have a wide range of values. On the left the regularization hyperparameter is at a maximum and the model coefficients are constrained to near zero. Notice how each coefficient value smoothly decrease toward zero. There are a few coefficients which increase in value for some part of their trajectories. This behavior results from the fact that l2 regularization is a soft constraint on the coefficient values. \n",
    "\n",
    "The second plot shows the RMSE from the cross validation vs. the log of the hyperparameter. Notice that in this chart the maximum of the hyperparameter is on the right, following the usual convention. As the regularization is increased to the right, model variance decreases but with higher bias. Less regularization produces a model with less bias but greater variance. The dotted vertical lines indicate that the optimal hyperparameter is at the low end of the range. "
   ]
  },
  {
   "cell_type": "markdown",
   "metadata": {},
   "source": [
    "Next, you will evaluate the model using the best l2 regularization hyperparameter discovered above. The code in the cell below computes predicted values from the optimal l2 regression model using the test data. The predict method for `glmnet` returns predictions for each value of the hyperparameter.  In this case the 18th value is chosen based on the analysis above. Performance metrics and diagnostic plots are then displayed. Execute the code. "
   ]
  },
  {
   "cell_type": "code",
   "execution_count": 11,
   "metadata": {},
   "outputs": [
    {
     "name": "stdout",
     "output_type": "stream",
     "text": [
      "Mean Square Error      =  0.0182 \n",
      "Root Mean Square Error =  0.1347 \n",
      "Mean Absolute Error    =  0.0986 \n",
      "Median Absolute Error  =  0.0634 \n",
      "R^2                    =  0.9176 \n"
     ]
    },
    {
     "data": {},
     "metadata": {},
     "output_type": "display_data"
    },
    {
     "data": {},
     "metadata": {},
     "output_type": "display_data"
    },
    {
     "data": {
      "image/png": "[encoded data removed]",
      "text/plain": [
       "plot without title"
      ]
     },
     "metadata": {},
     "output_type": "display_data"
    },
    {
     "data": {},
     "metadata": {},
     "output_type": "display_data"
    },
    {
     "data": {
      "image/png": "[encoded data removed]",
      "text/plain": [
       "plot without title"
      ]
     },
     "metadata": {},
     "output_type": "display_data"
    },
    {
     "data": {
      "image/png": "[encoded data removed]",
      "text/plain": [
       "plot without title"
      ]
     },
     "metadata": {},
     "output_type": "display_data"
    }
   ],
   "source": [
    "print_metrics_glm = function(df, score, label){\n",
    "    resids = df[,label] - score\n",
    "    resids2 = resids**2\n",
    "    N = length(score)\n",
    "    SSR = sum(resids2)\n",
    "    SST = sum((mean(df[,label]) - df[,label])**2)\n",
    "    r2 = as.character(round(1 - SSR/SST, 4))\n",
    "    cat(paste('Mean Square Error      = ', as.character(round(sum(resids2)/N, 4)), '\\n'))\n",
    "    cat(paste('Root Mean Square Error = ', as.character(round(sqrt(sum(resids2)/N), 4)), '\\n'))\n",
    "    cat(paste('Mean Absolute Error    = ', as.character(round(sum(abs(resids))/N, 4)), '\\n'))\n",
    "    cat(paste('Median Absolute Error  = ', as.character(round(median(abs(resids)), 4)), '\\n'))\n",
    "    cat(paste('R^2                    = ', r2, '\\n'))\n",
    "#    cat(paste('Adjusted R^2           = ', adj_r2, '\\n'))\n",
    "}\n",
    "\n",
    "\n",
    "score = predict(glmnet_mod_l2, newx = test_dummies)[,18]\n",
    "\n",
    "print_metrics_glm(test, score, 'log_price')\n",
    "hist_resids(test, score, label = 'log_price')   \n",
    "resids_qq(test, score, label = 'log_price')\n",
    "resid_plot(test, score, label = 'log_price')"
   ]
  },
  {
   "cell_type": "markdown",
   "metadata": {},
   "source": [
    "Compare the error metrics achieved to those of the un-regularized model. The error metrics for the regularized model are somewhat better. This fact, indicates that the regularized model generalizes better than the un-regularized model. Notice also that the residuals are a bit closer to Normally distributed than for the un-regularized model. "
   ]
  },
  {
   "cell_type": "markdown",
   "metadata": {},
   "source": [
    "## Apply l1 regularizaton\n",
    "\n",
    "Regularization can be performed using norms other than l2. The **l1 regularization** or **Lasso**  method limits the sum of the absolute values of the model coefficients. The l1 norm is sometime know as the **Manhattan norm**, since distance are measured as if you were traveling on a rectangular grid of streets. This is in contrast to the l2 norm that measures distance 'as the crow flies'. \n",
    "\n",
    "We can compute the l1 norm of the model coefficients as follows:\n",
    "\n",
    "$$||\\beta||^1 = \\big( |\\beta_1| + |\\beta_2| + \\ldots + |\\beta_n| \\big) = \\Big( \\sum_{i=1}^n |\\beta_i| \\Big)^1$$\n",
    "\n",
    "where $|\\beta_i|$ is the absolute value of $\\beta_i$. \n",
    "\n",
    "Notice that to compute the l1 norm, we raise the sum of the absolute values to the first power.\n",
    "\n",
    "As with l2 regularization, for l1 regularization, a penalty term is multiplied by the l1 norm of the model coefficients. A penalty multiplier, $\\lambda$, determines how much the norm of the coefficient vector constrains values of the weights. The complete loss function is the sum of the squared errors plus the penalty term which becomes: \n",
    "\n",
    "$$J(\\beta) = ||A \\beta + b||^2 + \\lambda ||\\beta||^1$$\n",
    "\n",
    "You can see a geometric interpretation of the l1 norm penalty in the figure below.  \n",
    "\n",
    "<img src=\"img/L1.jpg\" alt=\"Drawing\" style=\"width:700px; height:400px\"/>\n",
    "<center> **Geometric view of L1 regularization**\n",
    "\n",
    "The l1 norm is constrained by the sum of the absolute values of the coefficients. This fact means that values of one parameter highly constrain another parameter. The dotted line in the figure above looks as though someone has pulled a rope or lasso around pegs on the axes. This behavior leads the name lasso for l1 regularization.  \n",
    "\n",
    "Notice that in the figure above that if $B_1 = 0$ then $B_2$ has a value at the limit, or vice versa. In other words, using a l1 norm constraint forces some weight values to zero to allow other coefficients to take non-zero values. Thus, you can think of the l1 norm constraint **knocking out** some weights from the model altogether. In contrast to l2 regularization, l1 regularization does drive some coefficients to exactly zero."
   ]
  },
  {
   "cell_type": "markdown",
   "metadata": {},
   "source": [
    "The code in the cell below computes l1 regularized or lasso regression over a grid of regularization values. The `alpha` hyperparameter of the `glmnet` model is a pure l1 regularization model. Execute the code and examine the results."
   ]
  },
  {
   "cell_type": "code",
   "execution_count": 12,
   "metadata": {},
   "outputs": [
    {
     "data": {
      "image/png": "[encoded data removed]",
      "text/plain": [
       "plot without title"
      ]
     },
     "metadata": {},
     "output_type": "display_data"
    },
    {
     "data": {
      "image/png": "[encoded data removed]",
      "text/plain": [
       "plot without title"
      ]
     },
     "metadata": {},
     "output_type": "display_data"
    }
   ],
   "source": [
    "options(repr.plot.width=6, repr.plot.height=6) # Set the initial plot area dimensions\n",
    "\n",
    "glmnet_mod_l1 = glmnet(x = training_dummies, y = training[,'log_price'], \n",
    "                       nlambda = 20, alpha = 1, family = 'gaussian')\n",
    "plot(glmnet_mod_l1, xlab = 'Inverse of regulariation')\n",
    "\n",
    "cv_fit = cv.glmnet(x = training_dummies, y = training[,'log_price'], \n",
    "                       nlambda = 20, alpha = 1, family = 'gaussian')\n",
    "plot(cv_fit)"
   ]
  },
  {
   "cell_type": "markdown",
   "metadata": {},
   "source": [
    "The two plots created are the same types as used for the l2 regularization example. \n",
    "\n",
    "The first plot shows the value of each model coefficient vs. the regularization hyperparameter. The hyperparamter increases to the left. On the right the hyperparameter is small and the model is under-constrained. The model parameters have a wide range of values. On the left the regularization hyperparameter is at a maximum and the model coefficients are constrained to near zero. Notice how the coefficient values are abruptly driven to zero as the hyperparameter increases. There are a few coefficients which increase in value for some part of their trajectories. These increases are abrupt as well, driven by another coefficient becoming zero. This behavior results from the fact that l1 regularization is a hard constraint on the coefficient values. \n",
    "\n",
    "The second plot shows the RMSE from the cross validation vs. the log of the hyperparameter. Notice that in this chart the maximum of the hyperparameter is on the right, following the usual convention. As the regularization is increased to the right, model variance decreases but with higher bias. Less regularization produces a model with less bias but greater variance. The dotted vertical lines indicate that the optimal hyperparameter is at the middle of the range. "
   ]
  },
  {
   "cell_type": "markdown",
   "metadata": {},
   "source": [
    "Next, you will evaluate the model using the best l1 regularization parameter discovered above. The code in the cell below computes predicted values from the optimal l1 regression model using the test data. The predict method for `glmnet` returns predictions for each value of the hyperparameter.  In this case the 13th value is chosen based on the analysis above. Performance metrics and diagnostic plots are then displayed. Execute the code. "
   ]
  },
  {
   "cell_type": "code",
   "execution_count": 13,
   "metadata": {},
   "outputs": [
    {
     "name": "stdout",
     "output_type": "stream",
     "text": [
      "Mean Square Error      =  0.0188 \n",
      "Root Mean Square Error =  0.137 \n",
      "Mean Absolute Error    =  0.1095 \n",
      "Median Absolute Error  =  0.0813 \n",
      "R^2                    =  0.9148 \n"
     ]
    },
    {
     "data": {},
     "metadata": {},
     "output_type": "display_data"
    },
    {
     "data": {},
     "metadata": {},
     "output_type": "display_data"
    },
    {
     "data": {
      "image/png": "[encoded data removed]",
      "text/plain": [
       "plot without title"
      ]
     },
     "metadata": {},
     "output_type": "display_data"
    },
    {
     "data": {},
     "metadata": {},
     "output_type": "display_data"
    },
    {
     "data": {
      "image/png": "[encoded data removed]",
      "text/plain": [
       "plot without title"
      ]
     },
     "metadata": {},
     "output_type": "display_data"
    },
    {
     "data": {
      "image/png": "[encoded data removed]",
      "text/plain": [
       "plot without title"
      ]
     },
     "metadata": {},
     "output_type": "display_data"
    }
   ],
   "source": [
    "score = predict(glmnet_mod_l1, newx = test_dummies)[,13]\n",
    "print_metrics_glm(test, score, 'log_price')\n",
    "hist_resids(test, score, label = 'log_price')   \n",
    "resids_qq(test, score, label = 'log_price')\n",
    "resid_plot(test, score, label = 'log_price')"
   ]
  },
  {
   "cell_type": "markdown",
   "metadata": {},
   "source": [
    "Compare the error metrics achieved to those of the un-regularized model. The error metrics for the regularized model are somewhat better. This fact, indicates that the regularized model generalizes better than the un-regularized model. Notice also that the residuals are a bit closer to Normally distributed than for the un-regularized model."
   ]
  },
  {
   "cell_type": "markdown",
   "metadata": {},
   "source": [
    "## Summary\n",
    "\n",
    "In this lab you have explored the basics of regularization. Regularization can prevent machine learning models from being over-fit. Regularization is required to help machine learning models generalize when placed in production. Selection of regularization strength involves consideration of the bias-variance trade-off. As the regularization is increased, model variance decreases but with higher bias. Less regularization produces a model with less bias but greater variance.  \n",
    "\n",
    "L2 and l1 regularization constrain model coefficients to prevent over-fitting. L2 regularization constrains model coefficients using a Euclidean norm. L2 regularization can drive some coefficients toward zero, usually not to zero. On the other hand, l1 regularization can drive model coefficients to zero. \n",
    "\n",
    "An optimal model can use a weighted mix of l1 and l2 regularization. "
   ]
  }
 ],
 "metadata": {
  "kernelspec": {
   "display_name": "R",
   "language": "R",
   "name": "ir"
  },
  "language_info": {
   "codemirror_mode": "r",
   "file_extension": ".r",
   "mimetype": "text/x-r-source",
   "name": "R",
   "pygments_lexer": "r",
   "version": "3.5.0"
  }
 },
 "nbformat": 4,
 "nbformat_minor": 2
}
