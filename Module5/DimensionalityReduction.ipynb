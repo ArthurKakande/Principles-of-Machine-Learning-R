{
 "cells": [
  {
   "cell_type": "markdown",
   "metadata": {},
   "source": [
    "## Dimensionality reduction with principle components\n",
    "\n",
    "**Principle component analysis**, or **PCA**, is an alternative to regularization and stright-forward feature elimination. PCA is particularly useful for problems with very large numbers of features compared to the number of training cases. For example, when faced with a problem with many thousands of features and perhaps a few thousand cases, PCA can be a good choice to **reduce the dimensionality** of the feature space.  \n",
    "\n",
    "PCA is one of a family of transformation methods that reduce dimensionality. PCA is the focus here, since it is the most widely used of these methods. \n",
    "\n",
    "The basic idea of PCA is rather simple: Find a linear transformation of the feature space which **projects the majority of the variance** onto a few orthogonal dimensions in the transformed space. The PCA transformation maps the data values to a new coordinate system defined by the principle components. Assuming the highest variance directions, or **components**, are the most informative, low variance components can be eliminated from the space with little loss of information. \n",
    "\n",
    "The projection along which the greatest variance occurs is called the **first principle componenent**. The next projection, orthogonal to the first, with the greatest variance is call the **second principle component**. Subsequent components are all mutually orthogonal with decrerasing variance along the projected direction.  \n",
    "\n",
    "Widely used PCA algorithms compute the components sequentially, starting with the first principle component. This means that it is compuationally efficient to compute the first several components from a very large number of features. Thus, PCA can make problems with very large numbers of features compuationally tractable. \n",
    "\n",
    "****\n",
    "**Note:** It may help your understanding to realize that principle components are a scaled version of the **eigenvectors** of the feature matrix. The scale for each dimensions is given by the **eigenvalues**. The eigenvalues are the fraction of the variance explained by the components. \n",
    "****"
   ]
  },
  {
   "cell_type": "markdown",
   "metadata": {},
   "source": [
    "## A simple example\n",
    "\n",
    "To cement the concepts of PCA you will now work through a simple example. This example is restricted to 2-d data so that the resuts are easy to visualize. \n",
    "\n",
    "As a first step, execute the code in cell below to load the packages required for the rest of this notebook."
   ]
  },
  {
   "cell_type": "code",
   "execution_count": 58,
   "metadata": {
    "scrolled": true
   },
   "outputs": [],
   "source": [
    "## Import packages\n",
    "library(ggplot2)\n",
    "library(repr)\n",
    "library(dplyr)\n",
    "library(caret)\n",
    "library(MASS)\n",
    "\n",
    "options(repr.plot.width=4, repr.plot.height=4) # Set the initial plot area dimensions"
   ]
  },
  {
   "cell_type": "markdown",
   "metadata": {},
   "source": [
    "The code in the cell below simulates data from a bivariate Normal distribution. The distribution is deliberately centered on $\\{ 0,0 \\}$ and with unit variance on each dimension. There is considereable correlation between the two dimensions leading to a covariance matrix:\n",
    "\n",
    "$$cov(X) =  \\begin{bmatrix}\n",
    "  1.0 & 0.6 \\\\\n",
    "  0.6 & 1.0\n",
    " \\end{bmatrix}$$\n",
    "\n",
    "Given the covariance matrix 100 draws from this distribution are computed using the `multivariate_normal` function from the Numpy `random` package. Execute this code:"
   ]
  },
  {
   "cell_type": "code",
   "execution_count": 59,
   "metadata": {},
   "outputs": [
    {
     "name": "stdout",
     "output_type": "stream",
     "text": [
      "[1] 100   2\n"
     ]
    },
    {
     "data": {
      "text/html": [
       "<table>\n",
       "<thead><tr><th scope=col>x</th><th scope=col>y</th></tr></thead>\n",
       "<tbody>\n",
       "\t<tr><td>-1.0289674 </td><td>-1.44872226</td></tr>\n",
       "\t<tr><td> 0.5476797 </td><td>-0.47912514</td></tr>\n",
       "\t<tr><td>-1.1761978 </td><td>-0.18875203</td></tr>\n",
       "\t<tr><td> 0.3192489 </td><td> 0.06053589</td></tr>\n",
       "\t<tr><td> 1.3990650 </td><td> 1.15101479</td></tr>\n",
       "\t<tr><td> 1.0575449 </td><td> 0.27422109</td></tr>\n",
       "</tbody>\n",
       "</table>\n"
      ],
      "text/latex": [
       "\\begin{tabular}{r|ll}\n",
       " x & y\\\\\n",
       "\\hline\n",
       "\t -1.0289674  & -1.44872226\\\\\n",
       "\t  0.5476797  & -0.47912514\\\\\n",
       "\t -1.1761978  & -0.18875203\\\\\n",
       "\t  0.3192489  &  0.06053589\\\\\n",
       "\t  1.3990650  &  1.15101479\\\\\n",
       "\t  1.0575449  &  0.27422109\\\\\n",
       "\\end{tabular}\n"
      ],
      "text/markdown": [
       "\n",
       "x | y | \n",
       "|---|---|---|---|---|---|\n",
       "| -1.0289674  | -1.44872226 | \n",
       "|  0.5476797  | -0.47912514 | \n",
       "| -1.1761978  | -0.18875203 | \n",
       "|  0.3192489  |  0.06053589 | \n",
       "|  1.3990650  |  1.15101479 | \n",
       "|  1.0575449  |  0.27422109 | \n",
       "\n",
       "\n"
      ],
      "text/plain": [
       "  x          y          \n",
       "1 -1.0289674 -1.44872226\n",
       "2  0.5476797 -0.47912514\n",
       "3 -1.1761978 -0.18875203\n",
       "4  0.3192489  0.06053589\n",
       "5  1.3990650  1.15101479\n",
       "6  1.0575449  0.27422109"
      ]
     },
     "metadata": {},
     "output_type": "display_data"
    }
   ],
   "source": [
    "set.seed(124)\n",
    "cov = matrix(c(1.0, 0.6, 0.6, 1.0), nrow =2, ncol = 2)\n",
    "mean = c(0.0, 0.0)\n",
    "\n",
    "sample = data.frame(mvrnorm(n = 100, mu = mean, Sigma = cov))\n",
    "names(sample) = c('x','y')\n",
    "print(dim(sample))\n",
    "head(sample)"
   ]
  },
  {
   "cell_type": "markdown",
   "metadata": {},
   "source": [
    "To get a feel for this data, execute the code in the cell below to display a plot and examine the result. "
   ]
  },
  {
   "cell_type": "code",
   "execution_count": 60,
   "metadata": {
    "scrolled": false
   },
   "outputs": [
    {
     "data": {},
     "metadata": {},
     "output_type": "display_data"
    },
    {
     "data": {
      "image/png": "[encoded data removed]",
      "text/plain": [
       "plot without title"
      ]
     },
     "metadata": {},
     "output_type": "display_data"
    }
   ],
   "source": [
    "ggplot(sample, aes(x,y)) + geom_point()"
   ]
  },
  {
   "cell_type": "markdown",
   "metadata": {},
   "source": [
    "You can see that the data have a roughtly eliptical pattern. The correlation between the two dimensions is also visible. \n",
    "\n",
    "With the simulated data set created, it is time to compute the PCA model. The code in the cell below does the following:\n",
    "1. Define a PCA model object using the `PCA` function from the Scikit Learn `decomposition` package.\n",
    "2. Fit the PCA model to the sample data.\n",
    "3. Display the ratio of the **variance explained** by each of the components, where, for a matrix X, this ratio is given by:\n",
    "\n",
    "$$VE(X) = \\frac{Var_{X-component}(X)}{Var_{X-total}(X)}$$\n",
    "\n",
    "Notice that by construction:\n",
    "\n",
    "$$VE(X) = \\sum_{i=1}^N VE_i(X) = 1.0$$\n",
    "\n",
    "In other words, the sum of the variance explained for each component must add to the total variance or 1.0 for standardized data. \n",
    "\n",
    "Execute this code and examine the result."
   ]
  },
  {
   "cell_type": "code",
   "execution_count": 61,
   "metadata": {
    "scrolled": true
   },
   "outputs": [
    {
     "data": {
      "text/plain": [
       "Standard deviations (1, .., p=2):\n",
       "[1] 1.1197401 0.5688762\n",
       "\n",
       "Rotation (n x k) = (2 x 2):\n",
       "        PC1        PC2\n",
       "x 0.6595985 -0.7516182\n",
       "y 0.7516182  0.6595985"
      ]
     },
     "metadata": {},
     "output_type": "display_data"
    }
   ],
   "source": [
    "pca_mod = prcomp(sample)\n",
    "pca_mod"
   ]
  },
  {
   "cell_type": "markdown",
   "metadata": {},
   "source": [
    "Notice that the explained variance of the first component is many times larger than for the second component. This is exactly the desired result indicating the first principle component explains the majority of the variance of the sample data. \n",
    "\n",
    "The code in the cell below computes and prints the scaled components. Mathematically, the scaled components are the eigenvectors scalled by the eigenvalues. Execute this code:  "
   ]
  },
  {
   "cell_type": "code",
   "execution_count": 62,
   "metadata": {},
   "outputs": [
    {
     "data": {
      "text/html": [
       "<ol class=list-inline>\n",
       "\t<li>0.794844456022692</li>\n",
       "\t<li>0.205155543977308</li>\n",
       "</ol>\n"
      ],
      "text/latex": [
       "\\begin{enumerate*}\n",
       "\\item 0.794844456022692\n",
       "\\item 0.205155543977308\n",
       "\\end{enumerate*}\n"
      ],
      "text/markdown": [
       "1. 0.794844456022692\n",
       "2. 0.205155543977308\n",
       "\n",
       "\n"
      ],
      "text/plain": [
       "[1] 0.7948445 0.2051555"
      ]
     },
     "metadata": {},
     "output_type": "display_data"
    }
   ],
   "source": [
    "sdev_scaled = pca_mod$sdev**2/sum(pca_mod$sdev**2)\n",
    "sdev_scaled"
   ]
  },
  {
   "cell_type": "code",
   "execution_count": 63,
   "metadata": {},
   "outputs": [
    {
     "name": "stdout",
     "output_type": "stream",
     "text": [
      "'data.frame':\t2 obs. of  2 variables:\n",
      " $ PC1: num  0.524 0.597\n",
      " $ PC2: num  -0.154 0.135\n"
     ]
    }
   ],
   "source": [
    "scaled_pca = data.frame(matrix(c(0,0,0,0), nrow = 2, ncol = 2))\n",
    "for(i in 1:2){\n",
    "#    scaled_pca[,i] = pca_mod$rotation[,i] * pca_mod$sdev\n",
    "    scaled_pca[i,] = pca_mod$rotation[i,] * sdev_scaled\n",
    "}\n",
    "names(scaled_pca) = c('PC1','PC2')\n",
    "str(scaled_pca)"
   ]
  },
  {
   "cell_type": "markdown",
   "metadata": {},
   "source": [
    "Notice that the two vectors have their origins at $[ 0,0 \\}$, and are quite different magnitude, and are pointing in different directions.  \n",
    "\n",
    "To better understand how the projections of the componets relate to the data, execute the code to plot the data along with the principle components. Execute this code: "
   ]
  },
  {
   "cell_type": "code",
   "execution_count": 64,
   "metadata": {},
   "outputs": [
    {
     "data": {},
     "metadata": {},
     "output_type": "display_data"
    },
    {
     "data": {
      "image/png": "[encoded data removed]",
      "text/plain": [
       "plot without title"
      ]
     },
     "metadata": {},
     "output_type": "display_data"
    }
   ],
   "source": [
    "## Find the slopes\n",
    "s1 = data.frame(x = c(0.0, scaled_pca$PC1[1]), y = c(0.0, scaled_pca$PC1[2]))\n",
    "s2 = data.frame(x = c(0.0, scaled_pca$PC2[1]), y = c(0.0, scaled_pca$PC2[2]))\n",
    "\n",
    "## Plot the data with the PCs\n",
    "ggplot(sample, aes(x,y)) + geom_point() +\n",
    "        geom_line(data = s1, aes(x,y), color = 'red', size = 1) +\n",
    "        geom_line(data = s2, aes(x,y), color = 'red', size = 1)"
   ]
  },
  {
   "cell_type": "markdown",
   "metadata": {},
   "source": [
    "Notice the the fist principle component (the long red line) is along the direction of greatest variance of the data. This is as expected. The short red line is along the direction of the second principle component. The lengths of these lines is the variance in the directions of the projection. \n",
    "\n",
    "The ultimate goal of PCA is to transform data to a coordinate system with the highest variance directions along the axes. The code in the cell below uses the `transform` method on the PCA object to perform this operation and then plots the result. Execute this code: "
   ]
  },
  {
   "cell_type": "code",
   "execution_count": 65,
   "metadata": {
    "scrolled": false
   },
   "outputs": [
    {
     "data": {},
     "metadata": {},
     "output_type": "display_data"
    },
    {
     "data": {
      "image/png": "[encoded data removed]",
      "text/plain": [
       "plot without title"
      ]
     },
     "metadata": {},
     "output_type": "display_data"
    }
   ],
   "source": [
    "pca_transform = function(df, pca, ncomps){\n",
    "    data.frame(as.matrix(df) %*% as.matrix(pca)[,1:ncomps])\n",
    "}\n",
    "\n",
    "trans_sample = pca_transform(sample, scaled_pca, 2)\n",
    "names(trans_sample) = c('x', 'y')\n",
    "ggplot(trans_sample, aes(x,y)) + geom_point()"
   ]
  },
  {
   "cell_type": "markdown",
   "metadata": {},
   "source": [
    "Notice that the scale along these two coordinates are quite different. The first principle component is along the horizontal axis. The range of values on this direction is in the range of about $\\{ -2.5,2.5 \\}$. The range of values on the vertical axis or second principle component are only about $\\{ -0.2, 0.3 \\}$. It is clear that most of the variance is along the direction of the fist principle component. "
   ]
  },
  {
   "cell_type": "markdown",
   "metadata": {},
   "source": [
    "## Load Features and Labels\n",
    "\n",
    "Keeping the foregoing simple example in mind, it is time to apply PCA to some real data. \n",
    "\n",
    "The code in the cell below loads the dataset which has had the the following preprocessing:\n",
    "1. Cleaning missing values.\n",
    "2. Aggregating categories of certain categorical variables. \n",
    "3. Encoding categorical variables as binary dummy variables.\n",
    "4. Standardizating numeric variables. \n",
    "\n",
    "Execute the code in the cell below to load the features and labels as numpy arrays for the example: "
   ]
  },
  {
   "cell_type": "code",
   "execution_count": 66,
   "metadata": {},
   "outputs": [
    {
     "data": {
      "text/html": [
       "<ol class=list-inline>\n",
       "\t<li>999</li>\n",
       "\t<li>21</li>\n",
       "</ol>\n"
      ],
      "text/latex": [
       "\\begin{enumerate*}\n",
       "\\item 999\n",
       "\\item 21\n",
       "\\end{enumerate*}\n"
      ],
      "text/markdown": [
       "1. 999\n",
       "2. 21\n",
       "\n",
       "\n"
      ],
      "text/plain": [
       "[1] 999  21"
      ]
     },
     "metadata": {},
     "output_type": "display_data"
    },
    {
     "name": "stdout",
     "output_type": "stream",
     "text": [
      "'data.frame':\t999 obs. of  21 variables:\n",
      " $ checking_account_status : Factor w/ 4 levels \"< 0 DM\",\"> 200 DM or salary assignment\",..: 3 4 1 1 4 4 3 4 3 3 ...\n",
      " $ loan_duration_mo        : int  48 12 42 24 36 24 36 12 30 12 ...\n",
      " $ credit_history          : Factor w/ 5 levels \"all loans at bank paid\",..: 3 2 3 5 3 3 3 3 2 3 ...\n",
      " $ purpose                 : Factor w/ 10 levels \"business\",\"car (new)\",..: 8 5 6 2 5 6 3 8 2 2 ...\n",
      " $ loan_amount             : int  5951 2096 7882 4870 9055 2835 6948 3059 5234 1295 ...\n",
      " $ savings_account_balance : Factor w/ 5 levels \"< 100 DM\",\">= 1000 DM\",..: 1 1 1 1 5 4 1 2 1 1 ...\n",
      " $ time_employed_yrs       : Factor w/ 5 levels \"< 1 year\",\">= 7 years\",..: 3 4 4 3 3 2 3 4 5 1 ...\n",
      " $ payment_pcnt_income     : int  2 2 2 3 2 3 2 2 4 3 ...\n",
      " $ gender_status           : Factor w/ 4 levels \"female-divorced/separated/married\",..: 1 4 4 4 4 4 4 2 3 1 ...\n",
      " $ other_signators         : Factor w/ 3 levels \"co-applicant\",..: 3 3 2 3 3 3 3 3 3 3 ...\n",
      " $ time_in_residence       : int  2 3 4 4 4 4 2 4 2 1 ...\n",
      " $ property                : Factor w/ 4 levels \"building society savings/life insurance\",..: 3 3 1 4 4 1 2 3 2 2 ...\n",
      " $ age_yrs                 : int  22 49 45 53 35 53 35 61 28 25 ...\n",
      " $ other_credit_outstanding: Factor w/ 3 levels \"bank\",\"none\",..: 2 2 2 2 2 2 2 2 2 2 ...\n",
      " $ home_ownership          : Factor w/ 3 levels \"for free\",\"own\",..: 2 2 1 1 1 2 3 2 2 3 ...\n",
      " $ number_loans            : int  1 1 1 2 1 1 1 1 2 1 ...\n",
      " $ job_category            : Factor w/ 4 levels \"highly skilled\",..: 2 4 2 2 4 2 1 4 1 2 ...\n",
      " $ dependents              : int  1 2 2 2 2 1 1 1 1 1 ...\n",
      " $ telephone               : Factor w/ 2 levels \"none\",\"yes\": 1 1 1 1 2 1 2 1 1 1 ...\n",
      " $ foreign_worker          : Factor w/ 2 levels \"no\",\"yes\": 2 2 2 2 2 2 2 2 2 2 ...\n",
      " $ bad_credit              : int  1 0 0 1 0 0 0 0 1 1 ...\n"
     ]
    }
   ],
   "source": [
    "credit = read.csv('German_Credit_Preped.csv', header = TRUE)\n",
    "credit[,'X'] = NULL\n",
    "credit[,'Customer_ID'] = NULL\n",
    "dim(credit)\n",
    "str(credit)"
   ]
  },
  {
   "cell_type": "markdown",
   "metadata": {},
   "source": [
    "There are 20 features in this data set. The numeric features have been Zscore scaled so they are zero centered (mean removed) and unit variance (divide by standard deviation). \n",
    "\n"
   ]
  },
  {
   "cell_type": "code",
   "execution_count": 67,
   "metadata": {},
   "outputs": [],
   "source": [
    "dummies = dummyVars(bad_credit ~ ., data = credit)"
   ]
  },
  {
   "cell_type": "markdown",
   "metadata": {},
   "source": [
    "Now, run the code in the cell below to split the data set into test and training subsets:"
   ]
  },
  {
   "cell_type": "code",
   "execution_count": 68,
   "metadata": {},
   "outputs": [
    {
     "data": {
      "text/html": [
       "<ol class=list-inline>\n",
       "\t<li>701</li>\n",
       "\t<li>61</li>\n",
       "</ol>\n"
      ],
      "text/latex": [
       "\\begin{enumerate*}\n",
       "\\item 701\n",
       "\\item 61\n",
       "\\end{enumerate*}\n"
      ],
      "text/markdown": [
       "1. 701\n",
       "2. 61\n",
       "\n",
       "\n"
      ],
      "text/plain": [
       "[1] 701  61"
      ]
     },
     "metadata": {},
     "output_type": "display_data"
    },
    {
     "data": {
      "text/html": [
       "<ol class=list-inline>\n",
       "\t<li>298</li>\n",
       "\t<li>61</li>\n",
       "</ol>\n"
      ],
      "text/latex": [
       "\\begin{enumerate*}\n",
       "\\item 298\n",
       "\\item 61\n",
       "\\end{enumerate*}\n"
      ],
      "text/markdown": [
       "1. 298\n",
       "2. 61\n",
       "\n",
       "\n"
      ],
      "text/plain": [
       "[1] 298  61"
      ]
     },
     "metadata": {},
     "output_type": "display_data"
    },
    {
     "data": {
      "text/html": [
       "<table>\n",
       "<thead><tr><th></th><th scope=col>checking_account_status.&lt; 0 DM</th><th scope=col>checking_account_status.&gt; 200 DM or salary assignment</th><th scope=col>checking_account_status.0 - 200 DM</th><th scope=col>checking_account_status.none</th><th scope=col>loan_duration_mo</th><th scope=col>credit_history.all loans at bank paid</th><th scope=col>credit_history.critical account - other non-bank loans</th><th scope=col>credit_history.current loans paid</th><th scope=col>credit_history.no credit - paid</th><th scope=col>credit_history.past payment delays</th><th scope=col>...</th><th scope=col>number_loans</th><th scope=col>job_category.highly skilled</th><th scope=col>job_category.skilled</th><th scope=col>job_category.unemployed-unskilled-non-resident</th><th scope=col>job_category.unskilled-resident</th><th scope=col>dependents</th><th scope=col>telephone.none</th><th scope=col>telephone.yes</th><th scope=col>foreign_worker.no</th><th scope=col>foreign_worker.yes</th></tr></thead>\n",
       "<tbody>\n",
       "\t<tr><th scope=row>1</th><td>0  </td><td>0  </td><td>1  </td><td>0  </td><td>48 </td><td>0  </td><td>0  </td><td>1  </td><td>0  </td><td>0  </td><td>...</td><td>1  </td><td>0  </td><td>1  </td><td>0  </td><td>0  </td><td>1  </td><td>1  </td><td>0  </td><td>0  </td><td>1  </td></tr>\n",
       "\t<tr><th scope=row>4</th><td>1  </td><td>0  </td><td>0  </td><td>0  </td><td>24 </td><td>0  </td><td>0  </td><td>0  </td><td>0  </td><td>1  </td><td>...</td><td>2  </td><td>0  </td><td>1  </td><td>0  </td><td>0  </td><td>2  </td><td>1  </td><td>0  </td><td>0  </td><td>1  </td></tr>\n",
       "\t<tr><th scope=row>6</th><td>0  </td><td>0  </td><td>0  </td><td>1  </td><td>24 </td><td>0  </td><td>0  </td><td>1  </td><td>0  </td><td>0  </td><td>...</td><td>1  </td><td>0  </td><td>1  </td><td>0  </td><td>0  </td><td>1  </td><td>1  </td><td>0  </td><td>0  </td><td>1  </td></tr>\n",
       "\t<tr><th scope=row>7</th><td>0  </td><td>0  </td><td>1  </td><td>0  </td><td>36 </td><td>0  </td><td>0  </td><td>1  </td><td>0  </td><td>0  </td><td>...</td><td>1  </td><td>1  </td><td>0  </td><td>0  </td><td>0  </td><td>1  </td><td>0  </td><td>1  </td><td>0  </td><td>1  </td></tr>\n",
       "\t<tr><th scope=row>9</th><td>0  </td><td>0  </td><td>1  </td><td>0  </td><td>30 </td><td>0  </td><td>1  </td><td>0  </td><td>0  </td><td>0  </td><td>...</td><td>2  </td><td>1  </td><td>0  </td><td>0  </td><td>0  </td><td>1  </td><td>1  </td><td>0  </td><td>0  </td><td>1  </td></tr>\n",
       "\t<tr><th scope=row>10</th><td>0  </td><td>0  </td><td>1  </td><td>0  </td><td>12 </td><td>0  </td><td>0  </td><td>1  </td><td>0  </td><td>0  </td><td>...</td><td>1  </td><td>0  </td><td>1  </td><td>0  </td><td>0  </td><td>1  </td><td>1  </td><td>0  </td><td>0  </td><td>1  </td></tr>\n",
       "</tbody>\n",
       "</table>\n"
      ],
      "text/latex": [
       "\\begin{tabular}{r|lllllllllllllllllllllllllllllllllllllllllllllllllllllllllllll}\n",
       "  & checking\\_account\\_status.< 0 DM & checking\\_account\\_status.> 200 DM or salary assignment & checking\\_account\\_status.0 - 200 DM & checking\\_account\\_status.none & loan\\_duration\\_mo & credit\\_history.all loans at bank paid & credit\\_history.critical account - other non-bank loans & credit\\_history.current loans paid & credit\\_history.no credit - paid & credit\\_history.past payment delays & ... & number\\_loans & job\\_category.highly skilled & job\\_category.skilled & job\\_category.unemployed-unskilled-non-resident & job\\_category.unskilled-resident & dependents & telephone.none & telephone.yes & foreign\\_worker.no & foreign\\_worker.yes\\\\\n",
       "\\hline\n",
       "\t1 & 0   & 0   & 1   & 0   & 48  & 0   & 0   & 1   & 0   & 0   & ... & 1   & 0   & 1   & 0   & 0   & 1   & 1   & 0   & 0   & 1  \\\\\n",
       "\t4 & 1   & 0   & 0   & 0   & 24  & 0   & 0   & 0   & 0   & 1   & ... & 2   & 0   & 1   & 0   & 0   & 2   & 1   & 0   & 0   & 1  \\\\\n",
       "\t6 & 0   & 0   & 0   & 1   & 24  & 0   & 0   & 1   & 0   & 0   & ... & 1   & 0   & 1   & 0   & 0   & 1   & 1   & 0   & 0   & 1  \\\\\n",
       "\t7 & 0   & 0   & 1   & 0   & 36  & 0   & 0   & 1   & 0   & 0   & ... & 1   & 1   & 0   & 0   & 0   & 1   & 0   & 1   & 0   & 1  \\\\\n",
       "\t9 & 0   & 0   & 1   & 0   & 30  & 0   & 1   & 0   & 0   & 0   & ... & 2   & 1   & 0   & 0   & 0   & 1   & 1   & 0   & 0   & 1  \\\\\n",
       "\t10 & 0   & 0   & 1   & 0   & 12  & 0   & 0   & 1   & 0   & 0   & ... & 1   & 0   & 1   & 0   & 0   & 1   & 1   & 0   & 0   & 1  \\\\\n",
       "\\end{tabular}\n"
      ],
      "text/markdown": [
       "\n",
       "| <!--/--> | checking_account_status.< 0 DM | checking_account_status.> 200 DM or salary assignment | checking_account_status.0 - 200 DM | checking_account_status.none | loan_duration_mo | credit_history.all loans at bank paid | credit_history.critical account - other non-bank loans | credit_history.current loans paid | credit_history.no credit - paid | credit_history.past payment delays | ... | number_loans | job_category.highly skilled | job_category.skilled | job_category.unemployed-unskilled-non-resident | job_category.unskilled-resident | dependents | telephone.none | telephone.yes | foreign_worker.no | foreign_worker.yes | \n",
       "|---|---|---|---|---|---|\n",
       "| 1 | 0   | 0   | 1   | 0   | 48  | 0   | 0   | 1   | 0   | 0   | ... | 1   | 0   | 1   | 0   | 0   | 1   | 1   | 0   | 0   | 1   | \n",
       "| 4 | 1   | 0   | 0   | 0   | 24  | 0   | 0   | 0   | 0   | 1   | ... | 2   | 0   | 1   | 0   | 0   | 2   | 1   | 0   | 0   | 1   | \n",
       "| 6 | 0   | 0   | 0   | 1   | 24  | 0   | 0   | 1   | 0   | 0   | ... | 1   | 0   | 1   | 0   | 0   | 1   | 1   | 0   | 0   | 1   | \n",
       "| 7 | 0   | 0   | 1   | 0   | 36  | 0   | 0   | 1   | 0   | 0   | ... | 1   | 1   | 0   | 0   | 0   | 1   | 0   | 1   | 0   | 1   | \n",
       "| 9 | 0   | 0   | 1   | 0   | 30  | 0   | 1   | 0   | 0   | 0   | ... | 2   | 1   | 0   | 0   | 0   | 1   | 1   | 0   | 0   | 1   | \n",
       "| 10 | 0   | 0   | 1   | 0   | 12  | 0   | 0   | 1   | 0   | 0   | ... | 1   | 0   | 1   | 0   | 0   | 1   | 1   | 0   | 0   | 1   | \n",
       "\n",
       "\n"
      ],
      "text/plain": [
       "   checking_account_status.< 0 DM\n",
       "1  0                             \n",
       "4  1                             \n",
       "6  0                             \n",
       "7  0                             \n",
       "9  0                             \n",
       "10 0                             \n",
       "   checking_account_status.> 200 DM or salary assignment\n",
       "1  0                                                    \n",
       "4  0                                                    \n",
       "6  0                                                    \n",
       "7  0                                                    \n",
       "9  0                                                    \n",
       "10 0                                                    \n",
       "   checking_account_status.0 - 200 DM checking_account_status.none\n",
       "1  1                                  0                           \n",
       "4  0                                  0                           \n",
       "6  0                                  1                           \n",
       "7  1                                  0                           \n",
       "9  1                                  0                           \n",
       "10 1                                  0                           \n",
       "   loan_duration_mo credit_history.all loans at bank paid\n",
       "1  48               0                                    \n",
       "4  24               0                                    \n",
       "6  24               0                                    \n",
       "7  36               0                                    \n",
       "9  30               0                                    \n",
       "10 12               0                                    \n",
       "   credit_history.critical account - other non-bank loans\n",
       "1  0                                                     \n",
       "4  0                                                     \n",
       "6  0                                                     \n",
       "7  0                                                     \n",
       "9  1                                                     \n",
       "10 0                                                     \n",
       "   credit_history.current loans paid credit_history.no credit - paid\n",
       "1  1                                 0                              \n",
       "4  0                                 0                              \n",
       "6  1                                 0                              \n",
       "7  1                                 0                              \n",
       "9  0                                 0                              \n",
       "10 1                                 0                              \n",
       "   credit_history.past payment delays ... number_loans\n",
       "1  0                                  ... 1           \n",
       "4  1                                  ... 2           \n",
       "6  0                                  ... 1           \n",
       "7  0                                  ... 1           \n",
       "9  0                                  ... 2           \n",
       "10 0                                  ... 1           \n",
       "   job_category.highly skilled job_category.skilled\n",
       "1  0                           1                   \n",
       "4  0                           1                   \n",
       "6  0                           1                   \n",
       "7  1                           0                   \n",
       "9  1                           0                   \n",
       "10 0                           1                   \n",
       "   job_category.unemployed-unskilled-non-resident\n",
       "1  0                                             \n",
       "4  0                                             \n",
       "6  0                                             \n",
       "7  0                                             \n",
       "9  0                                             \n",
       "10 0                                             \n",
       "   job_category.unskilled-resident dependents telephone.none telephone.yes\n",
       "1  0                               1          1              0            \n",
       "4  0                               2          1              0            \n",
       "6  0                               1          1              0            \n",
       "7  0                               1          0              1            \n",
       "9  0                               1          1              0            \n",
       "10 0                               1          1              0            \n",
       "   foreign_worker.no foreign_worker.yes\n",
       "1  0                 1                 \n",
       "4  0                 1                 \n",
       "6  0                 1                 \n",
       "7  0                 1                 \n",
       "9  0                 1                 \n",
       "10 0                 1                 "
      ]
     },
     "metadata": {},
     "output_type": "display_data"
    }
   ],
   "source": [
    "set.seed(1955)\n",
    "## Randomly sample cases to create independent training and test data\n",
    "partition = createDataPartition(credit[,'credit_history'], times = 1, p = 0.7, list = FALSE)\n",
    "training = credit[partition,] # Create the training sample\n",
    "training = predict(dummies, newdata = training) # transform categorical to dummy vars\n",
    "dim(training)\n",
    "test = credit[-partition,] # Create the test sample\n",
    "test = predict(dummies, newdata = test) # transform categorical to dummy vars\n",
    "dim(test)\n",
    "head(training)"
   ]
  },
  {
   "cell_type": "markdown",
   "metadata": {},
   "source": [
    "Before performaing PCA all features must be zero mean and unit variance. Failure to do so will result in biased computation of the components and scales. Execute the code in the cell below to scale the features. "
   ]
  },
  {
   "cell_type": "code",
   "execution_count": 69,
   "metadata": {},
   "outputs": [
    {
     "data": {
      "text/html": [
       "<table>\n",
       "<thead><tr><th></th><th scope=col>loan_duration_mo</th><th scope=col>loan_amount</th><th scope=col>payment_pcnt_income</th><th scope=col>age_yrs</th></tr></thead>\n",
       "<tbody>\n",
       "\t<tr><th scope=row>1</th><td> 2.2080823 </td><td> 0.9731062 </td><td>-0.88582584</td><td>-1.17991811</td></tr>\n",
       "\t<tr><th scope=row>4</th><td> 0.2337638 </td><td> 0.5805881 </td><td> 0.01542803</td><td> 1.56006911</td></tr>\n",
       "\t<tr><th scope=row>6</th><td> 0.2337638 </td><td>-0.1583336 </td><td> 0.01542803</td><td> 1.56006911</td></tr>\n",
       "\t<tr><th scope=row>7</th><td> 1.2209231 </td><td> 1.3351234 </td><td>-0.88582584</td><td>-0.03089121</td></tr>\n",
       "\t<tr><th scope=row>9</th><td> 0.7273434 </td><td> 0.7127589 </td><td> 0.91668189</td><td>-0.64959800</td></tr>\n",
       "\t<tr><th scope=row>10</th><td>-0.7533954 </td><td>-0.7175176 </td><td> 0.01542803</td><td>-0.91475805</td></tr>\n",
       "</tbody>\n",
       "</table>\n"
      ],
      "text/latex": [
       "\\begin{tabular}{r|llll}\n",
       "  & loan\\_duration\\_mo & loan\\_amount & payment\\_pcnt\\_income & age\\_yrs\\\\\n",
       "\\hline\n",
       "\t1 &  2.2080823  &  0.9731062  & -0.88582584 & -1.17991811\\\\\n",
       "\t4 &  0.2337638  &  0.5805881  &  0.01542803 &  1.56006911\\\\\n",
       "\t6 &  0.2337638  & -0.1583336  &  0.01542803 &  1.56006911\\\\\n",
       "\t7 &  1.2209231  &  1.3351234  & -0.88582584 & -0.03089121\\\\\n",
       "\t9 &  0.7273434  &  0.7127589  &  0.91668189 & -0.64959800\\\\\n",
       "\t10 & -0.7533954  & -0.7175176  &  0.01542803 & -0.91475805\\\\\n",
       "\\end{tabular}\n"
      ],
      "text/markdown": [
       "\n",
       "| <!--/--> | loan_duration_mo | loan_amount | payment_pcnt_income | age_yrs | \n",
       "|---|---|---|---|---|---|\n",
       "| 1 |  2.2080823  |  0.9731062  | -0.88582584 | -1.17991811 | \n",
       "| 4 |  0.2337638  |  0.5805881  |  0.01542803 |  1.56006911 | \n",
       "| 6 |  0.2337638  | -0.1583336  |  0.01542803 |  1.56006911 | \n",
       "| 7 |  1.2209231  |  1.3351234  | -0.88582584 | -0.03089121 | \n",
       "| 9 |  0.7273434  |  0.7127589  |  0.91668189 | -0.64959800 | \n",
       "| 10 | -0.7533954  | -0.7175176  |  0.01542803 | -0.91475805 | \n",
       "\n",
       "\n"
      ],
      "text/plain": [
       "   loan_duration_mo loan_amount payment_pcnt_income age_yrs    \n",
       "1   2.2080823        0.9731062  -0.88582584         -1.17991811\n",
       "4   0.2337638        0.5805881   0.01542803          1.56006911\n",
       "6   0.2337638       -0.1583336   0.01542803          1.56006911\n",
       "7   1.2209231        1.3351234  -0.88582584         -0.03089121\n",
       "9   0.7273434        0.7127589   0.91668189         -0.64959800\n",
       "10 -0.7533954       -0.7175176   0.01542803         -0.91475805"
      ]
     },
     "metadata": {},
     "output_type": "display_data"
    }
   ],
   "source": [
    "num_cols = c('loan_duration_mo', 'loan_amount', 'payment_pcnt_income', 'age_yrs')\n",
    "preProcValues <- preProcess(training[,num_cols], method = c(\"center\", \"scale\"))\n",
    "\n",
    "training[,num_cols] = predict(preProcValues, training[,num_cols])\n",
    "test[,num_cols] = predict(preProcValues, test[,num_cols])\n",
    "head(training[,num_cols])"
   ]
  },
  {
   "cell_type": "markdown",
   "metadata": {},
   "source": [
    "## Compute principle components\n",
    "\n",
    "The code in the cell below computes the principle components for the training feature subset. Execute this code:"
   ]
  },
  {
   "cell_type": "code",
   "execution_count": 70,
   "metadata": {},
   "outputs": [],
   "source": [
    "pca_credit = prcomp(training)"
   ]
  },
  {
   "cell_type": "markdown",
   "metadata": {},
   "source": [
    "Execute the code in the cell below to print the variance explained for each component and the sum of the variance explained:"
   ]
  },
  {
   "cell_type": "code",
   "execution_count": 71,
   "metadata": {},
   "outputs": [
    {
     "data": {
      "text/html": [
       "<ol class=list-inline>\n",
       "\t<li>0.145433573689025</li>\n",
       "\t<li>0.12920075533139</li>\n",
       "\t<li>0.0835092072915076</li>\n",
       "\t<li>0.0744233192392856</li>\n",
       "\t<li>0.045383416582891</li>\n",
       "\t<li>0.0412142361202786</li>\n",
       "\t<li>0.037614687634321</li>\n",
       "\t<li>0.0304383934997479</li>\n",
       "\t<li>0.0284339421915301</li>\n",
       "\t<li>0.0270130826807096</li>\n",
       "\t<li>0.0243224669129884</li>\n",
       "\t<li>0.0232796070700101</li>\n",
       "\t<li>0.0221919417397481</li>\n",
       "\t<li>0.0218440343945995</li>\n",
       "\t<li>0.0204717119725584</li>\n",
       "\t<li>0.0185978550798474</li>\n",
       "\t<li>0.0163644474590598</li>\n",
       "\t<li>0.0160143494230162</li>\n",
       "\t<li>0.0150520714866268</li>\n",
       "\t<li>0.0143273314478874</li>\n",
       "\t<li>0.0130062312622332</li>\n",
       "\t<li>0.0127763940113887</li>\n",
       "\t<li>0.0109933079976769</li>\n",
       "\t<li>0.0103864978478809</li>\n",
       "\t<li>0.0100085432828088</li>\n",
       "\t<li>0.00978912086397535</li>\n",
       "\t<li>0.00901627815902164</li>\n",
       "\t<li>0.00877435509536794</li>\n",
       "\t<li>0.00802268513492922</li>\n",
       "\t<li>0.00757014223806517</li>\n",
       "\t<li>0.00683384656907536</li>\n",
       "\t<li>0.00626818309867042</li>\n",
       "\t<li>0.0055097601603639</li>\n",
       "\t<li>0.00523891178301015</li>\n",
       "\t<li>0.00501329542571372</li>\n",
       "\t<li>0.0047203333741021</li>\n",
       "\t<li>0.00446951796935891</li>\n",
       "\t<li>0.00422404247485336</li>\n",
       "\t<li>0.00370565681496656</li>\n",
       "\t<li>0.00349999742809647</li>\n",
       "\t<li>0.00317036075975213</li>\n",
       "\t<li>0.0029525102934803</li>\n",
       "\t<li>0.00253757024768975</li>\n",
       "\t<li>0.00206503650526709</li>\n",
       "\t<li>0.00143728511311974</li>\n",
       "\t<li>0.0012511700592835</li>\n",
       "\t<li>0.000877826803541887</li>\n",
       "\t<li>0.000750707979277744</li>\n",
       "\t<li>2.43403236722439e-31</li>\n",
       "\t<li>3.45906174525654e-32</li>\n",
       "\t<li>2.71938660957483e-32</li>\n",
       "\t<li>2.62581819171196e-32</li>\n",
       "\t<li>1.53334776380922e-32</li>\n",
       "\t<li>1.1675207698663e-32</li>\n",
       "\t<li>8.82820227222843e-33</li>\n",
       "\t<li>5.31456769820885e-33</li>\n",
       "\t<li>2.8506384400809e-33</li>\n",
       "\t<li>1.62683845202958e-33</li>\n",
       "\t<li>9.32742647468722e-34</li>\n",
       "\t<li>7.26037492517574e-34</li>\n",
       "\t<li>3.41410835607498e-34</li>\n",
       "</ol>\n"
      ],
      "text/latex": [
       "\\begin{enumerate*}\n",
       "\\item 0.145433573689025\n",
       "\\item 0.12920075533139\n",
       "\\item 0.0835092072915076\n",
       "\\item 0.0744233192392856\n",
       "\\item 0.045383416582891\n",
       "\\item 0.0412142361202786\n",
       "\\item 0.037614687634321\n",
       "\\item 0.0304383934997479\n",
       "\\item 0.0284339421915301\n",
       "\\item 0.0270130826807096\n",
       "\\item 0.0243224669129884\n",
       "\\item 0.0232796070700101\n",
       "\\item 0.0221919417397481\n",
       "\\item 0.0218440343945995\n",
       "\\item 0.0204717119725584\n",
       "\\item 0.0185978550798474\n",
       "\\item 0.0163644474590598\n",
       "\\item 0.0160143494230162\n",
       "\\item 0.0150520714866268\n",
       "\\item 0.0143273314478874\n",
       "\\item 0.0130062312622332\n",
       "\\item 0.0127763940113887\n",
       "\\item 0.0109933079976769\n",
       "\\item 0.0103864978478809\n",
       "\\item 0.0100085432828088\n",
       "\\item 0.00978912086397535\n",
       "\\item 0.00901627815902164\n",
       "\\item 0.00877435509536794\n",
       "\\item 0.00802268513492922\n",
       "\\item 0.00757014223806517\n",
       "\\item 0.00683384656907536\n",
       "\\item 0.00626818309867042\n",
       "\\item 0.0055097601603639\n",
       "\\item 0.00523891178301015\n",
       "\\item 0.00501329542571372\n",
       "\\item 0.0047203333741021\n",
       "\\item 0.00446951796935891\n",
       "\\item 0.00422404247485336\n",
       "\\item 0.00370565681496656\n",
       "\\item 0.00349999742809647\n",
       "\\item 0.00317036075975213\n",
       "\\item 0.0029525102934803\n",
       "\\item 0.00253757024768975\n",
       "\\item 0.00206503650526709\n",
       "\\item 0.00143728511311974\n",
       "\\item 0.0012511700592835\n",
       "\\item 0.000877826803541887\n",
       "\\item 0.000750707979277744\n",
       "\\item 2.43403236722439e-31\n",
       "\\item 3.45906174525654e-32\n",
       "\\item 2.71938660957483e-32\n",
       "\\item 2.62581819171196e-32\n",
       "\\item 1.53334776380922e-32\n",
       "\\item 1.1675207698663e-32\n",
       "\\item 8.82820227222843e-33\n",
       "\\item 5.31456769820885e-33\n",
       "\\item 2.8506384400809e-33\n",
       "\\item 1.62683845202958e-33\n",
       "\\item 9.32742647468722e-34\n",
       "\\item 7.26037492517574e-34\n",
       "\\item 3.41410835607498e-34\n",
       "\\end{enumerate*}\n"
      ],
      "text/markdown": [
       "1. 0.145433573689025\n",
       "2. 0.12920075533139\n",
       "3. 0.0835092072915076\n",
       "4. 0.0744233192392856\n",
       "5. 0.045383416582891\n",
       "6. 0.0412142361202786\n",
       "7. 0.037614687634321\n",
       "8. 0.0304383934997479\n",
       "9. 0.0284339421915301\n",
       "10. 0.0270130826807096\n",
       "11. 0.0243224669129884\n",
       "12. 0.0232796070700101\n",
       "13. 0.0221919417397481\n",
       "14. 0.0218440343945995\n",
       "15. 0.0204717119725584\n",
       "16. 0.0185978550798474\n",
       "17. 0.0163644474590598\n",
       "18. 0.0160143494230162\n",
       "19. 0.0150520714866268\n",
       "20. 0.0143273314478874\n",
       "21. 0.0130062312622332\n",
       "22. 0.0127763940113887\n",
       "23. 0.0109933079976769\n",
       "24. 0.0103864978478809\n",
       "25. 0.0100085432828088\n",
       "26. 0.00978912086397535\n",
       "27. 0.00901627815902164\n",
       "28. 0.00877435509536794\n",
       "29. 0.00802268513492922\n",
       "30. 0.00757014223806517\n",
       "31. 0.00683384656907536\n",
       "32. 0.00626818309867042\n",
       "33. 0.0055097601603639\n",
       "34. 0.00523891178301015\n",
       "35. 0.00501329542571372\n",
       "36. 0.0047203333741021\n",
       "37. 0.00446951796935891\n",
       "38. 0.00422404247485336\n",
       "39. 0.00370565681496656\n",
       "40. 0.00349999742809647\n",
       "41. 0.00317036075975213\n",
       "42. 0.0029525102934803\n",
       "43. 0.00253757024768975\n",
       "44. 0.00206503650526709\n",
       "45. 0.00143728511311974\n",
       "46. 0.0012511700592835\n",
       "47. 0.000877826803541887\n",
       "48. 0.000750707979277744\n",
       "49. 2.43403236722439e-31\n",
       "50. 3.45906174525654e-32\n",
       "51. 2.71938660957483e-32\n",
       "52. 2.62581819171196e-32\n",
       "53. 1.53334776380922e-32\n",
       "54. 1.1675207698663e-32\n",
       "55. 8.82820227222843e-33\n",
       "56. 5.31456769820885e-33\n",
       "57. 2.8506384400809e-33\n",
       "58. 1.62683845202958e-33\n",
       "59. 9.32742647468722e-34\n",
       "60. 7.26037492517574e-34\n",
       "61. 3.41410835607498e-34\n",
       "\n",
       "\n"
      ],
      "text/plain": [
       " [1] 1.454336e-01 1.292008e-01 8.350921e-02 7.442332e-02 4.538342e-02\n",
       " [6] 4.121424e-02 3.761469e-02 3.043839e-02 2.843394e-02 2.701308e-02\n",
       "[11] 2.432247e-02 2.327961e-02 2.219194e-02 2.184403e-02 2.047171e-02\n",
       "[16] 1.859786e-02 1.636445e-02 1.601435e-02 1.505207e-02 1.432733e-02\n",
       "[21] 1.300623e-02 1.277639e-02 1.099331e-02 1.038650e-02 1.000854e-02\n",
       "[26] 9.789121e-03 9.016278e-03 8.774355e-03 8.022685e-03 7.570142e-03\n",
       "[31] 6.833847e-03 6.268183e-03 5.509760e-03 5.238912e-03 5.013295e-03\n",
       "[36] 4.720333e-03 4.469518e-03 4.224042e-03 3.705657e-03 3.499997e-03\n",
       "[41] 3.170361e-03 2.952510e-03 2.537570e-03 2.065037e-03 1.437285e-03\n",
       "[46] 1.251170e-03 8.778268e-04 7.507080e-04 2.434032e-31 3.459062e-32\n",
       "[51] 2.719387e-32 2.625818e-32 1.533348e-32 1.167521e-32 8.828202e-33\n",
       "[56] 5.314568e-33 2.850638e-33 1.626838e-33 9.327426e-34 7.260375e-34\n",
       "[61] 3.414108e-34"
      ]
     },
     "metadata": {},
     "output_type": "display_data"
    }
   ],
   "source": [
    "var_exp = pca_credit$sdev**2/sum(pca_credit$sdev**2)\n",
    "var_exp"
   ]
  },
  {
   "cell_type": "markdown",
   "metadata": {},
   "source": [
    "These numbers are a bit abstract. However, you can see that the variance ratios are in decending order and that the sum is 1.0. \n",
    "\n",
    "Execute the code in the cell below to create a plot of the explained variance vs. the component:  "
   ]
  },
  {
   "cell_type": "code",
   "execution_count": 72,
   "metadata": {
    "scrolled": false
   },
   "outputs": [
    {
     "data": {},
     "metadata": {},
     "output_type": "display_data"
    },
    {
     "data": {
      "image/png": "[encoded data removed]",
      "text/plain": [
       "plot without title"
      ]
     },
     "metadata": {},
     "output_type": "display_data"
    }
   ],
   "source": [
    "plot_scree = function(pca_mod){\n",
    "    ## Plot as variance explained\n",
    "    df = data.frame(x = 1:length(var_exp), y = var_exp)\n",
    "    ggplot(df, aes(x,y)) + geom_line(size = 1, color = 'blue') +\n",
    "    xlab('Component number') + ylab('Variance explained') +\n",
    "    ggtitle('Scree plot of variance explained vs. \\n Principle Component')\n",
    "}\n",
    "\n",
    "plot_scree(pca_credit)"
   ]
  },
  {
   "cell_type": "markdown",
   "metadata": {},
   "source": [
    "This curve is often referred to as a **scree plot**. Notice that the explained variance decreases rapidly until the 5th component and then slowly, thereafter. The first few components explain a large fraction of the variance and therefore contain much of the explanatory information in the data. The components with small explained variance are unlikely to contain much explanatory information. Often the inflection point or 'knee' in the scree curve is used to choose the number of components selected. "
   ]
  },
  {
   "cell_type": "markdown",
   "metadata": {},
   "source": [
    "Now it is time to create a PCA model with a reduced number of components. The code in the cell below trains and fits a PCA model with 5 components, and then transforms the features using that model. Execute this code. "
   ]
  },
  {
   "cell_type": "code",
   "execution_count": null,
   "metadata": {},
   "outputs": [],
   "source": [
    "pca_mod_5 = skde.PCA(n_components = 5)\n",
    "pca_mod_5.fit(x_train)\n",
    "Comps = pca_mod_5.transform(x_train)\n",
    "Comps.shape"
   ]
  },
  {
   "cell_type": "markdown",
   "metadata": {},
   "source": [
    "## Compute and evaluate a logistic regression model\n",
    "\n",
    "Next, you will compute and evaluate a logistic regression model using the features transformed by the first 5 principle components. Execute the code in the cell below to define and fit a logistic regression model, and print the model coefficients. "
   ]
  },
  {
   "cell_type": "code",
   "execution_count": null,
   "metadata": {},
   "outputs": [],
   "source": [
    "## Define and fit the logistic regression model\n",
    "log_mod_5 = linear_model.LogisticRegression(C = 10.0, class_weight = {0:0.1, 0:0.9}) \n",
    "log_mod_5.fit(Comps, y_train)\n",
    "print(log_mod_5.intercept_)\n",
    "print(log_mod_5.coef_)"
   ]
  },
  {
   "cell_type": "markdown",
   "metadata": {},
   "source": [
    "Notice that there are now 5 regresson coefficients, one for each component. This number is in contrast to the 35 features in the raw data. \n",
    "\n",
    "Next, evaluate this model using the code below. Notice that the test features are transformed using the same PCA tranformation used for the training data. Execute this code and examine the results:"
   ]
  },
  {
   "cell_type": "code",
   "execution_count": null,
   "metadata": {
    "scrolled": true
   },
   "outputs": [],
   "source": [
    "def print_metrics(labels, scores):\n",
    "    metrics = sklm.precision_recall_fscore_support(labels, scores)\n",
    "    conf = sklm.confusion_matrix(labels, scores)\n",
    "    print('                 Confusion matrix')\n",
    "    print('                 Score positive    Score negative')\n",
    "    print('True positive    %6d' % conf[0,0] + '          %5d' % conf[0,1])\n",
    "    print('True negative    %6d' % conf[1,0] + '          %5d' % conf[1,1])\n",
    "    print('')\n",
    "    print('Accuracy  %0.2f' % sklm.accuracy_score(labels, scores))\n",
    "    print(' ')\n",
    "    print('             Positive   Negative')\n",
    "    print('Num case    %0.2f' % metrics[3][0] + '       %0.2f' % metrics[3][1])\n",
    "    print('Precision   %0.2f' % metrics[0][0] + '          %0.2f' % metrics[0][1])\n",
    "    print('Recall      %0.2f' % metrics[1][0] + '          %0.2f' % metrics[1][1])\n",
    "    print('F1          %0.2f' % metrics[2][0] + '          %0.2f' % metrics[2][1])\n",
    "    \n",
    "def plot_auc(labels, probs):\n",
    "    ## Compute the false positive rate, true positive rate\n",
    "    ## and threshold along with the AUC\n",
    "    fpr, tpr, threshold = sklm.roc_curve(labels, probs[:,1])\n",
    "    auc = sklm.auc(fpr, tpr)\n",
    "    \n",
    "    ## Plot the result\n",
    "    plt.title('Receiver Operating Characteristic')\n",
    "    plt.plot(fpr, tpr, color = 'orange', label = 'AUC = %0.2f' % auc)\n",
    "    plt.legend(loc = 'lower right')\n",
    "    plt.plot([0, 1], [0, 1],'r--')\n",
    "    plt.xlim([0, 1])\n",
    "    plt.ylim([0, 1])\n",
    "    plt.ylabel('True Positive Rate')\n",
    "    plt.xlabel('False Positive Rate')\n",
    "    plt.show()   \n",
    "\n",
    "def score_model(probs, threshold):\n",
    "    return np.array([1 if x > threshold else 0 for x in probs[:,1]])\n",
    "\n",
    "probabilities = log_mod_5.predict_proba(pca_mod_5.transform(x_test))\n",
    "scores = score_model(probabilities, 0.3)\n",
    "print_metrics(y_test, scores)    \n",
    "plot_auc(y_test, probabilities)     "
   ]
  },
  {
   "cell_type": "markdown",
   "metadata": {},
   "source": [
    "For the most part, these results look good. The question remains, were the correct number of principle components used? "
   ]
  },
  {
   "cell_type": "markdown",
   "metadata": {},
   "source": [
    "## Add more components to the model\n",
    "\n",
    "Now you will compute and evaluate a logistic regression model using the first 10 principle components. You will compare this model to the one created with 5 principle components. Execute the code below to transform the training features using the first 10 principle components. "
   ]
  },
  {
   "cell_type": "code",
   "execution_count": null,
   "metadata": {},
   "outputs": [],
   "source": [
    "pca_mod_10 = skde.PCA(n_components = 10)\n",
    "pca_mod_10.fit(x_train)\n",
    "Comps_10 = pca_mod_10.transform(x_train)\n",
    "Comps_10.shape"
   ]
  },
  {
   "cell_type": "markdown",
   "metadata": {},
   "source": [
    "Execute the code in the cell below to define and fit a logistic regression model using the 10 components of the transformed features. "
   ]
  },
  {
   "cell_type": "code",
   "execution_count": null,
   "metadata": {},
   "outputs": [],
   "source": [
    "## define and fit the linear regression model\n",
    "log_mod_10 = linear_model.LogisticRegression(C = 100) \n",
    "log_mod_10.fit(Comps_10, y_train)"
   ]
  },
  {
   "cell_type": "markdown",
   "metadata": {},
   "source": [
    "The code in the cell below scores the logistic regression model and displays performance metrics, the ROC curve, and the AUC. Execute this code and examine the result. "
   ]
  },
  {
   "cell_type": "code",
   "execution_count": null,
   "metadata": {},
   "outputs": [],
   "source": [
    "probabilities = log_mod_10.predict_proba(pca_mod_10.transform(x_test))\n",
    "scores = score_model(probabilities, 0.3)\n",
    "print_metrics(y_test, scores)  \n",
    "plot_auc(y_test, probabilities)     "
   ]
  },
  {
   "cell_type": "markdown",
   "metadata": {},
   "source": [
    "All of the metrics have improved compared to the 5 component model. Apparently there is useful information in the first 10 components. \n",
    "\n",
    "But, is this difference really significant. To find out, you will now peform cross validation on the result. Ideally, the fitting of the PCA model should be part of the cross validation process. However, at the risk of a small bias, this step is omitted for the sake of simplicity. Execute the code in the cell below to perform the cross validation and display the result. "
   ]
  },
  {
   "cell_type": "code",
   "execution_count": null,
   "metadata": {},
   "outputs": [],
   "source": [
    "def print_format(f,x,y,z):\n",
    "    print('Fold %1d   %4.3f        %4.3f      %4.3f' % (f, x, y, z))\n",
    "\n",
    "def print_cv(scores):\n",
    "    fold = [x + 1 for x in range(len(scores['test_precision_macro']))]\n",
    "    print('         Precision    Recall,    AUC')\n",
    "    [print_format(f,x,y,z) for f,x,y,z in zip(fold, scores['test_precision_macro'], \n",
    "                                          scores['test_recall_macro'],\n",
    "                                          scores['test_roc_auc'])]\n",
    "    print('-' * 40)\n",
    "    print('Mean     %4.3f        %4.3f      %4.3f' % \n",
    "          (np.mean(scores['test_precision_macro']), np.mean(scores['test_recall_macro']), np.mean(scores['test_roc_auc'])))  \n",
    "    print('Std      %4.3f        %4.3f      %4.3f' % \n",
    "          (np.std(scores['test_precision_macro']), np.std(scores['test_recall_macro']), np.std(scores['test_roc_auc'])))\n",
    "\n",
    "Labels = Labels.reshape(Labels.shape[0],)\n",
    "scoring = ['precision_macro', 'recall_macro', 'roc_auc']\n",
    "\n",
    "pca_mod = skde.PCA(n_components = 10)\n",
    "pca_mod.fit(Features)\n",
    "Comps = pca_mod.transform(Features)\n",
    "scores = ms.cross_validate(log_mod_10, Comps, Labels, scoring=scoring,\n",
    "                        cv=10, return_train_score=False)\n",
    "print_cv(scores)  "
   ]
  },
  {
   "cell_type": "markdown",
   "metadata": {},
   "source": [
    "Compare the AUC and its standard deviation obtained above to the AUC of the 5 component model. The difference does appear to be significant. This difference supports the hypothesis that the first 10 components all contain useful information. "
   ]
  },
  {
   "cell_type": "markdown",
   "metadata": {},
   "source": [
    "## Summary\n",
    "\n",
    "In this lab you have applied principle component analysis to dimensionality reduction for suppervised machine learing. The first components computed contain most of the available information. When faced with large number of feautures, PCA is an effective way to make supervised machine learning models tractable. \n",
    "\n",
    "Specifically in this lab you have:\n",
    "1. Computed PCA models with different numbers of components.\n",
    "2. Compared logistic regression models with different numbers of components. In this case, using 10 components produced a significantly better model. Using 10 components is a useful reduction in dimensionality compared to the original 35 features. "
   ]
  },
  {
   "cell_type": "code",
   "execution_count": null,
   "metadata": {},
   "outputs": [],
   "source": []
  }
 ],
 "metadata": {
  "kernelspec": {
   "display_name": "R",
   "language": "R",
   "name": "ir"
  },
  "language_info": {
   "codemirror_mode": "r",
   "file_extension": ".r",
   "mimetype": "text/x-r-source",
   "name": "R",
   "pygments_lexer": "r",
   "version": "3.4.1"
  }
 },
 "nbformat": 4,
 "nbformat_minor": 2
}
