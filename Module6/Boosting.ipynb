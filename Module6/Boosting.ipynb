{
 "cells": [
  {
   "cell_type": "markdown",
   "metadata": {},
   "source": [
    "# Boosting and the AdaBoost Method\n",
    "\n",
    "Using **ensemble methods** can greatly improve the results achieved with weak machine learning algorithms, also called **weak learners**. Ensemble methods achieve better performance by aggregating the results of many statistically independent models. This process averages out the errors and produces a better, final, prediction. \n",
    "\n",
    "In this lab you will work with widely used ensemble method known as **boosting**. Boosting is a meta-algorithm since the method can be applied to many types of machine learning algorithms. In summary, boosting iteratively improves the learning of the N models by giving greater weight to training cases with larger errors. The basic boosting procedure is simple and follows these steps:\n",
    "1. N learners (machine learning models) are defined.\n",
    "2. Each of i training data cases is given an initial equal weight of 1/i.\n",
    "3. The N learners are trained on the weighted training data cases.\n",
    "4. The prediction is computed based on a aggregation of the learners; averaging over the hypothesis of the N learners. \n",
    "5. Weights for the training data cases are updated based on the aggregated errors made by the learners. Cases with larger errors are given larger weights. \n",
    "6. Steps 3, 4, and 5 are repeated until a convergence criteria is met.\n",
    "\n",
    "**Classification and regression tree models** are the weak learners most commonly used with boosting. In this lab you will work with one of the most widely used and successful boosted methods, known as **AdaBoost** or **adaptive boosting**. AdaBoost uses some large number, N, tree models. The rate at which weights are updated is **adaptive** with the errors. \n",
    "\n",
    "It is important to keep in mind that boosted machine learning is not robust to significant noise or outliers in the training data. The re-weighting process gives greater weight to the large errors, and therefore can give undue weight to outliers and errors. In cases where data is noisy, the random forest algorithm may prove to be more robust. "
   ]
  },
  {
   "cell_type": "markdown",
   "metadata": {},
   "source": [
    "## Example: Iris dataset\n",
    "\n",
    "As a first example you will use AdaBoost to classify the species of iris flowers. \n",
    "\n",
    "As a first step, execute the code in the cell below to load the required packages to run the rest of this notebook. "
   ]
  },
  {
   "cell_type": "code",
   "execution_count": 1,
   "metadata": {
    "scrolled": false
   },
   "outputs": [
    {
     "name": "stderr",
     "output_type": "stream",
     "text": [
      "\n",
      "Attaching package: 'dplyr'\n",
      "\n",
      "The following object is masked from 'package:gridExtra':\n",
      "\n",
      "    combine\n",
      "\n",
      "The following objects are masked from 'package:stats':\n",
      "\n",
      "    filter, lag\n",
      "\n",
      "The following objects are masked from 'package:base':\n",
      "\n",
      "    intersect, setdiff, setequal, union\n",
      "\n",
      "Loading required package: lattice\n",
      "Loading required package: survival\n",
      "\n",
      "Attaching package: 'survival'\n",
      "\n",
      "The following object is masked from 'package:caret':\n",
      "\n",
      "    cluster\n",
      "\n",
      "Loading required package: splines\n",
      "Loading required package: parallel\n",
      "Loaded gbm 2.1.3\n",
      "\n",
      "Attaching package: 'MLmetrics'\n",
      "\n",
      "The following objects are masked from 'package:caret':\n",
      "\n",
      "    MAE, RMSE\n",
      "\n",
      "The following object is masked from 'package:base':\n",
      "\n",
      "    Recall\n",
      "\n"
     ]
    }
   ],
   "source": [
    "## Import packages\n",
    "library(ggplot2)\n",
    "library(gridExtra)\n",
    "library(repr)\n",
    "library(dplyr)\n",
    "library(caret)\n",
    "library(gbm)\n",
    "library(e1071)\n",
    "library(MLmetrics)\n",
    "\n",
    "options(repr.plot.width=4, repr.plot.height=4) # Set the initial plot area dimensions"
   ]
  },
  {
   "cell_type": "markdown",
   "metadata": {},
   "source": [
    "The code in the cell below displays the head of the data frame and plots all pairwise combinations of the features with the species of the iris flower in colors. Execute this code and examine the results.  "
   ]
  },
  {
   "cell_type": "code",
   "execution_count": 2,
   "metadata": {},
   "outputs": [
    {
     "data": {
      "text/html": [
       "<table>\n",
       "<thead><tr><th scope=col>Sepal.Length</th><th scope=col>Sepal.Width</th><th scope=col>Petal.Length</th><th scope=col>Petal.Width</th><th scope=col>Species</th></tr></thead>\n",
       "<tbody>\n",
       "\t<tr><td>5.1   </td><td>3.5   </td><td>1.4   </td><td>0.2   </td><td>setosa</td></tr>\n",
       "\t<tr><td>4.9   </td><td>3.0   </td><td>1.4   </td><td>0.2   </td><td>setosa</td></tr>\n",
       "\t<tr><td>4.7   </td><td>3.2   </td><td>1.3   </td><td>0.2   </td><td>setosa</td></tr>\n",
       "\t<tr><td>4.6   </td><td>3.1   </td><td>1.5   </td><td>0.2   </td><td>setosa</td></tr>\n",
       "\t<tr><td>5.0   </td><td>3.6   </td><td>1.4   </td><td>0.2   </td><td>setosa</td></tr>\n",
       "\t<tr><td>5.4   </td><td>3.9   </td><td>1.7   </td><td>0.4   </td><td>setosa</td></tr>\n",
       "\t<tr><td>4.6   </td><td>3.4   </td><td>1.4   </td><td>0.3   </td><td>setosa</td></tr>\n",
       "\t<tr><td>5.0   </td><td>3.4   </td><td>1.5   </td><td>0.2   </td><td>setosa</td></tr>\n",
       "\t<tr><td>4.4   </td><td>2.9   </td><td>1.4   </td><td>0.2   </td><td>setosa</td></tr>\n",
       "\t<tr><td>4.9   </td><td>3.1   </td><td>1.5   </td><td>0.1   </td><td>setosa</td></tr>\n",
       "</tbody>\n",
       "</table>\n"
      ],
      "text/latex": [
       "\\begin{tabular}{r|lllll}\n",
       " Sepal.Length & Sepal.Width & Petal.Length & Petal.Width & Species\\\\\n",
       "\\hline\n",
       "\t 5.1    & 3.5    & 1.4    & 0.2    & setosa\\\\\n",
       "\t 4.9    & 3.0    & 1.4    & 0.2    & setosa\\\\\n",
       "\t 4.7    & 3.2    & 1.3    & 0.2    & setosa\\\\\n",
       "\t 4.6    & 3.1    & 1.5    & 0.2    & setosa\\\\\n",
       "\t 5.0    & 3.6    & 1.4    & 0.2    & setosa\\\\\n",
       "\t 5.4    & 3.9    & 1.7    & 0.4    & setosa\\\\\n",
       "\t 4.6    & 3.4    & 1.4    & 0.3    & setosa\\\\\n",
       "\t 5.0    & 3.4    & 1.5    & 0.2    & setosa\\\\\n",
       "\t 4.4    & 2.9    & 1.4    & 0.2    & setosa\\\\\n",
       "\t 4.9    & 3.1    & 1.5    & 0.1    & setosa\\\\\n",
       "\\end{tabular}\n"
      ],
      "text/markdown": [
       "\n",
       "Sepal.Length | Sepal.Width | Petal.Length | Petal.Width | Species | \n",
       "|---|---|---|---|---|---|---|---|---|---|\n",
       "| 5.1    | 3.5    | 1.4    | 0.2    | setosa | \n",
       "| 4.9    | 3.0    | 1.4    | 0.2    | setosa | \n",
       "| 4.7    | 3.2    | 1.3    | 0.2    | setosa | \n",
       "| 4.6    | 3.1    | 1.5    | 0.2    | setosa | \n",
       "| 5.0    | 3.6    | 1.4    | 0.2    | setosa | \n",
       "| 5.4    | 3.9    | 1.7    | 0.4    | setosa | \n",
       "| 4.6    | 3.4    | 1.4    | 0.3    | setosa | \n",
       "| 5.0    | 3.4    | 1.5    | 0.2    | setosa | \n",
       "| 4.4    | 2.9    | 1.4    | 0.2    | setosa | \n",
       "| 4.9    | 3.1    | 1.5    | 0.1    | setosa | \n",
       "\n",
       "\n"
      ],
      "text/plain": [
       "   Sepal.Length Sepal.Width Petal.Length Petal.Width Species\n",
       "1  5.1          3.5         1.4          0.2         setosa \n",
       "2  4.9          3.0         1.4          0.2         setosa \n",
       "3  4.7          3.2         1.3          0.2         setosa \n",
       "4  4.6          3.1         1.5          0.2         setosa \n",
       "5  5.0          3.6         1.4          0.2         setosa \n",
       "6  5.4          3.9         1.7          0.4         setosa \n",
       "7  4.6          3.4         1.4          0.3         setosa \n",
       "8  5.0          3.4         1.5          0.2         setosa \n",
       "9  4.4          2.9         1.4          0.2         setosa \n",
       "10 4.9          3.1         1.5          0.1         setosa "
      ]
     },
     "metadata": {},
     "output_type": "display_data"
    },
    {
     "data": {
      "image/png": "[encoded data removed]",
      "text/plain": [
       "plot without title"
      ]
     },
     "metadata": {},
     "output_type": "display_data"
    }
   ],
   "source": [
    "single_plot = function(df, colx, coly){\n",
    "    ggplot(df, aes_string(colx,coly)) +\n",
    "          geom_point(aes(color = factor(df$Species)), alpha = 0.4)\n",
    "}\n",
    "\n",
    "plot_iris = function(df){\n",
    "    options(repr.plot.width=8, repr.plot.height=5)\n",
    "    grid.arrange(\n",
    "        single_plot(df, 'Sepal.Length', 'Sepal.Width'),\n",
    "        single_plot(df, 'Sepal.Length', 'Petal.Length'),\n",
    "        single_plot(df, 'Petal.Length', 'Petal.Width'),\n",
    "        single_plot(df, 'Sepal.Width', 'Petal.Length'),\n",
    "        nrow = 2)\n",
    "}\n",
    "\n",
    "head(iris, 10)   \n",
    "plot_iris(iris) "
   ]
  },
  {
   "cell_type": "markdown",
   "metadata": {},
   "source": [
    "You can see that Setosa (in red) is well separated from the other two categories. The Versicolor (in green) and the Virginica (in blue) show considerable overlap. The question is how well our classifier will separate these categories. \n",
    "\n",
    "Next, execute the code in the cell below to split the dataset into test and training set. Notice that unusually, 67% of the cases are being used as the test dataset. "
   ]
  },
  {
   "cell_type": "code",
   "execution_count": 3,
   "metadata": {},
   "outputs": [
    {
     "data": {
      "text/html": [
       "<ol class=list-inline>\n",
       "\t<li>51</li>\n",
       "\t<li>5</li>\n",
       "</ol>\n"
      ],
      "text/latex": [
       "\\begin{enumerate*}\n",
       "\\item 51\n",
       "\\item 5\n",
       "\\end{enumerate*}\n"
      ],
      "text/markdown": [
       "1. 51\n",
       "2. 5\n",
       "\n",
       "\n"
      ],
      "text/plain": [
       "[1] 51  5"
      ]
     },
     "metadata": {},
     "output_type": "display_data"
    },
    {
     "data": {
      "text/html": [
       "<ol class=list-inline>\n",
       "\t<li>99</li>\n",
       "\t<li>5</li>\n",
       "</ol>\n"
      ],
      "text/latex": [
       "\\begin{enumerate*}\n",
       "\\item 99\n",
       "\\item 5\n",
       "\\end{enumerate*}\n"
      ],
      "text/markdown": [
       "1. 99\n",
       "2. 5\n",
       "\n",
       "\n"
      ],
      "text/plain": [
       "[1] 99  5"
      ]
     },
     "metadata": {},
     "output_type": "display_data"
    }
   ],
   "source": [
    "set.seed(1955)\n",
    "## Randomly sample cases to create independent training and test data\n",
    "partition = createDataPartition(iris[,'Species'], times = 1, p = 0.33, list = FALSE)\n",
    "training = iris[partition,] # Create the training sample\n",
    "dim(training)\n",
    "test = iris[-partition,] # Create the test sample\n",
    "dim(test)"
   ]
  },
  {
   "cell_type": "markdown",
   "metadata": {},
   "source": [
    "As is always the case with machine learning, numeric features  must be scaled. Execute the code in the cell below to scale the training and test datasets:"
   ]
  },
  {
   "cell_type": "code",
   "execution_count": 4,
   "metadata": {},
   "outputs": [
    {
     "data": {
      "text/html": [
       "<table>\n",
       "<thead><tr><th></th><th scope=col>Sepal.Length</th><th scope=col>Sepal.Width</th><th scope=col>Petal.Length</th><th scope=col>Petal.Width</th></tr></thead>\n",
       "<tbody>\n",
       "\t<tr><th scope=row>3</th><td>-1.2646501</td><td> 0.4563512</td><td>-1.348274 </td><td>-1.287390 </td></tr>\n",
       "\t<tr><th scope=row>5</th><td>-0.9016267</td><td> 1.4161001</td><td>-1.293220 </td><td>-1.287390 </td></tr>\n",
       "\t<tr><th scope=row>6</th><td>-0.4175955</td><td> 2.1359118</td><td>-1.128059 </td><td>-1.027876 </td></tr>\n",
       "\t<tr><th scope=row>9</th><td>-1.6276734</td><td>-0.2634605</td><td>-1.293220 </td><td>-1.287390 </td></tr>\n",
       "\t<tr><th scope=row>10</th><td>-1.0226345</td><td> 0.2164140</td><td>-1.238167 </td><td>-1.417146 </td></tr>\n",
       "\t<tr><th scope=row>11</th><td>-0.4175955</td><td> 1.6560373</td><td>-1.238167 </td><td>-1.287390 </td></tr>\n",
       "</tbody>\n",
       "</table>\n"
      ],
      "text/latex": [
       "\\begin{tabular}{r|llll}\n",
       "  & Sepal.Length & Sepal.Width & Petal.Length & Petal.Width\\\\\n",
       "\\hline\n",
       "\t3 & -1.2646501 &  0.4563512 & -1.348274  & -1.287390 \\\\\n",
       "\t5 & -0.9016267 &  1.4161001 & -1.293220  & -1.287390 \\\\\n",
       "\t6 & -0.4175955 &  2.1359118 & -1.128059  & -1.027876 \\\\\n",
       "\t9 & -1.6276734 & -0.2634605 & -1.293220  & -1.287390 \\\\\n",
       "\t10 & -1.0226345 &  0.2164140 & -1.238167  & -1.417146 \\\\\n",
       "\t11 & -0.4175955 &  1.6560373 & -1.238167  & -1.287390 \\\\\n",
       "\\end{tabular}\n"
      ],
      "text/markdown": [
       "\n",
       "| <!--/--> | Sepal.Length | Sepal.Width | Petal.Length | Petal.Width | \n",
       "|---|---|---|---|---|---|\n",
       "| 3 | -1.2646501 |  0.4563512 | -1.348274  | -1.287390  | \n",
       "| 5 | -0.9016267 |  1.4161001 | -1.293220  | -1.287390  | \n",
       "| 6 | -0.4175955 |  2.1359118 | -1.128059  | -1.027876  | \n",
       "| 9 | -1.6276734 | -0.2634605 | -1.293220  | -1.287390  | \n",
       "| 10 | -1.0226345 |  0.2164140 | -1.238167  | -1.417146  | \n",
       "| 11 | -0.4175955 |  1.6560373 | -1.238167  | -1.287390  | \n",
       "\n",
       "\n"
      ],
      "text/plain": [
       "   Sepal.Length Sepal.Width Petal.Length Petal.Width\n",
       "3  -1.2646501    0.4563512  -1.348274    -1.287390  \n",
       "5  -0.9016267    1.4161001  -1.293220    -1.287390  \n",
       "6  -0.4175955    2.1359118  -1.128059    -1.027876  \n",
       "9  -1.6276734   -0.2634605  -1.293220    -1.287390  \n",
       "10 -1.0226345    0.2164140  -1.238167    -1.417146  \n",
       "11 -0.4175955    1.6560373  -1.238167    -1.287390  "
      ]
     },
     "metadata": {},
     "output_type": "display_data"
    }
   ],
   "source": [
    "num_cols = c('Sepal.Length', 'Sepal.Width', 'Petal.Length', 'Petal.Width')\n",
    "preProcValues <- preProcess(training[,num_cols], method = c(\"center\", \"scale\"))\n",
    "\n",
    "training[,num_cols] = predict(preProcValues, training[,num_cols])\n",
    "test[,num_cols] = predict(preProcValues, test[,num_cols])\n",
    "head(training[,num_cols])"
   ]
  },
  {
   "cell_type": "markdown",
   "metadata": {},
   "source": [
    "Now you will define and fit an AdaBoosted tree model. The code in the cell below defines the model with 5 estimators (trees) using the `gbm` function from the R gbm  package, and then fits the model. Since this is a multi-class classification problem a multinomial distribution is specified for the model response. Execute this code."
   ]
  },
  {
   "cell_type": "code",
   "execution_count": 5,
   "metadata": {},
   "outputs": [],
   "source": [
    "set.seed(3355)\n",
    "gbm_mod = gbm(Species ~ ., data = training, distribution = \"multinomial\", n.trees = 5)"
   ]
  },
  {
   "cell_type": "markdown",
   "metadata": {},
   "source": [
    "Next, the code in the cell below uses the `predict` method is used to compute the multinomial class probabilities from the scaled features. Execute this code. "
   ]
  },
  {
   "cell_type": "code",
   "execution_count": 6,
   "metadata": {},
   "outputs": [
    {
     "data": {
      "text/html": [
       "<table>\n",
       "<thead><tr><th></th><th scope=col>Sepal.Length</th><th scope=col>Sepal.Width</th><th scope=col>Petal.Length</th><th scope=col>Petal.Width</th><th scope=col>Species</th><th scope=col>probs</th></tr></thead>\n",
       "<tbody>\n",
       "\t<tr><th scope=row>1</th><td>-0.78061890 </td><td> 1.17616289 </td><td>-1.293220   </td><td>-1.287390   </td><td>setosa      </td><td> 0.011800578</td></tr>\n",
       "\t<tr><th scope=row>2</th><td>-1.02263448 </td><td>-0.02352326 </td><td>-1.293220   </td><td>-1.287390   </td><td>setosa      </td><td> 0.011800578</td></tr>\n",
       "\t<tr><th scope=row>4</th><td>-1.38565786 </td><td> 0.21641397 </td><td>-1.238167   </td><td>-1.287390   </td><td>setosa      </td><td> 0.011800578</td></tr>\n",
       "\t<tr><th scope=row>7</th><td>-1.38565786 </td><td> 0.93622566 </td><td>-1.293220   </td><td>-1.157633   </td><td>setosa      </td><td> 0.011800578</td></tr>\n",
       "\t<tr><th scope=row>8</th><td>-0.90162669 </td><td> 0.93622566 </td><td>-1.238167   </td><td>-1.287390   </td><td>setosa      </td><td> 0.011800578</td></tr>\n",
       "\t<tr><th scope=row>12</th><td>-1.14364227 </td><td> 0.93622566 </td><td>-1.183113   </td><td>-1.287390   </td><td>setosa      </td><td> 0.011800578</td></tr>\n",
       "\t<tr><th scope=row>14</th><td>-1.74868124 </td><td>-0.02352326 </td><td>-1.458381   </td><td>-1.417146   </td><td>setosa      </td><td> 0.011800578</td></tr>\n",
       "\t<tr><th scope=row>15</th><td> 0.06643565 </td><td> 2.37584904 </td><td>-1.403328   </td><td>-1.287390   </td><td>setosa      </td><td>-0.003465665</td></tr>\n",
       "\t<tr><th scope=row>16</th><td>-0.05457214 </td><td> 3.33559795 </td><td>-1.238167   </td><td>-1.027876   </td><td>setosa      </td><td>-0.003465665</td></tr>\n",
       "\t<tr><th scope=row>19</th><td>-0.05457214 </td><td> 1.89597458 </td><td>-1.128059   </td><td>-1.157633   </td><td>setosa      </td><td>-0.003465665</td></tr>\n",
       "</tbody>\n",
       "</table>\n"
      ],
      "text/latex": [
       "\\begin{tabular}{r|llllll}\n",
       "  & Sepal.Length & Sepal.Width & Petal.Length & Petal.Width & Species & probs\\\\\n",
       "\\hline\n",
       "\t1 & -0.78061890  &  1.17616289  & -1.293220    & -1.287390    & setosa       &  0.011800578\\\\\n",
       "\t2 & -1.02263448  & -0.02352326  & -1.293220    & -1.287390    & setosa       &  0.011800578\\\\\n",
       "\t4 & -1.38565786  &  0.21641397  & -1.238167    & -1.287390    & setosa       &  0.011800578\\\\\n",
       "\t7 & -1.38565786  &  0.93622566  & -1.293220    & -1.157633    & setosa       &  0.011800578\\\\\n",
       "\t8 & -0.90162669  &  0.93622566  & -1.238167    & -1.287390    & setosa       &  0.011800578\\\\\n",
       "\t12 & -1.14364227  &  0.93622566  & -1.183113    & -1.287390    & setosa       &  0.011800578\\\\\n",
       "\t14 & -1.74868124  & -0.02352326  & -1.458381    & -1.417146    & setosa       &  0.011800578\\\\\n",
       "\t15 &  0.06643565  &  2.37584904  & -1.403328    & -1.287390    & setosa       & -0.003465665\\\\\n",
       "\t16 & -0.05457214  &  3.33559795  & -1.238167    & -1.027876    & setosa       & -0.003465665\\\\\n",
       "\t19 & -0.05457214  &  1.89597458  & -1.128059    & -1.157633    & setosa       & -0.003465665\\\\\n",
       "\\end{tabular}\n"
      ],
      "text/markdown": [
       "\n",
       "| <!--/--> | Sepal.Length | Sepal.Width | Petal.Length | Petal.Width | Species | probs | \n",
       "|---|---|---|---|---|---|---|---|---|---|\n",
       "| 1 | -0.78061890  |  1.17616289  | -1.293220    | -1.287390    | setosa       |  0.011800578 | \n",
       "| 2 | -1.02263448  | -0.02352326  | -1.293220    | -1.287390    | setosa       |  0.011800578 | \n",
       "| 4 | -1.38565786  |  0.21641397  | -1.238167    | -1.287390    | setosa       |  0.011800578 | \n",
       "| 7 | -1.38565786  |  0.93622566  | -1.293220    | -1.157633    | setosa       |  0.011800578 | \n",
       "| 8 | -0.90162669  |  0.93622566  | -1.238167    | -1.287390    | setosa       |  0.011800578 | \n",
       "| 12 | -1.14364227  |  0.93622566  | -1.183113    | -1.287390    | setosa       |  0.011800578 | \n",
       "| 14 | -1.74868124  | -0.02352326  | -1.458381    | -1.417146    | setosa       |  0.011800578 | \n",
       "| 15 |  0.06643565  |  2.37584904  | -1.403328    | -1.287390    | setosa       | -0.003465665 | \n",
       "| 16 | -0.05457214  |  3.33559795  | -1.238167    | -1.027876    | setosa       | -0.003465665 | \n",
       "| 19 | -0.05457214  |  1.89597458  | -1.128059    | -1.157633    | setosa       | -0.003465665 | \n",
       "\n",
       "\n"
      ],
      "text/plain": [
       "   Sepal.Length Sepal.Width Petal.Length Petal.Width Species probs       \n",
       "1  -0.78061890   1.17616289 -1.293220    -1.287390   setosa   0.011800578\n",
       "2  -1.02263448  -0.02352326 -1.293220    -1.287390   setosa   0.011800578\n",
       "4  -1.38565786   0.21641397 -1.238167    -1.287390   setosa   0.011800578\n",
       "7  -1.38565786   0.93622566 -1.293220    -1.157633   setosa   0.011800578\n",
       "8  -0.90162669   0.93622566 -1.238167    -1.287390   setosa   0.011800578\n",
       "12 -1.14364227   0.93622566 -1.183113    -1.287390   setosa   0.011800578\n",
       "14 -1.74868124  -0.02352326 -1.458381    -1.417146   setosa   0.011800578\n",
       "15  0.06643565   2.37584904 -1.403328    -1.287390   setosa  -0.003465665\n",
       "16 -0.05457214   3.33559795 -1.238167    -1.027876   setosa  -0.003465665\n",
       "19 -0.05457214   1.89597458 -1.128059    -1.157633   setosa  -0.003465665"
      ]
     },
     "metadata": {},
     "output_type": "display_data"
    }
   ],
   "source": [
    "test$probs = predict(gbm_mod, newdata = test, n.trees = 5)\n",
    "test[1:10,]"
   ]
  },
  {
   "cell_type": "markdown",
   "metadata": {},
   "source": [
    "You can see the species and multinomial probabilities for the classes, along with the species of the the flower. \n",
    "\n",
    "The code in the cell below uses the R `which.max` function to compute classes from the maximum of the probabilities. Execute this code."
   ]
  },
  {
   "cell_type": "code",
   "execution_count": 7,
   "metadata": {},
   "outputs": [
    {
     "data": {
      "text/html": [
       "<table>\n",
       "<thead><tr><th></th><th scope=col>Sepal.Length</th><th scope=col>Sepal.Width</th><th scope=col>Petal.Length</th><th scope=col>Petal.Width</th><th scope=col>Species</th><th scope=col>probs</th><th scope=col>scores</th></tr></thead>\n",
       "<tbody>\n",
       "\t<tr><th scope=row>1</th><td>-0.78061890 </td><td> 1.17616289 </td><td>-1.293220   </td><td>-1.287390   </td><td>setosa      </td><td> 0.011800578</td><td>sentosa     </td></tr>\n",
       "\t<tr><th scope=row>2</th><td>-1.02263448 </td><td>-0.02352326 </td><td>-1.293220   </td><td>-1.287390   </td><td>setosa      </td><td> 0.011800578</td><td>sentosa     </td></tr>\n",
       "\t<tr><th scope=row>4</th><td>-1.38565786 </td><td> 0.21641397 </td><td>-1.238167   </td><td>-1.287390   </td><td>setosa      </td><td> 0.011800578</td><td>sentosa     </td></tr>\n",
       "\t<tr><th scope=row>7</th><td>-1.38565786 </td><td> 0.93622566 </td><td>-1.293220   </td><td>-1.157633   </td><td>setosa      </td><td> 0.011800578</td><td>sentosa     </td></tr>\n",
       "\t<tr><th scope=row>8</th><td>-0.90162669 </td><td> 0.93622566 </td><td>-1.238167   </td><td>-1.287390   </td><td>setosa      </td><td> 0.011800578</td><td>sentosa     </td></tr>\n",
       "\t<tr><th scope=row>12</th><td>-1.14364227 </td><td> 0.93622566 </td><td>-1.183113   </td><td>-1.287390   </td><td>setosa      </td><td> 0.011800578</td><td>sentosa     </td></tr>\n",
       "\t<tr><th scope=row>14</th><td>-1.74868124 </td><td>-0.02352326 </td><td>-1.458381   </td><td>-1.417146   </td><td>setosa      </td><td> 0.011800578</td><td>sentosa     </td></tr>\n",
       "\t<tr><th scope=row>15</th><td> 0.06643565 </td><td> 2.37584904 </td><td>-1.403328   </td><td>-1.287390   </td><td>setosa      </td><td>-0.003465665</td><td>versicolor  </td></tr>\n",
       "\t<tr><th scope=row>16</th><td>-0.05457214 </td><td> 3.33559795 </td><td>-1.238167   </td><td>-1.027876   </td><td>setosa      </td><td>-0.003465665</td><td>versicolor  </td></tr>\n",
       "\t<tr><th scope=row>19</th><td>-0.05457214 </td><td> 1.89597458 </td><td>-1.128059   </td><td>-1.157633   </td><td>setosa      </td><td>-0.003465665</td><td>versicolor  </td></tr>\n",
       "</tbody>\n",
       "</table>\n"
      ],
      "text/latex": [
       "\\begin{tabular}{r|lllllll}\n",
       "  & Sepal.Length & Sepal.Width & Petal.Length & Petal.Width & Species & probs & scores\\\\\n",
       "\\hline\n",
       "\t1 & -0.78061890  &  1.17616289  & -1.293220    & -1.287390    & setosa       &  0.011800578 & sentosa     \\\\\n",
       "\t2 & -1.02263448  & -0.02352326  & -1.293220    & -1.287390    & setosa       &  0.011800578 & sentosa     \\\\\n",
       "\t4 & -1.38565786  &  0.21641397  & -1.238167    & -1.287390    & setosa       &  0.011800578 & sentosa     \\\\\n",
       "\t7 & -1.38565786  &  0.93622566  & -1.293220    & -1.157633    & setosa       &  0.011800578 & sentosa     \\\\\n",
       "\t8 & -0.90162669  &  0.93622566  & -1.238167    & -1.287390    & setosa       &  0.011800578 & sentosa     \\\\\n",
       "\t12 & -1.14364227  &  0.93622566  & -1.183113    & -1.287390    & setosa       &  0.011800578 & sentosa     \\\\\n",
       "\t14 & -1.74868124  & -0.02352326  & -1.458381    & -1.417146    & setosa       &  0.011800578 & sentosa     \\\\\n",
       "\t15 &  0.06643565  &  2.37584904  & -1.403328    & -1.287390    & setosa       & -0.003465665 & versicolor  \\\\\n",
       "\t16 & -0.05457214  &  3.33559795  & -1.238167    & -1.027876    & setosa       & -0.003465665 & versicolor  \\\\\n",
       "\t19 & -0.05457214  &  1.89597458  & -1.128059    & -1.157633    & setosa       & -0.003465665 & versicolor  \\\\\n",
       "\\end{tabular}\n"
      ],
      "text/markdown": [
       "\n",
       "| <!--/--> | Sepal.Length | Sepal.Width | Petal.Length | Petal.Width | Species | probs | scores | \n",
       "|---|---|---|---|---|---|---|---|---|---|\n",
       "| 1 | -0.78061890  |  1.17616289  | -1.293220    | -1.287390    | setosa       |  0.011800578 | sentosa      | \n",
       "| 2 | -1.02263448  | -0.02352326  | -1.293220    | -1.287390    | setosa       |  0.011800578 | sentosa      | \n",
       "| 4 | -1.38565786  |  0.21641397  | -1.238167    | -1.287390    | setosa       |  0.011800578 | sentosa      | \n",
       "| 7 | -1.38565786  |  0.93622566  | -1.293220    | -1.157633    | setosa       |  0.011800578 | sentosa      | \n",
       "| 8 | -0.90162669  |  0.93622566  | -1.238167    | -1.287390    | setosa       |  0.011800578 | sentosa      | \n",
       "| 12 | -1.14364227  |  0.93622566  | -1.183113    | -1.287390    | setosa       |  0.011800578 | sentosa      | \n",
       "| 14 | -1.74868124  | -0.02352326  | -1.458381    | -1.417146    | setosa       |  0.011800578 | sentosa      | \n",
       "| 15 |  0.06643565  |  2.37584904  | -1.403328    | -1.287390    | setosa       | -0.003465665 | versicolor   | \n",
       "| 16 | -0.05457214  |  3.33559795  | -1.238167    | -1.027876    | setosa       | -0.003465665 | versicolor   | \n",
       "| 19 | -0.05457214  |  1.89597458  | -1.128059    | -1.157633    | setosa       | -0.003465665 | versicolor   | \n",
       "\n",
       "\n"
      ],
      "text/plain": [
       "   Sepal.Length Sepal.Width Petal.Length Petal.Width Species probs       \n",
       "1  -0.78061890   1.17616289 -1.293220    -1.287390   setosa   0.011800578\n",
       "2  -1.02263448  -0.02352326 -1.293220    -1.287390   setosa   0.011800578\n",
       "4  -1.38565786   0.21641397 -1.238167    -1.287390   setosa   0.011800578\n",
       "7  -1.38565786   0.93622566 -1.293220    -1.157633   setosa   0.011800578\n",
       "8  -0.90162669   0.93622566 -1.238167    -1.287390   setosa   0.011800578\n",
       "12 -1.14364227   0.93622566 -1.183113    -1.287390   setosa   0.011800578\n",
       "14 -1.74868124  -0.02352326 -1.458381    -1.417146   setosa   0.011800578\n",
       "15  0.06643565   2.37584904 -1.403328    -1.287390   setosa  -0.003465665\n",
       "16 -0.05457214   3.33559795 -1.238167    -1.027876   setosa  -0.003465665\n",
       "19 -0.05457214   1.89597458 -1.128059    -1.157633   setosa  -0.003465665\n",
       "   scores    \n",
       "1  sentosa   \n",
       "2  sentosa   \n",
       "4  sentosa   \n",
       "7  sentosa   \n",
       "8  sentosa   \n",
       "12 sentosa   \n",
       "14 sentosa   \n",
       "15 versicolor\n",
       "16 versicolor\n",
       "19 versicolor"
      ]
     },
     "metadata": {},
     "output_type": "display_data"
    }
   ],
   "source": [
    "test$scores = apply(test$probs, 1, which.max) # Find the class with the maximum probability\n",
    "test$scores = ifelse(test$scores == 1, 'sentosa', ifelse(test$scores == 2, 'versicolor', 'virginica'))\n",
    "test[1:10,]"
   ]
  },
  {
   "cell_type": "markdown",
   "metadata": {},
   "source": [
    "It is time to evaluate the model results. Keep in mind that the problem has been made deliberately difficult, by having more test cases than training cases. The iris data has three species categories. Therefore it is necessary to use evaluation code for a three category problem. The function in the cell below extends code from previous labs to deal with a three category problem. Execute this code and examine the results."
   ]
  },
  {
   "cell_type": "code",
   "execution_count": 8,
   "metadata": {
    "scrolled": false
   },
   "outputs": [
    {
     "name": "stdout",
     "output_type": "stream",
     "text": [
      "            Predicted\n",
      "Actual       sentosa versicolor virginica\n",
      "  setosa          30          3         0\n",
      "  versicolor       4         20         9\n",
      "  virginica        1          0        32\n",
      "\n",
      "Accuracy =  0.828 \n",
      " \n",
      "          setosa versicolor virginica\n",
      "Precision  0.909      0.606     0.970\n",
      "Recall     0.857      0.870     0.780\n",
      "F1         0.882      0.714     0.865\n"
     ]
    }
   ],
   "source": [
    "print_metrics = function(df, label){\n",
    "    ## Compute and print the confusion matrix\n",
    "    cm = as.matrix(table(Actual = df$Species, Predicted = df$scores))\n",
    "    print(cm)\n",
    "\n",
    "    ## Compute and print accuracy \n",
    "    accuracy = round(sum(sapply(1:nrow(cm), function(i) cm[i,i]))/sum(cm), 3)\n",
    "    cat('\\n')\n",
    "    cat(paste('Accuracy = ', as.character(accuracy)), '\\n \\n')                           \n",
    "\n",
    "    ## Compute and print precision, recall and F1\n",
    "    precision = sapply(1:nrow(cm), function(i) cm[i,i]/sum(cm[i,]))\n",
    "    recall = sapply(1:nrow(cm), function(i) cm[i,i]/sum(cm[,i]))    \n",
    "    F1 = sapply(1:nrow(cm), function(i) 2*(recall[i] * precision[i])/(recall[i] + precision[i]))    \n",
    "    metrics = sapply(c(precision, recall, F1), round, 3)        \n",
    "    metrics = t(matrix(metrics, nrow = nrow(cm), ncol = ncol(cm)))       \n",
    "    dimnames(metrics) = list(c('Precision', 'Recall', 'F1'), unique(test$Species))      \n",
    "    print(metrics)\n",
    "}  \n",
    "print_metrics(test, 'Species')   "
   ]
  },
  {
   "cell_type": "markdown",
   "metadata": {},
   "source": [
    "Examine these results. Notice the following:\n",
    "1. The confusion matrix has dimension 3X3. You can see that most cases are correctly classified, but with a few errors. \n",
    "2. The overall accuracy is 0.83. Since the classes are roughly balanced, this metric indicates relatively good performance of the classifier, particularly since it was only trained on 50 cases. \n",
    "3. The precision, recall and  F1 for each of the classes are reasonable.\n",
    "\n",
    "The above results were computed using an ensemble with only 5 trees. Will more trees in the ensemble help? To find out, execute this code and examine the results. "
   ]
  },
  {
   "cell_type": "code",
   "execution_count": 9,
   "metadata": {},
   "outputs": [
    {
     "name": "stdout",
     "output_type": "stream",
     "text": [
      "            Predicted\n",
      "Actual       sentosa versicolor virginica\n",
      "  setosa          33          0         0\n",
      "  versicolor       2         21        10\n",
      "  virginica        0          1        32\n",
      "\n",
      "Accuracy =  0.869 \n",
      " \n",
      "          setosa versicolor virginica\n",
      "Precision  1.000      0.636     0.970\n",
      "Recall     0.943      0.955     0.762\n",
      "F1         0.971      0.764     0.853\n"
     ]
    }
   ],
   "source": [
    "set.seed(8899)\n",
    "gbm_mod = gbm(Species ~ ., data = training, distribution = \"multinomial\", n.trees = 100)\n",
    "test$probs = predict(gbm_mod, newdata = test, n.trees = 100)\n",
    "test$scores = apply(test$probs, 1, which.max) # Find the class with the maximum probability\n",
    "test$scores = ifelse(test$scores == 1, 'sentosa', ifelse(test$scores == 2, 'versicolor', 'virginica'))\n",
    "print_metrics(test, 'Species')  "
   ]
  },
  {
   "cell_type": "markdown",
   "metadata": {},
   "source": [
    "These metrics show a small improvement. Using more trees in the ensemble has resulted in a better model. \n",
    "\n",
    "How important are each of the features for this model? The R Caret package provides the capability to find out. As a first step, `gbm` models must be trained using the the Caret `train` function. The code in the cell below does this, using the default model arguments. The default arguments for the model are specified with the `tuneGrid` argument of `train`. Execute the code."
   ]
  },
  {
   "cell_type": "code",
   "execution_count": 10,
   "metadata": {
    "scrolled": false
   },
   "outputs": [],
   "source": [
    "gbm_mod_train = train(Species ~ ., data = training, method = \"gbm\", verbose = FALSE,\n",
    "            distribution = \"multinomial\", trControl=trainControl(number=100),\n",
    "            tuneGrid=expand.grid(n.trees = 100,\n",
    "                                 interaction.depth = 1, \n",
    "                                 n.minobsinnode = 10, \n",
    "                                 shrinkage = 0.001))"
   ]
  },
  {
   "cell_type": "markdown",
   "metadata": {},
   "source": [
    "With the Caret model object trained, the feature importance can be computed and displayed. Execute this code and examine the results. "
   ]
  },
  {
   "cell_type": "code",
   "execution_count": 11,
   "metadata": {},
   "outputs": [
    {
     "data": {},
     "metadata": {},
     "output_type": "display_data"
    },
    {
     "data": {
      "image/png": "[encoded data removed]",
      "text/plain": [
       "plot without title"
      ]
     },
     "metadata": {},
     "output_type": "display_data"
    }
   ],
   "source": [
    "options(repr.plot.width=4, repr.plot.height=3)\n",
    "imp = varImp(gbm_mod_train, scale = FALSE)$importance\n",
    "imp[,'Feature'] = row.names(imp)\n",
    "ggplot(imp, aes(x = Feature, y = Overall)) + geom_point(size = 4) +\n",
    "       ggtitle('Variable importance for iris features')"
   ]
  },
  {
   "cell_type": "markdown",
   "metadata": {},
   "source": [
    "Observe the following:\n",
    "1. Petal length is the most importance feature.\n",
    "2. Sepal width is the least important feature. \n",
    "\n",
    "The question now is, if a model with a reduced feature set will be an improvement. Execute the code in the cell below which creates a model using three of the four features:"
   ]
  },
  {
   "cell_type": "code",
   "execution_count": 12,
   "metadata": {},
   "outputs": [
    {
     "name": "stdout",
     "output_type": "stream",
     "text": [
      "            Predicted\n",
      "Actual       sentosa versicolor virginica\n",
      "  setosa          33          0         0\n",
      "  versicolor       2         24         7\n",
      "  virginica        0          1        32\n",
      "\n",
      "Accuracy =  0.899 \n",
      " \n",
      "          setosa versicolor virginica\n",
      "Precision  1.000      0.727     0.970\n",
      "Recall     0.943      0.960     0.821\n",
      "F1         0.971      0.828     0.889\n"
     ]
    }
   ],
   "source": [
    "set.seed(8899)\n",
    "gbm_mod = gbm(Species ~ Petal.Length + Petal.Width + Sepal.Length, \n",
    "              data = training, distribution = \"multinomial\", n.trees = 100)\n",
    "test$probs = predict(gbm_mod, newdata = test, n.trees = 100)\n",
    "test$scores = apply(test$probs, 1, which.max) # Find the class with the maximum probability\n",
    "test$scores = ifelse(test$scores == 1, 'sentosa', ifelse(test$scores == 2, 'versicolor', 'virginica'))\n",
    "print_metrics(test, 'Species')  "
   ]
  },
  {
   "cell_type": "markdown",
   "metadata": {},
   "source": [
    "The model with reduced feature set has slightly improved metrics. Overall, this model is preferred since it is more likely to generalize. \n",
    "\n",
    "The code in the cell below plots the classes of the iris flower along with the classification errors shown by shape. Execute this code and examine the results.  "
   ]
  },
  {
   "cell_type": "code",
   "execution_count": 13,
   "metadata": {
    "scrolled": false
   },
   "outputs": [
    {
     "data": {
      "image/png": "[encoded data removed]",
      "text/plain": [
       "plot without title"
      ]
     },
     "metadata": {},
     "output_type": "display_data"
    }
   ],
   "source": [
    "## Create column of correct-incorrect classification\n",
    "test$correct = ifelse(test$Species == test$scores, 'correct', 'incorrect')\n",
    "\n",
    "single_plot_classes = function(df, colx, coly){\n",
    "    ggplot(df, aes_string(colx,coly)) +\n",
    "          geom_point(aes(color = factor(df$Species), shape = correct), alpha = 0.4)\n",
    "}\n",
    "\n",
    "plot_iris_classes = function(df){\n",
    "    options(repr.plot.width=8, repr.plot.height=5)\n",
    "    grid.arrange(\n",
    "        single_plot_classes(df, 'Sepal.Length', 'Sepal.Width'),\n",
    "        single_plot_classes(df, 'Sepal.Length', 'Petal.Length'),\n",
    "        single_plot_classes(df, 'Petal.Length', 'Petal.Width'),\n",
    "        single_plot_classes(df, 'Sepal.Width', 'Petal.Length'),\n",
    "        nrow = 2)\n",
    "}\n",
    "\n",
    "plot_iris_classes(test)"
   ]
  },
  {
   "cell_type": "markdown",
   "metadata": {},
   "source": [
    "Examine these plots. You can see how the classifier has divided the feature space between the classes. Notice that most of the errors occur in the overlap region between Virginica and Versicolor. This behavior is to be expected.  "
   ]
  },
  {
   "cell_type": "markdown",
   "metadata": {},
   "source": [
    "## Another example\n",
    "\n",
    "Now, you will try a more complex example using the credit scoring data. You will use the prepared data which has been prepared by removing duplicate cases. Some columns which are know not to be predictive are removed. Execute the code in the cell below to load the dataset for the example. "
   ]
  },
  {
   "cell_type": "code",
   "execution_count": 14,
   "metadata": {},
   "outputs": [
    {
     "name": "stdout",
     "output_type": "stream",
     "text": [
      "[1] 999  16\n"
     ]
    },
    {
     "data": {
      "text/html": [
       "<ol class=list-inline>\n",
       "\t<li>'checking_account_status'</li>\n",
       "\t<li>'loan_duration_mo'</li>\n",
       "\t<li>'credit_history'</li>\n",
       "\t<li>'loan_amount'</li>\n",
       "\t<li>'savings_account_balance'</li>\n",
       "\t<li>'time_employed_yrs'</li>\n",
       "\t<li>'payment_pcnt_income'</li>\n",
       "\t<li>'time_in_residence'</li>\n",
       "\t<li>'property'</li>\n",
       "\t<li>'age_yrs'</li>\n",
       "\t<li>'other_credit_outstanding'</li>\n",
       "\t<li>'number_loans'</li>\n",
       "\t<li>'job_category'</li>\n",
       "\t<li>'dependents'</li>\n",
       "\t<li>'telephone'</li>\n",
       "\t<li>'bad_credit'</li>\n",
       "</ol>\n"
      ],
      "text/latex": [
       "\\begin{enumerate*}\n",
       "\\item 'checking\\_account\\_status'\n",
       "\\item 'loan\\_duration\\_mo'\n",
       "\\item 'credit\\_history'\n",
       "\\item 'loan\\_amount'\n",
       "\\item 'savings\\_account\\_balance'\n",
       "\\item 'time\\_employed\\_yrs'\n",
       "\\item 'payment\\_pcnt\\_income'\n",
       "\\item 'time\\_in\\_residence'\n",
       "\\item 'property'\n",
       "\\item 'age\\_yrs'\n",
       "\\item 'other\\_credit\\_outstanding'\n",
       "\\item 'number\\_loans'\n",
       "\\item 'job\\_category'\n",
       "\\item 'dependents'\n",
       "\\item 'telephone'\n",
       "\\item 'bad\\_credit'\n",
       "\\end{enumerate*}\n"
      ],
      "text/markdown": [
       "1. 'checking_account_status'\n",
       "2. 'loan_duration_mo'\n",
       "3. 'credit_history'\n",
       "4. 'loan_amount'\n",
       "5. 'savings_account_balance'\n",
       "6. 'time_employed_yrs'\n",
       "7. 'payment_pcnt_income'\n",
       "8. 'time_in_residence'\n",
       "9. 'property'\n",
       "10. 'age_yrs'\n",
       "11. 'other_credit_outstanding'\n",
       "12. 'number_loans'\n",
       "13. 'job_category'\n",
       "14. 'dependents'\n",
       "15. 'telephone'\n",
       "16. 'bad_credit'\n",
       "\n",
       "\n"
      ],
      "text/plain": [
       " [1] \"checking_account_status\"  \"loan_duration_mo\"        \n",
       " [3] \"credit_history\"           \"loan_amount\"             \n",
       " [5] \"savings_account_balance\"  \"time_employed_yrs\"       \n",
       " [7] \"payment_pcnt_income\"      \"time_in_residence\"       \n",
       " [9] \"property\"                 \"age_yrs\"                 \n",
       "[11] \"other_credit_outstanding\" \"number_loans\"            \n",
       "[13] \"job_category\"             \"dependents\"              \n",
       "[15] \"telephone\"                \"bad_credit\"              "
      ]
     },
     "metadata": {},
     "output_type": "display_data"
    }
   ],
   "source": [
    "credit = read.csv('German_Credit_Preped.csv', header = TRUE)\n",
    "## Subset the data frame\n",
    "credit = credit[,c('checking_account_status', 'loan_duration_mo', 'credit_history', 'loan_amount', 'savings_account_balance',\n",
    "                   'time_employed_yrs', 'payment_pcnt_income', 'time_in_residence', 'property', 'age_yrs',\n",
    "                   'other_credit_outstanding', 'number_loans', 'job_category', 'dependents', 'telephone', 'bad_credit' )]\n",
    "print(dim(credit))\n",
    "names(credit)"
   ]
  },
  {
   "cell_type": "markdown",
   "metadata": {},
   "source": [
    "Cross validation will be used to train the model. Since folds will be selected from the entire dataset the numeric features are scaled in batch. Execute the code in the cell below to accomplish this: "
   ]
  },
  {
   "cell_type": "code",
   "execution_count": 15,
   "metadata": {},
   "outputs": [
    {
     "data": {
      "text/html": [
       "<table>\n",
       "<thead><tr><th scope=col>loan_duration_mo</th><th scope=col>loan_amount</th><th scope=col>payment_pcnt_income</th><th scope=col>time_in_residence</th><th scope=col>age_yrs</th><th scope=col>number_loans</th><th scope=col>dependents</th></tr></thead>\n",
       "<tbody>\n",
       "\t<tr><td> 2.2464282 </td><td> 0.9483849 </td><td>-0.86876113</td><td>-0.7645835 </td><td>-1.19202026</td><td>-0.7035652 </td><td>-0.4283287 </td></tr>\n",
       "\t<tr><td>-0.7397312 </td><td>-0.4170067 </td><td>-0.86876113</td><td> 0.1414888 </td><td> 1.18945982</td><td>-0.7035652 </td><td> 2.3323187 </td></tr>\n",
       "\t<tr><td> 1.7487350 </td><td> 1.6323204 </td><td>-0.86876113</td><td> 1.0475610 </td><td> 0.83664795</td><td>-0.7035652 </td><td> 2.3323187 </td></tr>\n",
       "\t<tr><td> 0.2556552 </td><td> 0.5655086 </td><td> 0.02505181</td><td> 1.0475610 </td><td> 1.54227168</td><td> 1.0276211 </td><td> 2.3323187 </td></tr>\n",
       "\t<tr><td> 1.2510417 </td><td> 2.0477820 </td><td>-0.86876113</td><td> 1.0475610 </td><td>-0.04538171</td><td>-0.7035652 </td><td> 2.3323187 </td></tr>\n",
       "\t<tr><td> 0.2556552 </td><td>-0.1552623 </td><td> 0.02505181</td><td> 1.0475610 </td><td> 1.54227168</td><td>-0.7035652 </td><td>-0.4283287 </td></tr>\n",
       "</tbody>\n",
       "</table>\n"
      ],
      "text/latex": [
       "\\begin{tabular}{r|lllllll}\n",
       " loan\\_duration\\_mo & loan\\_amount & payment\\_pcnt\\_income & time\\_in\\_residence & age\\_yrs & number\\_loans & dependents\\\\\n",
       "\\hline\n",
       "\t  2.2464282  &  0.9483849  & -0.86876113 & -0.7645835  & -1.19202026 & -0.7035652  & -0.4283287 \\\\\n",
       "\t -0.7397312  & -0.4170067  & -0.86876113 &  0.1414888  &  1.18945982 & -0.7035652  &  2.3323187 \\\\\n",
       "\t  1.7487350  &  1.6323204  & -0.86876113 &  1.0475610  &  0.83664795 & -0.7035652  &  2.3323187 \\\\\n",
       "\t  0.2556552  &  0.5655086  &  0.02505181 &  1.0475610  &  1.54227168 &  1.0276211  &  2.3323187 \\\\\n",
       "\t  1.2510417  &  2.0477820  & -0.86876113 &  1.0475610  & -0.04538171 & -0.7035652  &  2.3323187 \\\\\n",
       "\t  0.2556552  & -0.1552623  &  0.02505181 &  1.0475610  &  1.54227168 & -0.7035652  & -0.4283287 \\\\\n",
       "\\end{tabular}\n"
      ],
      "text/markdown": [
       "\n",
       "loan_duration_mo | loan_amount | payment_pcnt_income | time_in_residence | age_yrs | number_loans | dependents | \n",
       "|---|---|---|---|---|---|\n",
       "|  2.2464282  |  0.9483849  | -0.86876113 | -0.7645835  | -1.19202026 | -0.7035652  | -0.4283287  | \n",
       "| -0.7397312  | -0.4170067  | -0.86876113 |  0.1414888  |  1.18945982 | -0.7035652  |  2.3323187  | \n",
       "|  1.7487350  |  1.6323204  | -0.86876113 |  1.0475610  |  0.83664795 | -0.7035652  |  2.3323187  | \n",
       "|  0.2556552  |  0.5655086  |  0.02505181 |  1.0475610  |  1.54227168 |  1.0276211  |  2.3323187  | \n",
       "|  1.2510417  |  2.0477820  | -0.86876113 |  1.0475610  | -0.04538171 | -0.7035652  |  2.3323187  | \n",
       "|  0.2556552  | -0.1552623  |  0.02505181 |  1.0475610  |  1.54227168 | -0.7035652  | -0.4283287  | \n",
       "\n",
       "\n"
      ],
      "text/plain": [
       "  loan_duration_mo loan_amount payment_pcnt_income time_in_residence\n",
       "1  2.2464282        0.9483849  -0.86876113         -0.7645835       \n",
       "2 -0.7397312       -0.4170067  -0.86876113          0.1414888       \n",
       "3  1.7487350        1.6323204  -0.86876113          1.0475610       \n",
       "4  0.2556552        0.5655086   0.02505181          1.0475610       \n",
       "5  1.2510417        2.0477820  -0.86876113          1.0475610       \n",
       "6  0.2556552       -0.1552623   0.02505181          1.0475610       \n",
       "  age_yrs     number_loans dependents\n",
       "1 -1.19202026 -0.7035652   -0.4283287\n",
       "2  1.18945982 -0.7035652    2.3323187\n",
       "3  0.83664795 -0.7035652    2.3323187\n",
       "4  1.54227168  1.0276211    2.3323187\n",
       "5 -0.04538171 -0.7035652    2.3323187\n",
       "6  1.54227168 -0.7035652   -0.4283287"
      ]
     },
     "metadata": {},
     "output_type": "display_data"
    }
   ],
   "source": [
    "num_cols = c('loan_duration_mo', 'loan_amount', 'payment_pcnt_income',\n",
    "             'time_in_residence', 'age_yrs', 'number_loans', 'dependents')\n",
    "\n",
    "preProcValues <- preProcess(credit[,num_cols], method = c(\"center\", \"scale\"))\n",
    "credit[,num_cols] = predict(preProcValues, credit[,num_cols])\n",
    "head(credit[,num_cols])"
   ]
  },
  {
   "cell_type": "markdown",
   "metadata": {},
   "source": [
    "The R Caret package computes most performance metrics using the positive cases. For example, recall is a measure of correct classification of positive cases. Therefore, it is important to have the coding of the label correct. The code in the cell below creates a factor (categorical) variable and coerces the levels of the label column, `bad_credit`. Execute this code. "
   ]
  },
  {
   "cell_type": "code",
   "execution_count": 16,
   "metadata": {},
   "outputs": [
    {
     "data": {
      "text/html": [
       "<ol class=list-inline>\n",
       "\t<li>bad</li>\n",
       "\t<li>good</li>\n",
       "\t<li>good</li>\n",
       "\t<li>bad</li>\n",
       "\t<li>good</li>\n",
       "</ol>\n",
       "\n",
       "<details>\n",
       "\t<summary style=display:list-item;cursor:pointer>\n",
       "\t\t<strong>Levels</strong>:\n",
       "\t</summary>\n",
       "\t<ol class=list-inline>\n",
       "\t\t<li>'bad'</li>\n",
       "\t\t<li>'good'</li>\n",
       "\t</ol>\n",
       "</details>"
      ],
      "text/latex": [
       "\\begin{enumerate*}\n",
       "\\item bad\n",
       "\\item good\n",
       "\\item good\n",
       "\\item bad\n",
       "\\item good\n",
       "\\end{enumerate*}\n",
       "\n",
       "\\emph{Levels}: \\begin{enumerate*}\n",
       "\\item 'bad'\n",
       "\\item 'good'\n",
       "\\end{enumerate*}\n"
      ],
      "text/markdown": [
       "1. bad\n",
       "2. good\n",
       "3. good\n",
       "4. bad\n",
       "5. good\n",
       "\n",
       "\n",
       "\n",
       "**Levels**: 1. 'bad'\n",
       "2. 'good'\n",
       "\n",
       "\n"
      ],
      "text/plain": [
       "[1] bad  good good bad  good\n",
       "Levels: bad good"
      ]
     },
     "metadata": {},
     "output_type": "display_data"
    }
   ],
   "source": [
    "credit$bad_credit <- ifelse(credit$bad_credit == 0, 'good', 'bad')\n",
    "credit$bad_credit <- factor(credit$bad_credit, levels = c(\"bad\", \"good\"))\n",
    "credit$bad_credit[1:5]"
   ]
  },
  {
   "cell_type": "markdown",
   "metadata": {},
   "source": [
    "In the results above you can see the new coding of the label column along with the levels, {'bad', 'good'}. \n",
    "\n",
    "As the inner loop of a nested cross validation, the code in the cell below uses the capability of the R Caret package to estimate the best hyperparameters using 5 fold cross validation. This first cross validation is performed using ROC as the metric. There are a few points to note here:\n",
    "1. A Caret `trainControl` object is used to define the 5 fold cross validation. The `twoClassSummary` function is specified, making ROC the metric for hyperparameter optimization. The `gbm` model does not accommodate case weights. To compensate for the class imbalance **up-sampling** or **over-sampling** is used. Up-sampling over-samples the minority case so that the number of classes in each training fold is balanced. \n",
    "2. The model is trained using all features as can be seen from the model formula in the Caret `train` function. \n",
    "3. `ROC` is specified as a `metric` in the call to `train`. \n",
    "4. Weights are specified to help with the class imbalance and the cost imbalance of misclassification of bad credit customers. \n",
    "5. The `train` function uses a `tuneGrid` argument to define the hyperparameters to search. \n",
    "\n",
    "Execute this code, examine the result, and answer **Question 3** on the course page."
   ]
  },
  {
   "cell_type": "code",
   "execution_count": 20,
   "metadata": {},
   "outputs": [
    {
     "name": "stdout",
     "output_type": "stream",
     "text": [
      "Stochastic Gradient Boosting \n",
      "\n",
      "999 samples\n",
      " 15 predictor\n",
      "  2 classes: 'bad', 'good' \n",
      "\n",
      "No pre-processing\n",
      "Resampling: Cross-Validated (5 fold) \n",
      "Summary of sample sizes: 800, 799, 799, 799, 799 \n",
      "Addtional sampling using up-sampling\n",
      "\n",
      "Resampling results across tuning parameters:\n",
      "\n",
      "  interaction.depth  n.trees  ROC        Sens       Spec     \n",
      "  1                   50      0.7598075  0.7766667  0.6480884\n",
      "  1                  100      0.7688263  0.7366667  0.6867215\n",
      "  1                  150      0.7724317  0.7366667  0.6981603\n",
      "  2                   50      0.7813423  0.7533333  0.6867420\n",
      "  2                  100      0.7899044  0.7400000  0.7253957\n",
      "  2                  150      0.7888662  0.7100000  0.7282117\n",
      "  3                   50      0.7700423  0.7166667  0.6910483\n",
      "  3                  100      0.7782532  0.6966667  0.7210483\n",
      "  3                  150      0.7723652  0.6666667  0.7296197\n",
      "\n",
      "Tuning parameter 'shrinkage' was held constant at a value of 0.1\n",
      "\n",
      "Tuning parameter 'n.minobsinnode' was held constant at a value of 10\n",
      "ROC was used to select the optimal model using the largest value.\n",
      "The final values used for the model were n.trees = 100, interaction.depth =\n",
      " 2, shrinkage = 0.1 and n.minobsinnode = 10.\n"
     ]
    }
   ],
   "source": [
    "fitControl <- trainControl(method = \"cv\",\n",
    "                           number = 5,\n",
    "                           sampling = 'up',\n",
    "                           returnResamp=\"all\",\n",
    "                           savePredictions = TRUE,\n",
    "                           classProbs = TRUE,\n",
    "                           summaryFunction = twoClassSummary)\n",
    "\n",
    "set.seed(1234)\n",
    "bb_fit_inside_tw <- train(bad_credit ~ ., \n",
    "                          data = credit,  \n",
    "                          method = \"gbm\", # Gradient boosted tree model\n",
    "                          trControl = fitControl, \n",
    "                          verbose = FALSE,\n",
    "                          metric=\"ROC\")\n",
    "print(bb_fit_inside_tw)"
   ]
  },
  {
   "cell_type": "markdown",
   "metadata": {},
   "source": [
    "The grid of hyperpameters searched by the Caret package are `interaction.depth` and `n.trees`. The grid along with the ROC metric is shown in the printed table. Notice that `shrinkage` and `n.minobsinnode` can be added to the tuning grid. \n",
    "\n",
    "The hyperparameter optimization can also be performed using Recall as a metric. The code in the cell below uses the `prSummary` function for the `summaryFunction` argument for `trainControl` and sets the `metric` as `Recall`. Execute this call and examine the results.  "
   ]
  },
  {
   "cell_type": "code",
   "execution_count": 21,
   "metadata": {},
   "outputs": [
    {
     "name": "stdout",
     "output_type": "stream",
     "text": [
      "Stochastic Gradient Boosting \n",
      "\n",
      "999 samples\n",
      " 15 predictor\n",
      "  2 classes: 'bad', 'good' \n",
      "\n",
      "No pre-processing\n",
      "Resampling: Cross-Validated (5 fold) \n",
      "Summary of sample sizes: 799, 800, 799, 799, 799 \n",
      "Addtional sampling using up-sampling\n",
      "\n",
      "Resampling results across tuning parameters:\n",
      "\n",
      "  interaction.depth  n.trees  AUC        Precision  Recall     F        \n",
      "  1                   50      0.5248686  0.4742296  0.7400000  0.5767493\n",
      "  1                  100      0.5416757  0.4968842  0.7266667  0.5892875\n",
      "  1                  150      0.5446054  0.5080657  0.7166667  0.5937420\n",
      "  2                   50      0.5506018  0.4875634  0.7366667  0.5865196\n",
      "  2                  100      0.5611490  0.4945322  0.7000000  0.5793621\n",
      "  2                  150      0.5701897  0.5071274  0.6900000  0.5841817\n",
      "  3                   50      0.5540096  0.4979392  0.6966667  0.5806183\n",
      "  3                  100      0.5652367  0.5162337  0.6766667  0.5853134\n",
      "  3                  150      0.5488991  0.5229012  0.6666667  0.5855244\n",
      "\n",
      "Tuning parameter 'shrinkage' was held constant at a value of 0.1\n",
      "\n",
      "Tuning parameter 'n.minobsinnode' was held constant at a value of 10\n",
      "Recall was used to select the optimal model using the largest value.\n",
      "The final values used for the model were n.trees = 50, interaction.depth =\n",
      " 1, shrinkage = 0.1 and n.minobsinnode = 10.\n"
     ]
    }
   ],
   "source": [
    "fitControl <- trainControl(method = \"cv\",\n",
    "                           number = 5,\n",
    "                           sampling = 'up',\n",
    "                           returnResamp=\"all\",\n",
    "                           savePredictions = TRUE,\n",
    "                           classProbs = TRUE,\n",
    "                           summaryFunction = prSummary)\n",
    "\n",
    "set.seed(15534)\n",
    "bb_fit_inside_pr <- train(bad_credit ~ ., \n",
    "                          data = credit,  \n",
    "                          method = \"gbm\", # Gradient boosted tree model\n",
    "                          trControl = fitControl, \n",
    "                          verbose = FALSE,\n",
    "                          metric=\"Recall\")\n",
    "print(bb_fit_inside_pr)"
   ]
  },
  {
   "cell_type": "markdown",
   "metadata": {},
   "source": [
    "These results are rather poor. The AUC is barely above 0.5. It is best to stay with the model trained on ROC. \n",
    "\n",
    "Given the optimal hyperparameters for the model trained with ROC, which features are the most important? The code in the cell below computes and displays feature importance using the Caret `varImp` function. Execute this code and examine the results. "
   ]
  },
  {
   "cell_type": "code",
   "execution_count": 22,
   "metadata": {},
   "outputs": [
    {
     "name": "stdout",
     "output_type": "stream",
     "text": [
      "gbm variable importance\n",
      "\n",
      "  only 20 most important variables shown (out of 31)\n",
      "\n",
      "                                                      Overall\n",
      "checking_account_statusnone                           100.000\n",
      "loan_amount                                            59.045\n",
      "loan_duration_mo                                       50.815\n",
      "age_yrs                                                27.340\n",
      "savings_account_balanceunknown/none                    18.463\n",
      "other_credit_outstandingnone                           17.401\n",
      "credit_historycritical account - other non-bank loans  16.813\n",
      "payment_pcnt_income                                    12.599\n",
      "propertyreal estate                                    11.744\n",
      "time_employed_yrs4 - 7 years                           11.601\n",
      "savings_account_balance>= 1000 DM                       8.956\n",
      "time_in_residence                                       8.181\n",
      "checking_account_status> 200 DM or salary assignment    6.929\n",
      "credit_historyno credit - paid                          5.855\n",
      "telephoneyes                                            4.918\n",
      "checking_account_status0 - 200 DM                       3.395\n",
      "credit_historycurrent loans paid                        2.929\n",
      "propertyunknown-none                                    2.592\n",
      "propertycar or other                                    2.591\n",
      "time_employed_yrs>= 7 years                             1.932\n"
     ]
    },
    {
     "data": {},
     "metadata": {},
     "output_type": "display_data"
    },
    {
     "data": {
      "image/png": "[encoded data removed]",
      "text/plain": [
       "plot without title"
      ]
     },
     "metadata": {},
     "output_type": "display_data"
    }
   ],
   "source": [
    "options(repr.plot.width=8, repr.plot.height=6)\n",
    "var_imp = varImp(bb_fit_inside_tw)\n",
    "print(var_imp)\n",
    "plot(var_imp)"
   ]
  },
  {
   "cell_type": "markdown",
   "metadata": {},
   "source": [
    "In is clear that some of the features are not important to model performance. Execute the code in the cell below to prune the feature set using the dplyr `select` function:"
   ]
  },
  {
   "cell_type": "code",
   "execution_count": 24,
   "metadata": {},
   "outputs": [],
   "source": [
    "credit_reduced = select(credit, -dependents, -time_employed_yrs, -job_category, -other_credit_outstanding)"
   ]
  },
  {
   "cell_type": "markdown",
   "metadata": {},
   "source": [
    "Execute the code in the cell below to perform the cross validation grid search using the reduced feature set: "
   ]
  },
  {
   "cell_type": "code",
   "execution_count": 27,
   "metadata": {},
   "outputs": [
    {
     "name": "stdout",
     "output_type": "stream",
     "text": [
      "Stochastic Gradient Boosting \n",
      "\n",
      "999 samples\n",
      " 11 predictor\n",
      "  2 classes: 'bad', 'good' \n",
      "\n",
      "No pre-processing\n",
      "Resampling: Cross-Validated (5 fold) \n",
      "Summary of sample sizes: 799, 800, 799, 799, 799 \n",
      "Addtional sampling using up-sampling\n",
      "\n",
      "Resampling results across tuning parameters:\n",
      "\n",
      "  interaction.depth  n.trees  ROC        Sens       Spec     \n",
      "  1                   50      0.7575788  0.7700000  0.6380473\n",
      "  1                  100      0.7656489  0.7200000  0.7109866\n",
      "  1                  150      0.7671862  0.7133333  0.7281501\n",
      "  2                   50      0.7640087  0.7333333  0.6795170\n",
      "  2                  100      0.7673934  0.7100000  0.7124255\n",
      "  2                  150      0.7670283  0.6666667  0.7310586\n",
      "  3                   50      0.7703916  0.7100000  0.7195992\n",
      "  3                  100      0.7725947  0.6800000  0.7353237\n",
      "  3                  150      0.7665146  0.6600000  0.7353443\n",
      "\n",
      "Tuning parameter 'shrinkage' was held constant at a value of 0.1\n",
      "\n",
      "Tuning parameter 'n.minobsinnode' was held constant at a value of 10\n",
      "ROC was used to select the optimal model using the largest value.\n",
      "The final values used for the model were n.trees = 100, interaction.depth =\n",
      " 3, shrinkage = 0.1 and n.minobsinnode = 10.\n"
     ]
    }
   ],
   "source": [
    "fitControl <- trainControl(method = \"cv\",\n",
    "                           number = 5,\n",
    "                           sampling = 'up',\n",
    "                           returnResamp=\"all\",\n",
    "                           savePredictions = TRUE,\n",
    "                           classProbs = TRUE,\n",
    "                           summaryFunction = twoClassSummary)\n",
    "\n",
    "set.seed(4321)\n",
    "bb_fit_inside_tw <- train(bad_credit ~ ., \n",
    "                          data = credit_reduced,  \n",
    "                          method = \"gbm\", # Gradient boosted tree model\n",
    "                          trControl = fitControl, \n",
    "                          verbose = FALSE,\n",
    "                          metric=\"ROC\")\n",
    "print(bb_fit_inside_tw)"
   ]
  },
  {
   "cell_type": "markdown",
   "metadata": {},
   "source": [
    "The results of the cross validation grid search with the reduced feature set are nearly the same as the first result. Evidentially, pruning these features was the correct step. This process can be continued, but will not be in this lab in the interest of reducing length. \n",
    "\n",
    "To better understand the parameter sweep, execute the code in the cell below to create a chart."
   ]
  },
  {
   "cell_type": "code",
   "execution_count": 29,
   "metadata": {},
   "outputs": [
    {
     "data": {},
     "metadata": {},
     "output_type": "display_data"
    },
    {
     "data": {
      "image/png": "[encoded data removed]",
      "text/plain": [
       "plot without title"
      ]
     },
     "metadata": {},
     "output_type": "display_data"
    }
   ],
   "source": [
    "options(repr.plot.width=5, repr.plot.height=4)\n",
    "trellis.par.set(caretTheme())\n",
    "plot(bb_fit_inside_tw)  "
   ]
  },
  {
   "cell_type": "markdown",
   "metadata": {},
   "source": [
    "Examine these results. The ROC is in a narrow range, but there are clear differences for the various . \n",
    "hyperpareter choices.\n",
    "\n",
    "Finally, to verify that the model will generalize well it is time to perform the outside CV loop. The code in the cell below defines a parameter grid with just the optimal hyperparameter values. The CV then repeatedly fits the model with this single hyperparameter. Execute this code and examine the result."
   ]
  },
  {
   "cell_type": "code",
   "execution_count": 35,
   "metadata": {},
   "outputs": [
    {
     "data": {
      "text/html": [
       "<table>\n",
       "<thead><tr><th scope=col>ROC</th><th scope=col>Sens</th><th scope=col>Spec</th><th scope=col>n.trees</th><th scope=col>interaction.depth</th><th scope=col>shrinkage</th><th scope=col>n.minobsinnode</th><th scope=col>Resample</th></tr></thead>\n",
       "<tbody>\n",
       "\t<tr><td>0.766</td><td>0.717</td><td>0.736</td><td>100  </td><td>3    </td><td>0.1  </td><td>10   </td><td>Fold1</td></tr>\n",
       "\t<tr><td>0.777</td><td>0.667</td><td>0.721</td><td>100  </td><td>3    </td><td>0.1  </td><td>10   </td><td>Fold2</td></tr>\n",
       "\t<tr><td>0.765</td><td>0.683</td><td>0.736</td><td>100  </td><td>3    </td><td>0.1  </td><td>10   </td><td>Fold3</td></tr>\n",
       "\t<tr><td>0.741</td><td>0.633</td><td>0.700</td><td>100  </td><td>3    </td><td>0.1  </td><td>10   </td><td>Fold4</td></tr>\n",
       "\t<tr><td>0.759</td><td>0.650</td><td>0.727</td><td>100  </td><td>3    </td><td>0.1  </td><td>10   </td><td>Fold5</td></tr>\n",
       "\t<tr><td>0.761</td><td>0.670</td><td>0.724</td><td>100  </td><td>3    </td><td>0.1  </td><td>10   </td><td>Mean </td></tr>\n",
       "\t<tr><td>0.013</td><td>0.032</td><td>0.015</td><td>100  </td><td>3    </td><td>0.1  </td><td>10   </td><td>STD  </td></tr>\n",
       "</tbody>\n",
       "</table>\n"
      ],
      "text/latex": [
       "\\begin{tabular}{r|llllllll}\n",
       " ROC & Sens & Spec & n.trees & interaction.depth & shrinkage & n.minobsinnode & Resample\\\\\n",
       "\\hline\n",
       "\t 0.766 & 0.717 & 0.736 & 100   & 3     & 0.1   & 10    & Fold1\\\\\n",
       "\t 0.777 & 0.667 & 0.721 & 100   & 3     & 0.1   & 10    & Fold2\\\\\n",
       "\t 0.765 & 0.683 & 0.736 & 100   & 3     & 0.1   & 10    & Fold3\\\\\n",
       "\t 0.741 & 0.633 & 0.700 & 100   & 3     & 0.1   & 10    & Fold4\\\\\n",
       "\t 0.759 & 0.650 & 0.727 & 100   & 3     & 0.1   & 10    & Fold5\\\\\n",
       "\t 0.761 & 0.670 & 0.724 & 100   & 3     & 0.1   & 10    & Mean \\\\\n",
       "\t 0.013 & 0.032 & 0.015 & 100   & 3     & 0.1   & 10    & STD  \\\\\n",
       "\\end{tabular}\n"
      ],
      "text/markdown": [
       "\n",
       "ROC | Sens | Spec | n.trees | interaction.depth | shrinkage | n.minobsinnode | Resample | \n",
       "|---|---|---|---|---|---|---|\n",
       "| 0.766 | 0.717 | 0.736 | 100   | 3     | 0.1   | 10    | Fold1 | \n",
       "| 0.777 | 0.667 | 0.721 | 100   | 3     | 0.1   | 10    | Fold2 | \n",
       "| 0.765 | 0.683 | 0.736 | 100   | 3     | 0.1   | 10    | Fold3 | \n",
       "| 0.741 | 0.633 | 0.700 | 100   | 3     | 0.1   | 10    | Fold4 | \n",
       "| 0.759 | 0.650 | 0.727 | 100   | 3     | 0.1   | 10    | Fold5 | \n",
       "| 0.761 | 0.670 | 0.724 | 100   | 3     | 0.1   | 10    | Mean  | \n",
       "| 0.013 | 0.032 | 0.015 | 100   | 3     | 0.1   | 10    | STD   | \n",
       "\n",
       "\n"
      ],
      "text/plain": [
       "  ROC   Sens  Spec  n.trees interaction.depth shrinkage n.minobsinnode Resample\n",
       "1 0.766 0.717 0.736 100     3                 0.1       10             Fold1   \n",
       "2 0.777 0.667 0.721 100     3                 0.1       10             Fold2   \n",
       "3 0.765 0.683 0.736 100     3                 0.1       10             Fold3   \n",
       "4 0.741 0.633 0.700 100     3                 0.1       10             Fold4   \n",
       "5 0.759 0.650 0.727 100     3                 0.1       10             Fold5   \n",
       "6 0.761 0.670 0.724 100     3                 0.1       10             Mean    \n",
       "7 0.013 0.032 0.015 100     3                 0.1       10             STD     "
      ]
     },
     "metadata": {},
     "output_type": "display_data"
    }
   ],
   "source": [
    "## Set the hyperparameter grid to the optimal values from the inside loop\n",
    "paramGrid <- expand.grid(n.trees = c(100), interaction.depth = c(3), shrinkage = c(0.1), n.minobsinnode = c(10))\n",
    "\n",
    "set.seed(5678)\n",
    "bb_fit_outside_tw <- train(bad_credit ~ ., \n",
    "                          data = credit_reduced,  \n",
    "                          method = \"gbm\", # Gradient boosted tree model\n",
    "                          trControl = fitControl, \n",
    "                          tuneGrid = paramGrid, \n",
    "                          verbose = FALSE,\n",
    "                          metric=\"ROC\")\n",
    "\n",
    "print_metrics = function(mod){\n",
    "    means = c(apply(mod$resample[,1:3], 2, mean), n.trees = mod$resample[1,4], interaction.depth = mod$resample[1,5], \n",
    "              shrinkage = mod$resample[1,6], n.minobsinnode = mod$resample[1,7], Resample = 'Mean')\n",
    "    stds = c(apply(mod$resample[,1:3], 2, sd), n.trees = mod$resample[1,4], interaction.depth = mod$resample[1,5], \n",
    "              shrinkage = mod$resample[1,6], n.minobsinnode = mod$resample[1,7], Resample = 'STD')\n",
    "    out = rbind(mod$resample, means, stds)\n",
    "    out[,1:3] = lapply(out[,1:3], function(x) round(as.numeric(x), 3))\n",
    "    out\n",
    "}\n",
    "print_metrics(bb_fit_outside_tw)"
   ]
  },
  {
   "cell_type": "markdown",
   "metadata": {},
   "source": [
    "Examine these results. Notice that the standard deviation of the mean of the AUC are nearly an order of magnitude smaller than the mean. This indicates that this model is likely to generalize well. \n",
    "\n",
    "***\n",
    "**Note:** The predict method can be used with this optimal model to classify unknown cases.\n",
    "***"
   ]
  },
  {
   "cell_type": "markdown",
   "metadata": {},
   "source": [
    "## Summary\n",
    "\n",
    "In this lab you have accomplished the following:\n",
    "1. Used an AdaBoosted tree model to classify the cases of the iris data. This model produced quite good results. \n",
    "2. Used 5 fold to find estimated optimal hyperparameters for an AdaBoosted tree model to classify credit risk cases. The model did not generalize well.\n",
    "3. Applied up-sampling of the minority cases to create a balanced training dataset and retrained and evaluated the model. \n",
    "4. Applied feature importance was used for feature selection. The model created and evaluated with the reduced feature set had essentially the same performance as the model with more features. \n",
    "5. Used the outer loop of the nested cross validation to demonstrate that the model is likely to generalize."
   ]
  },
  {
   "cell_type": "code",
   "execution_count": null,
   "metadata": {},
   "outputs": [],
   "source": []
  }
 ],
 "metadata": {
  "kernelspec": {
   "display_name": "R",
   "language": "R",
   "name": "ir"
  },
  "language_info": {
   "codemirror_mode": "r",
   "file_extension": ".r",
   "mimetype": "text/x-r-source",
   "name": "R",
   "pygments_lexer": "r",
   "version": "3.5.0"
  }
 },
 "nbformat": 4,
 "nbformat_minor": 2
}
