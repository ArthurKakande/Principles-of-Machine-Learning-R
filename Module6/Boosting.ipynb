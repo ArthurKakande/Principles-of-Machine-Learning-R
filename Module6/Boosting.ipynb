{
 "cells": [
  {
   "cell_type": "markdown",
   "metadata": {},
   "source": [
    "# Boosting and the AdaBoost Method\n",
    "\n",
    "Using **ensemble methods** can greatly improve the results achieved with weak machine learning algorithms, also called **weak learners**. Ensemble methods achieve better performance by aggregating the results of many statistically independent models. This process averages out the errors and produces a better, final, prediction. \n",
    "\n",
    "In this lab you will work with widely used ensemble method known as **boosting**. Boosting is a meta-algorithm since the method can be applied to many types of machine learning algorithms. In summary, boosting iteratively improves the learning of the N models by giving greater weight to training cases with larger errors. The basic boosting procedure is simple and follows these steps:\n",
    "1. N learners (machine learning models) are defined.\n",
    "2. Each of i training data cases is given an initial equal weight of 1/i.\n",
    "3. The N learners are trained on the weighted training data cases.\n",
    "4. The prediction is computed based on a aggregation of the learners; averaging over the hypothesis of the N learners. \n",
    "5. Weights for the training data cases are updated based on the aggregated errors made by the learners. Cases with larger errors are given larger weights. \n",
    "6. Steps 3, 4, and 5 are repeated until a convergence criteria is met.\n",
    "\n",
    "**Classification and regression tree models** are the weak learners most commonly used with boosting. In this lab you will work with one of the most widely used and successful boosted methods, known as **AdaBoost** or **adaptive boosting**. AdaBoost uses some large number, N, tree models. The rate at which weights are updated is **adaptive** with the errors. \n",
    "\n",
    "It is important to keep in mind that boosted machine learning is not robust to significant noise or outliers in the training data. The reweighting process gives greater weight to the large errors, and therefore can give undue weight to outliers and errors. In cases where data is noisy, the random forest algorithm may prove to be more robust. "
   ]
  },
  {
   "cell_type": "markdown",
   "metadata": {},
   "source": [
    "## Example: Iris dataset\n",
    "\n",
    "As a first example you will use AdaBoost to classify the species of iris flowers. \n",
    "\n",
    "As a first step, execute the code in the cell below to load the required packages to run the rest of this notebook. "
   ]
  },
  {
   "cell_type": "code",
   "execution_count": 108,
   "metadata": {
    "scrolled": false
   },
   "outputs": [],
   "source": [
    "## Import packages\n",
    "library(ggplot2)\n",
    "library(gridExtra)\n",
    "library(repr)\n",
    "library(dplyr)\n",
    "library(caret)\n",
    "library(gbm)\n",
    "library(e1071)\n",
    "library(ROCR)\n",
    "\n",
    "options(repr.plot.width=4, repr.plot.height=4) # Set the initial plot area dimensions"
   ]
  },
  {
   "cell_type": "markdown",
   "metadata": {},
   "source": [
    "To get a feel for these data, you will now load and plot them. The code in the cell below does the following:\n",
    "\n",
    "1. Loads the iris data as a Pandas data frame. \n",
    "2. Adds column names to the data frame.\n",
    "3. Displays all 4 possible scatter plot views of the data. \n",
    "\n",
    "Execute this code and examine the results. "
   ]
  },
  {
   "cell_type": "code",
   "execution_count": 109,
   "metadata": {},
   "outputs": [
    {
     "data": {
      "text/html": [
       "<table>\n",
       "<thead><tr><th scope=col>Sepal.Length</th><th scope=col>Sepal.Width</th><th scope=col>Petal.Length</th><th scope=col>Petal.Width</th><th scope=col>Species</th></tr></thead>\n",
       "<tbody>\n",
       "\t<tr><td>5.1   </td><td>3.5   </td><td>1.4   </td><td>0.2   </td><td>setosa</td></tr>\n",
       "\t<tr><td>4.9   </td><td>3.0   </td><td>1.4   </td><td>0.2   </td><td>setosa</td></tr>\n",
       "\t<tr><td>4.7   </td><td>3.2   </td><td>1.3   </td><td>0.2   </td><td>setosa</td></tr>\n",
       "\t<tr><td>4.6   </td><td>3.1   </td><td>1.5   </td><td>0.2   </td><td>setosa</td></tr>\n",
       "\t<tr><td>5.0   </td><td>3.6   </td><td>1.4   </td><td>0.2   </td><td>setosa</td></tr>\n",
       "\t<tr><td>5.4   </td><td>3.9   </td><td>1.7   </td><td>0.4   </td><td>setosa</td></tr>\n",
       "\t<tr><td>4.6   </td><td>3.4   </td><td>1.4   </td><td>0.3   </td><td>setosa</td></tr>\n",
       "\t<tr><td>5.0   </td><td>3.4   </td><td>1.5   </td><td>0.2   </td><td>setosa</td></tr>\n",
       "\t<tr><td>4.4   </td><td>2.9   </td><td>1.4   </td><td>0.2   </td><td>setosa</td></tr>\n",
       "\t<tr><td>4.9   </td><td>3.1   </td><td>1.5   </td><td>0.1   </td><td>setosa</td></tr>\n",
       "</tbody>\n",
       "</table>\n"
      ],
      "text/latex": [
       "\\begin{tabular}{r|lllll}\n",
       " Sepal.Length & Sepal.Width & Petal.Length & Petal.Width & Species\\\\\n",
       "\\hline\n",
       "\t 5.1    & 3.5    & 1.4    & 0.2    & setosa\\\\\n",
       "\t 4.9    & 3.0    & 1.4    & 0.2    & setosa\\\\\n",
       "\t 4.7    & 3.2    & 1.3    & 0.2    & setosa\\\\\n",
       "\t 4.6    & 3.1    & 1.5    & 0.2    & setosa\\\\\n",
       "\t 5.0    & 3.6    & 1.4    & 0.2    & setosa\\\\\n",
       "\t 5.4    & 3.9    & 1.7    & 0.4    & setosa\\\\\n",
       "\t 4.6    & 3.4    & 1.4    & 0.3    & setosa\\\\\n",
       "\t 5.0    & 3.4    & 1.5    & 0.2    & setosa\\\\\n",
       "\t 4.4    & 2.9    & 1.4    & 0.2    & setosa\\\\\n",
       "\t 4.9    & 3.1    & 1.5    & 0.1    & setosa\\\\\n",
       "\\end{tabular}\n"
      ],
      "text/markdown": [
       "\n",
       "Sepal.Length | Sepal.Width | Petal.Length | Petal.Width | Species | \n",
       "|---|---|---|---|---|---|---|---|---|---|\n",
       "| 5.1    | 3.5    | 1.4    | 0.2    | setosa | \n",
       "| 4.9    | 3.0    | 1.4    | 0.2    | setosa | \n",
       "| 4.7    | 3.2    | 1.3    | 0.2    | setosa | \n",
       "| 4.6    | 3.1    | 1.5    | 0.2    | setosa | \n",
       "| 5.0    | 3.6    | 1.4    | 0.2    | setosa | \n",
       "| 5.4    | 3.9    | 1.7    | 0.4    | setosa | \n",
       "| 4.6    | 3.4    | 1.4    | 0.3    | setosa | \n",
       "| 5.0    | 3.4    | 1.5    | 0.2    | setosa | \n",
       "| 4.4    | 2.9    | 1.4    | 0.2    | setosa | \n",
       "| 4.9    | 3.1    | 1.5    | 0.1    | setosa | \n",
       "\n",
       "\n"
      ],
      "text/plain": [
       "   Sepal.Length Sepal.Width Petal.Length Petal.Width Species\n",
       "1  5.1          3.5         1.4          0.2         setosa \n",
       "2  4.9          3.0         1.4          0.2         setosa \n",
       "3  4.7          3.2         1.3          0.2         setosa \n",
       "4  4.6          3.1         1.5          0.2         setosa \n",
       "5  5.0          3.6         1.4          0.2         setosa \n",
       "6  5.4          3.9         1.7          0.4         setosa \n",
       "7  4.6          3.4         1.4          0.3         setosa \n",
       "8  5.0          3.4         1.5          0.2         setosa \n",
       "9  4.4          2.9         1.4          0.2         setosa \n",
       "10 4.9          3.1         1.5          0.1         setosa "
      ]
     },
     "metadata": {},
     "output_type": "display_data"
    },
    {
     "data": {
      "image/png": "[encoded data removed]",
      "text/plain": [
       "plot without title"
      ]
     },
     "metadata": {},
     "output_type": "display_data"
    }
   ],
   "source": [
    "single_plot = function(df, colx, coly){\n",
    "    ggplot(df, aes_string(colx,coly)) +\n",
    "          geom_point(aes(color = factor(df$Species)), alpha = 0.4)\n",
    "}\n",
    "\n",
    "plot_iris = function(df){\n",
    "    options(repr.plot.width=8, repr.plot.height=5)\n",
    "    grid.arrange(\n",
    "        single_plot(df, 'Sepal.Length', 'Sepal.Width'),\n",
    "        single_plot(df, 'Sepal.Length', 'Petal.Length'),\n",
    "        single_plot(df, 'Petal.Length', 'Petal.Width'),\n",
    "        single_plot(df, 'Sepal.Width', 'Petal.Length'),\n",
    "        nrow = 2)\n",
    "}\n",
    "\n",
    "head(iris, 10)   \n",
    "plot_iris(iris) "
   ]
  },
  {
   "cell_type": "markdown",
   "metadata": {},
   "source": [
    "You can see that Setosa (in blue) is well separated from the other two categories. The Versicolor (in orange) and the Virginica (in green) show considerable overlap. The question is how well our classifier will separate these categories. "
   ]
  },
  {
   "cell_type": "markdown",
   "metadata": {},
   "source": [
    "Next, execute the code in the cell below to split the dataset into test and training set. Notice that unusually, 67% of the cases are being used as the test dataset. "
   ]
  },
  {
   "cell_type": "code",
   "execution_count": 110,
   "metadata": {},
   "outputs": [
    {
     "data": {
      "text/html": [
       "<ol class=list-inline>\n",
       "\t<li>51</li>\n",
       "\t<li>5</li>\n",
       "</ol>\n"
      ],
      "text/latex": [
       "\\begin{enumerate*}\n",
       "\\item 51\n",
       "\\item 5\n",
       "\\end{enumerate*}\n"
      ],
      "text/markdown": [
       "1. 51\n",
       "2. 5\n",
       "\n",
       "\n"
      ],
      "text/plain": [
       "[1] 51  5"
      ]
     },
     "metadata": {},
     "output_type": "display_data"
    },
    {
     "data": {
      "text/html": [
       "<ol class=list-inline>\n",
       "\t<li>99</li>\n",
       "\t<li>5</li>\n",
       "</ol>\n"
      ],
      "text/latex": [
       "\\begin{enumerate*}\n",
       "\\item 99\n",
       "\\item 5\n",
       "\\end{enumerate*}\n"
      ],
      "text/markdown": [
       "1. 99\n",
       "2. 5\n",
       "\n",
       "\n"
      ],
      "text/plain": [
       "[1] 99  5"
      ]
     },
     "metadata": {},
     "output_type": "display_data"
    }
   ],
   "source": [
    "set.seed(1955)\n",
    "## Randomly sample cases to create independent training and test data\n",
    "partition = createDataPartition(iris[,'Species'], times = 1, p = 0.33, list = FALSE)\n",
    "training = iris[partition,] # Create the training sample\n",
    "dim(training)\n",
    "test = iris[-partition,] # Create the test sample\n",
    "dim(test)"
   ]
  },
  {
   "cell_type": "markdown",
   "metadata": {},
   "source": [
    "As is always the case with machine learning, numeric features  must be scaled. Execute the code in the cell below to scale the training and test datasets:"
   ]
  },
  {
   "cell_type": "code",
   "execution_count": 111,
   "metadata": {},
   "outputs": [
    {
     "data": {
      "text/html": [
       "<table>\n",
       "<thead><tr><th></th><th scope=col>Sepal.Length</th><th scope=col>Sepal.Width</th><th scope=col>Petal.Length</th><th scope=col>Petal.Width</th></tr></thead>\n",
       "<tbody>\n",
       "\t<tr><th scope=row>3</th><td>-1.2646501</td><td> 0.4563512</td><td>-1.348274 </td><td>-1.287390 </td></tr>\n",
       "\t<tr><th scope=row>5</th><td>-0.9016267</td><td> 1.4161001</td><td>-1.293220 </td><td>-1.287390 </td></tr>\n",
       "\t<tr><th scope=row>6</th><td>-0.4175955</td><td> 2.1359118</td><td>-1.128059 </td><td>-1.027876 </td></tr>\n",
       "\t<tr><th scope=row>9</th><td>-1.6276734</td><td>-0.2634605</td><td>-1.293220 </td><td>-1.287390 </td></tr>\n",
       "\t<tr><th scope=row>10</th><td>-1.0226345</td><td> 0.2164140</td><td>-1.238167 </td><td>-1.417146 </td></tr>\n",
       "\t<tr><th scope=row>11</th><td>-0.4175955</td><td> 1.6560373</td><td>-1.238167 </td><td>-1.287390 </td></tr>\n",
       "</tbody>\n",
       "</table>\n"
      ],
      "text/latex": [
       "\\begin{tabular}{r|llll}\n",
       "  & Sepal.Length & Sepal.Width & Petal.Length & Petal.Width\\\\\n",
       "\\hline\n",
       "\t3 & -1.2646501 &  0.4563512 & -1.348274  & -1.287390 \\\\\n",
       "\t5 & -0.9016267 &  1.4161001 & -1.293220  & -1.287390 \\\\\n",
       "\t6 & -0.4175955 &  2.1359118 & -1.128059  & -1.027876 \\\\\n",
       "\t9 & -1.6276734 & -0.2634605 & -1.293220  & -1.287390 \\\\\n",
       "\t10 & -1.0226345 &  0.2164140 & -1.238167  & -1.417146 \\\\\n",
       "\t11 & -0.4175955 &  1.6560373 & -1.238167  & -1.287390 \\\\\n",
       "\\end{tabular}\n"
      ],
      "text/markdown": [
       "\n",
       "| <!--/--> | Sepal.Length | Sepal.Width | Petal.Length | Petal.Width | \n",
       "|---|---|---|---|---|---|\n",
       "| 3 | -1.2646501 |  0.4563512 | -1.348274  | -1.287390  | \n",
       "| 5 | -0.9016267 |  1.4161001 | -1.293220  | -1.287390  | \n",
       "| 6 | -0.4175955 |  2.1359118 | -1.128059  | -1.027876  | \n",
       "| 9 | -1.6276734 | -0.2634605 | -1.293220  | -1.287390  | \n",
       "| 10 | -1.0226345 |  0.2164140 | -1.238167  | -1.417146  | \n",
       "| 11 | -0.4175955 |  1.6560373 | -1.238167  | -1.287390  | \n",
       "\n",
       "\n"
      ],
      "text/plain": [
       "   Sepal.Length Sepal.Width Petal.Length Petal.Width\n",
       "3  -1.2646501    0.4563512  -1.348274    -1.287390  \n",
       "5  -0.9016267    1.4161001  -1.293220    -1.287390  \n",
       "6  -0.4175955    2.1359118  -1.128059    -1.027876  \n",
       "9  -1.6276734   -0.2634605  -1.293220    -1.287390  \n",
       "10 -1.0226345    0.2164140  -1.238167    -1.417146  \n",
       "11 -0.4175955    1.6560373  -1.238167    -1.287390  "
      ]
     },
     "metadata": {},
     "output_type": "display_data"
    }
   ],
   "source": [
    "num_cols = c('Sepal.Length', 'Sepal.Width', 'Petal.Length', 'Petal.Width')\n",
    "preProcValues <- preProcess(training[,num_cols], method = c(\"center\", \"scale\"))\n",
    "\n",
    "training[,num_cols] = predict(preProcValues, training[,num_cols])\n",
    "test[,num_cols] = predict(preProcValues, test[,num_cols])\n",
    "head(training[,num_cols])"
   ]
  },
  {
   "cell_type": "markdown",
   "metadata": {},
   "source": [
    "Now you will define and fit an AdaBoosted tree model. The code in the cell below defines the model with 100 estimators (trees) using the `AdaBoostClassifer` function from the Scikit Learn ensemble  package, and then fits the model. Execute this code."
   ]
  },
  {
   "cell_type": "code",
   "execution_count": 112,
   "metadata": {},
   "outputs": [],
   "source": [
    "set.seed(3355)\n",
    "gbm_mod = gbm(Species ~ ., data = training, distribution = \"multinomial\", n.trees = 5)"
   ]
  },
  {
   "cell_type": "markdown",
   "metadata": {},
   "source": [
    "Notice that the many hyperparameters of the AdaBoosted tree model object are displayed. \n",
    "\n",
    "Next, the code in the cell below uses the `predict` method is used to compute the scores from the scaled features. \n",
    "\n",
    "Execute this code. "
   ]
  },
  {
   "cell_type": "code",
   "execution_count": 113,
   "metadata": {},
   "outputs": [
    {
     "data": {
      "text/html": [
       "<table>\n",
       "<thead><tr><th></th><th scope=col>Sepal.Length</th><th scope=col>Sepal.Width</th><th scope=col>Petal.Length</th><th scope=col>Petal.Width</th><th scope=col>Species</th><th scope=col>probs</th></tr></thead>\n",
       "<tbody>\n",
       "\t<tr><th scope=row>1</th><td>-0.78061890 </td><td> 1.17616289 </td><td>-1.293220   </td><td>-1.287390   </td><td>setosa      </td><td> 0.011800578</td></tr>\n",
       "\t<tr><th scope=row>2</th><td>-1.02263448 </td><td>-0.02352326 </td><td>-1.293220   </td><td>-1.287390   </td><td>setosa      </td><td> 0.011800578</td></tr>\n",
       "\t<tr><th scope=row>4</th><td>-1.38565786 </td><td> 0.21641397 </td><td>-1.238167   </td><td>-1.287390   </td><td>setosa      </td><td> 0.011800578</td></tr>\n",
       "\t<tr><th scope=row>7</th><td>-1.38565786 </td><td> 0.93622566 </td><td>-1.293220   </td><td>-1.157633   </td><td>setosa      </td><td> 0.011800578</td></tr>\n",
       "\t<tr><th scope=row>8</th><td>-0.90162669 </td><td> 0.93622566 </td><td>-1.238167   </td><td>-1.287390   </td><td>setosa      </td><td> 0.011800578</td></tr>\n",
       "\t<tr><th scope=row>12</th><td>-1.14364227 </td><td> 0.93622566 </td><td>-1.183113   </td><td>-1.287390   </td><td>setosa      </td><td> 0.011800578</td></tr>\n",
       "\t<tr><th scope=row>14</th><td>-1.74868124 </td><td>-0.02352326 </td><td>-1.458381   </td><td>-1.417146   </td><td>setosa      </td><td> 0.011800578</td></tr>\n",
       "\t<tr><th scope=row>15</th><td> 0.06643565 </td><td> 2.37584904 </td><td>-1.403328   </td><td>-1.287390   </td><td>setosa      </td><td>-0.003465665</td></tr>\n",
       "\t<tr><th scope=row>16</th><td>-0.05457214 </td><td> 3.33559795 </td><td>-1.238167   </td><td>-1.027876   </td><td>setosa      </td><td>-0.003465665</td></tr>\n",
       "\t<tr><th scope=row>19</th><td>-0.05457214 </td><td> 1.89597458 </td><td>-1.128059   </td><td>-1.157633   </td><td>setosa      </td><td>-0.003465665</td></tr>\n",
       "</tbody>\n",
       "</table>\n"
      ],
      "text/latex": [
       "\\begin{tabular}{r|llllll}\n",
       "  & Sepal.Length & Sepal.Width & Petal.Length & Petal.Width & Species & probs\\\\\n",
       "\\hline\n",
       "\t1 & -0.78061890  &  1.17616289  & -1.293220    & -1.287390    & setosa       &  0.011800578\\\\\n",
       "\t2 & -1.02263448  & -0.02352326  & -1.293220    & -1.287390    & setosa       &  0.011800578\\\\\n",
       "\t4 & -1.38565786  &  0.21641397  & -1.238167    & -1.287390    & setosa       &  0.011800578\\\\\n",
       "\t7 & -1.38565786  &  0.93622566  & -1.293220    & -1.157633    & setosa       &  0.011800578\\\\\n",
       "\t8 & -0.90162669  &  0.93622566  & -1.238167    & -1.287390    & setosa       &  0.011800578\\\\\n",
       "\t12 & -1.14364227  &  0.93622566  & -1.183113    & -1.287390    & setosa       &  0.011800578\\\\\n",
       "\t14 & -1.74868124  & -0.02352326  & -1.458381    & -1.417146    & setosa       &  0.011800578\\\\\n",
       "\t15 &  0.06643565  &  2.37584904  & -1.403328    & -1.287390    & setosa       & -0.003465665\\\\\n",
       "\t16 & -0.05457214  &  3.33559795  & -1.238167    & -1.027876    & setosa       & -0.003465665\\\\\n",
       "\t19 & -0.05457214  &  1.89597458  & -1.128059    & -1.157633    & setosa       & -0.003465665\\\\\n",
       "\\end{tabular}\n"
      ],
      "text/markdown": [
       "\n",
       "| <!--/--> | Sepal.Length | Sepal.Width | Petal.Length | Petal.Width | Species | probs | \n",
       "|---|---|---|---|---|---|---|---|---|---|\n",
       "| 1 | -0.78061890  |  1.17616289  | -1.293220    | -1.287390    | setosa       |  0.011800578 | \n",
       "| 2 | -1.02263448  | -0.02352326  | -1.293220    | -1.287390    | setosa       |  0.011800578 | \n",
       "| 4 | -1.38565786  |  0.21641397  | -1.238167    | -1.287390    | setosa       |  0.011800578 | \n",
       "| 7 | -1.38565786  |  0.93622566  | -1.293220    | -1.157633    | setosa       |  0.011800578 | \n",
       "| 8 | -0.90162669  |  0.93622566  | -1.238167    | -1.287390    | setosa       |  0.011800578 | \n",
       "| 12 | -1.14364227  |  0.93622566  | -1.183113    | -1.287390    | setosa       |  0.011800578 | \n",
       "| 14 | -1.74868124  | -0.02352326  | -1.458381    | -1.417146    | setosa       |  0.011800578 | \n",
       "| 15 |  0.06643565  |  2.37584904  | -1.403328    | -1.287390    | setosa       | -0.003465665 | \n",
       "| 16 | -0.05457214  |  3.33559795  | -1.238167    | -1.027876    | setosa       | -0.003465665 | \n",
       "| 19 | -0.05457214  |  1.89597458  | -1.128059    | -1.157633    | setosa       | -0.003465665 | \n",
       "\n",
       "\n"
      ],
      "text/plain": [
       "   Sepal.Length Sepal.Width Petal.Length Petal.Width Species probs       \n",
       "1  -0.78061890   1.17616289 -1.293220    -1.287390   setosa   0.011800578\n",
       "2  -1.02263448  -0.02352326 -1.293220    -1.287390   setosa   0.011800578\n",
       "4  -1.38565786   0.21641397 -1.238167    -1.287390   setosa   0.011800578\n",
       "7  -1.38565786   0.93622566 -1.293220    -1.157633   setosa   0.011800578\n",
       "8  -0.90162669   0.93622566 -1.238167    -1.287390   setosa   0.011800578\n",
       "12 -1.14364227   0.93622566 -1.183113    -1.287390   setosa   0.011800578\n",
       "14 -1.74868124  -0.02352326 -1.458381    -1.417146   setosa   0.011800578\n",
       "15  0.06643565   2.37584904 -1.403328    -1.287390   setosa  -0.003465665\n",
       "16 -0.05457214   3.33559795 -1.238167    -1.027876   setosa  -0.003465665\n",
       "19 -0.05457214   1.89597458 -1.128059    -1.157633   setosa  -0.003465665"
      ]
     },
     "metadata": {},
     "output_type": "display_data"
    }
   ],
   "source": [
    "test$probs = predict(gbm_mod, newdata = test, n.trees = 5)\n",
    "test[1:10,]"
   ]
  },
  {
   "cell_type": "code",
   "execution_count": 114,
   "metadata": {},
   "outputs": [
    {
     "data": {
      "text/html": [
       "<table>\n",
       "<thead><tr><th></th><th scope=col>Sepal.Length</th><th scope=col>Sepal.Width</th><th scope=col>Petal.Length</th><th scope=col>Petal.Width</th><th scope=col>Species</th><th scope=col>probs</th><th scope=col>scores</th></tr></thead>\n",
       "<tbody>\n",
       "\t<tr><th scope=row>1</th><td>-0.78061890 </td><td> 1.17616289 </td><td>-1.293220   </td><td>-1.287390   </td><td>setosa      </td><td> 0.011800578</td><td>sentosa     </td></tr>\n",
       "\t<tr><th scope=row>2</th><td>-1.02263448 </td><td>-0.02352326 </td><td>-1.293220   </td><td>-1.287390   </td><td>setosa      </td><td> 0.011800578</td><td>sentosa     </td></tr>\n",
       "\t<tr><th scope=row>4</th><td>-1.38565786 </td><td> 0.21641397 </td><td>-1.238167   </td><td>-1.287390   </td><td>setosa      </td><td> 0.011800578</td><td>sentosa     </td></tr>\n",
       "\t<tr><th scope=row>7</th><td>-1.38565786 </td><td> 0.93622566 </td><td>-1.293220   </td><td>-1.157633   </td><td>setosa      </td><td> 0.011800578</td><td>sentosa     </td></tr>\n",
       "\t<tr><th scope=row>8</th><td>-0.90162669 </td><td> 0.93622566 </td><td>-1.238167   </td><td>-1.287390   </td><td>setosa      </td><td> 0.011800578</td><td>sentosa     </td></tr>\n",
       "\t<tr><th scope=row>12</th><td>-1.14364227 </td><td> 0.93622566 </td><td>-1.183113   </td><td>-1.287390   </td><td>setosa      </td><td> 0.011800578</td><td>sentosa     </td></tr>\n",
       "\t<tr><th scope=row>14</th><td>-1.74868124 </td><td>-0.02352326 </td><td>-1.458381   </td><td>-1.417146   </td><td>setosa      </td><td> 0.011800578</td><td>sentosa     </td></tr>\n",
       "\t<tr><th scope=row>15</th><td> 0.06643565 </td><td> 2.37584904 </td><td>-1.403328   </td><td>-1.287390   </td><td>setosa      </td><td>-0.003465665</td><td>versicolor  </td></tr>\n",
       "\t<tr><th scope=row>16</th><td>-0.05457214 </td><td> 3.33559795 </td><td>-1.238167   </td><td>-1.027876   </td><td>setosa      </td><td>-0.003465665</td><td>versicolor  </td></tr>\n",
       "\t<tr><th scope=row>19</th><td>-0.05457214 </td><td> 1.89597458 </td><td>-1.128059   </td><td>-1.157633   </td><td>setosa      </td><td>-0.003465665</td><td>versicolor  </td></tr>\n",
       "</tbody>\n",
       "</table>\n"
      ],
      "text/latex": [
       "\\begin{tabular}{r|lllllll}\n",
       "  & Sepal.Length & Sepal.Width & Petal.Length & Petal.Width & Species & probs & scores\\\\\n",
       "\\hline\n",
       "\t1 & -0.78061890  &  1.17616289  & -1.293220    & -1.287390    & setosa       &  0.011800578 & sentosa     \\\\\n",
       "\t2 & -1.02263448  & -0.02352326  & -1.293220    & -1.287390    & setosa       &  0.011800578 & sentosa     \\\\\n",
       "\t4 & -1.38565786  &  0.21641397  & -1.238167    & -1.287390    & setosa       &  0.011800578 & sentosa     \\\\\n",
       "\t7 & -1.38565786  &  0.93622566  & -1.293220    & -1.157633    & setosa       &  0.011800578 & sentosa     \\\\\n",
       "\t8 & -0.90162669  &  0.93622566  & -1.238167    & -1.287390    & setosa       &  0.011800578 & sentosa     \\\\\n",
       "\t12 & -1.14364227  &  0.93622566  & -1.183113    & -1.287390    & setosa       &  0.011800578 & sentosa     \\\\\n",
       "\t14 & -1.74868124  & -0.02352326  & -1.458381    & -1.417146    & setosa       &  0.011800578 & sentosa     \\\\\n",
       "\t15 &  0.06643565  &  2.37584904  & -1.403328    & -1.287390    & setosa       & -0.003465665 & versicolor  \\\\\n",
       "\t16 & -0.05457214  &  3.33559795  & -1.238167    & -1.027876    & setosa       & -0.003465665 & versicolor  \\\\\n",
       "\t19 & -0.05457214  &  1.89597458  & -1.128059    & -1.157633    & setosa       & -0.003465665 & versicolor  \\\\\n",
       "\\end{tabular}\n"
      ],
      "text/markdown": [
       "\n",
       "| <!--/--> | Sepal.Length | Sepal.Width | Petal.Length | Petal.Width | Species | probs | scores | \n",
       "|---|---|---|---|---|---|---|---|---|---|\n",
       "| 1 | -0.78061890  |  1.17616289  | -1.293220    | -1.287390    | setosa       |  0.011800578 | sentosa      | \n",
       "| 2 | -1.02263448  | -0.02352326  | -1.293220    | -1.287390    | setosa       |  0.011800578 | sentosa      | \n",
       "| 4 | -1.38565786  |  0.21641397  | -1.238167    | -1.287390    | setosa       |  0.011800578 | sentosa      | \n",
       "| 7 | -1.38565786  |  0.93622566  | -1.293220    | -1.157633    | setosa       |  0.011800578 | sentosa      | \n",
       "| 8 | -0.90162669  |  0.93622566  | -1.238167    | -1.287390    | setosa       |  0.011800578 | sentosa      | \n",
       "| 12 | -1.14364227  |  0.93622566  | -1.183113    | -1.287390    | setosa       |  0.011800578 | sentosa      | \n",
       "| 14 | -1.74868124  | -0.02352326  | -1.458381    | -1.417146    | setosa       |  0.011800578 | sentosa      | \n",
       "| 15 |  0.06643565  |  2.37584904  | -1.403328    | -1.287390    | setosa       | -0.003465665 | versicolor   | \n",
       "| 16 | -0.05457214  |  3.33559795  | -1.238167    | -1.027876    | setosa       | -0.003465665 | versicolor   | \n",
       "| 19 | -0.05457214  |  1.89597458  | -1.128059    | -1.157633    | setosa       | -0.003465665 | versicolor   | \n",
       "\n",
       "\n"
      ],
      "text/plain": [
       "   Sepal.Length Sepal.Width Petal.Length Petal.Width Species probs       \n",
       "1  -0.78061890   1.17616289 -1.293220    -1.287390   setosa   0.011800578\n",
       "2  -1.02263448  -0.02352326 -1.293220    -1.287390   setosa   0.011800578\n",
       "4  -1.38565786   0.21641397 -1.238167    -1.287390   setosa   0.011800578\n",
       "7  -1.38565786   0.93622566 -1.293220    -1.157633   setosa   0.011800578\n",
       "8  -0.90162669   0.93622566 -1.238167    -1.287390   setosa   0.011800578\n",
       "12 -1.14364227   0.93622566 -1.183113    -1.287390   setosa   0.011800578\n",
       "14 -1.74868124  -0.02352326 -1.458381    -1.417146   setosa   0.011800578\n",
       "15  0.06643565   2.37584904 -1.403328    -1.287390   setosa  -0.003465665\n",
       "16 -0.05457214   3.33559795 -1.238167    -1.027876   setosa  -0.003465665\n",
       "19 -0.05457214   1.89597458 -1.128059    -1.157633   setosa  -0.003465665\n",
       "   scores    \n",
       "1  sentosa   \n",
       "2  sentosa   \n",
       "4  sentosa   \n",
       "7  sentosa   \n",
       "8  sentosa   \n",
       "12 sentosa   \n",
       "14 sentosa   \n",
       "15 versicolor\n",
       "16 versicolor\n",
       "19 versicolor"
      ]
     },
     "metadata": {},
     "output_type": "display_data"
    }
   ],
   "source": [
    "test$scores = apply(test$probs, 1, which.max) # Find the class with the maximum probability\n",
    "test$scores = ifelse(test$scores == 1, 'sentosa', ifelse(test$scores == 2, 'versicolor', 'virginica'))\n",
    "test[1:10,]"
   ]
  },
  {
   "cell_type": "markdown",
   "metadata": {},
   "source": [
    "It is time to evaluate the model results. Keep in mind that the problem has been made deliberately difficult, by having more test cases than training cases. \n",
    "\n",
    "The iris data has three species categories. Therefore it is necessary to use evaluation code for a three category problem. The function in the cell below extends code from pervious labs to deal with a three category problem. Execute this code and examine the results."
   ]
  },
  {
   "cell_type": "code",
   "execution_count": 115,
   "metadata": {
    "scrolled": false
   },
   "outputs": [
    {
     "name": "stdout",
     "output_type": "stream",
     "text": [
      "            Predicted\n",
      "Actual       sentosa versicolor virginica\n",
      "  setosa          30          3         0\n",
      "  versicolor       4         20         9\n",
      "  virginica        1          0        32\n",
      "\n",
      "Accuracy =  0.828 \n",
      " \n",
      "          setosa versicolor virginica\n",
      "Precision  0.909      0.606     0.970\n",
      "Recall     0.857      0.870     0.780\n",
      "F1         0.882      0.714     0.865\n"
     ]
    }
   ],
   "source": [
    "print_metrics = function(df, label){\n",
    "    ## Compute and print the confusion matrix\n",
    "    cm = as.matrix(table(Actual = df$Species, Predicted = df$scores))\n",
    "    print(cm)\n",
    "\n",
    "    ## Compute and print accuracy \n",
    "    accuracy = round(sum(sapply(1:nrow(cm), function(i) cm[i,i]))/sum(cm), 3)\n",
    "    cat('\\n')\n",
    "    cat(paste('Accuracy = ', as.character(accuracy)), '\\n \\n')                           \n",
    "\n",
    "    ## Compute and print precision, recall and F1\n",
    "    precision = sapply(1:nrow(cm), function(i) cm[i,i]/sum(cm[i,]))\n",
    "    recall = sapply(1:nrow(cm), function(i) cm[i,i]/sum(cm[,i]))    \n",
    "    F1 = sapply(1:nrow(cm), function(i) 2*(recall[i] * precision[i])/(recall[i] + precision[i]))    \n",
    "    metrics = sapply(c(precision, recall, F1), round, 3)        \n",
    "    metrics = t(matrix(metrics, nrow = nrow(cm), ncol = ncol(cm)))       \n",
    "    dimnames(metrics) = list(c('Precision', 'Recall', 'F1'), unique(test$Species))      \n",
    "    print(metrics)\n",
    "}  \n",
    "print_metrics(test, 'Species')   "
   ]
  },
  {
   "cell_type": "markdown",
   "metadata": {},
   "source": [
    "Examine these results. Notice the following:\n",
    "1. The confusion matrix has dimension 3X3. You can see that most cases are correctly classified with only a few errors. \n",
    "2. The overall accuracy is 0.95. Since the classes are roughly balanced, this metric indicates relatively good performance of the classifier, particularly since it was only trained on 50 cases. \n",
    "3. The precision, recall and  F1 for each of the classes is quite good.\n",
    "\n",
    "To get a better feel for what the classifier is doing, the code in the cell below displays a set of plots showing correctly (as '+') and incorrectly (as 'o') cases, with the species color-coded. Execute this code and examine the results. "
   ]
  },
  {
   "cell_type": "code",
   "execution_count": 116,
   "metadata": {},
   "outputs": [
    {
     "name": "stdout",
     "output_type": "stream",
     "text": [
      "            Predicted\n",
      "Actual       sentosa versicolor virginica\n",
      "  setosa          33          0         0\n",
      "  versicolor       2         21        10\n",
      "  virginica        0          1        32\n",
      "\n",
      "Accuracy =  0.869 \n",
      " \n",
      "          setosa versicolor virginica\n",
      "Precision  1.000      0.636     0.970\n",
      "Recall     0.943      0.955     0.762\n",
      "F1         0.971      0.764     0.853\n"
     ]
    }
   ],
   "source": [
    "set.seed(8899)\n",
    "gbm_mod = gbm(Species ~ ., data = training, distribution = \"multinomial\", n.trees = 100)\n",
    "test$probs = predict(gbm_mod, newdata = test, n.trees = 100)\n",
    "test$scores = apply(test$probs, 1, which.max) # Find the class with the maximum probability\n",
    "test$scores = ifelse(test$scores == 1, 'sentosa', ifelse(test$scores == 2, 'versicolor', 'virginica'))\n",
    "print_metrics(test, 'Species')  "
   ]
  },
  {
   "cell_type": "code",
   "execution_count": 117,
   "metadata": {
    "scrolled": false
   },
   "outputs": [],
   "source": [
    "capture.output(\n",
    "    gbm_mod_train = train(Species ~ ., data = training, method = \"gbm\",\n",
    "            distribution = \"multinomial\", trControl=trainControl(number=100),\n",
    "            tuneGrid=expand.grid(n.trees = 100,\n",
    "                                 interaction.depth = 1, \n",
    "                                 n.minobsinnode = 10, \n",
    "                                 shrinkage = 0.001)),\n",
    "    file = 'Nul'\n",
    ")"
   ]
  },
  {
   "cell_type": "code",
   "execution_count": 118,
   "metadata": {},
   "outputs": [
    {
     "data": {},
     "metadata": {},
     "output_type": "display_data"
    },
    {
     "data": {
      "image/png": "[encoded data removed]",
      "text/plain": [
       "plot without title"
      ]
     },
     "metadata": {},
     "output_type": "display_data"
    }
   ],
   "source": [
    "options(repr.plot.width=4, repr.plot.height=3)\n",
    "imp = varImp(gbm_mod_train, scale = FALSE)$importance\n",
    "imp[,'Feature'] = row.names(imp)\n",
    "ggplot(imp, aes(x = Feature, y = Overall)) + geom_point(size = 4) +\n",
    "       ggtitle('Variable importance for iris features')"
   ]
  },
  {
   "cell_type": "code",
   "execution_count": 119,
   "metadata": {},
   "outputs": [
    {
     "data": {
      "text/html": [
       "<dl class=dl-horizontal>\n",
       "\t<dt>Sepal.Length</dt>\n",
       "\t\t<dd>0</dd>\n",
       "\t<dt>Sepal.Width</dt>\n",
       "\t\t<dd>45.5920986078697</dd>\n",
       "\t<dt>Petal.Length</dt>\n",
       "\t\t<dd>468.174878699569</dd>\n",
       "\t<dt>Petal.Width</dt>\n",
       "\t\t<dd>80.1558207546565</dd>\n",
       "</dl>\n"
      ],
      "text/latex": [
       "\\begin{description*}\n",
       "\\item[Sepal.Length] 0\n",
       "\\item[Sepal.Width] 45.5920986078697\n",
       "\\item[Petal.Length] 468.174878699569\n",
       "\\item[Petal.Width] 80.1558207546565\n",
       "\\end{description*}\n"
      ],
      "text/markdown": [
       "Sepal.Length\n",
       ":   0Sepal.Width\n",
       ":   45.5920986078697Petal.Length\n",
       ":   468.174878699569Petal.Width\n",
       ":   80.1558207546565\n",
       "\n"
      ],
      "text/plain": [
       "Sepal.Length  Sepal.Width Petal.Length  Petal.Width \n",
       "     0.00000     45.59210    468.17488     80.15582 "
      ]
     },
     "metadata": {},
     "output_type": "display_data"
    }
   ],
   "source": [
    "relative.influence(gmb_mod, n.trees = 100)"
   ]
  },
  {
   "cell_type": "code",
   "execution_count": 120,
   "metadata": {},
   "outputs": [
    {
     "name": "stdout",
     "output_type": "stream",
     "text": [
      "            Predicted\n",
      "Actual       sentosa versicolor virginica\n",
      "  setosa          33          0         0\n",
      "  versicolor       2         24         7\n",
      "  virginica        0          1        32\n",
      "\n",
      "Accuracy =  0.899 \n",
      " \n",
      "          setosa versicolor virginica\n",
      "Precision  1.000      0.727     0.970\n",
      "Recall     0.943      0.960     0.821\n",
      "F1         0.971      0.828     0.889\n"
     ]
    }
   ],
   "source": [
    "set.seed(8899)\n",
    "gbm_mod = gbm(Species ~ Petal.Length + Petal.Width + Sepal.Length, \n",
    "              data = training, distribution = \"multinomial\", n.trees = 100)\n",
    "test$probs = predict(gbm_mod, newdata = test, n.trees = 100)\n",
    "test$scores = apply(test$probs, 1, which.max) # Find the class with the maximum probability\n",
    "test$scores = ifelse(test$scores == 1, 'sentosa', ifelse(test$scores == 2, 'versicolor', 'virginica'))\n",
    "print_metrics(test, 'Species')  "
   ]
  },
  {
   "cell_type": "code",
   "execution_count": 121,
   "metadata": {
    "scrolled": false
   },
   "outputs": [
    {
     "data": {
      "image/png": "[encoded data removed]",
      "text/plain": [
       "plot without title"
      ]
     },
     "metadata": {},
     "output_type": "display_data"
    }
   ],
   "source": [
    "## Create column of correct-incorrect classification\n",
    "test$correct = ifelse(test$Species == test$scores, 'correct', 'incorrect')\n",
    "\n",
    "single_plot_classes = function(df, colx, coly){\n",
    "    ggplot(df, aes_string(colx,coly)) +\n",
    "          geom_point(aes(color = factor(df$Species), shape = correct), alpha = 0.4)\n",
    "}\n",
    "\n",
    "plot_iris_classes = function(df){\n",
    "    options(repr.plot.width=8, repr.plot.height=5)\n",
    "    grid.arrange(\n",
    "        single_plot_classes(df, 'Sepal.Length', 'Sepal.Width'),\n",
    "        single_plot_classes(df, 'Sepal.Length', 'Petal.Length'),\n",
    "        single_plot_classes(df, 'Petal.Length', 'Petal.Width'),\n",
    "        single_plot_classes(df, 'Sepal.Width', 'Petal.Length'),\n",
    "        nrow = 2)\n",
    "}\n",
    "\n",
    "plot_iris_classes(test)"
   ]
  },
  {
   "cell_type": "markdown",
   "metadata": {},
   "source": [
    "Examine these plots. You can see how the classifier has divided the feature space between the classes. Notice that most of the errors occur in the overlap region between Virginica and Versicolor. This behavior is to be expected.  "
   ]
  },
  {
   "cell_type": "markdown",
   "metadata": {},
   "source": [
    "## Another example\n",
    "\n",
    "Now, you will try a more complex example using the credit scoring data. You will use the prepared data which had the following preprocessing:\n",
    "1. Remove duplicate cases.\n",
    "2. Aggregating categories of certain categorical variables. \n",
    "\n",
    "Execute the code in the cell below to load the dataset for the example. "
   ]
  },
  {
   "cell_type": "code",
   "execution_count": 122,
   "metadata": {},
   "outputs": [
    {
     "name": "stdout",
     "output_type": "stream",
     "text": [
      "[1] 999  16\n"
     ]
    },
    {
     "data": {
      "text/html": [
       "<ol class=list-inline>\n",
       "\t<li>'checking_account_status'</li>\n",
       "\t<li>'loan_duration_mo'</li>\n",
       "\t<li>'credit_history'</li>\n",
       "\t<li>'loan_amount'</li>\n",
       "\t<li>'savings_account_balance'</li>\n",
       "\t<li>'time_employed_yrs'</li>\n",
       "\t<li>'payment_pcnt_income'</li>\n",
       "\t<li>'time_in_residence'</li>\n",
       "\t<li>'property'</li>\n",
       "\t<li>'age_yrs'</li>\n",
       "\t<li>'other_credit_outstanding'</li>\n",
       "\t<li>'number_loans'</li>\n",
       "\t<li>'job_category'</li>\n",
       "\t<li>'dependents'</li>\n",
       "\t<li>'telephone'</li>\n",
       "\t<li>'bad_credit'</li>\n",
       "</ol>\n"
      ],
      "text/latex": [
       "\\begin{enumerate*}\n",
       "\\item 'checking\\_account\\_status'\n",
       "\\item 'loan\\_duration\\_mo'\n",
       "\\item 'credit\\_history'\n",
       "\\item 'loan\\_amount'\n",
       "\\item 'savings\\_account\\_balance'\n",
       "\\item 'time\\_employed\\_yrs'\n",
       "\\item 'payment\\_pcnt\\_income'\n",
       "\\item 'time\\_in\\_residence'\n",
       "\\item 'property'\n",
       "\\item 'age\\_yrs'\n",
       "\\item 'other\\_credit\\_outstanding'\n",
       "\\item 'number\\_loans'\n",
       "\\item 'job\\_category'\n",
       "\\item 'dependents'\n",
       "\\item 'telephone'\n",
       "\\item 'bad\\_credit'\n",
       "\\end{enumerate*}\n"
      ],
      "text/markdown": [
       "1. 'checking_account_status'\n",
       "2. 'loan_duration_mo'\n",
       "3. 'credit_history'\n",
       "4. 'loan_amount'\n",
       "5. 'savings_account_balance'\n",
       "6. 'time_employed_yrs'\n",
       "7. 'payment_pcnt_income'\n",
       "8. 'time_in_residence'\n",
       "9. 'property'\n",
       "10. 'age_yrs'\n",
       "11. 'other_credit_outstanding'\n",
       "12. 'number_loans'\n",
       "13. 'job_category'\n",
       "14. 'dependents'\n",
       "15. 'telephone'\n",
       "16. 'bad_credit'\n",
       "\n",
       "\n"
      ],
      "text/plain": [
       " [1] \"checking_account_status\"  \"loan_duration_mo\"        \n",
       " [3] \"credit_history\"           \"loan_amount\"             \n",
       " [5] \"savings_account_balance\"  \"time_employed_yrs\"       \n",
       " [7] \"payment_pcnt_income\"      \"time_in_residence\"       \n",
       " [9] \"property\"                 \"age_yrs\"                 \n",
       "[11] \"other_credit_outstanding\" \"number_loans\"            \n",
       "[13] \"job_category\"             \"dependents\"              \n",
       "[15] \"telephone\"                \"bad_credit\"              "
      ]
     },
     "metadata": {},
     "output_type": "display_data"
    }
   ],
   "source": [
    "credit = read.csv('German_Credit_Preped.csv', header = TRUE)\n",
    "## Subset the data frame\n",
    "credit = credit[,c('checking_account_status', 'loan_duration_mo', 'credit_history', 'loan_amount', 'savings_account_balance',\n",
    "                   'time_employed_yrs', 'payment_pcnt_income', 'time_in_residence', 'property', 'age_yrs',\n",
    "                   'other_credit_outstanding', 'number_loans', 'job_category', 'dependents', 'telephone', 'bad_credit' )]\n",
    "print(dim(credit))\n",
    "names(credit)"
   ]
  },
  {
   "cell_type": "markdown",
   "metadata": {},
   "source": [
    "Cross validation will be used to train the model. Since folds will be selected from the entire dataset the numeric features are scaled in batch. Execute the code in the cell below to accomplish this: "
   ]
  },
  {
   "cell_type": "code",
   "execution_count": 123,
   "metadata": {},
   "outputs": [
    {
     "data": {
      "text/html": [
       "<table>\n",
       "<thead><tr><th scope=col>loan_duration_mo</th><th scope=col>loan_amount</th><th scope=col>payment_pcnt_income</th><th scope=col>time_in_residence</th><th scope=col>age_yrs</th><th scope=col>number_loans</th><th scope=col>dependents</th></tr></thead>\n",
       "<tbody>\n",
       "\t<tr><td> 2.2464282 </td><td> 0.9483849 </td><td>-0.86876113</td><td>-0.7645835 </td><td>-1.19202026</td><td>-0.7035652 </td><td>-0.4283287 </td></tr>\n",
       "\t<tr><td>-0.7397312 </td><td>-0.4170067 </td><td>-0.86876113</td><td> 0.1414888 </td><td> 1.18945982</td><td>-0.7035652 </td><td> 2.3323187 </td></tr>\n",
       "\t<tr><td> 1.7487350 </td><td> 1.6323204 </td><td>-0.86876113</td><td> 1.0475610 </td><td> 0.83664795</td><td>-0.7035652 </td><td> 2.3323187 </td></tr>\n",
       "\t<tr><td> 0.2556552 </td><td> 0.5655086 </td><td> 0.02505181</td><td> 1.0475610 </td><td> 1.54227168</td><td> 1.0276211 </td><td> 2.3323187 </td></tr>\n",
       "\t<tr><td> 1.2510417 </td><td> 2.0477820 </td><td>-0.86876113</td><td> 1.0475610 </td><td>-0.04538171</td><td>-0.7035652 </td><td> 2.3323187 </td></tr>\n",
       "\t<tr><td> 0.2556552 </td><td>-0.1552623 </td><td> 0.02505181</td><td> 1.0475610 </td><td> 1.54227168</td><td>-0.7035652 </td><td>-0.4283287 </td></tr>\n",
       "</tbody>\n",
       "</table>\n"
      ],
      "text/latex": [
       "\\begin{tabular}{r|lllllll}\n",
       " loan\\_duration\\_mo & loan\\_amount & payment\\_pcnt\\_income & time\\_in\\_residence & age\\_yrs & number\\_loans & dependents\\\\\n",
       "\\hline\n",
       "\t  2.2464282  &  0.9483849  & -0.86876113 & -0.7645835  & -1.19202026 & -0.7035652  & -0.4283287 \\\\\n",
       "\t -0.7397312  & -0.4170067  & -0.86876113 &  0.1414888  &  1.18945982 & -0.7035652  &  2.3323187 \\\\\n",
       "\t  1.7487350  &  1.6323204  & -0.86876113 &  1.0475610  &  0.83664795 & -0.7035652  &  2.3323187 \\\\\n",
       "\t  0.2556552  &  0.5655086  &  0.02505181 &  1.0475610  &  1.54227168 &  1.0276211  &  2.3323187 \\\\\n",
       "\t  1.2510417  &  2.0477820  & -0.86876113 &  1.0475610  & -0.04538171 & -0.7035652  &  2.3323187 \\\\\n",
       "\t  0.2556552  & -0.1552623  &  0.02505181 &  1.0475610  &  1.54227168 & -0.7035652  & -0.4283287 \\\\\n",
       "\\end{tabular}\n"
      ],
      "text/markdown": [
       "\n",
       "loan_duration_mo | loan_amount | payment_pcnt_income | time_in_residence | age_yrs | number_loans | dependents | \n",
       "|---|---|---|---|---|---|\n",
       "|  2.2464282  |  0.9483849  | -0.86876113 | -0.7645835  | -1.19202026 | -0.7035652  | -0.4283287  | \n",
       "| -0.7397312  | -0.4170067  | -0.86876113 |  0.1414888  |  1.18945982 | -0.7035652  |  2.3323187  | \n",
       "|  1.7487350  |  1.6323204  | -0.86876113 |  1.0475610  |  0.83664795 | -0.7035652  |  2.3323187  | \n",
       "|  0.2556552  |  0.5655086  |  0.02505181 |  1.0475610  |  1.54227168 |  1.0276211  |  2.3323187  | \n",
       "|  1.2510417  |  2.0477820  | -0.86876113 |  1.0475610  | -0.04538171 | -0.7035652  |  2.3323187  | \n",
       "|  0.2556552  | -0.1552623  |  0.02505181 |  1.0475610  |  1.54227168 | -0.7035652  | -0.4283287  | \n",
       "\n",
       "\n"
      ],
      "text/plain": [
       "  loan_duration_mo loan_amount payment_pcnt_income time_in_residence\n",
       "1  2.2464282        0.9483849  -0.86876113         -0.7645835       \n",
       "2 -0.7397312       -0.4170067  -0.86876113          0.1414888       \n",
       "3  1.7487350        1.6323204  -0.86876113          1.0475610       \n",
       "4  0.2556552        0.5655086   0.02505181          1.0475610       \n",
       "5  1.2510417        2.0477820  -0.86876113          1.0475610       \n",
       "6  0.2556552       -0.1552623   0.02505181          1.0475610       \n",
       "  age_yrs     number_loans dependents\n",
       "1 -1.19202026 -0.7035652   -0.4283287\n",
       "2  1.18945982 -0.7035652    2.3323187\n",
       "3  0.83664795 -0.7035652    2.3323187\n",
       "4  1.54227168  1.0276211    2.3323187\n",
       "5 -0.04538171 -0.7035652    2.3323187\n",
       "6  1.54227168 -0.7035652   -0.4283287"
      ]
     },
     "metadata": {},
     "output_type": "display_data"
    }
   ],
   "source": [
    "num_cols = c('loan_duration_mo', 'loan_amount', 'payment_pcnt_income',\n",
    "             'time_in_residence', 'age_yrs', 'number_loans', 'dependents')\n",
    "\n",
    "preProcValues <- preProcess(credit[,num_cols], method = c(\"center\", \"scale\"))\n",
    "credit[,num_cols] = predict(preProcValues, credit[,num_cols])\n",
    "head(credit[,num_cols])"
   ]
  },
  {
   "cell_type": "markdown",
   "metadata": {},
   "source": [
    "The code in the cell below estimates the best hyperparameters using 10 fold cross validation. There are a few points to notice here:\n",
    "1. In this case, a grid of one hyperparameter is searched: \n",
    "  - learning rate shrinks the contribution of each classifier by learning_rate. There is a trade-off between learning_rate and n_estimators\n",
    "2. There is a class imbalance and a difference in the cost to the bank of misclassification of a bad credit risk customer. This will be addressed later. \n",
    "3. The model is fit on each set of hyperparameters from the grid. \n",
    "4. The best estimated hyperparameters are printed. \n",
    "\n",
    "Notice that the model uses regularization rather than feature selection. The hyperparameter search is intended to optimize the level of regularization. \n",
    "\n",
    "Execute this code, examine the result, and answer **Question 2** on the course page. "
   ]
  },
  {
   "cell_type": "code",
   "execution_count": 15,
   "metadata": {},
   "outputs": [
    {
     "name": "stdout",
     "output_type": "stream",
     "text": [
      "1\n"
     ]
    }
   ],
   "source": [
    "## Define the dictionary for the grid search and the model object to search on\n",
    "param_grid = {\"learning_rate\": [0.1, 1, 10]}\n",
    "## Define the AdaBoosted tree model\n",
    "nr.seed(3456)\n",
    "ab_clf = AdaBoostClassifier(n_estimators=100)  \n",
    "\n",
    "## Perform the grid search over the parameters\n",
    "nr.seed(4455)\n",
    "ab_clf = ms.GridSearchCV(estimator = ab_clf, param_grid = param_grid, \n",
    "                      cv = inside, # Use the inside folds\n",
    "                      scoring = sklm.make_scorer(sklm.roc_auc_score),\n",
    "                      return_train_score = True)\n",
    "ab_clf.fit(Features, Labels)\n",
    "print(ab_clf.best_estimator_.learning_rate)"
   ]
  },
  {
   "cell_type": "markdown",
   "metadata": {},
   "source": [
    "Now, you will run the code in the cell below to perform the outer cross validation of the model. "
   ]
  },
  {
   "cell_type": "code",
   "execution_count": 16,
   "metadata": {},
   "outputs": [
    {
     "name": "stdout",
     "output_type": "stream",
     "text": [
      "Mean performance metric = 0.643\n",
      "SDT of the metric       = 0.058\n",
      "Outcomes by cv fold\n",
      "fold 1   0.726\n",
      "fold 2   0.693\n",
      "fold 3   0.612\n",
      "fold 4   0.622\n",
      "fold 5   0.727\n",
      "fold 6   0.647\n",
      "fold 7   0.556\n",
      "fold 8   0.674\n",
      "fold 9   0.613\n",
      "fold 10   0.560\n"
     ]
    }
   ],
   "source": [
    "nr.seed(498)\n",
    "cv_estimate = ms.cross_val_score(ab_clf, Features, Labels, \n",
    "                                 cv = outside) # Use the outside folds\n",
    "print('Mean performance metric = %4.3f' % np.mean(cv_estimate))\n",
    "\n",
    "print('SDT of the metric       = %4.3f' % np.std(cv_estimate))\n",
    "print('Outcomes by cv fold')\n",
    "for i, x in enumerate(cv_estimate):\n",
    "    print('fold ' + str(i+1) + '   %4.3f' % x)"
   ]
  },
  {
   "cell_type": "markdown",
   "metadata": {},
   "source": [
    "Examine these results. Notice that the standard deviation of the mean of the AUC is more than an order of magnitude smaller than the mean. This indicates that this model is likely to generalize well. \n",
    "\n",
    "Now, you will build and test a model using the estimated optimal hyperparameters. As a first step, execute the code in the cell below to create training and testing datasets."
   ]
  },
  {
   "cell_type": "code",
   "execution_count": 17,
   "metadata": {
    "collapsed": true
   },
   "outputs": [],
   "source": [
    "## Randomly sample cases to create independent training and test data\n",
    "nr.seed(1115)\n",
    "indx = range(Features.shape[0])\n",
    "indx = ms.train_test_split(indx, test_size = 300)\n",
    "x_train = Features[indx[0],:]\n",
    "y_train = np.ravel(Labels[indx[0]])\n",
    "x_test = Features[indx[1],:]\n",
    "y_test = np.ravel(Labels[indx[1]])"
   ]
  },
  {
   "cell_type": "markdown",
   "metadata": {},
   "source": [
    "The code in the cell below defines an AdaBoosted tree model object using the estimated optimal model hyperparameters and then fits the model to the training data. Execute this code."
   ]
  },
  {
   "cell_type": "code",
   "execution_count": 18,
   "metadata": {},
   "outputs": [
    {
     "data": {
      "text/plain": [
       "AdaBoostClassifier(algorithm='SAMME.R', base_estimator=None, learning_rate=1,\n",
       "          n_estimators=100, random_state=None)"
      ]
     },
     "execution_count": 18,
     "metadata": {},
     "output_type": "execute_result"
    }
   ],
   "source": [
    "nr.seed(1115)\n",
    "ab_mod = AdaBoostClassifier(n_estimators=100, learning_rate = 1) \n",
    "ab_mod.fit(x_train, y_train)"
   ]
  },
  {
   "cell_type": "markdown",
   "metadata": {},
   "source": [
    "As expected, the hyperparameters of the AdaBoosted tree model object reflect those specified. \n",
    "\n",
    "The code in the cell below scores and prints evaluation metrics for the model, using the test data subset. Execute this code and examine the results. "
   ]
  },
  {
   "cell_type": "code",
   "execution_count": 19,
   "metadata": {},
   "outputs": [
    {
     "name": "stdout",
     "output_type": "stream",
     "text": [
      "                 Confusion matrix\n",
      "                 Score positive    Score negative\n",
      "True positive       188             29\n",
      "True negative        46             37\n",
      "\n",
      "Accuracy        0.75\n",
      "AUC             0.66\n",
      "Macro precision 0.68\n",
      "Macro recall    0.66\n",
      " \n",
      "             Positive   Negative\n",
      "Num case    217.00       83.00\n",
      "Precision   0.80          0.56\n",
      "Recall      0.87          0.45\n",
      "F1          0.83          0.50\n"
     ]
    }
   ],
   "source": [
    "def print_metrics(labels, scores):\n",
    "    metrics = sklm.precision_recall_fscore_support(labels, scores)\n",
    "    conf = sklm.confusion_matrix(labels, scores)\n",
    "    print('                 Confusion matrix')\n",
    "    print('                 Score positive    Score negative')\n",
    "    print('True positive    %6d' % conf[0,0] + '          %5d' % conf[0,1])\n",
    "    print('True negative    %6d' % conf[1,0] + '          %5d' % conf[1,1])\n",
    "    print('')\n",
    "    print('Accuracy        %0.2f' % sklm.accuracy_score(labels, scores))\n",
    "    print('AUC             %0.2f' % sklm.roc_auc_score(labels, scores))\n",
    "    print('Macro precision %0.2f' % float((float(metrics[0][0]) + float(metrics[0][1]))/2.0))\n",
    "    print('Macro recall    %0.2f' % float((float(metrics[1][0]) + float(metrics[1][1]))/2.0))\n",
    "    print(' ')\n",
    "    print('             Positive   Negative')\n",
    "    print('Num case    %0.2f' % metrics[3][0] + '       %0.2f' % metrics[3][1])\n",
    "    print('Precision   %0.2f' % metrics[0][0] + '          %0.2f' % metrics[0][1])\n",
    "    print('Recall      %0.2f' % metrics[1][0] + '          %0.2f' % metrics[1][1])\n",
    "    print('F1          %0.2f' % metrics[2][0] + '          %0.2f' % metrics[2][1])\n",
    "\n",
    "scores = ab_mod.predict(x_test)\n",
    "print_metrics(y_test, scores)     "
   ]
  },
  {
   "cell_type": "markdown",
   "metadata": {},
   "source": [
    "Overall, these performance metrics are poor. The majority of negative cases have been misclassified as positive. Adaboosted methods are sensitive to class imbalance. \n",
    "\n",
    "It is likely that the poor performance arises from the class imbalance. Notice that there is no way to reweight classes with boosting methods. Some alternatives are:\n",
    "1. **Impute** new values using a statistical algorithm. \n",
    "2. **Undersample** the majority cases. For this method a number of the cases equal to the minority case are Bernoulli sampled from the majority case. \n",
    "3. **Oversample** the minority cases. For this method the number of minority cases are resampled until they equal the number of majority cases.\n",
    "\n",
    "The code in the cell below undersamples the majority cases; good credit customers. The `choice` function from the numpy.random package is used to randomize the undersampling. The count of unique label values and the shape of the resulting arrays is printed. Execute this code to create a data set with balanced cases. "
   ]
  },
  {
   "cell_type": "code",
   "execution_count": 20,
   "metadata": {},
   "outputs": [
    {
     "name": "stdout",
     "output_type": "stream",
     "text": [
      "[300 300]\n",
      "(600, 35)\n",
      "(600,)\n"
     ]
    }
   ],
   "source": [
    "temp_Labels_1 = Labels[Labels == 1]  # Save these\n",
    "temp_Features_1 = Features[Labels == 1,:] # Save these\n",
    "temp_Labels_0 = Labels[Labels == 0]  # Undersample these\n",
    "temp_Features_0 = Features[Labels == 0,:] # Undersample these\n",
    "\n",
    "indx = nr.choice(temp_Features_0.shape[0], temp_Features_1.shape[0], replace=True)\n",
    "\n",
    "temp_Features = np.concatenate((temp_Features_1, temp_Features_0[indx,:]), axis = 0)\n",
    "temp_Labels = np.concatenate((temp_Labels_1, temp_Labels_0[indx,]), axis = 0) \n",
    "\n",
    "print(np.bincount(temp_Labels))\n",
    "print(temp_Features.shape)\n",
    "print(temp_Labels.shape)"
   ]
  },
  {
   "cell_type": "markdown",
   "metadata": {},
   "source": [
    "There are now 300 of each label case with 600 cases overall. The question is, will using these data produce better results?\n",
    "\n",
    "You will perform model selection and evaluation using nested cross validation. The code in the cell below finds the optimal learning rate parameter using cross validation. \n",
    "\n",
    "Once you have executed the code, answer **Question 3** on the course page."
   ]
  },
  {
   "cell_type": "code",
   "execution_count": 21,
   "metadata": {},
   "outputs": [
    {
     "name": "stdout",
     "output_type": "stream",
     "text": [
      "0.1\n"
     ]
    }
   ],
   "source": [
    "nr.seed(1234)\n",
    "inside = ms.KFold(n_splits=10, shuffle = True)\n",
    "nr.seed(3214)\n",
    "outside = ms.KFold(n_splits=10, shuffle = True)\n",
    "\n",
    "## Define the AdaBoosted tree model\n",
    "nr.seed(3456)\n",
    "ab_clf = AdaBoostClassifier(n_estimators=100)  \n",
    "\n",
    "## Perform the grid search over the parameters\n",
    "nr.seed(4455)\n",
    "ab_clf = ms.GridSearchCV(estimator = ab_clf, param_grid = param_grid, \n",
    "                      cv = inside, # Use the inside folds\n",
    "                      scoring = sklm.make_scorer(sklm.roc_auc_score),\n",
    "                      return_train_score = True)\n",
    "ab_clf.fit(temp_Features, temp_Labels)\n",
    "print(ab_clf.best_estimator_.learning_rate)"
   ]
  },
  {
   "cell_type": "markdown",
   "metadata": {},
   "source": [
    "Notice that the estimated optimal learning rate parameter is smaller than before.\n",
    "\n",
    "Now, run the code in the cell below to execute the outer loop of the cross validation. "
   ]
  },
  {
   "cell_type": "code",
   "execution_count": 22,
   "metadata": {
    "scrolled": true
   },
   "outputs": [
    {
     "name": "stdout",
     "output_type": "stream",
     "text": [
      "Mean performance metric = 0.712\n",
      "SDT of the metric       = 0.041\n",
      "Outcomes by cv fold\n",
      "fold 1   0.684\n",
      "fold 2   0.700\n",
      "fold 3   0.632\n",
      "fold 4   0.714\n",
      "fold 5   0.792\n",
      "fold 6   0.716\n",
      "fold 7   0.692\n",
      "fold 8   0.733\n",
      "fold 9   0.754\n",
      "fold 10   0.703\n"
     ]
    }
   ],
   "source": [
    "nr.seed(498)\n",
    "cv_estimate = ms.cross_val_score(ab_clf, temp_Features, temp_Labels, \n",
    "                                 cv = outside) # Use the outside folds\n",
    "print('Mean performance metric = %4.3f' % np.mean(cv_estimate))\n",
    "\n",
    "print('SDT of the metric       = %4.3f' % np.std(cv_estimate))\n",
    "print('Outcomes by cv fold')\n",
    "for i, x in enumerate(cv_estimate):\n",
    "    print('fold ' + str(i+1) + '   %4.3f' % x)"
   ]
  },
  {
   "cell_type": "markdown",
   "metadata": {},
   "source": [
    "The average AUC is improved compared to the imbalanced training cases. However, the differences are just within 1 standard deviation. Still, there is a reasonable chance the new results represent an improvement. \n",
    "\n",
    "Finally, you will train and evaluate a model with the balanced cases and the update hyperparameter. The code in the cell below does the following processing:\n",
    "1. Creates Bernoulli sampled test and training subsets. \n",
    "2. Defines an AdaBoosted model.\n",
    "3. Trains the AdaBoosted model.\n",
    "\n",
    "Execute this code. "
   ]
  },
  {
   "cell_type": "code",
   "execution_count": 23,
   "metadata": {},
   "outputs": [
    {
     "data": {
      "text/plain": [
       "AdaBoostClassifier(algorithm='SAMME.R', base_estimator=None,\n",
       "          learning_rate=0.1, n_estimators=100, random_state=None)"
      ]
     },
     "execution_count": 23,
     "metadata": {},
     "output_type": "execute_result"
    }
   ],
   "source": [
    "## Randomly sample cases to create independent training and test data\n",
    "nr.seed(1115)\n",
    "indx = range(temp_Features.shape[0])\n",
    "indx = ms.train_test_split(indx, test_size = 200)\n",
    "x_train = temp_Features[indx[0],:]\n",
    "y_train = np.ravel(temp_Labels[indx[0]])\n",
    "x_test = temp_Features[indx[1],:]\n",
    "y_test = np.ravel(temp_Labels[indx[1]])\n",
    "\n",
    "## Define and fit the model\n",
    "nr.seed(1115)\n",
    "ab_mod = AdaBoostClassifier(n_estimators=100, learning_rate = 0.1) \n",
    "ab_mod.fit(x_train, y_train)"
   ]
  },
  {
   "cell_type": "markdown",
   "metadata": {},
   "source": [
    "Now, execute the code in the cell below to score and evaluate the model.\n",
    "\n",
    "Once you have executed the code, answer **Question 4** on the course page."
   ]
  },
  {
   "cell_type": "code",
   "execution_count": 24,
   "metadata": {},
   "outputs": [
    {
     "name": "stdout",
     "output_type": "stream",
     "text": [
      "                 Confusion matrix\n",
      "                 Score positive    Score negative\n",
      "True positive        66             27\n",
      "True negative        20             87\n",
      "\n",
      "Accuracy        0.77\n",
      "AUC             0.76\n",
      "Macro precision 0.77\n",
      "Macro recall    0.76\n",
      " \n",
      "             Positive   Negative\n",
      "Num case    93.00       107.00\n",
      "Precision   0.77          0.76\n",
      "Recall      0.71          0.81\n",
      "F1          0.74          0.79\n"
     ]
    }
   ],
   "source": [
    "scores = ab_clf.predict(x_test)\n",
    "print_metrics(y_test, scores) "
   ]
  },
  {
   "cell_type": "markdown",
   "metadata": {},
   "source": [
    "These results are significantly better than those obtained with the imbalanced training data. However, there are at least two reasons to be cautious:\n",
    "1. The reported AUC is nearly 1 standard deviation above the average obtained with cross validation. \n",
    "2. The test cases have balanced cases, which will not be true in production. "
   ]
  },
  {
   "cell_type": "markdown",
   "metadata": {},
   "source": [
    "## Summary\n",
    "\n",
    "In this lab you have accomplished the following:\n",
    "1. Used an AdaBoosted tree model to classify the cases of the iris data. This model produced quite good results.\n",
    "2. Applied feature importance was used for feature selection with the iris data. The model created and evaluated with the reduced feature set had essentially the same performance as the model with more features.  \n",
    "3. Used 10 fold to find estimated optimal hyperparameters for an AdaBoosted tree model to classify credit risk cases. The model did not generalize well.\n",
    "4. Applied undersampling of the majority cases to create a balanced training dataset and retrained and evaluated the model. The model created with balanced training data was significantly better. "
   ]
  },
  {
   "cell_type": "code",
   "execution_count": null,
   "metadata": {
    "collapsed": true
   },
   "outputs": [],
   "source": []
  }
 ],
 "metadata": {
  "kernelspec": {
   "display_name": "R",
   "language": "R",
   "name": "ir"
  },
  "language_info": {
   "codemirror_mode": "r",
   "file_extension": ".r",
   "mimetype": "text/x-r-source",
   "name": "R",
   "pygments_lexer": "r",
   "version": "3.5.0"
  }
 },
 "nbformat": 4,
 "nbformat_minor": 2
}
