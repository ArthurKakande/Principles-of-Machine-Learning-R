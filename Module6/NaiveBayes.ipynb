{
 "cells": [
  {
   "cell_type": "markdown",
   "metadata": {},
   "source": [
    "# Naive Bayes Models\n",
    "\n",
    "In this lab you will work with **naive Bayes models**. Naive Bayes models are a surprisingly useful and effective simplification of the general Bayesian models. Naive Bayes models make the naive assumption of statistial independence of the features. In many cases, naive Bayes module are suprisingly effective despite violating the assumption of independence. \n",
    "\n",
    "In simple terms, naive Bayes models use emperical distributions of the features to compute probabilities of the labels. The naive Bayes models can use most any family of distributions for the features. It is important to select the correct distribution family for the data you are working with. Common cases are:\n",
    "- **Gaussian;** for continious or numerical features.\n",
    "- **Bernoulli;** for features with binary values. \n",
    "- **Multinomial;** for features with more than two categories. \n",
    "\n",
    "These is one pit fall, the model fails if a zero probability is encountered. This situation occurs when there is a 'hole' in the sample space where there are no samples. A simple smoothing proceedure can deal with this problem. The smoothing hyperparameter, usually called alpha, is one of the few required for naive Bayes models. \n",
    "\n",
    "Some properties of naive Bayes models are:\n",
    "- Computational complexity is linear in number of parameter/features, making naive Bayes models highly scalable. There are out or core approaches suitable for massive datasets.\n",
    "- Requires minimal data to produce models that generalizes well. If there are only a few cases per category to train a model a naive Bayes model can be a good choice. \n",
    "- Have a simple and inherent regularization.\n",
    "\n",
    "Naive Bayes models are used in many situatons including:\n",
    "\n",
    "- Document classification\n",
    "- SPAM detection\n",
    "- Image classification \n",
    "\n"
   ]
  },
  {
   "cell_type": "markdown",
   "metadata": {},
   "source": [
    "## Example: Iris dataset\n",
    "\n",
    "As a first example you will use a naive Bayes model to classify the species of iris flowers. \n",
    "\n",
    "As a first step, execute the code in the cell below to load the required packages to run the rest of this notebook. "
   ]
  },
  {
   "cell_type": "code",
   "execution_count": 82,
   "metadata": {
    "scrolled": true
   },
   "outputs": [],
   "source": [
    "## Import packages\n",
    "library(ggplot2)\n",
    "library(gridExtra)\n",
    "library(repr)\n",
    "library(dplyr)\n",
    "library(caret)\n",
    "library(e1071)\n",
    "library(MLmetrics)\n",
    "library(klaR)\n",
    "\n",
    "options(repr.plot.width=4, repr.plot.height=4) # Set the initial plot area dimensions"
   ]
  },
  {
   "cell_type": "markdown",
   "metadata": {},
   "source": [
    "To get a feel for these data, you will now load and plot them. Execute this code and examine the results.  "
   ]
  },
  {
   "cell_type": "code",
   "execution_count": 64,
   "metadata": {},
   "outputs": [
    {
     "data": {
      "text/html": [
       "<table>\n",
       "<thead><tr><th scope=col>Sepal.Length</th><th scope=col>Sepal.Width</th><th scope=col>Petal.Length</th><th scope=col>Petal.Width</th><th scope=col>Species</th></tr></thead>\n",
       "<tbody>\n",
       "\t<tr><td>5.1   </td><td>3.5   </td><td>1.4   </td><td>0.2   </td><td>setosa</td></tr>\n",
       "\t<tr><td>4.9   </td><td>3.0   </td><td>1.4   </td><td>0.2   </td><td>setosa</td></tr>\n",
       "\t<tr><td>4.7   </td><td>3.2   </td><td>1.3   </td><td>0.2   </td><td>setosa</td></tr>\n",
       "\t<tr><td>4.6   </td><td>3.1   </td><td>1.5   </td><td>0.2   </td><td>setosa</td></tr>\n",
       "\t<tr><td>5.0   </td><td>3.6   </td><td>1.4   </td><td>0.2   </td><td>setosa</td></tr>\n",
       "\t<tr><td>5.4   </td><td>3.9   </td><td>1.7   </td><td>0.4   </td><td>setosa</td></tr>\n",
       "\t<tr><td>4.6   </td><td>3.4   </td><td>1.4   </td><td>0.3   </td><td>setosa</td></tr>\n",
       "\t<tr><td>5.0   </td><td>3.4   </td><td>1.5   </td><td>0.2   </td><td>setosa</td></tr>\n",
       "\t<tr><td>4.4   </td><td>2.9   </td><td>1.4   </td><td>0.2   </td><td>setosa</td></tr>\n",
       "\t<tr><td>4.9   </td><td>3.1   </td><td>1.5   </td><td>0.1   </td><td>setosa</td></tr>\n",
       "</tbody>\n",
       "</table>\n"
      ],
      "text/latex": [
       "\\begin{tabular}{r|lllll}\n",
       " Sepal.Length & Sepal.Width & Petal.Length & Petal.Width & Species\\\\\n",
       "\\hline\n",
       "\t 5.1    & 3.5    & 1.4    & 0.2    & setosa\\\\\n",
       "\t 4.9    & 3.0    & 1.4    & 0.2    & setosa\\\\\n",
       "\t 4.7    & 3.2    & 1.3    & 0.2    & setosa\\\\\n",
       "\t 4.6    & 3.1    & 1.5    & 0.2    & setosa\\\\\n",
       "\t 5.0    & 3.6    & 1.4    & 0.2    & setosa\\\\\n",
       "\t 5.4    & 3.9    & 1.7    & 0.4    & setosa\\\\\n",
       "\t 4.6    & 3.4    & 1.4    & 0.3    & setosa\\\\\n",
       "\t 5.0    & 3.4    & 1.5    & 0.2    & setosa\\\\\n",
       "\t 4.4    & 2.9    & 1.4    & 0.2    & setosa\\\\\n",
       "\t 4.9    & 3.1    & 1.5    & 0.1    & setosa\\\\\n",
       "\\end{tabular}\n"
      ],
      "text/markdown": [
       "\n",
       "Sepal.Length | Sepal.Width | Petal.Length | Petal.Width | Species | \n",
       "|---|---|---|---|---|---|---|---|---|---|\n",
       "| 5.1    | 3.5    | 1.4    | 0.2    | setosa | \n",
       "| 4.9    | 3.0    | 1.4    | 0.2    | setosa | \n",
       "| 4.7    | 3.2    | 1.3    | 0.2    | setosa | \n",
       "| 4.6    | 3.1    | 1.5    | 0.2    | setosa | \n",
       "| 5.0    | 3.6    | 1.4    | 0.2    | setosa | \n",
       "| 5.4    | 3.9    | 1.7    | 0.4    | setosa | \n",
       "| 4.6    | 3.4    | 1.4    | 0.3    | setosa | \n",
       "| 5.0    | 3.4    | 1.5    | 0.2    | setosa | \n",
       "| 4.4    | 2.9    | 1.4    | 0.2    | setosa | \n",
       "| 4.9    | 3.1    | 1.5    | 0.1    | setosa | \n",
       "\n",
       "\n"
      ],
      "text/plain": [
       "   Sepal.Length Sepal.Width Petal.Length Petal.Width Species\n",
       "1  5.1          3.5         1.4          0.2         setosa \n",
       "2  4.9          3.0         1.4          0.2         setosa \n",
       "3  4.7          3.2         1.3          0.2         setosa \n",
       "4  4.6          3.1         1.5          0.2         setosa \n",
       "5  5.0          3.6         1.4          0.2         setosa \n",
       "6  5.4          3.9         1.7          0.4         setosa \n",
       "7  4.6          3.4         1.4          0.3         setosa \n",
       "8  5.0          3.4         1.5          0.2         setosa \n",
       "9  4.4          2.9         1.4          0.2         setosa \n",
       "10 4.9          3.1         1.5          0.1         setosa "
      ]
     },
     "metadata": {},
     "output_type": "display_data"
    },
    {
     "data": {
      "image/png": "[encoded data removed]",
      "text/plain": [
       "plot without title"
      ]
     },
     "metadata": {},
     "output_type": "display_data"
    }
   ],
   "source": [
    "single_plot = function(df, colx, coly){\n",
    "    ggplot(df, aes_string(colx,coly)) +\n",
    "          geom_point(aes(color = factor(df$Species)), alpha = 0.4)\n",
    "}\n",
    "\n",
    "plot_iris = function(df){\n",
    "    options(repr.plot.width=8, repr.plot.height=5)\n",
    "    grid.arrange(\n",
    "        single_plot(df, 'Sepal.Length', 'Sepal.Width'),\n",
    "        single_plot(df, 'Sepal.Length', 'Petal.Length'),\n",
    "        single_plot(df, 'Petal.Length', 'Petal.Width'),\n",
    "        single_plot(df, 'Sepal.Width', 'Petal.Length'),\n",
    "        nrow = 2)\n",
    "}\n",
    "\n",
    "head(iris, 10)   \n",
    "plot_iris(iris)  "
   ]
  },
  {
   "cell_type": "markdown",
   "metadata": {},
   "source": [
    "You can see that Setosa (in red) is well separated from the other two categories. The Versicolor (in green) and the Virginica (in blue) show considerable overlap. The question is how well our classifier will separate these categories. \n",
    "\n",
    "Next, execute the code in the cell below to split the dataset into test and training set. Notice that unusually, 67% of the cases are being used as the test dataset. "
   ]
  },
  {
   "cell_type": "code",
   "execution_count": 65,
   "metadata": {},
   "outputs": [
    {
     "data": {
      "text/html": [
       "<ol class=list-inline>\n",
       "\t<li>51</li>\n",
       "\t<li>5</li>\n",
       "</ol>\n"
      ],
      "text/latex": [
       "\\begin{enumerate*}\n",
       "\\item 51\n",
       "\\item 5\n",
       "\\end{enumerate*}\n"
      ],
      "text/markdown": [
       "1. 51\n",
       "2. 5\n",
       "\n",
       "\n"
      ],
      "text/plain": [
       "[1] 51  5"
      ]
     },
     "metadata": {},
     "output_type": "display_data"
    },
    {
     "data": {
      "text/html": [
       "<ol class=list-inline>\n",
       "\t<li>99</li>\n",
       "\t<li>5</li>\n",
       "</ol>\n"
      ],
      "text/latex": [
       "\\begin{enumerate*}\n",
       "\\item 99\n",
       "\\item 5\n",
       "\\end{enumerate*}\n"
      ],
      "text/markdown": [
       "1. 99\n",
       "2. 5\n",
       "\n",
       "\n"
      ],
      "text/plain": [
       "[1] 99  5"
      ]
     },
     "metadata": {},
     "output_type": "display_data"
    }
   ],
   "source": [
    "set.seed(1955)\n",
    "## Randomly sample cases to create independent training and test data\n",
    "partition = createDataPartition(iris[,'Species'], times = 1, p = 0.33, list = FALSE)\n",
    "training = iris[partition,] # Create the training sample\n",
    "dim(training)\n",
    "test = iris[-partition,] # Create the test sample\n",
    "dim(test)"
   ]
  },
  {
   "cell_type": "markdown",
   "metadata": {},
   "source": [
    "As is always the case with machine learning, numeric features  must be scaled. Execute the code in the cell below to scale the training and test datasets:"
   ]
  },
  {
   "cell_type": "code",
   "execution_count": 66,
   "metadata": {},
   "outputs": [
    {
     "data": {
      "text/html": [
       "<table>\n",
       "<thead><tr><th></th><th scope=col>Sepal.Length</th><th scope=col>Sepal.Width</th><th scope=col>Petal.Length</th><th scope=col>Petal.Width</th></tr></thead>\n",
       "<tbody>\n",
       "\t<tr><th scope=row>3</th><td>-1.2646501</td><td> 0.4563512</td><td>-1.348274 </td><td>-1.287390 </td></tr>\n",
       "\t<tr><th scope=row>5</th><td>-0.9016267</td><td> 1.4161001</td><td>-1.293220 </td><td>-1.287390 </td></tr>\n",
       "\t<tr><th scope=row>6</th><td>-0.4175955</td><td> 2.1359118</td><td>-1.128059 </td><td>-1.027876 </td></tr>\n",
       "\t<tr><th scope=row>9</th><td>-1.6276734</td><td>-0.2634605</td><td>-1.293220 </td><td>-1.287390 </td></tr>\n",
       "\t<tr><th scope=row>10</th><td>-1.0226345</td><td> 0.2164140</td><td>-1.238167 </td><td>-1.417146 </td></tr>\n",
       "\t<tr><th scope=row>11</th><td>-0.4175955</td><td> 1.6560373</td><td>-1.238167 </td><td>-1.287390 </td></tr>\n",
       "</tbody>\n",
       "</table>\n"
      ],
      "text/latex": [
       "\\begin{tabular}{r|llll}\n",
       "  & Sepal.Length & Sepal.Width & Petal.Length & Petal.Width\\\\\n",
       "\\hline\n",
       "\t3 & -1.2646501 &  0.4563512 & -1.348274  & -1.287390 \\\\\n",
       "\t5 & -0.9016267 &  1.4161001 & -1.293220  & -1.287390 \\\\\n",
       "\t6 & -0.4175955 &  2.1359118 & -1.128059  & -1.027876 \\\\\n",
       "\t9 & -1.6276734 & -0.2634605 & -1.293220  & -1.287390 \\\\\n",
       "\t10 & -1.0226345 &  0.2164140 & -1.238167  & -1.417146 \\\\\n",
       "\t11 & -0.4175955 &  1.6560373 & -1.238167  & -1.287390 \\\\\n",
       "\\end{tabular}\n"
      ],
      "text/markdown": [
       "\n",
       "| <!--/--> | Sepal.Length | Sepal.Width | Petal.Length | Petal.Width | \n",
       "|---|---|---|---|---|---|\n",
       "| 3 | -1.2646501 |  0.4563512 | -1.348274  | -1.287390  | \n",
       "| 5 | -0.9016267 |  1.4161001 | -1.293220  | -1.287390  | \n",
       "| 6 | -0.4175955 |  2.1359118 | -1.128059  | -1.027876  | \n",
       "| 9 | -1.6276734 | -0.2634605 | -1.293220  | -1.287390  | \n",
       "| 10 | -1.0226345 |  0.2164140 | -1.238167  | -1.417146  | \n",
       "| 11 | -0.4175955 |  1.6560373 | -1.238167  | -1.287390  | \n",
       "\n",
       "\n"
      ],
      "text/plain": [
       "   Sepal.Length Sepal.Width Petal.Length Petal.Width\n",
       "3  -1.2646501    0.4563512  -1.348274    -1.287390  \n",
       "5  -0.9016267    1.4161001  -1.293220    -1.287390  \n",
       "6  -0.4175955    2.1359118  -1.128059    -1.027876  \n",
       "9  -1.6276734   -0.2634605  -1.293220    -1.287390  \n",
       "10 -1.0226345    0.2164140  -1.238167    -1.417146  \n",
       "11 -0.4175955    1.6560373  -1.238167    -1.287390  "
      ]
     },
     "metadata": {},
     "output_type": "display_data"
    }
   ],
   "source": [
    "num_cols = c('Sepal.Length', 'Sepal.Width', 'Petal.Length', 'Petal.Width')\n",
    "preProcValues <- preProcess(training[,num_cols], method = c(\"center\", \"scale\"))\n",
    "\n",
    "training[,num_cols] = predict(preProcValues, training[,num_cols])\n",
    "test[,num_cols] = predict(preProcValues, test[,num_cols])\n",
    "head(training[,num_cols])"
   ]
  },
  {
   "cell_type": "markdown",
   "metadata": {},
   "source": [
    "Now you will define and fit a naive Bayes model. The code in the cell uses the `naiveBayes` function from the e1071 package. The model formula is specified along with the data. Execute this code."
   ]
  },
  {
   "cell_type": "code",
   "execution_count": 67,
   "metadata": {},
   "outputs": [],
   "source": [
    "nb_mod = naiveBayes(factor(Species) ~ ., data = training)"
   ]
  },
  {
   "cell_type": "markdown",
   "metadata": {},
   "source": [
    "Next, the code in the cell below uses the `predict` method is used to compute the multinomial class probabilities from the scaled features. Execute this code. "
   ]
  },
  {
   "cell_type": "code",
   "execution_count": 68,
   "metadata": {
    "scrolled": true
   },
   "outputs": [
    {
     "data": {
      "text/html": [
       "<table>\n",
       "<thead><tr><th></th><th scope=col>Sepal.Length</th><th scope=col>Sepal.Width</th><th scope=col>Petal.Length</th><th scope=col>Petal.Width</th><th scope=col>Species</th><th scope=col>scores</th></tr></thead>\n",
       "<tbody>\n",
       "\t<tr><th scope=row>1</th><td>-0.78061890</td><td> 1.17616289</td><td>-1.293220  </td><td>-1.287390  </td><td>setosa     </td><td>setosa     </td></tr>\n",
       "\t<tr><th scope=row>2</th><td>-1.02263448</td><td>-0.02352326</td><td>-1.293220  </td><td>-1.287390  </td><td>setosa     </td><td>setosa     </td></tr>\n",
       "\t<tr><th scope=row>4</th><td>-1.38565786</td><td> 0.21641397</td><td>-1.238167  </td><td>-1.287390  </td><td>setosa     </td><td>setosa     </td></tr>\n",
       "\t<tr><th scope=row>7</th><td>-1.38565786</td><td> 0.93622566</td><td>-1.293220  </td><td>-1.157633  </td><td>setosa     </td><td>setosa     </td></tr>\n",
       "\t<tr><th scope=row>8</th><td>-0.90162669</td><td> 0.93622566</td><td>-1.238167  </td><td>-1.287390  </td><td>setosa     </td><td>setosa     </td></tr>\n",
       "\t<tr><th scope=row>12</th><td>-1.14364227</td><td> 0.93622566</td><td>-1.183113  </td><td>-1.287390  </td><td>setosa     </td><td>setosa     </td></tr>\n",
       "\t<tr><th scope=row>14</th><td>-1.74868124</td><td>-0.02352326</td><td>-1.458381  </td><td>-1.417146  </td><td>setosa     </td><td>setosa     </td></tr>\n",
       "\t<tr><th scope=row>15</th><td> 0.06643565</td><td> 2.37584904</td><td>-1.403328  </td><td>-1.287390  </td><td>setosa     </td><td>setosa     </td></tr>\n",
       "\t<tr><th scope=row>16</th><td>-0.05457214</td><td> 3.33559795</td><td>-1.238167  </td><td>-1.027876  </td><td>setosa     </td><td>setosa     </td></tr>\n",
       "\t<tr><th scope=row>19</th><td>-0.05457214</td><td> 1.89597458</td><td>-1.128059  </td><td>-1.157633  </td><td>setosa     </td><td>setosa     </td></tr>\n",
       "</tbody>\n",
       "</table>\n"
      ],
      "text/latex": [
       "\\begin{tabular}{r|llllll}\n",
       "  & Sepal.Length & Sepal.Width & Petal.Length & Petal.Width & Species & scores\\\\\n",
       "\\hline\n",
       "\t1 & -0.78061890 &  1.17616289 & -1.293220   & -1.287390   & setosa      & setosa     \\\\\n",
       "\t2 & -1.02263448 & -0.02352326 & -1.293220   & -1.287390   & setosa      & setosa     \\\\\n",
       "\t4 & -1.38565786 &  0.21641397 & -1.238167   & -1.287390   & setosa      & setosa     \\\\\n",
       "\t7 & -1.38565786 &  0.93622566 & -1.293220   & -1.157633   & setosa      & setosa     \\\\\n",
       "\t8 & -0.90162669 &  0.93622566 & -1.238167   & -1.287390   & setosa      & setosa     \\\\\n",
       "\t12 & -1.14364227 &  0.93622566 & -1.183113   & -1.287390   & setosa      & setosa     \\\\\n",
       "\t14 & -1.74868124 & -0.02352326 & -1.458381   & -1.417146   & setosa      & setosa     \\\\\n",
       "\t15 &  0.06643565 &  2.37584904 & -1.403328   & -1.287390   & setosa      & setosa     \\\\\n",
       "\t16 & -0.05457214 &  3.33559795 & -1.238167   & -1.027876   & setosa      & setosa     \\\\\n",
       "\t19 & -0.05457214 &  1.89597458 & -1.128059   & -1.157633   & setosa      & setosa     \\\\\n",
       "\\end{tabular}\n"
      ],
      "text/markdown": [
       "\n",
       "| <!--/--> | Sepal.Length | Sepal.Width | Petal.Length | Petal.Width | Species | scores | \n",
       "|---|---|---|---|---|---|---|---|---|---|\n",
       "| 1 | -0.78061890 |  1.17616289 | -1.293220   | -1.287390   | setosa      | setosa      | \n",
       "| 2 | -1.02263448 | -0.02352326 | -1.293220   | -1.287390   | setosa      | setosa      | \n",
       "| 4 | -1.38565786 |  0.21641397 | -1.238167   | -1.287390   | setosa      | setosa      | \n",
       "| 7 | -1.38565786 |  0.93622566 | -1.293220   | -1.157633   | setosa      | setosa      | \n",
       "| 8 | -0.90162669 |  0.93622566 | -1.238167   | -1.287390   | setosa      | setosa      | \n",
       "| 12 | -1.14364227 |  0.93622566 | -1.183113   | -1.287390   | setosa      | setosa      | \n",
       "| 14 | -1.74868124 | -0.02352326 | -1.458381   | -1.417146   | setosa      | setosa      | \n",
       "| 15 |  0.06643565 |  2.37584904 | -1.403328   | -1.287390   | setosa      | setosa      | \n",
       "| 16 | -0.05457214 |  3.33559795 | -1.238167   | -1.027876   | setosa      | setosa      | \n",
       "| 19 | -0.05457214 |  1.89597458 | -1.128059   | -1.157633   | setosa      | setosa      | \n",
       "\n",
       "\n"
      ],
      "text/plain": [
       "   Sepal.Length Sepal.Width Petal.Length Petal.Width Species scores\n",
       "1  -0.78061890   1.17616289 -1.293220    -1.287390   setosa  setosa\n",
       "2  -1.02263448  -0.02352326 -1.293220    -1.287390   setosa  setosa\n",
       "4  -1.38565786   0.21641397 -1.238167    -1.287390   setosa  setosa\n",
       "7  -1.38565786   0.93622566 -1.293220    -1.157633   setosa  setosa\n",
       "8  -0.90162669   0.93622566 -1.238167    -1.287390   setosa  setosa\n",
       "12 -1.14364227   0.93622566 -1.183113    -1.287390   setosa  setosa\n",
       "14 -1.74868124  -0.02352326 -1.458381    -1.417146   setosa  setosa\n",
       "15  0.06643565   2.37584904 -1.403328    -1.287390   setosa  setosa\n",
       "16 -0.05457214   3.33559795 -1.238167    -1.027876   setosa  setosa\n",
       "19 -0.05457214   1.89597458 -1.128059    -1.157633   setosa  setosa"
      ]
     },
     "metadata": {},
     "output_type": "display_data"
    }
   ],
   "source": [
    "test[,'scores'] = predict(nb_mod, newdata = test)\n",
    "test[1:10,]"
   ]
  },
  {
   "cell_type": "markdown",
   "metadata": {},
   "source": [
    "You can see actual species and predicted species. \n",
    "\n",
    "It is time to evaluate the model results. Keep in mind that the problem has been made deliberately difficult, by having more test cases than training cases. The iris data has three species categories. Therefore it is necessary to use evaluation code for a three category problem. The function in the cell below extends code from previous labs to deal with a three category problem. Execute this code and examine the results."
   ]
  },
  {
   "cell_type": "code",
   "execution_count": 69,
   "metadata": {},
   "outputs": [
    {
     "name": "stdout",
     "output_type": "stream",
     "text": [
      "            Predicted\n",
      "Actual       setosa versicolor virginica\n",
      "  setosa         33          0         0\n",
      "  versicolor      0         28         5\n",
      "  virginica       0          3        30\n",
      "\n",
      "Accuracy =  0.919 \n",
      " \n",
      "          setosa versicolor virginica\n",
      "Precision      1      0.848     0.909\n",
      "Recall         1      0.903     0.857\n",
      "F1             1      0.875     0.882\n"
     ]
    }
   ],
   "source": [
    "print_metrics = function(df, label){\n",
    "    ## Compute and print the confusion matrix\n",
    "    cm = as.matrix(table(Actual = df$Species, Predicted = df$scores))\n",
    "    print(cm)\n",
    "\n",
    "    ## Compute and print accuracy \n",
    "    accuracy = round(sum(sapply(1:nrow(cm), function(i) cm[i,i]))/sum(cm), 3)\n",
    "    cat('\\n')\n",
    "    cat(paste('Accuracy = ', as.character(accuracy)), '\\n \\n')                           \n",
    "\n",
    "    ## Compute and print precision, recall and F1\n",
    "    precision = sapply(1:nrow(cm), function(i) cm[i,i]/sum(cm[i,]))\n",
    "    recall = sapply(1:nrow(cm), function(i) cm[i,i]/sum(cm[,i]))    \n",
    "    F1 = sapply(1:nrow(cm), function(i) 2*(recall[i] * precision[i])/(recall[i] + precision[i]))    \n",
    "    metrics = sapply(c(precision, recall, F1), round, 3)        \n",
    "    metrics = t(matrix(metrics, nrow = nrow(cm), ncol = ncol(cm)))       \n",
    "    dimnames(metrics) = list(c('Precision', 'Recall', 'F1'), unique(test$Species))      \n",
    "    print(metrics)\n",
    "}  \n",
    "print_metrics(test, 'Species')      "
   ]
  },
  {
   "cell_type": "markdown",
   "metadata": {},
   "source": [
    "Examine these results. Notice the following:\n",
    "1. The confusion matrix has dimension 3X3. You can see that most cases are correctly classified. \n",
    "2. The overll accuracy is 0.92. Since the classes are roughly balanced, this metric indicates relatively good performance of the classifier, particularly since it was only trained on 51 cases. \n",
    "3. The precision, recall and  F1 for each of the classes is relatively good. Virginica has the worst metrics since it has the largest number of misclassified cases. \n",
    "\n",
    "How important are each of the features for this model? The R Caret package provides the capability to find out. As a first step, `gbm` models must be trained using the the Caret `train` function. The code in the cell below does this, using the default model arguments. The default arguments for the model are specified with the `tuneGrid` argument of `train`. Execute the code."
   ]
  },
  {
   "cell_type": "code",
   "execution_count": 70,
   "metadata": {
    "scrolled": false
   },
   "outputs": [
    {
     "data": {
      "text/plain": [
       "Naive Bayes \n",
       "\n",
       "51 samples\n",
       " 4 predictor\n",
       " 3 classes: 'setosa', 'versicolor', 'virginica' \n",
       "\n",
       "No pre-processing\n",
       "Resampling: Cross-Validated (10 fold) \n",
       "Summary of sample sizes: 45, 45, 45, 46, 45, 47, ... \n",
       "Resampling results across tuning parameters:\n",
       "\n",
       "  usekernel  Accuracy   Kappa\n",
       "  FALSE      0.9833333  0.975\n",
       "   TRUE      0.9833333  0.975\n",
       "\n",
       "Tuning parameter 'fL' was held constant at a value of 0\n",
       "Tuning\n",
       " parameter 'adjust' was held constant at a value of 1\n",
       "Accuracy was used to select the optimal model using the largest value.\n",
       "The final values used for the model were fL = 0, usekernel = FALSE and adjust\n",
       " = 1."
      ]
     },
     "metadata": {},
     "output_type": "display_data"
    }
   ],
   "source": [
    "trControl <- trainControl(method = \"cv\", number = 10)\n",
    "\n",
    "nb_mod_train = train(factor(Species) ~ ., \n",
    "                      data = training, \n",
    "                      method = \"nb\", \n",
    "                      trControl = trControl)\n",
    "nb_mod_train"
   ]
  },
  {
   "cell_type": "markdown",
   "metadata": {},
   "source": [
    "With the Caret model object trained, the feature importance can be computed and displayed. Execute this code and examine the results. "
   ]
  },
  {
   "cell_type": "code",
   "execution_count": 71,
   "metadata": {
    "scrolled": false
   },
   "outputs": [
    {
     "data": {
      "text/html": [
       "<table>\n",
       "<thead><tr><th></th><th scope=col>setosa</th><th scope=col>versicolor</th><th scope=col>virginica</th></tr></thead>\n",
       "<tbody>\n",
       "\t<tr><th scope=row>Sepal.Length</th><td>1.0000000</td><td>0.9446367</td><td>1.0000000</td></tr>\n",
       "\t<tr><th scope=row>Sepal.Width</th><td>0.8961938</td><td>0.8961938</td><td>0.7283737</td></tr>\n",
       "\t<tr><th scope=row>Petal.Length</th><td>1.0000000</td><td>1.0000000</td><td>1.0000000</td></tr>\n",
       "\t<tr><th scope=row>Petal.Width</th><td>1.0000000</td><td>1.0000000</td><td>1.0000000</td></tr>\n",
       "</tbody>\n",
       "</table>\n"
      ],
      "text/latex": [
       "\\begin{tabular}{r|lll}\n",
       "  & setosa & versicolor & virginica\\\\\n",
       "\\hline\n",
       "\tSepal.Length & 1.0000000 & 0.9446367 & 1.0000000\\\\\n",
       "\tSepal.Width & 0.8961938 & 0.8961938 & 0.7283737\\\\\n",
       "\tPetal.Length & 1.0000000 & 1.0000000 & 1.0000000\\\\\n",
       "\tPetal.Width & 1.0000000 & 1.0000000 & 1.0000000\\\\\n",
       "\\end{tabular}\n"
      ],
      "text/markdown": [
       "\n",
       "| <!--/--> | setosa | versicolor | virginica | \n",
       "|---|---|---|---|\n",
       "| Sepal.Length | 1.0000000 | 0.9446367 | 1.0000000 | \n",
       "| Sepal.Width | 0.8961938 | 0.8961938 | 0.7283737 | \n",
       "| Petal.Length | 1.0000000 | 1.0000000 | 1.0000000 | \n",
       "| Petal.Width | 1.0000000 | 1.0000000 | 1.0000000 | \n",
       "\n",
       "\n"
      ],
      "text/plain": [
       "             setosa    versicolor virginica\n",
       "Sepal.Length 1.0000000 0.9446367  1.0000000\n",
       "Sepal.Width  0.8961938 0.8961938  0.7283737\n",
       "Petal.Length 1.0000000 1.0000000  1.0000000\n",
       "Petal.Width  1.0000000 1.0000000  1.0000000"
      ]
     },
     "metadata": {},
     "output_type": "display_data"
    }
   ],
   "source": [
    "options(repr.plot.width=4, repr.plot.height=3)\n",
    "imp = varImp(nb_mod_train, scale = FALSE)$importance\n",
    "imp"
   ]
  },
  {
   "cell_type": "markdown",
   "metadata": {},
   "source": [
    "Examine the table above. Notice that `Sepal.Width` has the least importance for classifying each of the species. \n",
    "\n",
    "Execute this code, and answer **Question 1** on the course page.\n",
    "\n",
    "Next, you will train and evaluate a model using the three most important features by executing the code in the cell below:"
   ]
  },
  {
   "cell_type": "code",
   "execution_count": 72,
   "metadata": {},
   "outputs": [
    {
     "name": "stdout",
     "output_type": "stream",
     "text": [
      "            Predicted\n",
      "Actual       setosa versicolor virginica\n",
      "  setosa         33          0         0\n",
      "  versicolor      0         30         3\n",
      "  virginica       0          3        30\n",
      "\n",
      "Accuracy =  0.939 \n",
      " \n",
      "          setosa versicolor virginica\n",
      "Precision      1      0.909     0.909\n",
      "Recall         1      0.909     0.909\n",
      "F1             1      0.909     0.909\n"
     ]
    }
   ],
   "source": [
    "nb_mod_3 = naiveBayes(factor(Species) ~ Sepal.Length + Petal.Length + Petal.Width, data = training)\n",
    "test[,'scores'] = predict(nb_mod_3, newdata = test)\n",
    "print_metrics(test, 'Species')  "
   ]
  },
  {
   "cell_type": "markdown",
   "metadata": {},
   "source": [
    "These results are slightly better than the for the model with the complete feature set. Naive Bayes models work well with a minimal number of features. Further, the simpler model is preferred since it is likely to generalize better. \n",
    "\n",
    "The code in the cell below plots the classes of the iris flower along with the classification errors shown by shape. Execute this code and examine the results.  "
   ]
  },
  {
   "cell_type": "code",
   "execution_count": 73,
   "metadata": {},
   "outputs": [
    {
     "data": {
      "image/png": "[encoded data removed]",
      "text/plain": [
       "plot without title"
      ]
     },
     "metadata": {},
     "output_type": "display_data"
    }
   ],
   "source": [
    "## Create column of correct-incorrect classification\n",
    "test$correct = ifelse(test$Species == test$scores, 'correct', 'incorrect')\n",
    "\n",
    "single_plot_classes = function(df, colx, coly){\n",
    "    ggplot(df, aes_string(colx,coly)) +\n",
    "          geom_point(aes(color = factor(df$Species), shape = correct), alpha = 0.4)\n",
    "}\n",
    "\n",
    "plot_iris_classes = function(df){\n",
    "    options(repr.plot.width=8, repr.plot.height=5)\n",
    "    grid.arrange(\n",
    "        single_plot_classes(df, 'Sepal.Length', 'Sepal.Width'),\n",
    "        single_plot_classes(df, 'Sepal.Length', 'Petal.Length'),\n",
    "        single_plot_classes(df, 'Petal.Length', 'Petal.Width'),\n",
    "        single_plot_classes(df, 'Sepal.Width', 'Petal.Length'),\n",
    "        nrow = 2)\n",
    "}\n",
    "\n",
    "plot_iris_classes(test)"
   ]
  },
  {
   "cell_type": "markdown",
   "metadata": {},
   "source": [
    "Examine these plots. You can see how the classifier has divided the feature space between the classes. Notice that most of the errors occur in the overlap region between Virginica and Versicolor. This behavior is to be expected.  "
   ]
  },
  {
   "cell_type": "markdown",
   "metadata": {},
   "source": [
    "## Another example\n",
    "\n",
    "Now, you will try a more complex example using the credit scoring data. You will use the prepared data which has been prepared by removing duplicate cases. Some columns which are know not to be predictive are removed. Execute the code in the cell below to load the dataset for the example. "
   ]
  },
  {
   "cell_type": "code",
   "execution_count": 74,
   "metadata": {
    "scrolled": true
   },
   "outputs": [
    {
     "name": "stdout",
     "output_type": "stream",
     "text": [
      "[1] 999  16\n"
     ]
    },
    {
     "data": {
      "text/html": [
       "<ol class=list-inline>\n",
       "\t<li>'checking_account_status'</li>\n",
       "\t<li>'loan_duration_mo'</li>\n",
       "\t<li>'credit_history'</li>\n",
       "\t<li>'loan_amount'</li>\n",
       "\t<li>'savings_account_balance'</li>\n",
       "\t<li>'time_employed_yrs'</li>\n",
       "\t<li>'payment_pcnt_income'</li>\n",
       "\t<li>'time_in_residence'</li>\n",
       "\t<li>'property'</li>\n",
       "\t<li>'age_yrs'</li>\n",
       "\t<li>'other_credit_outstanding'</li>\n",
       "\t<li>'number_loans'</li>\n",
       "\t<li>'job_category'</li>\n",
       "\t<li>'dependents'</li>\n",
       "\t<li>'telephone'</li>\n",
       "\t<li>'bad_credit'</li>\n",
       "</ol>\n"
      ],
      "text/latex": [
       "\\begin{enumerate*}\n",
       "\\item 'checking\\_account\\_status'\n",
       "\\item 'loan\\_duration\\_mo'\n",
       "\\item 'credit\\_history'\n",
       "\\item 'loan\\_amount'\n",
       "\\item 'savings\\_account\\_balance'\n",
       "\\item 'time\\_employed\\_yrs'\n",
       "\\item 'payment\\_pcnt\\_income'\n",
       "\\item 'time\\_in\\_residence'\n",
       "\\item 'property'\n",
       "\\item 'age\\_yrs'\n",
       "\\item 'other\\_credit\\_outstanding'\n",
       "\\item 'number\\_loans'\n",
       "\\item 'job\\_category'\n",
       "\\item 'dependents'\n",
       "\\item 'telephone'\n",
       "\\item 'bad\\_credit'\n",
       "\\end{enumerate*}\n"
      ],
      "text/markdown": [
       "1. 'checking_account_status'\n",
       "2. 'loan_duration_mo'\n",
       "3. 'credit_history'\n",
       "4. 'loan_amount'\n",
       "5. 'savings_account_balance'\n",
       "6. 'time_employed_yrs'\n",
       "7. 'payment_pcnt_income'\n",
       "8. 'time_in_residence'\n",
       "9. 'property'\n",
       "10. 'age_yrs'\n",
       "11. 'other_credit_outstanding'\n",
       "12. 'number_loans'\n",
       "13. 'job_category'\n",
       "14. 'dependents'\n",
       "15. 'telephone'\n",
       "16. 'bad_credit'\n",
       "\n",
       "\n"
      ],
      "text/plain": [
       " [1] \"checking_account_status\"  \"loan_duration_mo\"        \n",
       " [3] \"credit_history\"           \"loan_amount\"             \n",
       " [5] \"savings_account_balance\"  \"time_employed_yrs\"       \n",
       " [7] \"payment_pcnt_income\"      \"time_in_residence\"       \n",
       " [9] \"property\"                 \"age_yrs\"                 \n",
       "[11] \"other_credit_outstanding\" \"number_loans\"            \n",
       "[13] \"job_category\"             \"dependents\"              \n",
       "[15] \"telephone\"                \"bad_credit\"              "
      ]
     },
     "metadata": {},
     "output_type": "display_data"
    }
   ],
   "source": [
    "credit = read.csv('German_Credit_Preped.csv', header = TRUE)\n",
    "## Subset the data frame\n",
    "credit = credit[,c('checking_account_status', 'loan_duration_mo', 'credit_history', 'loan_amount', 'savings_account_balance',\n",
    "                   'time_employed_yrs', 'payment_pcnt_income', 'time_in_residence', 'property', 'age_yrs',\n",
    "                   'other_credit_outstanding', 'number_loans', 'job_category', 'dependents', 'telephone', 'bad_credit' )]\n",
    "print(dim(credit))\n",
    "names(credit)"
   ]
  },
  {
   "cell_type": "markdown",
   "metadata": {},
   "source": [
    "Cross validation will be used to train the model. Since folds will be selected from the entire dataset the numeric features are scaled in batch. Execute the code in the cell below to accomplish this: "
   ]
  },
  {
   "cell_type": "code",
   "execution_count": 75,
   "metadata": {},
   "outputs": [
    {
     "data": {
      "text/html": [
       "<table>\n",
       "<thead><tr><th scope=col>loan_duration_mo</th><th scope=col>loan_amount</th><th scope=col>payment_pcnt_income</th><th scope=col>time_in_residence</th><th scope=col>age_yrs</th><th scope=col>number_loans</th><th scope=col>dependents</th></tr></thead>\n",
       "<tbody>\n",
       "\t<tr><td> 2.2464282 </td><td> 0.9483849 </td><td>-0.86876113</td><td>-0.7645835 </td><td>-1.19202026</td><td>-0.7035652 </td><td>-0.4283287 </td></tr>\n",
       "\t<tr><td>-0.7397312 </td><td>-0.4170067 </td><td>-0.86876113</td><td> 0.1414888 </td><td> 1.18945982</td><td>-0.7035652 </td><td> 2.3323187 </td></tr>\n",
       "\t<tr><td> 1.7487350 </td><td> 1.6323204 </td><td>-0.86876113</td><td> 1.0475610 </td><td> 0.83664795</td><td>-0.7035652 </td><td> 2.3323187 </td></tr>\n",
       "\t<tr><td> 0.2556552 </td><td> 0.5655086 </td><td> 0.02505181</td><td> 1.0475610 </td><td> 1.54227168</td><td> 1.0276211 </td><td> 2.3323187 </td></tr>\n",
       "\t<tr><td> 1.2510417 </td><td> 2.0477820 </td><td>-0.86876113</td><td> 1.0475610 </td><td>-0.04538171</td><td>-0.7035652 </td><td> 2.3323187 </td></tr>\n",
       "\t<tr><td> 0.2556552 </td><td>-0.1552623 </td><td> 0.02505181</td><td> 1.0475610 </td><td> 1.54227168</td><td>-0.7035652 </td><td>-0.4283287 </td></tr>\n",
       "</tbody>\n",
       "</table>\n"
      ],
      "text/latex": [
       "\\begin{tabular}{r|lllllll}\n",
       " loan\\_duration\\_mo & loan\\_amount & payment\\_pcnt\\_income & time\\_in\\_residence & age\\_yrs & number\\_loans & dependents\\\\\n",
       "\\hline\n",
       "\t  2.2464282  &  0.9483849  & -0.86876113 & -0.7645835  & -1.19202026 & -0.7035652  & -0.4283287 \\\\\n",
       "\t -0.7397312  & -0.4170067  & -0.86876113 &  0.1414888  &  1.18945982 & -0.7035652  &  2.3323187 \\\\\n",
       "\t  1.7487350  &  1.6323204  & -0.86876113 &  1.0475610  &  0.83664795 & -0.7035652  &  2.3323187 \\\\\n",
       "\t  0.2556552  &  0.5655086  &  0.02505181 &  1.0475610  &  1.54227168 &  1.0276211  &  2.3323187 \\\\\n",
       "\t  1.2510417  &  2.0477820  & -0.86876113 &  1.0475610  & -0.04538171 & -0.7035652  &  2.3323187 \\\\\n",
       "\t  0.2556552  & -0.1552623  &  0.02505181 &  1.0475610  &  1.54227168 & -0.7035652  & -0.4283287 \\\\\n",
       "\\end{tabular}\n"
      ],
      "text/markdown": [
       "\n",
       "loan_duration_mo | loan_amount | payment_pcnt_income | time_in_residence | age_yrs | number_loans | dependents | \n",
       "|---|---|---|---|---|---|\n",
       "|  2.2464282  |  0.9483849  | -0.86876113 | -0.7645835  | -1.19202026 | -0.7035652  | -0.4283287  | \n",
       "| -0.7397312  | -0.4170067  | -0.86876113 |  0.1414888  |  1.18945982 | -0.7035652  |  2.3323187  | \n",
       "|  1.7487350  |  1.6323204  | -0.86876113 |  1.0475610  |  0.83664795 | -0.7035652  |  2.3323187  | \n",
       "|  0.2556552  |  0.5655086  |  0.02505181 |  1.0475610  |  1.54227168 |  1.0276211  |  2.3323187  | \n",
       "|  1.2510417  |  2.0477820  | -0.86876113 |  1.0475610  | -0.04538171 | -0.7035652  |  2.3323187  | \n",
       "|  0.2556552  | -0.1552623  |  0.02505181 |  1.0475610  |  1.54227168 | -0.7035652  | -0.4283287  | \n",
       "\n",
       "\n"
      ],
      "text/plain": [
       "  loan_duration_mo loan_amount payment_pcnt_income time_in_residence\n",
       "1  2.2464282        0.9483849  -0.86876113         -0.7645835       \n",
       "2 -0.7397312       -0.4170067  -0.86876113          0.1414888       \n",
       "3  1.7487350        1.6323204  -0.86876113          1.0475610       \n",
       "4  0.2556552        0.5655086   0.02505181          1.0475610       \n",
       "5  1.2510417        2.0477820  -0.86876113          1.0475610       \n",
       "6  0.2556552       -0.1552623   0.02505181          1.0475610       \n",
       "  age_yrs     number_loans dependents\n",
       "1 -1.19202026 -0.7035652   -0.4283287\n",
       "2  1.18945982 -0.7035652    2.3323187\n",
       "3  0.83664795 -0.7035652    2.3323187\n",
       "4  1.54227168  1.0276211    2.3323187\n",
       "5 -0.04538171 -0.7035652    2.3323187\n",
       "6  1.54227168 -0.7035652   -0.4283287"
      ]
     },
     "metadata": {},
     "output_type": "display_data"
    }
   ],
   "source": [
    "num_cols = c('loan_duration_mo', 'loan_amount', 'payment_pcnt_income',\n",
    "             'time_in_residence', 'age_yrs', 'number_loans', 'dependents')\n",
    "\n",
    "preProcValues <- preProcess(credit[,num_cols], method = c(\"center\", \"scale\"))\n",
    "credit[,num_cols] = predict(preProcValues, credit[,num_cols])\n",
    "head(credit[,num_cols])"
   ]
  },
  {
   "cell_type": "markdown",
   "metadata": {},
   "source": [
    "The R Caret package computes most performance metrics using the positive cases. For example, recall is a measure of correct classification of positive cases. Therefore, it is important to have the coding of the label correct. The code in the cell below creates a factor (categorical) variable and coerces the levels of the label column, `bad_credit`. Execute this code. "
   ]
  },
  {
   "cell_type": "code",
   "execution_count": 76,
   "metadata": {},
   "outputs": [
    {
     "data": {
      "text/html": [
       "<ol class=list-inline>\n",
       "\t<li>bad</li>\n",
       "\t<li>good</li>\n",
       "\t<li>good</li>\n",
       "\t<li>bad</li>\n",
       "\t<li>good</li>\n",
       "</ol>\n",
       "\n",
       "<details>\n",
       "\t<summary style=display:list-item;cursor:pointer>\n",
       "\t\t<strong>Levels</strong>:\n",
       "\t</summary>\n",
       "\t<ol class=list-inline>\n",
       "\t\t<li>'bad'</li>\n",
       "\t\t<li>'good'</li>\n",
       "\t</ol>\n",
       "</details>"
      ],
      "text/latex": [
       "\\begin{enumerate*}\n",
       "\\item bad\n",
       "\\item good\n",
       "\\item good\n",
       "\\item bad\n",
       "\\item good\n",
       "\\end{enumerate*}\n",
       "\n",
       "\\emph{Levels}: \\begin{enumerate*}\n",
       "\\item 'bad'\n",
       "\\item 'good'\n",
       "\\end{enumerate*}\n"
      ],
      "text/markdown": [
       "1. bad\n",
       "2. good\n",
       "3. good\n",
       "4. bad\n",
       "5. good\n",
       "\n",
       "\n",
       "\n",
       "**Levels**: 1. 'bad'\n",
       "2. 'good'\n",
       "\n",
       "\n"
      ],
      "text/plain": [
       "[1] bad  good good bad  good\n",
       "Levels: bad good"
      ]
     },
     "metadata": {},
     "output_type": "display_data"
    }
   ],
   "source": [
    "credit$bad_credit <- ifelse(credit$bad_credit == 0, 'good', 'bad')\n",
    "credit$bad_credit <- factor(credit$bad_credit, levels = c(\"bad\", \"good\"))\n",
    "credit$bad_credit[1:5]"
   ]
  },
  {
   "cell_type": "markdown",
   "metadata": {},
   "source": [
    "In the results above you can see the new coding of the label column along with the levels, {'bad', 'good'}. \n",
    "\n",
    "As the inner loop of a nested cross validation, the code in the cell below uses the capability of the R Caret package to estimate the best hyperparameters using 5 fold cross validation. This first cross validation is performed using ROC as the metric. There are a few points to note here:\n",
    "1. A Caret `trainControl` object is used to define the 5 fold cross validation. The `twoClassSummary` function is specified, making ROC the metric for hyperparameter optimization. The `nb` model does not accommodate case weights. However, in the case **up-sampling** or **over-sampling** is used. Up-sampling randomly samples the minority case so that the number of classes in each training fold is balanced. \n",
    "2. The model is trained using all features as can be seen from the model formula in the Caret `train` function. \n",
    "3. `ROC` is specified as a `metric` in the call to `train`. \n",
    "4. Weights are specified to help with the class imbalance and the cost imbalance of misclassification of bad credit customers. \n",
    "5. The `train` function uses a `tuneGrid` argument to define the hyperparameters to search. \n",
    "\n",
    "Execute this code, examine the result, and answer **Question 3** on the course page.\n",
    "\n",
    "****\n",
    "**Note:** Naive Bayes models work well with a limited amount of data. However, if there are categorical features with rare categories there will likely be problems with zero probabilities. This condition occurs whenever there are no samples for dummy variable within the sample space of the other features. When this situation occurs, the R naive Bayes model software will generate warning messages, and the algorithm may not converge at all.  \n",
    "\n",
    "The solution is to use **Laplace smoothing**. This method smooths the conditional probability distribution estimated in the naive Bayes model preventing zero probabilities from occurring. In the naive Bayes software this requires specifing a Laplace smoothing parameter, `fL`, a kernel, `useKernel = TRUE`, and the kernel bandwidth adjustment, `adjust`. Combinations of `fL` and `adjust` must be selected which prevent zero probabilities from occurring.   \n",
    "****"
   ]
  },
  {
   "cell_type": "code",
   "execution_count": 94,
   "metadata": {
    "scrolled": false
   },
   "outputs": [
    {
     "name": "stdout",
     "output_type": "stream",
     "text": [
      "Naive Bayes \n",
      "\n",
      "999 samples\n",
      " 15 predictor\n",
      "  2 classes: 'bad', 'good' \n",
      "\n",
      "No pre-processing\n",
      "Resampling: Cross-Validated (5 fold) \n",
      "Summary of sample sizes: 800, 799, 799, 799, 799 \n",
      "Addtional sampling using up-sampling\n",
      "\n",
      "Resampling results across tuning parameters:\n",
      "\n",
      "  fL    adjust  ROC        Sens       Spec     \n",
      "  0.01  0.5     0.7404351  0.7700000  0.6023330\n",
      "  0.01  1.0     0.7375086  0.7666667  0.5707914\n",
      "  0.05  0.5     0.7395533  0.8266667  0.5279137\n",
      "  0.05  1.0     0.7428489  0.8000000  0.5551182\n",
      "  0.10  0.5     0.7394556  0.8033333  0.5580473\n",
      "  0.10  1.0     0.7387850  0.8033333  0.5536793\n",
      "\n",
      "Tuning parameter 'usekernel' was held constant at a value of TRUE\n",
      "ROC was used to select the optimal model using the largest value.\n",
      "The final values used for the model were fL = 0.05, usekernel = TRUE and\n",
      " adjust = 1.\n"
     ]
    }
   ],
   "source": [
    "fitControl <- trainControl(method = \"cv\",\n",
    "                           number = 5,\n",
    "                           sampling = 'up',\n",
    "                           returnResamp=\"all\",\n",
    "                           savePredictions = TRUE,\n",
    "                           classProbs = TRUE,\n",
    "                           \n",
    "                           summaryFunction = twoClassSummary)\n",
    "paramGrid <- expand.grid(fL = c(0.01, 0.05, 0.1), usekernel = c(TRUE), adjust = c(0.5, 1.0))\n",
    "\n",
    "set.seed(1234)\n",
    "nb_fit_inside_tw <- train(bad_credit ~ ., \n",
    "                          data = credit,  \n",
    "                          method = \"nb\", # naive Bayes model \n",
    "                          trControl = fitControl,\n",
    "                          tuneGrid = paramGrid,\n",
    "                          metric=\"ROC\")\n",
    "print(nb_fit_inside_tw)"
   ]
  },
  {
   "cell_type": "markdown",
   "metadata": {},
   "source": [
    "The grid of hyperpameters searched by the Caret package is over Laplace smoother parameter `fL` and the kernel span parameter `adjust`. The grid along with the ROC and other metrics is shown in the printed table. The ROC and sensitivity (global recall) metrics are good. However, the specificity is rather poor. \n",
    "\n",
    "The hyperparameter optimization can also be performed using Recall as a metric. The code in the cell below uses the `prSummary` function for the `summaryFunction` argument for `trainControl` and sets the `metric` as `Recall`. Execute this call and examine the results."
   ]
  },
  {
   "cell_type": "code",
   "execution_count": 95,
   "metadata": {},
   "outputs": [
    {
     "name": "stdout",
     "output_type": "stream",
     "text": [
      "Naive Bayes \n",
      "\n",
      "999 samples\n",
      " 15 predictor\n",
      "  2 classes: 'bad', 'good' \n",
      "\n",
      "No pre-processing\n",
      "Resampling: Cross-Validated (5 fold) \n",
      "Summary of sample sizes: 800, 799, 799, 799, 799 \n",
      "Addtional sampling using up-sampling\n",
      "\n",
      "Resampling results across tuning parameters:\n",
      "\n",
      "  fL    adjust  AUC        Precision  Recall     F        \n",
      "  0.01  0.5     0.4947595  0.4539920  0.7700000  0.5708361\n",
      "  0.01  1.0     0.4954684  0.4367045  0.7666667  0.5547217\n",
      "  0.05  0.5     0.4904395  0.4302866  0.8266667  0.5650642\n",
      "  0.05  1.0     0.5025037  0.4358064  0.8000000  0.5635320\n",
      "  0.10  0.5     0.4937278  0.4389113  0.8033333  0.5664003\n",
      "  0.10  1.0     0.4916329  0.4370469  0.8033333  0.5653917\n",
      "\n",
      "Tuning parameter 'usekernel' was held constant at a value of TRUE\n",
      "Recall was used to select the optimal model using the largest value.\n",
      "The final values used for the model were fL = 0.05, usekernel = TRUE and\n",
      " adjust = 0.5.\n"
     ]
    }
   ],
   "source": [
    "fitControl <- trainControl(method = \"cv\",\n",
    "                           number = 5,\n",
    "                           sampling = 'up',\n",
    "                           returnResamp=\"all\",\n",
    "                           savePredictions = TRUE,\n",
    "                           classProbs = TRUE,\n",
    "                           summaryFunction = prSummary)\n",
    "paramGrid <- expand.grid(fL = c(0.01, 0.05, 0.1), usekernel = c(TRUE), adjust = c(0.5, 1.0))\n",
    "\n",
    "set.seed(1234)\n",
    "nb_fit_inside_pr <- train(bad_credit ~ ., \n",
    "                          data = credit,  \n",
    "                          method = \"nb\", # naive Bayes model \n",
    "                          trControl = fitControl,\n",
    "                          tuneGrid = paramGrid,\n",
    "                          metric=\"Recall\")\n",
    "print(nb_fit_inside_pr)"
   ]
  },
  {
   "cell_type": "markdown",
   "metadata": {},
   "source": [
    "These resutls are rather poor. The average AUC is barely above 0.5. It is best to stay with the model trained on ROC. \n",
    "\n",
    "Given the optimal hyperparameters for the model trained with ROC, which features are the most important? The code in the cell below computes and displays feature importance using the Caret `varImp` function. Execute this code and examine the results. "
   ]
  },
  {
   "cell_type": "code",
   "execution_count": 96,
   "metadata": {},
   "outputs": [
    {
     "name": "stdout",
     "output_type": "stream",
     "text": [
      "ROC curve variable importance\n",
      "\n",
      "                         Importance\n",
      "checking_account_status    100.0000\n",
      "loan_duration_mo            65.4957\n",
      "savings_account_balance     46.3343\n",
      "age_yrs                     35.5070\n",
      "credit_history              28.9269\n",
      "loan_amount                 27.4488\n",
      "payment_pcnt_income         21.9452\n",
      "time_employed_yrs           18.0996\n",
      "number_loans                12.0787\n",
      "other_credit_outstanding    12.0442\n",
      "job_category                 9.6521\n",
      "telephone                    9.1976\n",
      "property                     6.7821\n",
      "time_in_residence            0.3313\n",
      "dependents                   0.0000\n"
     ]
    },
    {
     "data": {},
     "metadata": {},
     "output_type": "display_data"
    },
    {
     "data": {
      "image/png": "[encoded data removed]",
      "text/plain": [
       "plot without title"
      ]
     },
     "metadata": {},
     "output_type": "display_data"
    }
   ],
   "source": [
    "options(repr.plot.width=8, repr.plot.height=6)\n",
    "var_imp = varImp(nb_fit_inside_tw)\n",
    "print(var_imp)\n",
    "plot(var_imp)"
   ]
  },
  {
   "cell_type": "markdown",
   "metadata": {},
   "source": [
    "It is clear that at least two of the features should be removed from the dataset. Execute the code in the cell below to select the required features and label columns.\n",
    "\n",
    "****\n",
    "**Note:** Naive Bayes use estimates of conditional probability and are there less susceptible to over-fitting when compared to most other machine learning models. None the less, removing unimportant features can improve generalization since these features can contain unexpected values or noise.    \n",
    "****"
   ]
  },
  {
   "cell_type": "code",
   "execution_count": 97,
   "metadata": {},
   "outputs": [],
   "source": [
    "credit_reduced =  credit[,c('checking_account_status', 'loan_duration_mo', 'credit_history', 'loan_amount', 'savings_account_balance',\n",
    "                   'time_employed_yrs', 'payment_pcnt_income', 'property', 'age_yrs',\n",
    "                   'other_credit_outstanding', 'number_loans', 'job_category', 'telephone', 'bad_credit' )]"
   ]
  },
  {
   "cell_type": "markdown",
   "metadata": {},
   "source": [
    "Execute the code in the cell below to perform the cross validation grid search using ROC as the metric with the reduced feature set: "
   ]
  },
  {
   "cell_type": "code",
   "execution_count": 98,
   "metadata": {},
   "outputs": [
    {
     "name": "stdout",
     "output_type": "stream",
     "text": [
      "Naive Bayes \n",
      "\n",
      "999 samples\n",
      " 13 predictor\n",
      "  2 classes: 'bad', 'good' \n",
      "\n",
      "No pre-processing\n",
      "Resampling: Cross-Validated (5 fold) \n",
      "Summary of sample sizes: 800, 799, 799, 799, 799 \n",
      "Addtional sampling using up-sampling\n",
      "\n",
      "Resampling results across tuning parameters:\n",
      "\n",
      "  fL    adjust  ROC        Sens       Spec     \n",
      "  0.01  0.5     0.7406735  0.7733333  0.6023022\n",
      "  0.01  1.0     0.7394865  0.7800000  0.5722302\n",
      "  0.05  0.5     0.7399563  0.8400000  0.5293525\n",
      "  0.05  1.0     0.7445444  0.8033333  0.5536691\n",
      "  0.10  0.5     0.7421019  0.8000000  0.5680678\n",
      "  0.10  1.0     0.7396187  0.8066667  0.5565468\n",
      "\n",
      "Tuning parameter 'usekernel' was held constant at a value of TRUE\n",
      "ROC was used to select the optimal model using the largest value.\n",
      "The final values used for the model were fL = 0.05, usekernel = TRUE and\n",
      " adjust = 1.\n"
     ]
    }
   ],
   "source": [
    "fitControl <- trainControl(method = \"cv\",\n",
    "                           number = 5,\n",
    "                           sampling = 'up',\n",
    "                           returnResamp=\"all\",\n",
    "                           savePredictions = TRUE,\n",
    "                           classProbs = TRUE,\n",
    "                           summaryFunction = twoClassSummary)\n",
    "paramGrid <- expand.grid(fL = c(0.01, 0.05, 0.1), usekernel = c(TRUE), adjust = c(0.5, 1.0))\n",
    "\n",
    "set.seed(1234)\n",
    "nb_fit_inside_tw <- train(bad_credit ~ ., \n",
    "                          data = credit_reduced,  \n",
    "                          method = \"nb\", # naive Bayes model \n",
    "                          trControl = fitControl,\n",
    "                          tuneGrid = paramGrid,\n",
    "                          metric=\"ROC\")\n",
    "print(nb_fit_inside_tw)"
   ]
  },
  {
   "cell_type": "markdown",
   "metadata": {},
   "source": [
    "The results of the cross validation grid search with the reduced feature set are nearly the same as the first result. The ROC and sensitivity (global recall) metrics are good. However, the specificity is rather poor. Evidentially, pruning these features was the correct step. This process can be continued, but will not be in this lab in the interest of reducing length. \n",
    "\n",
    "To better understand the parameter sweep, execute the code in the cell below to create a chart."
   ]
  },
  {
   "cell_type": "code",
   "execution_count": 99,
   "metadata": {},
   "outputs": [
    {
     "data": {},
     "metadata": {},
     "output_type": "display_data"
    },
    {
     "data": {
      "image/png": "[encoded data removed]",
      "text/plain": [
       "plot without title"
      ]
     },
     "metadata": {},
     "output_type": "display_data"
    }
   ],
   "source": [
    "options(repr.plot.width=5, repr.plot.height=4)\n",
    "trellis.par.set(caretTheme())\n",
    "plot(nb_fit_inside_tw)"
   ]
  },
  {
   "cell_type": "markdown",
   "metadata": {},
   "source": [
    "The range of ROC values is rather small. However, the plots shows that both bandwidth adjustment and Laplace correction have a noticeable effect on the model. \n",
    "\n",
    "Finally, to verify that the model will generalize well it is time to perform the outside CV loop. The code in the cell below defines a parameter grid with just the optimal hyperparameter values and using ROC as the metric. The CV then repeatedly fits the model with these hyperparameter values. Execute this code and examine the result."
   ]
  },
  {
   "cell_type": "code",
   "execution_count": 100,
   "metadata": {},
   "outputs": [
    {
     "data": {
      "text/html": [
       "<table>\n",
       "<thead><tr><th scope=col>ROC</th><th scope=col>Sens</th><th scope=col>Spec</th><th scope=col>fL</th><th scope=col>usekernel</th><th scope=col>adjust</th><th scope=col>Resample</th></tr></thead>\n",
       "<tbody>\n",
       "\t<tr><td>0.762</td><td>0.800</td><td>0.597</td><td>0.05 </td><td>TRUE </td><td>1    </td><td>Fold1</td></tr>\n",
       "\t<tr><td>0.693</td><td>0.683</td><td>0.607</td><td>0.05 </td><td>TRUE </td><td>1    </td><td>Fold2</td></tr>\n",
       "\t<tr><td>0.781</td><td>0.833</td><td>0.493</td><td>0.05 </td><td>TRUE </td><td>1    </td><td>Fold3</td></tr>\n",
       "\t<tr><td>0.720</td><td>0.750</td><td>0.571</td><td>0.05 </td><td>TRUE </td><td>1    </td><td>Fold4</td></tr>\n",
       "\t<tr><td>0.768</td><td>0.917</td><td>0.436</td><td>0.05 </td><td>TRUE </td><td>1    </td><td>Fold5</td></tr>\n",
       "\t<tr><td>0.745</td><td>0.797</td><td>0.541</td><td>0.05 </td><td>TRUE </td><td>1    </td><td>Mean </td></tr>\n",
       "\t<tr><td>0.037</td><td>0.088</td><td>0.074</td><td>0.05 </td><td>TRUE </td><td>1    </td><td>Mean </td></tr>\n",
       "</tbody>\n",
       "</table>\n"
      ],
      "text/latex": [
       "\\begin{tabular}{r|lllllll}\n",
       " ROC & Sens & Spec & fL & usekernel & adjust & Resample\\\\\n",
       "\\hline\n",
       "\t 0.762 & 0.800 & 0.597 & 0.05  & TRUE  & 1     & Fold1\\\\\n",
       "\t 0.693 & 0.683 & 0.607 & 0.05  & TRUE  & 1     & Fold2\\\\\n",
       "\t 0.781 & 0.833 & 0.493 & 0.05  & TRUE  & 1     & Fold3\\\\\n",
       "\t 0.720 & 0.750 & 0.571 & 0.05  & TRUE  & 1     & Fold4\\\\\n",
       "\t 0.768 & 0.917 & 0.436 & 0.05  & TRUE  & 1     & Fold5\\\\\n",
       "\t 0.745 & 0.797 & 0.541 & 0.05  & TRUE  & 1     & Mean \\\\\n",
       "\t 0.037 & 0.088 & 0.074 & 0.05  & TRUE  & 1     & Mean \\\\\n",
       "\\end{tabular}\n"
      ],
      "text/markdown": [
       "\n",
       "ROC | Sens | Spec | fL | usekernel | adjust | Resample | \n",
       "|---|---|---|---|---|---|---|\n",
       "| 0.762 | 0.800 | 0.597 | 0.05  | TRUE  | 1     | Fold1 | \n",
       "| 0.693 | 0.683 | 0.607 | 0.05  | TRUE  | 1     | Fold2 | \n",
       "| 0.781 | 0.833 | 0.493 | 0.05  | TRUE  | 1     | Fold3 | \n",
       "| 0.720 | 0.750 | 0.571 | 0.05  | TRUE  | 1     | Fold4 | \n",
       "| 0.768 | 0.917 | 0.436 | 0.05  | TRUE  | 1     | Fold5 | \n",
       "| 0.745 | 0.797 | 0.541 | 0.05  | TRUE  | 1     | Mean  | \n",
       "| 0.037 | 0.088 | 0.074 | 0.05  | TRUE  | 1     | Mean  | \n",
       "\n",
       "\n"
      ],
      "text/plain": [
       "  ROC   Sens  Spec  fL   usekernel adjust Resample\n",
       "1 0.762 0.800 0.597 0.05 TRUE      1      Fold1   \n",
       "2 0.693 0.683 0.607 0.05 TRUE      1      Fold2   \n",
       "3 0.781 0.833 0.493 0.05 TRUE      1      Fold3   \n",
       "4 0.720 0.750 0.571 0.05 TRUE      1      Fold4   \n",
       "5 0.768 0.917 0.436 0.05 TRUE      1      Fold5   \n",
       "6 0.745 0.797 0.541 0.05 TRUE      1      Mean    \n",
       "7 0.037 0.088 0.074 0.05 TRUE      1      Mean    "
      ]
     },
     "metadata": {},
     "output_type": "display_data"
    }
   ],
   "source": [
    "paramGrid <- expand.grid(fL = c(0.05), usekernel = c(TRUE), adjust = c(1.0))\n",
    "\n",
    "set.seed(1234)\n",
    "nb_fit_outside_tw <- train(bad_credit ~ ., \n",
    "                          data = credit_reduced,  \n",
    "                          method = \"nb\", # naive Bayes model \n",
    "                          trControl = fitControl,\n",
    "                          tuneGrid = paramGrid,\n",
    "                          metric=\"ROC\")\n",
    "\n",
    "print_metrics = function(mod){\n",
    "    means = c(apply(mod$resample[,1:3], 2, mean), fL = mod$resample[1,4], usekernel = mod$resample[1,5], \n",
    "              adjust = mod$resample[1,6],Resample = 'Mean')\n",
    "    stds = c(apply(mod$resample[,1:3], 2, sd), fL = mod$resample[1,4], usekernel = mod$resample[1,5], \n",
    "              adjust = mod$resample[1,6],Resample = 'Mean', Resample = 'STD')\n",
    "    out = rbind(mod$resample, means, stds)\n",
    "    out[,1:3] = lapply(out[,1:3], function(x) round(as.numeric(x), 3))\n",
    "    out\n",
    "}\n",
    "print_metrics(nb_fit_outside_tw)"
   ]
  },
  {
   "cell_type": "markdown",
   "metadata": {},
   "source": [
    "Examine these results. As before, ROC and sensitivity are good, whereas specificity is poor. Notice that the standard deviation of the mean of the AUC are approximately an order of magnitude smaller than the mean. This indicates that this model is likely to generalize well. \n",
    "\n",
    "***\n",
    "**Note:** The predict method can be used with this optimal model to classify unknown cases.\n",
    "***"
   ]
  },
  {
   "cell_type": "markdown",
   "metadata": {},
   "source": [
    "## Summary\n",
    "\n",
    "In this lab you have accomplished the following:\n",
    "1. Used a naive Bayes classifier for the iris dataset. The classification of the multiple species was reasonably effective. \n",
    "2. Fit a Gaussian naive Bayes model on the bank credit data. This model required hyperparameter choices that ensured sufficient Laplace smoothing to prevent zero conditional probabilities from occurring.\n",
    "3. To deal with the label class imbalance up-sampling was used. The specificity metric was poor regardless. \n",
    "4. Applied feature importance was used for feature selection. The model created and evaluated with the reduced feature set had essentially the same performance as the model with more features. \n",
    "5. Used the outer loop of the nested cross validation to demonstrate that the model is likely to generalize."
   ]
  },
  {
   "cell_type": "code",
   "execution_count": null,
   "metadata": {},
   "outputs": [],
   "source": []
  }
 ],
 "metadata": {
  "kernelspec": {
   "display_name": "R",
   "language": "R",
   "name": "ir"
  },
  "language_info": {
   "codemirror_mode": "r",
   "file_extension": ".r",
   "mimetype": "text/x-r-source",
   "name": "R",
   "pygments_lexer": "r",
   "version": "3.5.0"
  }
 },
 "nbformat": 4,
 "nbformat_minor": 2
}
