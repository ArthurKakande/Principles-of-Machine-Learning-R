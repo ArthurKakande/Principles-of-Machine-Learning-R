{
 "cells": [
  {
   "cell_type": "markdown",
   "metadata": {},
   "source": [
    "# Naive Bayes Models\n",
    "\n",
    "In this lab you will work with **naive Bayes models**. Naive Bayes models are a surprisingly useful and effective simplification of the general Bayesian models. Naive Bayes models make the naive assumption of statistial independence of the features. In many cases, naive Bayes module are suprisingly effective despite violating the assumption of independence. \n",
    "\n",
    "In simple terms, naive Bayes models use emperical distributions of the features to compute probabilities of the labels. The naive Bayes models can use most any family of distributions for the features. It is important to select the correct distribution family for the data you are working with. Common cases are:\n",
    "- **Gaussian;** for continious or numerical features.\n",
    "- **Bernoulli;** for features with binary values. \n",
    "- **Multinomial;** for features with more than two categories. \n",
    "\n",
    "These is one pit fall, the model fails if a zero probability is encountered. This situation occurs when there is a 'hole' in the sample space where there are no samples. A simple smoothing proceedure can deal with this problem. The smoothing hyperparameter, usually called alpha, is one of the few required for naive Bayes models. \n",
    "\n",
    "Some properties of naive Bayes models are:\n",
    "- Computational complexity is linear in number of parameter/features, making naive Bayes models highly scalable. There are out or core approaches suitable for massive datasets.\n",
    "- Requires minimal data to produce models that generalizes well. If there are only a few cases per category to train a model a naive Bayes model can be a good choice. \n",
    "- Have a simple and inherent regularization.\n",
    "\n",
    "Naive Bayes models are used in many situatons including:\n",
    "\n",
    "- Document classification\n",
    "- SPAM detection\n",
    "- Image classification \n",
    "\n"
   ]
  },
  {
   "cell_type": "markdown",
   "metadata": {},
   "source": [
    "## Example: Iris dataset\n",
    "\n",
    "As a first example you will use a naive Bayes model to classify the species of iris flowers. \n",
    "\n",
    "As a first step, execute the code in the cell below to load the required packages to run the rest of this notebook. "
   ]
  },
  {
   "cell_type": "code",
   "execution_count": 1,
   "metadata": {
    "scrolled": true
   },
   "outputs": [
    {
     "name": "stderr",
     "output_type": "stream",
     "text": [
      "\n",
      "Attaching package: 'dplyr'\n",
      "\n",
      "The following object is masked from 'package:gridExtra':\n",
      "\n",
      "    combine\n",
      "\n",
      "The following objects are masked from 'package:stats':\n",
      "\n",
      "    filter, lag\n",
      "\n",
      "The following objects are masked from 'package:base':\n",
      "\n",
      "    intersect, setdiff, setequal, union\n",
      "\n",
      "Loading required package: lattice\n",
      "\n",
      "Attaching package: 'MLmetrics'\n",
      "\n",
      "The following objects are masked from 'package:caret':\n",
      "\n",
      "    MAE, RMSE\n",
      "\n",
      "The following object is masked from 'package:base':\n",
      "\n",
      "    Recall\n",
      "\n"
     ]
    }
   ],
   "source": [
    "## Import packages\n",
    "library(ggplot2)\n",
    "library(gridExtra)\n",
    "library(repr)\n",
    "library(dplyr)\n",
    "library(caret)\n",
    "library(e1071)\n",
    "library(MLmetrics)\n",
    "\n",
    "options(repr.plot.width=4, repr.plot.height=4) # Set the initial plot area dimensions"
   ]
  },
  {
   "cell_type": "markdown",
   "metadata": {},
   "source": [
    "To get a feel for these data, you will now load and plot them. Execute this code and examine the results.  "
   ]
  },
  {
   "cell_type": "code",
   "execution_count": 2,
   "metadata": {},
   "outputs": [
    {
     "data": {
      "text/html": [
       "<table>\n",
       "<thead><tr><th scope=col>Sepal.Length</th><th scope=col>Sepal.Width</th><th scope=col>Petal.Length</th><th scope=col>Petal.Width</th><th scope=col>Species</th></tr></thead>\n",
       "<tbody>\n",
       "\t<tr><td>5.1   </td><td>3.5   </td><td>1.4   </td><td>0.2   </td><td>setosa</td></tr>\n",
       "\t<tr><td>4.9   </td><td>3.0   </td><td>1.4   </td><td>0.2   </td><td>setosa</td></tr>\n",
       "\t<tr><td>4.7   </td><td>3.2   </td><td>1.3   </td><td>0.2   </td><td>setosa</td></tr>\n",
       "\t<tr><td>4.6   </td><td>3.1   </td><td>1.5   </td><td>0.2   </td><td>setosa</td></tr>\n",
       "\t<tr><td>5.0   </td><td>3.6   </td><td>1.4   </td><td>0.2   </td><td>setosa</td></tr>\n",
       "\t<tr><td>5.4   </td><td>3.9   </td><td>1.7   </td><td>0.4   </td><td>setosa</td></tr>\n",
       "\t<tr><td>4.6   </td><td>3.4   </td><td>1.4   </td><td>0.3   </td><td>setosa</td></tr>\n",
       "\t<tr><td>5.0   </td><td>3.4   </td><td>1.5   </td><td>0.2   </td><td>setosa</td></tr>\n",
       "\t<tr><td>4.4   </td><td>2.9   </td><td>1.4   </td><td>0.2   </td><td>setosa</td></tr>\n",
       "\t<tr><td>4.9   </td><td>3.1   </td><td>1.5   </td><td>0.1   </td><td>setosa</td></tr>\n",
       "</tbody>\n",
       "</table>\n"
      ],
      "text/latex": [
       "\\begin{tabular}{r|lllll}\n",
       " Sepal.Length & Sepal.Width & Petal.Length & Petal.Width & Species\\\\\n",
       "\\hline\n",
       "\t 5.1    & 3.5    & 1.4    & 0.2    & setosa\\\\\n",
       "\t 4.9    & 3.0    & 1.4    & 0.2    & setosa\\\\\n",
       "\t 4.7    & 3.2    & 1.3    & 0.2    & setosa\\\\\n",
       "\t 4.6    & 3.1    & 1.5    & 0.2    & setosa\\\\\n",
       "\t 5.0    & 3.6    & 1.4    & 0.2    & setosa\\\\\n",
       "\t 5.4    & 3.9    & 1.7    & 0.4    & setosa\\\\\n",
       "\t 4.6    & 3.4    & 1.4    & 0.3    & setosa\\\\\n",
       "\t 5.0    & 3.4    & 1.5    & 0.2    & setosa\\\\\n",
       "\t 4.4    & 2.9    & 1.4    & 0.2    & setosa\\\\\n",
       "\t 4.9    & 3.1    & 1.5    & 0.1    & setosa\\\\\n",
       "\\end{tabular}\n"
      ],
      "text/markdown": [
       "\n",
       "Sepal.Length | Sepal.Width | Petal.Length | Petal.Width | Species | \n",
       "|---|---|---|---|---|---|---|---|---|---|\n",
       "| 5.1    | 3.5    | 1.4    | 0.2    | setosa | \n",
       "| 4.9    | 3.0    | 1.4    | 0.2    | setosa | \n",
       "| 4.7    | 3.2    | 1.3    | 0.2    | setosa | \n",
       "| 4.6    | 3.1    | 1.5    | 0.2    | setosa | \n",
       "| 5.0    | 3.6    | 1.4    | 0.2    | setosa | \n",
       "| 5.4    | 3.9    | 1.7    | 0.4    | setosa | \n",
       "| 4.6    | 3.4    | 1.4    | 0.3    | setosa | \n",
       "| 5.0    | 3.4    | 1.5    | 0.2    | setosa | \n",
       "| 4.4    | 2.9    | 1.4    | 0.2    | setosa | \n",
       "| 4.9    | 3.1    | 1.5    | 0.1    | setosa | \n",
       "\n",
       "\n"
      ],
      "text/plain": [
       "   Sepal.Length Sepal.Width Petal.Length Petal.Width Species\n",
       "1  5.1          3.5         1.4          0.2         setosa \n",
       "2  4.9          3.0         1.4          0.2         setosa \n",
       "3  4.7          3.2         1.3          0.2         setosa \n",
       "4  4.6          3.1         1.5          0.2         setosa \n",
       "5  5.0          3.6         1.4          0.2         setosa \n",
       "6  5.4          3.9         1.7          0.4         setosa \n",
       "7  4.6          3.4         1.4          0.3         setosa \n",
       "8  5.0          3.4         1.5          0.2         setosa \n",
       "9  4.4          2.9         1.4          0.2         setosa \n",
       "10 4.9          3.1         1.5          0.1         setosa "
      ]
     },
     "metadata": {},
     "output_type": "display_data"
    },
    {
     "data": {
      "image/png": "[encoded data removed]",
      "text/plain": [
       "plot without title"
      ]
     },
     "metadata": {},
     "output_type": "display_data"
    }
   ],
   "source": [
    "single_plot = function(df, colx, coly){\n",
    "    ggplot(df, aes_string(colx,coly)) +\n",
    "          geom_point(aes(color = factor(df$Species)), alpha = 0.4)\n",
    "}\n",
    "\n",
    "plot_iris = function(df){\n",
    "    options(repr.plot.width=8, repr.plot.height=5)\n",
    "    grid.arrange(\n",
    "        single_plot(df, 'Sepal.Length', 'Sepal.Width'),\n",
    "        single_plot(df, 'Sepal.Length', 'Petal.Length'),\n",
    "        single_plot(df, 'Petal.Length', 'Petal.Width'),\n",
    "        single_plot(df, 'Sepal.Width', 'Petal.Length'),\n",
    "        nrow = 2)\n",
    "}\n",
    "\n",
    "head(iris, 10)   \n",
    "plot_iris(iris)  "
   ]
  },
  {
   "cell_type": "markdown",
   "metadata": {},
   "source": [
    "You can see that Setosa (in red) is well separated from the other two categories. The Versicolor (in green) and the Virginica (in blue) show considerable overlap. The question is how well our classifier will separate these categories. \n",
    "\n",
    "Next, execute the code in the cell below to split the dataset into test and training set. Notice that unusually, 67% of the cases are being used as the test dataset. "
   ]
  },
  {
   "cell_type": "code",
   "execution_count": 3,
   "metadata": {},
   "outputs": [
    {
     "data": {
      "text/html": [
       "<ol class=list-inline>\n",
       "\t<li>51</li>\n",
       "\t<li>5</li>\n",
       "</ol>\n"
      ],
      "text/latex": [
       "\\begin{enumerate*}\n",
       "\\item 51\n",
       "\\item 5\n",
       "\\end{enumerate*}\n"
      ],
      "text/markdown": [
       "1. 51\n",
       "2. 5\n",
       "\n",
       "\n"
      ],
      "text/plain": [
       "[1] 51  5"
      ]
     },
     "metadata": {},
     "output_type": "display_data"
    },
    {
     "data": {
      "text/html": [
       "<ol class=list-inline>\n",
       "\t<li>99</li>\n",
       "\t<li>5</li>\n",
       "</ol>\n"
      ],
      "text/latex": [
       "\\begin{enumerate*}\n",
       "\\item 99\n",
       "\\item 5\n",
       "\\end{enumerate*}\n"
      ],
      "text/markdown": [
       "1. 99\n",
       "2. 5\n",
       "\n",
       "\n"
      ],
      "text/plain": [
       "[1] 99  5"
      ]
     },
     "metadata": {},
     "output_type": "display_data"
    }
   ],
   "source": [
    "set.seed(1955)\n",
    "## Randomly sample cases to create independent training and test data\n",
    "partition = createDataPartition(iris[,'Species'], times = 1, p = 0.33, list = FALSE)\n",
    "training = iris[partition,] # Create the training sample\n",
    "dim(training)\n",
    "test = iris[-partition,] # Create the test sample\n",
    "dim(test)"
   ]
  },
  {
   "cell_type": "markdown",
   "metadata": {},
   "source": [
    "As is always the case with machine learning, numeric features  must be scaled. Execute the code in the cell below to scale the training and test datasets:"
   ]
  },
  {
   "cell_type": "code",
   "execution_count": 4,
   "metadata": {},
   "outputs": [
    {
     "data": {
      "text/html": [
       "<table>\n",
       "<thead><tr><th></th><th scope=col>Sepal.Length</th><th scope=col>Sepal.Width</th><th scope=col>Petal.Length</th><th scope=col>Petal.Width</th></tr></thead>\n",
       "<tbody>\n",
       "\t<tr><th scope=row>3</th><td>-1.2646501</td><td> 0.4563512</td><td>-1.348274 </td><td>-1.287390 </td></tr>\n",
       "\t<tr><th scope=row>5</th><td>-0.9016267</td><td> 1.4161001</td><td>-1.293220 </td><td>-1.287390 </td></tr>\n",
       "\t<tr><th scope=row>6</th><td>-0.4175955</td><td> 2.1359118</td><td>-1.128059 </td><td>-1.027876 </td></tr>\n",
       "\t<tr><th scope=row>9</th><td>-1.6276734</td><td>-0.2634605</td><td>-1.293220 </td><td>-1.287390 </td></tr>\n",
       "\t<tr><th scope=row>10</th><td>-1.0226345</td><td> 0.2164140</td><td>-1.238167 </td><td>-1.417146 </td></tr>\n",
       "\t<tr><th scope=row>11</th><td>-0.4175955</td><td> 1.6560373</td><td>-1.238167 </td><td>-1.287390 </td></tr>\n",
       "</tbody>\n",
       "</table>\n"
      ],
      "text/latex": [
       "\\begin{tabular}{r|llll}\n",
       "  & Sepal.Length & Sepal.Width & Petal.Length & Petal.Width\\\\\n",
       "\\hline\n",
       "\t3 & -1.2646501 &  0.4563512 & -1.348274  & -1.287390 \\\\\n",
       "\t5 & -0.9016267 &  1.4161001 & -1.293220  & -1.287390 \\\\\n",
       "\t6 & -0.4175955 &  2.1359118 & -1.128059  & -1.027876 \\\\\n",
       "\t9 & -1.6276734 & -0.2634605 & -1.293220  & -1.287390 \\\\\n",
       "\t10 & -1.0226345 &  0.2164140 & -1.238167  & -1.417146 \\\\\n",
       "\t11 & -0.4175955 &  1.6560373 & -1.238167  & -1.287390 \\\\\n",
       "\\end{tabular}\n"
      ],
      "text/markdown": [
       "\n",
       "| <!--/--> | Sepal.Length | Sepal.Width | Petal.Length | Petal.Width | \n",
       "|---|---|---|---|---|---|\n",
       "| 3 | -1.2646501 |  0.4563512 | -1.348274  | -1.287390  | \n",
       "| 5 | -0.9016267 |  1.4161001 | -1.293220  | -1.287390  | \n",
       "| 6 | -0.4175955 |  2.1359118 | -1.128059  | -1.027876  | \n",
       "| 9 | -1.6276734 | -0.2634605 | -1.293220  | -1.287390  | \n",
       "| 10 | -1.0226345 |  0.2164140 | -1.238167  | -1.417146  | \n",
       "| 11 | -0.4175955 |  1.6560373 | -1.238167  | -1.287390  | \n",
       "\n",
       "\n"
      ],
      "text/plain": [
       "   Sepal.Length Sepal.Width Petal.Length Petal.Width\n",
       "3  -1.2646501    0.4563512  -1.348274    -1.287390  \n",
       "5  -0.9016267    1.4161001  -1.293220    -1.287390  \n",
       "6  -0.4175955    2.1359118  -1.128059    -1.027876  \n",
       "9  -1.6276734   -0.2634605  -1.293220    -1.287390  \n",
       "10 -1.0226345    0.2164140  -1.238167    -1.417146  \n",
       "11 -0.4175955    1.6560373  -1.238167    -1.287390  "
      ]
     },
     "metadata": {},
     "output_type": "display_data"
    }
   ],
   "source": [
    "num_cols = c('Sepal.Length', 'Sepal.Width', 'Petal.Length', 'Petal.Width')\n",
    "preProcValues <- preProcess(training[,num_cols], method = c(\"center\", \"scale\"))\n",
    "\n",
    "training[,num_cols] = predict(preProcValues, training[,num_cols])\n",
    "test[,num_cols] = predict(preProcValues, test[,num_cols])\n",
    "head(training[,num_cols])"
   ]
  },
  {
   "cell_type": "markdown",
   "metadata": {},
   "source": [
    "Now you will define and fit a naive Bayes model. The code in the cell uses the `naiveBayes` function from the e1071 package. The model formula is specified along with the data. Execute this code."
   ]
  },
  {
   "cell_type": "code",
   "execution_count": 6,
   "metadata": {},
   "outputs": [],
   "source": [
    "nb_mod = naiveBayes(factor(Species) ~ ., data = training)"
   ]
  },
  {
   "cell_type": "markdown",
   "metadata": {},
   "source": [
    "Next, the code in the cell below uses the `predict` method is used to compute the multinomial class probabilities from the scaled features. Execute this code. "
   ]
  },
  {
   "cell_type": "code",
   "execution_count": 7,
   "metadata": {
    "scrolled": true
   },
   "outputs": [
    {
     "data": {
      "text/html": [
       "<table>\n",
       "<thead><tr><th></th><th scope=col>Sepal.Length</th><th scope=col>Sepal.Width</th><th scope=col>Petal.Length</th><th scope=col>Petal.Width</th><th scope=col>Species</th><th scope=col>scores</th></tr></thead>\n",
       "<tbody>\n",
       "\t<tr><th scope=row>1</th><td>-0.78061890</td><td> 1.17616289</td><td>-1.293220  </td><td>-1.287390  </td><td>setosa     </td><td>setosa     </td></tr>\n",
       "\t<tr><th scope=row>2</th><td>-1.02263448</td><td>-0.02352326</td><td>-1.293220  </td><td>-1.287390  </td><td>setosa     </td><td>setosa     </td></tr>\n",
       "\t<tr><th scope=row>4</th><td>-1.38565786</td><td> 0.21641397</td><td>-1.238167  </td><td>-1.287390  </td><td>setosa     </td><td>setosa     </td></tr>\n",
       "\t<tr><th scope=row>7</th><td>-1.38565786</td><td> 0.93622566</td><td>-1.293220  </td><td>-1.157633  </td><td>setosa     </td><td>setosa     </td></tr>\n",
       "\t<tr><th scope=row>8</th><td>-0.90162669</td><td> 0.93622566</td><td>-1.238167  </td><td>-1.287390  </td><td>setosa     </td><td>setosa     </td></tr>\n",
       "\t<tr><th scope=row>12</th><td>-1.14364227</td><td> 0.93622566</td><td>-1.183113  </td><td>-1.287390  </td><td>setosa     </td><td>setosa     </td></tr>\n",
       "\t<tr><th scope=row>14</th><td>-1.74868124</td><td>-0.02352326</td><td>-1.458381  </td><td>-1.417146  </td><td>setosa     </td><td>setosa     </td></tr>\n",
       "\t<tr><th scope=row>15</th><td> 0.06643565</td><td> 2.37584904</td><td>-1.403328  </td><td>-1.287390  </td><td>setosa     </td><td>setosa     </td></tr>\n",
       "\t<tr><th scope=row>16</th><td>-0.05457214</td><td> 3.33559795</td><td>-1.238167  </td><td>-1.027876  </td><td>setosa     </td><td>setosa     </td></tr>\n",
       "\t<tr><th scope=row>19</th><td>-0.05457214</td><td> 1.89597458</td><td>-1.128059  </td><td>-1.157633  </td><td>setosa     </td><td>setosa     </td></tr>\n",
       "</tbody>\n",
       "</table>\n"
      ],
      "text/latex": [
       "\\begin{tabular}{r|llllll}\n",
       "  & Sepal.Length & Sepal.Width & Petal.Length & Petal.Width & Species & scores\\\\\n",
       "\\hline\n",
       "\t1 & -0.78061890 &  1.17616289 & -1.293220   & -1.287390   & setosa      & setosa     \\\\\n",
       "\t2 & -1.02263448 & -0.02352326 & -1.293220   & -1.287390   & setosa      & setosa     \\\\\n",
       "\t4 & -1.38565786 &  0.21641397 & -1.238167   & -1.287390   & setosa      & setosa     \\\\\n",
       "\t7 & -1.38565786 &  0.93622566 & -1.293220   & -1.157633   & setosa      & setosa     \\\\\n",
       "\t8 & -0.90162669 &  0.93622566 & -1.238167   & -1.287390   & setosa      & setosa     \\\\\n",
       "\t12 & -1.14364227 &  0.93622566 & -1.183113   & -1.287390   & setosa      & setosa     \\\\\n",
       "\t14 & -1.74868124 & -0.02352326 & -1.458381   & -1.417146   & setosa      & setosa     \\\\\n",
       "\t15 &  0.06643565 &  2.37584904 & -1.403328   & -1.287390   & setosa      & setosa     \\\\\n",
       "\t16 & -0.05457214 &  3.33559795 & -1.238167   & -1.027876   & setosa      & setosa     \\\\\n",
       "\t19 & -0.05457214 &  1.89597458 & -1.128059   & -1.157633   & setosa      & setosa     \\\\\n",
       "\\end{tabular}\n"
      ],
      "text/markdown": [
       "\n",
       "| <!--/--> | Sepal.Length | Sepal.Width | Petal.Length | Petal.Width | Species | scores | \n",
       "|---|---|---|---|---|---|---|---|---|---|\n",
       "| 1 | -0.78061890 |  1.17616289 | -1.293220   | -1.287390   | setosa      | setosa      | \n",
       "| 2 | -1.02263448 | -0.02352326 | -1.293220   | -1.287390   | setosa      | setosa      | \n",
       "| 4 | -1.38565786 |  0.21641397 | -1.238167   | -1.287390   | setosa      | setosa      | \n",
       "| 7 | -1.38565786 |  0.93622566 | -1.293220   | -1.157633   | setosa      | setosa      | \n",
       "| 8 | -0.90162669 |  0.93622566 | -1.238167   | -1.287390   | setosa      | setosa      | \n",
       "| 12 | -1.14364227 |  0.93622566 | -1.183113   | -1.287390   | setosa      | setosa      | \n",
       "| 14 | -1.74868124 | -0.02352326 | -1.458381   | -1.417146   | setosa      | setosa      | \n",
       "| 15 |  0.06643565 |  2.37584904 | -1.403328   | -1.287390   | setosa      | setosa      | \n",
       "| 16 | -0.05457214 |  3.33559795 | -1.238167   | -1.027876   | setosa      | setosa      | \n",
       "| 19 | -0.05457214 |  1.89597458 | -1.128059   | -1.157633   | setosa      | setosa      | \n",
       "\n",
       "\n"
      ],
      "text/plain": [
       "   Sepal.Length Sepal.Width Petal.Length Petal.Width Species scores\n",
       "1  -0.78061890   1.17616289 -1.293220    -1.287390   setosa  setosa\n",
       "2  -1.02263448  -0.02352326 -1.293220    -1.287390   setosa  setosa\n",
       "4  -1.38565786   0.21641397 -1.238167    -1.287390   setosa  setosa\n",
       "7  -1.38565786   0.93622566 -1.293220    -1.157633   setosa  setosa\n",
       "8  -0.90162669   0.93622566 -1.238167    -1.287390   setosa  setosa\n",
       "12 -1.14364227   0.93622566 -1.183113    -1.287390   setosa  setosa\n",
       "14 -1.74868124  -0.02352326 -1.458381    -1.417146   setosa  setosa\n",
       "15  0.06643565   2.37584904 -1.403328    -1.287390   setosa  setosa\n",
       "16 -0.05457214   3.33559795 -1.238167    -1.027876   setosa  setosa\n",
       "19 -0.05457214   1.89597458 -1.128059    -1.157633   setosa  setosa"
      ]
     },
     "metadata": {},
     "output_type": "display_data"
    }
   ],
   "source": [
    "test[,'scores'] = predict(nb_mod, newdata = test)\n",
    "test[1:10,]"
   ]
  },
  {
   "cell_type": "markdown",
   "metadata": {},
   "source": [
    "You can see actual species and predicted species. \n",
    "\n",
    "It is time to evaluate the model results. Keep in mind that the problem has been made deliberately difficult, by having more test cases than training cases. The iris data has three species categories. Therefore it is necessary to use evaluation code for a three category problem. The function in the cell below extends code from previous labs to deal with a three category problem. Execute this code and examine the results."
   ]
  },
  {
   "cell_type": "code",
   "execution_count": 8,
   "metadata": {},
   "outputs": [
    {
     "name": "stdout",
     "output_type": "stream",
     "text": [
      "            Predicted\n",
      "Actual       setosa versicolor virginica\n",
      "  setosa         33          0         0\n",
      "  versicolor      0         28         5\n",
      "  virginica       0          3        30\n",
      "\n",
      "Accuracy =  0.919 \n",
      " \n",
      "          setosa versicolor virginica\n",
      "Precision      1      0.848     0.909\n",
      "Recall         1      0.903     0.857\n",
      "F1             1      0.875     0.882\n"
     ]
    }
   ],
   "source": [
    "print_metrics = function(df, label){\n",
    "    ## Compute and print the confusion matrix\n",
    "    cm = as.matrix(table(Actual = df$Species, Predicted = df$scores))\n",
    "    print(cm)\n",
    "\n",
    "    ## Compute and print accuracy \n",
    "    accuracy = round(sum(sapply(1:nrow(cm), function(i) cm[i,i]))/sum(cm), 3)\n",
    "    cat('\\n')\n",
    "    cat(paste('Accuracy = ', as.character(accuracy)), '\\n \\n')                           \n",
    "\n",
    "    ## Compute and print precision, recall and F1\n",
    "    precision = sapply(1:nrow(cm), function(i) cm[i,i]/sum(cm[i,]))\n",
    "    recall = sapply(1:nrow(cm), function(i) cm[i,i]/sum(cm[,i]))    \n",
    "    F1 = sapply(1:nrow(cm), function(i) 2*(recall[i] * precision[i])/(recall[i] + precision[i]))    \n",
    "    metrics = sapply(c(precision, recall, F1), round, 3)        \n",
    "    metrics = t(matrix(metrics, nrow = nrow(cm), ncol = ncol(cm)))       \n",
    "    dimnames(metrics) = list(c('Precision', 'Recall', 'F1'), unique(test$Species))      \n",
    "    print(metrics)\n",
    "}  \n",
    "print_metrics(test, 'Species')      "
   ]
  },
  {
   "cell_type": "markdown",
   "metadata": {},
   "source": [
    "Examine these results. Notice the following:\n",
    "1. The confusion matrix has dimension 3X3. You can see that most cases are correctly classified. \n",
    "2. The overll accuracy is 0.92. Since the classes are roughly balanced, this metric indicates relatively good performance of the classifier, particularly since it was only trained on 51 cases. \n",
    "3. The precision, recall and  F1 for each of the classes is relatively good. Virginica has the worst metrics since it has the largest number of misclassified cases. \n",
    "\n",
    "How important are each of the features for this model? The R Caret package provides the capability to find out. As a first step, `gbm` models must be trained using the the Caret `train` function. The code in the cell below does this, using the default model arguments. The default arguments for the model are specified with the `tuneGrid` argument of `train`. Execute the code."
   ]
  },
  {
   "cell_type": "code",
   "execution_count": 9,
   "metadata": {
    "scrolled": true
   },
   "outputs": [
    {
     "data": {
      "text/plain": [
       "Support Vector Machines with Linear Kernel \n",
       "\n",
       "51 samples\n",
       " 4 predictor\n",
       " 3 classes: 'setosa', 'versicolor', 'virginica' \n",
       "\n",
       "No pre-processing\n",
       "Resampling: Cross-Validated (10 fold, repeated 3 times) \n",
       "Summary of sample sizes: 45, 45, 45, 46, 45, 47, ... \n",
       "Resampling results:\n",
       "\n",
       "  Accuracy   Kappa    \n",
       "  0.9688889  0.9533088\n",
       "\n",
       "Tuning parameter 'C' was held constant at a value of 1"
      ]
     },
     "metadata": {},
     "output_type": "display_data"
    }
   ],
   "source": [
    "trControl <- trainControl(method = \"repeatedcv\", number = 10, repeats = 3)\n",
    "\n",
    "svm_mod_train = train(factor(Species) ~ ., \n",
    "                      data = training, \n",
    "                      method = \"svmLinear\", \n",
    "                      verbose = FALSE,\n",
    "                      trControl = trControl,\n",
    "                      scale = FALSE, \n",
    "                      type = 'C-svc')\n",
    "svm_mod_train"
   ]
  },
  {
   "cell_type": "markdown",
   "metadata": {},
   "source": [
    "With the Caret model object trained, the feature importance can be computed and displayed. Execute this code and examine the results. "
   ]
  },
  {
   "cell_type": "code",
   "execution_count": 10,
   "metadata": {
    "scrolled": false
   },
   "outputs": [
    {
     "data": {
      "text/html": [
       "<table>\n",
       "<thead><tr><th></th><th scope=col>setosa</th><th scope=col>versicolor</th><th scope=col>virginica</th></tr></thead>\n",
       "<tbody>\n",
       "\t<tr><th scope=row>Sepal.Length</th><td>1.0000000</td><td>0.9446367</td><td>1.0000000</td></tr>\n",
       "\t<tr><th scope=row>Sepal.Width</th><td>0.8961938</td><td>0.8961938</td><td>0.7283737</td></tr>\n",
       "\t<tr><th scope=row>Petal.Length</th><td>1.0000000</td><td>1.0000000</td><td>1.0000000</td></tr>\n",
       "\t<tr><th scope=row>Petal.Width</th><td>1.0000000</td><td>1.0000000</td><td>1.0000000</td></tr>\n",
       "</tbody>\n",
       "</table>\n"
      ],
      "text/latex": [
       "\\begin{tabular}{r|lll}\n",
       "  & setosa & versicolor & virginica\\\\\n",
       "\\hline\n",
       "\tSepal.Length & 1.0000000 & 0.9446367 & 1.0000000\\\\\n",
       "\tSepal.Width & 0.8961938 & 0.8961938 & 0.7283737\\\\\n",
       "\tPetal.Length & 1.0000000 & 1.0000000 & 1.0000000\\\\\n",
       "\tPetal.Width & 1.0000000 & 1.0000000 & 1.0000000\\\\\n",
       "\\end{tabular}\n"
      ],
      "text/markdown": [
       "\n",
       "| <!--/--> | setosa | versicolor | virginica | \n",
       "|---|---|---|---|\n",
       "| Sepal.Length | 1.0000000 | 0.9446367 | 1.0000000 | \n",
       "| Sepal.Width | 0.8961938 | 0.8961938 | 0.7283737 | \n",
       "| Petal.Length | 1.0000000 | 1.0000000 | 1.0000000 | \n",
       "| Petal.Width | 1.0000000 | 1.0000000 | 1.0000000 | \n",
       "\n",
       "\n"
      ],
      "text/plain": [
       "             setosa    versicolor virginica\n",
       "Sepal.Length 1.0000000 0.9446367  1.0000000\n",
       "Sepal.Width  0.8961938 0.8961938  0.7283737\n",
       "Petal.Length 1.0000000 1.0000000  1.0000000\n",
       "Petal.Width  1.0000000 1.0000000  1.0000000"
      ]
     },
     "metadata": {},
     "output_type": "display_data"
    }
   ],
   "source": [
    "options(repr.plot.width=4, repr.plot.height=3)\n",
    "imp = varImp(svm_mod_train, scale = FALSE)$importance\n",
    "imp"
   ]
  },
  {
   "cell_type": "markdown",
   "metadata": {},
   "source": [
    "Examine the table above. Notice that `Sepal.Width` has the least importance for classifying each of the species. \n",
    "\n",
    "Execute this code, and answer **Question 1** on the course page.\n",
    "\n",
    "Next, you will train and evaluate a model using the three most important features by executing the code in the cell below:"
   ]
  },
  {
   "cell_type": "code",
   "execution_count": 11,
   "metadata": {},
   "outputs": [
    {
     "name": "stdout",
     "output_type": "stream",
     "text": [
      "            Predicted\n",
      "Actual       setosa versicolor virginica\n",
      "  setosa         33          0         0\n",
      "  versicolor      0         28         5\n",
      "  virginica       0          3        30\n",
      "\n",
      "Accuracy =  0.919 \n",
      " \n",
      "          setosa versicolor virginica\n",
      "Precision      1      0.848     0.909\n",
      "Recall         1      0.903     0.857\n",
      "F1             1      0.875     0.882\n"
     ]
    }
   ],
   "source": [
    "svm_mod_3 = svm(factor(Species) ~ Sepal.Length + Petal.Length + Petal.Width, data = training, \n",
    "                 scale = FALSE, type = 'C-classification')\n",
    "test[,'scores'] = predict(svm_mod, newdata = test)\n",
    "print_metrics(test, 'Species')  "
   ]
  },
  {
   "cell_type": "markdown",
   "metadata": {},
   "source": [
    "These results are identical to those obtained with the model with all features. The simpler model is preferred since it is likely to generalize better. \n",
    "\n",
    "The code in the cell below plots the classes of the iris flower along with the classification errors shown by shape. Execute this code and examine the results.  "
   ]
  },
  {
   "cell_type": "code",
   "execution_count": 12,
   "metadata": {},
   "outputs": [
    {
     "data": {
      "image/png": "[encoded data removed]",
      "text/plain": [
       "plot without title"
      ]
     },
     "metadata": {},
     "output_type": "display_data"
    }
   ],
   "source": [
    "## Create column of correct-incorrect classification\n",
    "test$correct = ifelse(test$Species == test$scores, 'correct', 'incorrect')\n",
    "\n",
    "single_plot_classes = function(df, colx, coly){\n",
    "    ggplot(df, aes_string(colx,coly)) +\n",
    "          geom_point(aes(color = factor(df$Species), shape = correct), alpha = 0.4)\n",
    "}\n",
    "\n",
    "plot_iris_classes = function(df){\n",
    "    options(repr.plot.width=8, repr.plot.height=5)\n",
    "    grid.arrange(\n",
    "        single_plot_classes(df, 'Sepal.Length', 'Sepal.Width'),\n",
    "        single_plot_classes(df, 'Sepal.Length', 'Petal.Length'),\n",
    "        single_plot_classes(df, 'Petal.Length', 'Petal.Width'),\n",
    "        single_plot_classes(df, 'Sepal.Width', 'Petal.Length'),\n",
    "        nrow = 2)\n",
    "}\n",
    "\n",
    "plot_iris_classes(test)"
   ]
  },
  {
   "cell_type": "markdown",
   "metadata": {},
   "source": [
    "Examine these plots. You can see how the classifier has divided the feature space between the classes. Notice that most of the errors occur in the overlap region between Virginica and Versicolor. This behavior is to be expected.  "
   ]
  },
  {
   "cell_type": "markdown",
   "metadata": {},
   "source": [
    "## Another example\n",
    "\n",
    "Now, you will try a more complex example using the credit scoring data. You will use the prepared data which had the the following preprocessing:\n",
    "1. Cleaning missing values.\n",
    "2. Aggregating categories of certain categorical variables. \n",
    "3. Encoding categorical variables as binary dummy variables.\n",
    "4. Standardizing numeric variables. \n",
    "\n",
    "Execute the code in the cell below to load the features and labels as numpy arrays for the example. "
   ]
  },
  {
   "cell_type": "code",
   "execution_count": 31,
   "metadata": {
    "scrolled": true
   },
   "outputs": [
    {
     "name": "stdout",
     "output_type": "stream",
     "text": [
      "(999, 35)\n",
      "(999,)\n"
     ]
    }
   ],
   "source": [
    "Features = np.array(pd.read_csv('Credit_Features.csv'))\n",
    "Labels = np.array(pd.read_csv('Credit_Labels.csv'))\n",
    "Labels = Labels.reshape(Labels.shape[0],)\n",
    "print(Features.shape)\n",
    "print(Labels.shape)"
   ]
  },
  {
   "cell_type": "markdown",
   "metadata": {},
   "source": [
    "The Features array has both numeric features and binary features (dummy variables for the categorical features). Therefore, a Gaussian model must be used. However, this model is not ideal, since numeric features are mixed with features exhibiting Bernoulli distributions, the binary features. \n",
    "\n",
    "The code in the cell below does the following processing:\n",
    "1. Defines a 10 fold cross validatiion object. \n",
    "2. Defines a Gaussian naive Bayes model.\n",
    "3. Performs a 10 fold cross validation.\n",
    "4. Prints results from the cross validation. \n",
    "\n",
    "Execute this code and examine the result. "
   ]
  },
  {
   "cell_type": "code",
   "execution_count": 32,
   "metadata": {},
   "outputs": [
    {
     "name": "stdout",
     "output_type": "stream",
     "text": [
      "Mean performance metric = 0.669\n",
      "SDT of the metric       = 0.126\n",
      "Outcomes by cv fold\n",
      "fold 1   0.740\n",
      "fold 2   0.700\n",
      "fold 3   0.720\n",
      "fold 4   0.710\n",
      "fold 5   0.730\n",
      "fold 6   0.730\n",
      "fold 7   0.640\n",
      "fold 8   0.730\n",
      "fold 9   0.300\n",
      "fold 10   0.687\n"
     ]
    }
   ],
   "source": [
    "nr.seed(321)\n",
    "cv_folds = ms.KFold(n_splits=10, shuffle = True)\n",
    "nr.seed(498)\n",
    "NB_credit = GaussianNB()\n",
    "cv_estimate = ms.cross_val_score(NB_credit, Features, Labels, \n",
    "                                 cv = cv_folds) # Use the outside folds\n",
    "print('Mean performance metric = %4.3f' % np.mean(cv_estimate))\n",
    "\n",
    "print('SDT of the metric       = %4.3f' % np.std(cv_estimate))\n",
    "print('Outcomes by cv fold')\n",
    "for i, x in enumerate(cv_estimate):\n",
    "    print('fold ' + str(i+1) + '   %4.3f' % x)"
   ]
  },
  {
   "cell_type": "markdown",
   "metadata": {},
   "source": [
    "Examine these results. Notice that the standard deviation of the mean of the AUC is more than an order of magnitude smaller than the mean. This indicates that this model is likely to generalize well. \n",
    "\n",
    "Now, you will build and test a model using a single split of the dataset. As a first step, execute the code in the cell below to create training and testing dataset."
   ]
  },
  {
   "cell_type": "code",
   "execution_count": 33,
   "metadata": {},
   "outputs": [],
   "source": [
    "## Randomly sample cases to create independent training and test data\n",
    "nr.seed(1115)\n",
    "indx = range(Features.shape[0])\n",
    "indx = ms.train_test_split(indx, test_size = 300)\n",
    "x_train = Features[indx[0],:]\n",
    "y_train = np.ravel(Labels[indx[0]])\n",
    "x_test = Features[indx[1],:]\n",
    "y_test = np.ravel(Labels[indx[1]])"
   ]
  },
  {
   "cell_type": "markdown",
   "metadata": {},
   "source": [
    "The code in the cell below defines a naive Bayes model object and then fits the model to the training data. Execute this code:"
   ]
  },
  {
   "cell_type": "code",
   "execution_count": 34,
   "metadata": {},
   "outputs": [
    {
     "data": {
      "text/plain": [
       "GaussianNB(priors=None)"
      ]
     },
     "execution_count": 34,
     "metadata": {},
     "output_type": "execute_result"
    }
   ],
   "source": [
    "NB_credit_mod = GaussianNB() \n",
    "NB_credit_mod.fit(x_train, y_train)"
   ]
  },
  {
   "cell_type": "markdown",
   "metadata": {},
   "source": [
    "using the test data subset, the code in the cell below scores and prints evaluation metrics for the model. Execute this code and examine the results. "
   ]
  },
  {
   "cell_type": "code",
   "execution_count": 35,
   "metadata": {},
   "outputs": [
    {
     "name": "stdout",
     "output_type": "stream",
     "text": [
      "                 Confusion matrix\n",
      "                 Score positive    Score negative\n",
      "True positive       178             39\n",
      "True negative        40             43\n",
      "\n",
      "Accuracy        0.74\n",
      "AUC             0.67\n",
      "Macro precision 0.67\n",
      "Macro recall    0.67\n",
      " \n",
      "             Positive   Negative\n",
      "Num case    217.00       83.00\n",
      "Precision   0.82          0.52\n",
      "Recall      0.82          0.52\n",
      "F1          0.82          0.52\n"
     ]
    }
   ],
   "source": [
    "def print_metrics(labels, scores):\n",
    "    metrics = sklm.precision_recall_fscore_support(labels, scores)\n",
    "    conf = sklm.confusion_matrix(labels, scores)\n",
    "    print('                 Confusion matrix')\n",
    "    print('                 Score positive    Score negative')\n",
    "    print('True positive    %6d' % conf[0,0] + '          %5d' % conf[0,1])\n",
    "    print('True negative    %6d' % conf[1,0] + '          %5d' % conf[1,1])\n",
    "    print('')\n",
    "    print('Accuracy        %0.2f' % sklm.accuracy_score(labels, scores))\n",
    "    print('AUC             %0.2f' % sklm.roc_auc_score(labels, scores))\n",
    "    print('Macro precision %0.2f' % float((float(metrics[0][0]) + float(metrics[0][1]))/2.0))\n",
    "    print('Macro recall    %0.2f' % float((float(metrics[1][0]) + float(metrics[1][1]))/2.0))\n",
    "    print(' ')\n",
    "    print('             Positive   Negative')\n",
    "    print('Num case    %0.2f' % metrics[3][0] + '       %0.2f' % metrics[3][1])\n",
    "    print('Precision   %0.2f' % metrics[0][0] + '          %0.2f' % metrics[0][1])\n",
    "    print('Recall      %0.2f' % metrics[1][0] + '          %0.2f' % metrics[1][1])\n",
    "    print('F1          %0.2f' % metrics[2][0] + '          %0.2f' % metrics[2][1])\n",
    "\n",
    "scores = NB_credit_mod.predict(x_test)\n",
    "print_metrics(y_test, scores)     "
   ]
  },
  {
   "cell_type": "markdown",
   "metadata": {},
   "source": [
    "Overall, these performance metrics are poor. Barely half the bad credit risk customers are correctly identified. The reported AUC is quite a bit better than the mean achieved with the 5 fold cross validation. It is likely these figures are optimistic. \n",
    "\n",
    "Perhaps, a Bernoulli naive Bayes model will work better. Since naive Bayes models tend to be less sensitive to the quantity of training data, this approach may be reasonable. To apply this model, the numeric features must be dropped from the array. Execute the code in the cell below to remove the numeric features and examine the resulting sample. "
   ]
  },
  {
   "cell_type": "code",
   "execution_count": 36,
   "metadata": {},
   "outputs": [
    {
     "data": {
      "text/plain": [
       "array([[1., 0., 0., 0., 0., 0., 1., 0., 0., 0., 0., 0., 0., 0., 0., 0.,\n",
       "        1., 0., 0., 1., 0., 0., 0., 0., 1., 0., 0., 0., 0., 1., 0.],\n",
       "       [0., 0., 0., 1., 0., 1., 0., 0., 0., 0., 0., 0., 0., 1., 0., 0.,\n",
       "        0., 0., 0., 0., 0., 0., 1., 0., 0., 1., 0., 0., 0., 1., 0.],\n",
       "       [0., 1., 0., 0., 0., 0., 1., 0., 0., 0., 0., 0., 0., 0., 1., 0.,\n",
       "        0., 0., 0., 0., 0., 0., 1., 0., 0., 0., 1., 1., 0., 0., 0.]])"
      ]
     },
     "execution_count": 36,
     "metadata": {},
     "output_type": "execute_result"
    }
   ],
   "source": [
    "Features = Features[:,4:]\n",
    "Features[:3,:]"
   ]
  },
  {
   "cell_type": "markdown",
   "metadata": {},
   "source": [
    "You can see that all of the features are binary. A Bernoulli naive Bayes can now be applied to these features. \n",
    "\n",
    "10 fold nested cross validation is used to estimate the optimal hyperparameter and performs model selection for the naive Bayes model. Execute the code in the cell below to define inside and outside fold objects."
   ]
  },
  {
   "cell_type": "code",
   "execution_count": 37,
   "metadata": {},
   "outputs": [],
   "source": [
    "nr.seed(123)\n",
    "inside = ms.KFold(n_splits=10, shuffle = True)\n",
    "nr.seed(321)\n",
    "outside = ms.KFold(n_splits=10, shuffle = True)"
   ]
  },
  {
   "cell_type": "markdown",
   "metadata": {},
   "source": [
    "The code in the cell below estimates the best hyperparamters using 10 fold cross validaton. There are two points to notice here:\n",
    "1. In this case, a grid for one hyperparameter: alpha is the smoothing parameter to avoid zero probabilities.  \n",
    "3. The model is fit on the grid and the best estimated hyperparameters are prinited. \n",
    "\n",
    "Execute this code and examine the result. "
   ]
  },
  {
   "cell_type": "code",
   "execution_count": 38,
   "metadata": {},
   "outputs": [
    {
     "name": "stdout",
     "output_type": "stream",
     "text": [
      "0.0001\n"
     ]
    }
   ],
   "source": [
    "nr.seed(3456)\n",
    "## Define the dictionary for the grid search and the model object to search on\n",
    "param_grid = {\"alpha\": [0.0001, 0.001, 0.01, 0.1, 1, 10]}\n",
    "## Define the NB regression model\n",
    "NB_clf = BernoulliNB() \n",
    "\n",
    "## Perform the grid search over the parameters\n",
    "clf = ms.GridSearchCV(estimator = NB_clf, param_grid = param_grid, \n",
    "                      cv = inside, # Use the inside folds\n",
    "                      scoring = sklm.make_scorer(sklm.roc_auc_score),\n",
    "                      return_train_score = True)\n",
    "clf.fit(Features, Labels)\n",
    "print(clf.best_estimator_.alpha)"
   ]
  },
  {
   "cell_type": "markdown",
   "metadata": {},
   "source": [
    "The smallest alpha hyperparameter has been selected. This indicates that there is very litte problem with zero probabilities in this problem. This situation results from the fact that the probability space sampled is dense. \n",
    "\n",
    "The code in the cell below executes the outter loop of the cross validation to estimate model performance with the optimal hyperparameter. Exectute this code and examine the result."
   ]
  },
  {
   "cell_type": "code",
   "execution_count": 39,
   "metadata": {},
   "outputs": [
    {
     "name": "stdout",
     "output_type": "stream",
     "text": [
      "Mean performance metric = 0.726\n",
      "SDT of the metric       = 0.051\n",
      "Outcomes by cv fold\n",
      "fold 1   0.810\n",
      "fold 2   0.730\n",
      "fold 3   0.700\n",
      "fold 4   0.790\n",
      "fold 5   0.760\n",
      "fold 6   0.710\n",
      "fold 7   0.650\n",
      "fold 8   0.720\n",
      "fold 9   0.740\n",
      "fold 10   0.646\n"
     ]
    }
   ],
   "source": [
    "NB_credit = BernoulliNB(alpha = 0.0001)\n",
    "nr.seed(498)\n",
    "cv_estimate = ms.cross_val_score(NB_credit, Features, Labels, \n",
    "                                 cv = outside) # Use the outside folds\n",
    "print('Mean performance metric = %4.3f' % np.mean(cv_estimate))\n",
    "\n",
    "print('SDT of the metric       = %4.3f' % np.std(cv_estimate))\n",
    "print('Outcomes by cv fold')\n",
    "for i, x in enumerate(cv_estimate):\n",
    "    print('fold ' + str(i+1) + '   %4.3f' % x)"
   ]
  },
  {
   "cell_type": "markdown",
   "metadata": {},
   "source": [
    "At first look, the AUC seems reasonable. The standard deviation is an order of magnitude less than the AUC. \n",
    "\n",
    "Next, sample the dataset into training and testing subsets by executing the code in the cell below."
   ]
  },
  {
   "cell_type": "code",
   "execution_count": 40,
   "metadata": {},
   "outputs": [],
   "source": [
    "## Randomly sample cases to create independent training and test data\n",
    "nr.seed(1115)\n",
    "indx = range(Features.shape[0])\n",
    "indx = ms.train_test_split(indx, test_size = 300)\n",
    "x_train = Features[indx[0],:]\n",
    "y_train = np.ravel(Labels[indx[0]])\n",
    "x_test = Features[indx[1],:]\n",
    "y_test = np.ravel(Labels[indx[1]])"
   ]
  },
  {
   "cell_type": "markdown",
   "metadata": {},
   "source": [
    "Now, execute the code below to fit and score the Bernoulli naive Bayes model and display the pereformance metrics. "
   ]
  },
  {
   "cell_type": "code",
   "execution_count": 41,
   "metadata": {},
   "outputs": [
    {
     "name": "stdout",
     "output_type": "stream",
     "text": [
      "                 Confusion matrix\n",
      "                 Score positive    Score negative\n",
      "True positive       180             37\n",
      "True negative        35             48\n",
      "\n",
      "Accuracy        0.76\n",
      "AUC             0.70\n",
      "Macro precision 0.70\n",
      "Macro recall    0.70\n",
      " \n",
      "             Positive   Negative\n",
      "Num case    217.00       83.00\n",
      "Precision   0.84          0.56\n",
      "Recall      0.83          0.58\n",
      "F1          0.83          0.57\n"
     ]
    }
   ],
   "source": [
    "NB_credit_mod = BernoulliNB(alpha = 0.0001) \n",
    "NB_credit_mod.fit(x_train, y_train)\n",
    "scores = NB_credit_mod.predict(x_test)\n",
    "print_metrics(y_test, scores)  "
   ]
  },
  {
   "cell_type": "markdown",
   "metadata": {},
   "source": [
    "The results for this Bernoulli naive Bayes model are much better than for the Gaussian model. Still, they could be better.\n",
    "\n",
    "The current model uses the emperical distribution of the label values for the prior value of $p$ of the Bernoulli distributin. This probability is invariably skewed toward the majority case. Since the bank cares more about the minority case, setting this distribution to a fixed prior value can help overcome the class imbalance. The code in the cell below redefines the model object with prior probability of 0.6 for the minority case. Execute this code and examine the results."
   ]
  },
  {
   "cell_type": "code",
   "execution_count": 42,
   "metadata": {
    "scrolled": true
   },
   "outputs": [
    {
     "name": "stdout",
     "output_type": "stream",
     "text": [
      "                 Confusion matrix\n",
      "                 Score positive    Score negative\n",
      "True positive       122             95\n",
      "True negative        17             66\n",
      "\n",
      "Accuracy        0.63\n",
      "AUC             0.68\n",
      "Macro precision 0.64\n",
      "Macro recall    0.68\n",
      " \n",
      "             Positive   Negative\n",
      "Num case    217.00       83.00\n",
      "Precision   0.88          0.41\n",
      "Recall      0.56          0.80\n",
      "F1          0.69          0.54\n"
     ]
    }
   ],
   "source": [
    "NB_credit_mod = BernoulliNB(alpha = 0.0001, class_prior = [0.4,0.6]) \n",
    "NB_credit_mod.fit(x_train, y_train)\n",
    "scores = NB_credit_mod.predict(x_test)\n",
    "print_metrics(y_test, scores) "
   ]
  },
  {
   "cell_type": "markdown",
   "metadata": {},
   "source": [
    "The majority of bad credit cases are now correctly identified. However, this charactersitic is at the cost of a high false negative error rate. Still, given that the cost to the bank of a false negative is five times the cost of a false positive, this may be a good solution. An infinite number of other models are possible by changing the prior distribution. "
   ]
  },
  {
   "cell_type": "markdown",
   "metadata": {},
   "source": [
    "## Summary\n",
    "\n",
    "In this lab you have accomplished the following:\n",
    "1. Used a Gaussian naive model to classify the cases of the iris data. The overall model performance was reasonable. \n",
    "2. Fit a Gaussian naive Bayes model on the bank credit data. The performance of this model was poor as a resut of many Bernoulli distributed dummy features.\n",
    "3. Used a Bernoulli naive Bayes model for the bank credit data by eliminating the numeric features. Overall, this model was much better. \n",
    "4. A model skewed toward detecting bad credit cases was created using a prior distribution rather than the emperical distribution of the labels. This model correctly classified a significant number of the bad credit cases. Selecting other prior distributions will give other models. "
   ]
  },
  {
   "cell_type": "code",
   "execution_count": null,
   "metadata": {},
   "outputs": [],
   "source": []
  }
 ],
 "metadata": {
  "kernelspec": {
   "display_name": "R",
   "language": "R",
   "name": "ir"
  },
  "language_info": {
   "codemirror_mode": "r",
   "file_extension": ".r",
   "mimetype": "text/x-r-source",
   "name": "R",
   "pygments_lexer": "r",
   "version": "3.5.0"
  }
 },
 "nbformat": 4,
 "nbformat_minor": 2
}
