{
 "cells": [
  {
   "cell_type": "markdown",
   "metadata": {},
   "source": [
    "# Bagging and Random Forest Models\n",
    "\n",
    "Using **ensemble methods** can greatly improve the results achieved with weak machine learning algorithms, also called **weak learners**. Ensemble methods achieve better performance by aggregating the results of many statistically independent models. This process averages out the errors and produces a final better prediction. \n",
    "\n",
    "In this lab you will work with a widely used ensemble method known as **bootstrap aggregating** or simply **bagging**. Bagging follows a simple procedure:\n",
    "1. N learners (machine learning models) are defined. \n",
    "2. N subsamples of the training data are created by **Bernoulli sampling with replacement**.\n",
    "3. The N learners are trained on the subsamples of the training data.\n",
    "4. The ensemble is scored by averaging, or taking a majority vote, of the predictions from the N learners.\n",
    "\n",
    "**Classification and regression tree models** are most typically used with bagging methods. The most common such algorithm is know as the **random forest**. The random forest method is highly scalable and generally produces good results, even for complex problems. \n",
    "\n",
    "Classification and regression trees tend to be robust to noise or outliers in the training data. This is true for the random forest algorithm as well. "
   ]
  },
  {
   "cell_type": "markdown",
   "metadata": {},
   "source": [
    "## Example: Iris dataset\n",
    "\n",
    "As a first example you will use random forest to classify the species of iris flowers. \n",
    "\n",
    "As a first step, execute the code in the cell below to load the required packages to run the rest of this notebook. "
   ]
  },
  {
   "cell_type": "code",
   "execution_count": 11,
   "metadata": {
    "scrolled": true
   },
   "outputs": [],
   "source": [
    "## Import packages\n",
    "library(ggplot2)\n",
    "library(gridExtra)\n",
    "library(repr)\n",
    "library(dplyr)\n",
    "library(caret)\n",
    "library(randomForest)\n",
    "library(ROCR)\n",
    "\n",
    "options(repr.plot.width=4, repr.plot.height=4) # Set the initial plot area dimensions"
   ]
  },
  {
   "cell_type": "markdown",
   "metadata": {},
   "source": [
    "The code in the cell below displays the head of the data frame and plots all pairwise combinations of the features with the species of the iris flower in colors. Execute this code and examine the results. "
   ]
  },
  {
   "cell_type": "code",
   "execution_count": 12,
   "metadata": {},
   "outputs": [
    {
     "data": {
      "text/html": [
       "<table>\n",
       "<thead><tr><th scope=col>Sepal.Length</th><th scope=col>Sepal.Width</th><th scope=col>Petal.Length</th><th scope=col>Petal.Width</th><th scope=col>Species</th></tr></thead>\n",
       "<tbody>\n",
       "\t<tr><td>5.1   </td><td>3.5   </td><td>1.4   </td><td>0.2   </td><td>setosa</td></tr>\n",
       "\t<tr><td>4.9   </td><td>3.0   </td><td>1.4   </td><td>0.2   </td><td>setosa</td></tr>\n",
       "\t<tr><td>4.7   </td><td>3.2   </td><td>1.3   </td><td>0.2   </td><td>setosa</td></tr>\n",
       "\t<tr><td>4.6   </td><td>3.1   </td><td>1.5   </td><td>0.2   </td><td>setosa</td></tr>\n",
       "\t<tr><td>5.0   </td><td>3.6   </td><td>1.4   </td><td>0.2   </td><td>setosa</td></tr>\n",
       "\t<tr><td>5.4   </td><td>3.9   </td><td>1.7   </td><td>0.4   </td><td>setosa</td></tr>\n",
       "\t<tr><td>4.6   </td><td>3.4   </td><td>1.4   </td><td>0.3   </td><td>setosa</td></tr>\n",
       "\t<tr><td>5.0   </td><td>3.4   </td><td>1.5   </td><td>0.2   </td><td>setosa</td></tr>\n",
       "\t<tr><td>4.4   </td><td>2.9   </td><td>1.4   </td><td>0.2   </td><td>setosa</td></tr>\n",
       "\t<tr><td>4.9   </td><td>3.1   </td><td>1.5   </td><td>0.1   </td><td>setosa</td></tr>\n",
       "</tbody>\n",
       "</table>\n"
      ],
      "text/latex": [
       "\\begin{tabular}{r|lllll}\n",
       " Sepal.Length & Sepal.Width & Petal.Length & Petal.Width & Species\\\\\n",
       "\\hline\n",
       "\t 5.1    & 3.5    & 1.4    & 0.2    & setosa\\\\\n",
       "\t 4.9    & 3.0    & 1.4    & 0.2    & setosa\\\\\n",
       "\t 4.7    & 3.2    & 1.3    & 0.2    & setosa\\\\\n",
       "\t 4.6    & 3.1    & 1.5    & 0.2    & setosa\\\\\n",
       "\t 5.0    & 3.6    & 1.4    & 0.2    & setosa\\\\\n",
       "\t 5.4    & 3.9    & 1.7    & 0.4    & setosa\\\\\n",
       "\t 4.6    & 3.4    & 1.4    & 0.3    & setosa\\\\\n",
       "\t 5.0    & 3.4    & 1.5    & 0.2    & setosa\\\\\n",
       "\t 4.4    & 2.9    & 1.4    & 0.2    & setosa\\\\\n",
       "\t 4.9    & 3.1    & 1.5    & 0.1    & setosa\\\\\n",
       "\\end{tabular}\n"
      ],
      "text/markdown": [
       "\n",
       "Sepal.Length | Sepal.Width | Petal.Length | Petal.Width | Species | \n",
       "|---|---|---|---|---|---|---|---|---|---|\n",
       "| 5.1    | 3.5    | 1.4    | 0.2    | setosa | \n",
       "| 4.9    | 3.0    | 1.4    | 0.2    | setosa | \n",
       "| 4.7    | 3.2    | 1.3    | 0.2    | setosa | \n",
       "| 4.6    | 3.1    | 1.5    | 0.2    | setosa | \n",
       "| 5.0    | 3.6    | 1.4    | 0.2    | setosa | \n",
       "| 5.4    | 3.9    | 1.7    | 0.4    | setosa | \n",
       "| 4.6    | 3.4    | 1.4    | 0.3    | setosa | \n",
       "| 5.0    | 3.4    | 1.5    | 0.2    | setosa | \n",
       "| 4.4    | 2.9    | 1.4    | 0.2    | setosa | \n",
       "| 4.9    | 3.1    | 1.5    | 0.1    | setosa | \n",
       "\n",
       "\n"
      ],
      "text/plain": [
       "   Sepal.Length Sepal.Width Petal.Length Petal.Width Species\n",
       "1  5.1          3.5         1.4          0.2         setosa \n",
       "2  4.9          3.0         1.4          0.2         setosa \n",
       "3  4.7          3.2         1.3          0.2         setosa \n",
       "4  4.6          3.1         1.5          0.2         setosa \n",
       "5  5.0          3.6         1.4          0.2         setosa \n",
       "6  5.4          3.9         1.7          0.4         setosa \n",
       "7  4.6          3.4         1.4          0.3         setosa \n",
       "8  5.0          3.4         1.5          0.2         setosa \n",
       "9  4.4          2.9         1.4          0.2         setosa \n",
       "10 4.9          3.1         1.5          0.1         setosa "
      ]
     },
     "metadata": {},
     "output_type": "display_data"
    },
    {
     "data": {
      "image/png": "[encoded data removed]",
      "text/plain": [
       "plot without title"
      ]
     },
     "metadata": {},
     "output_type": "display_data"
    }
   ],
   "source": [
    "single_plot = function(df, colx, coly){\n",
    "    ggplot(df, aes_string(colx,coly)) +\n",
    "          geom_point(aes(color = factor(df$Species)), alpha = 0.4)\n",
    "}\n",
    "\n",
    "plot_iris = function(df){\n",
    "    options(repr.plot.width=8, repr.plot.height=5)\n",
    "    grid.arrange(\n",
    "        single_plot(df, 'Sepal.Length', 'Sepal.Width'),\n",
    "        single_plot(df, 'Sepal.Length', 'Petal.Length'),\n",
    "        single_plot(df, 'Petal.Length', 'Petal.Width'),\n",
    "        single_plot(df, 'Sepal.Width', 'Petal.Length'),\n",
    "        nrow = 2)\n",
    "}\n",
    "\n",
    "head(iris, 10)   \n",
    "plot_iris(iris)"
   ]
  },
  {
   "cell_type": "markdown",
   "metadata": {},
   "source": [
    "You can see that Setosa (in blue) is well separated from the other two categories. The Versicolor (in orange) and the Virginica (in green) show considerable overlap. The question is how well our classifier will separate these categories. "
   ]
  },
  {
   "cell_type": "markdown",
   "metadata": {},
   "source": [
    "Next, execute the code in the cell below to split the dataset into test and training set. Notice that unusually, 67% of the cases are being used as the test dataset. "
   ]
  },
  {
   "cell_type": "code",
   "execution_count": 13,
   "metadata": {},
   "outputs": [
    {
     "data": {
      "text/html": [
       "<ol class=list-inline>\n",
       "\t<li>51</li>\n",
       "\t<li>5</li>\n",
       "</ol>\n"
      ],
      "text/latex": [
       "\\begin{enumerate*}\n",
       "\\item 51\n",
       "\\item 5\n",
       "\\end{enumerate*}\n"
      ],
      "text/markdown": [
       "1. 51\n",
       "2. 5\n",
       "\n",
       "\n"
      ],
      "text/plain": [
       "[1] 51  5"
      ]
     },
     "metadata": {},
     "output_type": "display_data"
    },
    {
     "data": {
      "text/html": [
       "<ol class=list-inline>\n",
       "\t<li>99</li>\n",
       "\t<li>5</li>\n",
       "</ol>\n"
      ],
      "text/latex": [
       "\\begin{enumerate*}\n",
       "\\item 99\n",
       "\\item 5\n",
       "\\end{enumerate*}\n"
      ],
      "text/markdown": [
       "1. 99\n",
       "2. 5\n",
       "\n",
       "\n"
      ],
      "text/plain": [
       "[1] 99  5"
      ]
     },
     "metadata": {},
     "output_type": "display_data"
    }
   ],
   "source": [
    "set.seed(1955)\n",
    "## Randomly sample cases to create independent training and test data\n",
    "partition = createDataPartition(iris[,'Species'], times = 1, p = 0.33, list = FALSE)\n",
    "training = iris[partition,] # Create the training sample\n",
    "dim(training)\n",
    "test = iris[-partition,] # Create the test sample\n",
    "dim(test)"
   ]
  },
  {
   "cell_type": "markdown",
   "metadata": {},
   "source": [
    "As is always the case with machine learning, numeric features  must be scaled. Execute the code in the cell below to scale the training and test datasets:"
   ]
  },
  {
   "cell_type": "code",
   "execution_count": 14,
   "metadata": {},
   "outputs": [
    {
     "data": {
      "text/html": [
       "<table>\n",
       "<thead><tr><th></th><th scope=col>Sepal.Length</th><th scope=col>Sepal.Width</th><th scope=col>Petal.Length</th><th scope=col>Petal.Width</th></tr></thead>\n",
       "<tbody>\n",
       "\t<tr><th scope=row>3</th><td>-1.2646501</td><td> 0.4563512</td><td>-1.348274 </td><td>-1.287390 </td></tr>\n",
       "\t<tr><th scope=row>5</th><td>-0.9016267</td><td> 1.4161001</td><td>-1.293220 </td><td>-1.287390 </td></tr>\n",
       "\t<tr><th scope=row>6</th><td>-0.4175955</td><td> 2.1359118</td><td>-1.128059 </td><td>-1.027876 </td></tr>\n",
       "\t<tr><th scope=row>9</th><td>-1.6276734</td><td>-0.2634605</td><td>-1.293220 </td><td>-1.287390 </td></tr>\n",
       "\t<tr><th scope=row>10</th><td>-1.0226345</td><td> 0.2164140</td><td>-1.238167 </td><td>-1.417146 </td></tr>\n",
       "\t<tr><th scope=row>11</th><td>-0.4175955</td><td> 1.6560373</td><td>-1.238167 </td><td>-1.287390 </td></tr>\n",
       "</tbody>\n",
       "</table>\n"
      ],
      "text/latex": [
       "\\begin{tabular}{r|llll}\n",
       "  & Sepal.Length & Sepal.Width & Petal.Length & Petal.Width\\\\\n",
       "\\hline\n",
       "\t3 & -1.2646501 &  0.4563512 & -1.348274  & -1.287390 \\\\\n",
       "\t5 & -0.9016267 &  1.4161001 & -1.293220  & -1.287390 \\\\\n",
       "\t6 & -0.4175955 &  2.1359118 & -1.128059  & -1.027876 \\\\\n",
       "\t9 & -1.6276734 & -0.2634605 & -1.293220  & -1.287390 \\\\\n",
       "\t10 & -1.0226345 &  0.2164140 & -1.238167  & -1.417146 \\\\\n",
       "\t11 & -0.4175955 &  1.6560373 & -1.238167  & -1.287390 \\\\\n",
       "\\end{tabular}\n"
      ],
      "text/markdown": [
       "\n",
       "| <!--/--> | Sepal.Length | Sepal.Width | Petal.Length | Petal.Width | \n",
       "|---|---|---|---|---|---|\n",
       "| 3 | -1.2646501 |  0.4563512 | -1.348274  | -1.287390  | \n",
       "| 5 | -0.9016267 |  1.4161001 | -1.293220  | -1.287390  | \n",
       "| 6 | -0.4175955 |  2.1359118 | -1.128059  | -1.027876  | \n",
       "| 9 | -1.6276734 | -0.2634605 | -1.293220  | -1.287390  | \n",
       "| 10 | -1.0226345 |  0.2164140 | -1.238167  | -1.417146  | \n",
       "| 11 | -0.4175955 |  1.6560373 | -1.238167  | -1.287390  | \n",
       "\n",
       "\n"
      ],
      "text/plain": [
       "   Sepal.Length Sepal.Width Petal.Length Petal.Width\n",
       "3  -1.2646501    0.4563512  -1.348274    -1.287390  \n",
       "5  -0.9016267    1.4161001  -1.293220    -1.287390  \n",
       "6  -0.4175955    2.1359118  -1.128059    -1.027876  \n",
       "9  -1.6276734   -0.2634605  -1.293220    -1.287390  \n",
       "10 -1.0226345    0.2164140  -1.238167    -1.417146  \n",
       "11 -0.4175955    1.6560373  -1.238167    -1.287390  "
      ]
     },
     "metadata": {},
     "output_type": "display_data"
    }
   ],
   "source": [
    "num_cols = c('Sepal.Length', 'Sepal.Width', 'Petal.Length', 'Petal.Width')\n",
    "preProcValues <- preProcess(training[,num_cols], method = c(\"center\", \"scale\"))\n",
    "\n",
    "training[,num_cols] = predict(preProcValues, training[,num_cols])\n",
    "test[,num_cols] = predict(preProcValues, test[,num_cols])\n",
    "head(training[,num_cols])"
   ]
  },
  {
   "cell_type": "markdown",
   "metadata": {},
   "source": [
    "Now you will define and fit a random forest model. The code in the cell below defines random forest model with 5 trees using the `randomForest` function from the R randomForest package, and then fits the model. Execute this code."
   ]
  },
  {
   "cell_type": "code",
   "execution_count": 15,
   "metadata": {},
   "outputs": [],
   "source": [
    "set.seed(1115)\n",
    "rf_mod = randomForest(Species ~ ., data = training, ntrees = 5)"
   ]
  },
  {
   "cell_type": "markdown",
   "metadata": {},
   "source": [
    "Next, the code in the cell below uses the `predict` method is used to compute the class score from the scaled features. Execute this code. "
   ]
  },
  {
   "cell_type": "code",
   "execution_count": 16,
   "metadata": {},
   "outputs": [
    {
     "data": {
      "text/html": [
       "<table>\n",
       "<thead><tr><th scope=col>Sepal.Length</th><th scope=col>Sepal.Width</th><th scope=col>Petal.Length</th><th scope=col>Petal.Width</th><th scope=col>Species</th></tr></thead>\n",
       "<tbody>\n",
       "\t<tr><td>5.1   </td><td>3.5   </td><td>1.4   </td><td>0.2   </td><td>setosa</td></tr>\n",
       "\t<tr><td>4.9   </td><td>3.0   </td><td>1.4   </td><td>0.2   </td><td>setosa</td></tr>\n",
       "\t<tr><td>4.7   </td><td>3.2   </td><td>1.3   </td><td>0.2   </td><td>setosa</td></tr>\n",
       "\t<tr><td>4.6   </td><td>3.1   </td><td>1.5   </td><td>0.2   </td><td>setosa</td></tr>\n",
       "\t<tr><td>5.0   </td><td>3.6   </td><td>1.4   </td><td>0.2   </td><td>setosa</td></tr>\n",
       "\t<tr><td>5.4   </td><td>3.9   </td><td>1.7   </td><td>0.4   </td><td>setosa</td></tr>\n",
       "\t<tr><td>4.6   </td><td>3.4   </td><td>1.4   </td><td>0.3   </td><td>setosa</td></tr>\n",
       "\t<tr><td>5.0   </td><td>3.4   </td><td>1.5   </td><td>0.2   </td><td>setosa</td></tr>\n",
       "\t<tr><td>4.4   </td><td>2.9   </td><td>1.4   </td><td>0.2   </td><td>setosa</td></tr>\n",
       "\t<tr><td>4.9   </td><td>3.1   </td><td>1.5   </td><td>0.1   </td><td>setosa</td></tr>\n",
       "\t<tr><td>5.4   </td><td>3.7   </td><td>1.5   </td><td>0.2   </td><td>setosa</td></tr>\n",
       "\t<tr><td>4.8   </td><td>3.4   </td><td>1.6   </td><td>0.2   </td><td>setosa</td></tr>\n",
       "\t<tr><td>4.8   </td><td>3.0   </td><td>1.4   </td><td>0.1   </td><td>setosa</td></tr>\n",
       "\t<tr><td>4.3   </td><td>3.0   </td><td>1.1   </td><td>0.1   </td><td>setosa</td></tr>\n",
       "\t<tr><td>5.8   </td><td>4.0   </td><td>1.2   </td><td>0.2   </td><td>setosa</td></tr>\n",
       "\t<tr><td>5.7   </td><td>4.4   </td><td>1.5   </td><td>0.4   </td><td>setosa</td></tr>\n",
       "\t<tr><td>5.4   </td><td>3.9   </td><td>1.3   </td><td>0.4   </td><td>setosa</td></tr>\n",
       "\t<tr><td>5.1   </td><td>3.5   </td><td>1.4   </td><td>0.3   </td><td>setosa</td></tr>\n",
       "\t<tr><td>5.7   </td><td>3.8   </td><td>1.7   </td><td>0.3   </td><td>setosa</td></tr>\n",
       "\t<tr><td>5.1   </td><td>3.8   </td><td>1.5   </td><td>0.3   </td><td>setosa</td></tr>\n",
       "</tbody>\n",
       "</table>\n"
      ],
      "text/latex": [
       "\\begin{tabular}{r|lllll}\n",
       " Sepal.Length & Sepal.Width & Petal.Length & Petal.Width & Species\\\\\n",
       "\\hline\n",
       "\t 5.1    & 3.5    & 1.4    & 0.2    & setosa\\\\\n",
       "\t 4.9    & 3.0    & 1.4    & 0.2    & setosa\\\\\n",
       "\t 4.7    & 3.2    & 1.3    & 0.2    & setosa\\\\\n",
       "\t 4.6    & 3.1    & 1.5    & 0.2    & setosa\\\\\n",
       "\t 5.0    & 3.6    & 1.4    & 0.2    & setosa\\\\\n",
       "\t 5.4    & 3.9    & 1.7    & 0.4    & setosa\\\\\n",
       "\t 4.6    & 3.4    & 1.4    & 0.3    & setosa\\\\\n",
       "\t 5.0    & 3.4    & 1.5    & 0.2    & setosa\\\\\n",
       "\t 4.4    & 2.9    & 1.4    & 0.2    & setosa\\\\\n",
       "\t 4.9    & 3.1    & 1.5    & 0.1    & setosa\\\\\n",
       "\t 5.4    & 3.7    & 1.5    & 0.2    & setosa\\\\\n",
       "\t 4.8    & 3.4    & 1.6    & 0.2    & setosa\\\\\n",
       "\t 4.8    & 3.0    & 1.4    & 0.1    & setosa\\\\\n",
       "\t 4.3    & 3.0    & 1.1    & 0.1    & setosa\\\\\n",
       "\t 5.8    & 4.0    & 1.2    & 0.2    & setosa\\\\\n",
       "\t 5.7    & 4.4    & 1.5    & 0.4    & setosa\\\\\n",
       "\t 5.4    & 3.9    & 1.3    & 0.4    & setosa\\\\\n",
       "\t 5.1    & 3.5    & 1.4    & 0.3    & setosa\\\\\n",
       "\t 5.7    & 3.8    & 1.7    & 0.3    & setosa\\\\\n",
       "\t 5.1    & 3.8    & 1.5    & 0.3    & setosa\\\\\n",
       "\\end{tabular}\n"
      ],
      "text/markdown": [
       "\n",
       "Sepal.Length | Sepal.Width | Petal.Length | Petal.Width | Species | \n",
       "|---|---|---|---|---|---|---|---|---|---|---|---|---|---|---|---|---|---|---|---|\n",
       "| 5.1    | 3.5    | 1.4    | 0.2    | setosa | \n",
       "| 4.9    | 3.0    | 1.4    | 0.2    | setosa | \n",
       "| 4.7    | 3.2    | 1.3    | 0.2    | setosa | \n",
       "| 4.6    | 3.1    | 1.5    | 0.2    | setosa | \n",
       "| 5.0    | 3.6    | 1.4    | 0.2    | setosa | \n",
       "| 5.4    | 3.9    | 1.7    | 0.4    | setosa | \n",
       "| 4.6    | 3.4    | 1.4    | 0.3    | setosa | \n",
       "| 5.0    | 3.4    | 1.5    | 0.2    | setosa | \n",
       "| 4.4    | 2.9    | 1.4    | 0.2    | setosa | \n",
       "| 4.9    | 3.1    | 1.5    | 0.1    | setosa | \n",
       "| 5.4    | 3.7    | 1.5    | 0.2    | setosa | \n",
       "| 4.8    | 3.4    | 1.6    | 0.2    | setosa | \n",
       "| 4.8    | 3.0    | 1.4    | 0.1    | setosa | \n",
       "| 4.3    | 3.0    | 1.1    | 0.1    | setosa | \n",
       "| 5.8    | 4.0    | 1.2    | 0.2    | setosa | \n",
       "| 5.7    | 4.4    | 1.5    | 0.4    | setosa | \n",
       "| 5.4    | 3.9    | 1.3    | 0.4    | setosa | \n",
       "| 5.1    | 3.5    | 1.4    | 0.3    | setosa | \n",
       "| 5.7    | 3.8    | 1.7    | 0.3    | setosa | \n",
       "| 5.1    | 3.8    | 1.5    | 0.3    | setosa | \n",
       "\n",
       "\n"
      ],
      "text/plain": [
       "   Sepal.Length Sepal.Width Petal.Length Petal.Width Species\n",
       "1  5.1          3.5         1.4          0.2         setosa \n",
       "2  4.9          3.0         1.4          0.2         setosa \n",
       "3  4.7          3.2         1.3          0.2         setosa \n",
       "4  4.6          3.1         1.5          0.2         setosa \n",
       "5  5.0          3.6         1.4          0.2         setosa \n",
       "6  5.4          3.9         1.7          0.4         setosa \n",
       "7  4.6          3.4         1.4          0.3         setosa \n",
       "8  5.0          3.4         1.5          0.2         setosa \n",
       "9  4.4          2.9         1.4          0.2         setosa \n",
       "10 4.9          3.1         1.5          0.1         setosa \n",
       "11 5.4          3.7         1.5          0.2         setosa \n",
       "12 4.8          3.4         1.6          0.2         setosa \n",
       "13 4.8          3.0         1.4          0.1         setosa \n",
       "14 4.3          3.0         1.1          0.1         setosa \n",
       "15 5.8          4.0         1.2          0.2         setosa \n",
       "16 5.7          4.4         1.5          0.4         setosa \n",
       "17 5.4          3.9         1.3          0.4         setosa \n",
       "18 5.1          3.5         1.4          0.3         setosa \n",
       "19 5.7          3.8         1.7          0.3         setosa \n",
       "20 5.1          3.8         1.5          0.3         setosa "
      ]
     },
     "metadata": {},
     "output_type": "display_data"
    }
   ],
   "source": [
    "test$scores = predict(rf_mod, newdata = test)\n",
    "head(iris, 20)"
   ]
  },
  {
   "cell_type": "markdown",
   "metadata": {},
   "source": [
    "It is time to evaluate the model results. Keep in mind that the problem has been made difficult deliberately, by having more test cases than training cases. \n",
    "\n",
    "The iris data has three species categories. Therefore it is necessary to use evaluation code for a three category problem. The function in the cell below extends code from pervious labs to deal with a three category problem. Execute this code and examine the results."
   ]
  },
  {
   "cell_type": "code",
   "execution_count": 17,
   "metadata": {},
   "outputs": [
    {
     "name": "stdout",
     "output_type": "stream",
     "text": [
      "            Predicted\n",
      "Actual       setosa versicolor virginica\n",
      "  setosa         33          0         0\n",
      "  versicolor      0         31         2\n",
      "  virginica       0          3        30\n",
      "\n",
      "Accuracy =  0.949 \n",
      " \n",
      "          setosa versicolor virginica\n",
      "Precision      1      0.939     0.909\n",
      "Recall         1      0.912     0.938\n",
      "F1             1      0.925     0.923\n"
     ]
    }
   ],
   "source": [
    "print_metrics = function(df, label){\n",
    "    ## Compute and print the confusion matrix\n",
    "    cm = as.matrix(table(Actual = df$Species, Predicted = df$scores))\n",
    "    print(cm)\n",
    "\n",
    "    ## Compute and print accuracy \n",
    "    accuracy = round(sum(sapply(1:nrow(cm), function(i) cm[i,i]))/sum(cm), 3)\n",
    "    cat('\\n')\n",
    "    cat(paste('Accuracy = ', as.character(accuracy)), '\\n \\n')                           \n",
    "\n",
    "    ## Compute and print precision, recall and F1\n",
    "    precision = sapply(1:nrow(cm), function(i) cm[i,i]/sum(cm[i,]))\n",
    "    recall = sapply(1:nrow(cm), function(i) cm[i,i]/sum(cm[,i]))    \n",
    "    F1 = sapply(1:nrow(cm), function(i) 2*(recall[i] * precision[i])/(recall[i] + precision[i]))    \n",
    "    metrics = sapply(c(precision, recall, F1), round, 3)        \n",
    "    metrics = t(matrix(metrics, nrow = nrow(cm), ncol = ncol(cm)))       \n",
    "    dimnames(metrics) = list(c('Precision', 'Recall', 'F1'), unique(test$Species))      \n",
    "    print(metrics)\n",
    "}  \n",
    "print_metrics(test, 'Species')"
   ]
  },
  {
   "cell_type": "markdown",
   "metadata": {},
   "source": [
    "Examine these results. Notice the following:\n",
    "1. The confusion matrix has dimension 3X3. You can see that most cases are correctly classified with only a few errors. \n",
    "2. The overall accuracy is 0.94. Since the classes are roughly balanced, this metric indicates relatively good performance of the classifier, particularly since it was only trained on 50 cases. \n",
    "3. The precision, recall and  F1 for each of the classes is quite good.\n",
    "|\n",
    "To get a better feel for what the classifier is doing, the code in the cell below displays a set of plots showing correctly (as '+') and incorrectly (as 'o') cases, with the species color-coded. Execute this code and examine the results. "
   ]
  },
  {
   "cell_type": "markdown",
   "metadata": {},
   "source": [
    "Examine these plots. You can see how the classifier has divided the feature space between the classes. Notice that most of the errors occur in the overlap region between Virginica and Versicolor. This behavior is to be expected.  \n",
    "\n",
    "Is it possible that a random forest model with more trees would separate these cases better? The code in the cell below uses a model with 40 trees (estimators). This model is fit with the training data and displays the evaluation of the model. \n",
    "\n",
    "Execute this code and answer **Question 1** on the course page."
   ]
  },
  {
   "cell_type": "code",
   "execution_count": 18,
   "metadata": {},
   "outputs": [
    {
     "name": "stdout",
     "output_type": "stream",
     "text": [
      "            Predicted\n",
      "Actual       setosa versicolor virginica\n",
      "  setosa         33          0         0\n",
      "  versicolor      0         31         2\n",
      "  virginica       0          3        30\n",
      "\n",
      "Accuracy =  0.949 \n",
      " \n",
      "          setosa versicolor virginica\n",
      "Precision      1      0.939     0.909\n",
      "Recall         1      0.912     0.938\n",
      "F1             1      0.925     0.923\n"
     ]
    }
   ],
   "source": [
    "set.seed(1115)\n",
    "rf_mod = randomForest(Species ~ ., data = training, ntrees = 100)\n",
    "test$scores = predict(rf_mod, newdata = test)\n",
    "print_metrics(test, 'Species')"
   ]
  },
  {
   "cell_type": "markdown",
   "metadata": {},
   "source": [
    "These results are identical to the model with 5 trees. \n",
    "\n",
    "Like most tree-based models, random forest models have a nice property that **feature importance** is computed during model training. Feature importance can be used as a feature selection method. The `varImp` function from the Caret package performs the calculation.  \n",
    "\n",
    "Execute the code in the cell below to display a plot of the feature importance."
   ]
  },
  {
   "cell_type": "code",
   "execution_count": 19,
   "metadata": {},
   "outputs": [
    {
     "data": {},
     "metadata": {},
     "output_type": "display_data"
    },
    {
     "data": {
      "image/png": "[encoded data removed]",
      "text/plain": [
       "plot without title"
      ]
     },
     "metadata": {},
     "output_type": "display_data"
    }
   ],
   "source": [
    "options(repr.plot.width=4, repr.plot.height=3)\n",
    "imp = varImp(rf_mod)\n",
    "imp[,'Feature'] = row.names(imp)\n",
    "ggplot(imp, aes(x = Feature, y = Overall)) + geom_point(size = 4) +\n",
    "       ggtitle('Variable importance for iris features')"
   ]
  },
  {
   "cell_type": "markdown",
   "metadata": {},
   "source": [
    "Examine the plot displayed above. Notice that the Speal_Lenght and Sepal_Width have rather low importance. \n",
    "\n",
    "Should these features be dropped from the model? To find out, you will create a model with a reduced feature set and compare the results. As a first step, execute the code in the cell below to create training and test datasets using the reduced features."
   ]
  },
  {
   "cell_type": "code",
   "execution_count": 20,
   "metadata": {},
   "outputs": [
    {
     "name": "stdout",
     "output_type": "stream",
     "text": [
      "            Predicted\n",
      "Actual       setosa versicolor virginica\n",
      "  setosa         33          0         0\n",
      "  versicolor      0         32         1\n",
      "  virginica       0          3        30\n",
      "\n",
      "Accuracy =  0.96 \n",
      " \n",
      "          setosa versicolor virginica\n",
      "Precision      1      0.970     0.909\n",
      "Recall         1      0.914     0.968\n",
      "F1             1      0.941     0.937\n"
     ]
    }
   ],
   "source": [
    "set.seed(1115)\n",
    "rf_mod = randomForest(Species ~ Petal.Length + Petal.Width, data = training, ntrees = 100)\n",
    "test$scores = predict(rf_mod, newdata = test)\n",
    "print_metrics(test, 'Species')"
   ]
  },
  {
   "cell_type": "markdown",
   "metadata": {},
   "source": [
    "Once you have executed the code, answer **Question 2** on the course page."
   ]
  },
  {
   "cell_type": "markdown",
   "metadata": {},
   "source": [
    "These results are a bit better which may indicate the original model was overfit. Given that a simpler model is more likely to generalize, this model is preferred. "
   ]
  },
  {
   "cell_type": "code",
   "execution_count": 21,
   "metadata": {},
   "outputs": [
    {
     "data": {
      "image/png": "[encoded data removed]",
      "text/plain": [
       "plot without title"
      ]
     },
     "metadata": {},
     "output_type": "display_data"
    }
   ],
   "source": [
    "## Create column of correct-incorrect classification\n",
    "test$correct = ifelse(test$Species == test$scores, 'correct', 'incorrect')\n",
    "\n",
    "single_plot_classes = function(df, colx, coly){\n",
    "    ggplot(df, aes_string(colx,coly)) +\n",
    "          geom_point(aes(color = factor(df$Species), shape = correct), alpha = 0.4)\n",
    "}\n",
    "\n",
    "plot_iris_classes = function(df){\n",
    "    options(repr.plot.width=8, repr.plot.height=5)\n",
    "    grid.arrange(\n",
    "        single_plot_classes(df, 'Sepal.Length', 'Sepal.Width'),\n",
    "        single_plot_classes(df, 'Sepal.Length', 'Petal.Length'),\n",
    "        single_plot_classes(df, 'Petal.Length', 'Petal.Width'),\n",
    "        single_plot_classes(df, 'Sepal.Width', 'Petal.Length'),\n",
    "        nrow = 2)\n",
    "}\n",
    "\n",
    "plot_iris_classes(test)"
   ]
  },
  {
   "cell_type": "markdown",
   "metadata": {},
   "source": [
    "## Another example\n",
    "\n",
    "\n",
    "Now, you will try a more complex example using the credit scoring data. You will use the prepared data which has been prepared by removing duplicate cases. Some columns which are know not to be predictive are removed. Execute the code in the cell below to load the dataset for the example. "
   ]
  },
  {
   "cell_type": "code",
   "execution_count": 3,
   "metadata": {},
   "outputs": [
    {
     "name": "stdout",
     "output_type": "stream",
     "text": [
      "[1] 999  16\n"
     ]
    },
    {
     "data": {
      "text/html": [
       "<ol class=list-inline>\n",
       "\t<li>'checking_account_status'</li>\n",
       "\t<li>'loan_duration_mo'</li>\n",
       "\t<li>'credit_history'</li>\n",
       "\t<li>'loan_amount'</li>\n",
       "\t<li>'savings_account_balance'</li>\n",
       "\t<li>'time_employed_yrs'</li>\n",
       "\t<li>'payment_pcnt_income'</li>\n",
       "\t<li>'time_in_residence'</li>\n",
       "\t<li>'property'</li>\n",
       "\t<li>'age_yrs'</li>\n",
       "\t<li>'other_credit_outstanding'</li>\n",
       "\t<li>'number_loans'</li>\n",
       "\t<li>'job_category'</li>\n",
       "\t<li>'dependents'</li>\n",
       "\t<li>'telephone'</li>\n",
       "\t<li>'bad_credit'</li>\n",
       "</ol>\n"
      ],
      "text/latex": [
       "\\begin{enumerate*}\n",
       "\\item 'checking\\_account\\_status'\n",
       "\\item 'loan\\_duration\\_mo'\n",
       "\\item 'credit\\_history'\n",
       "\\item 'loan\\_amount'\n",
       "\\item 'savings\\_account\\_balance'\n",
       "\\item 'time\\_employed\\_yrs'\n",
       "\\item 'payment\\_pcnt\\_income'\n",
       "\\item 'time\\_in\\_residence'\n",
       "\\item 'property'\n",
       "\\item 'age\\_yrs'\n",
       "\\item 'other\\_credit\\_outstanding'\n",
       "\\item 'number\\_loans'\n",
       "\\item 'job\\_category'\n",
       "\\item 'dependents'\n",
       "\\item 'telephone'\n",
       "\\item 'bad\\_credit'\n",
       "\\end{enumerate*}\n"
      ],
      "text/markdown": [
       "1. 'checking_account_status'\n",
       "2. 'loan_duration_mo'\n",
       "3. 'credit_history'\n",
       "4. 'loan_amount'\n",
       "5. 'savings_account_balance'\n",
       "6. 'time_employed_yrs'\n",
       "7. 'payment_pcnt_income'\n",
       "8. 'time_in_residence'\n",
       "9. 'property'\n",
       "10. 'age_yrs'\n",
       "11. 'other_credit_outstanding'\n",
       "12. 'number_loans'\n",
       "13. 'job_category'\n",
       "14. 'dependents'\n",
       "15. 'telephone'\n",
       "16. 'bad_credit'\n",
       "\n",
       "\n"
      ],
      "text/plain": [
       " [1] \"checking_account_status\"  \"loan_duration_mo\"        \n",
       " [3] \"credit_history\"           \"loan_amount\"             \n",
       " [5] \"savings_account_balance\"  \"time_employed_yrs\"       \n",
       " [7] \"payment_pcnt_income\"      \"time_in_residence\"       \n",
       " [9] \"property\"                 \"age_yrs\"                 \n",
       "[11] \"other_credit_outstanding\" \"number_loans\"            \n",
       "[13] \"job_category\"             \"dependents\"              \n",
       "[15] \"telephone\"                \"bad_credit\"              "
      ]
     },
     "metadata": {},
     "output_type": "display_data"
    }
   ],
   "source": [
    "credit = read.csv('German_Credit_Preped.csv', header = TRUE)\n",
    "## Subset the data frame\n",
    "credit = credit[,c('checking_account_status', 'loan_duration_mo', 'credit_history', 'loan_amount', 'savings_account_balance',\n",
    "                   'time_employed_yrs', 'payment_pcnt_income', 'time_in_residence', 'property', 'age_yrs',\n",
    "                   'other_credit_outstanding', 'number_loans', 'job_category', 'dependents', 'telephone', 'bad_credit' )]\n",
    "print(dim(credit))\n",
    "names(credit)"
   ]
  },
  {
   "cell_type": "markdown",
   "metadata": {},
   "source": [
    "Cross validation will be used to train the model. Since folds will be selected from the entire dataset the numeric features are scaled in batch. Execute the code in the cell below to accomplish this: "
   ]
  },
  {
   "cell_type": "code",
   "execution_count": 6,
   "metadata": {},
   "outputs": [
    {
     "data": {
      "text/html": [
       "<table>\n",
       "<thead><tr><th scope=col>loan_duration_mo</th><th scope=col>loan_amount</th><th scope=col>payment_pcnt_income</th><th scope=col>time_in_residence</th><th scope=col>age_yrs</th><th scope=col>number_loans</th><th scope=col>dependents</th></tr></thead>\n",
       "<tbody>\n",
       "\t<tr><td> 2.2464282 </td><td> 0.9483849 </td><td>-0.86876113</td><td>-0.7645835 </td><td>-1.19202026</td><td>-0.7035652 </td><td>-0.4283287 </td></tr>\n",
       "\t<tr><td>-0.7397312 </td><td>-0.4170067 </td><td>-0.86876113</td><td> 0.1414888 </td><td> 1.18945982</td><td>-0.7035652 </td><td> 2.3323187 </td></tr>\n",
       "\t<tr><td> 1.7487350 </td><td> 1.6323204 </td><td>-0.86876113</td><td> 1.0475610 </td><td> 0.83664795</td><td>-0.7035652 </td><td> 2.3323187 </td></tr>\n",
       "\t<tr><td> 0.2556552 </td><td> 0.5655086 </td><td> 0.02505181</td><td> 1.0475610 </td><td> 1.54227168</td><td> 1.0276211 </td><td> 2.3323187 </td></tr>\n",
       "\t<tr><td> 1.2510417 </td><td> 2.0477820 </td><td>-0.86876113</td><td> 1.0475610 </td><td>-0.04538171</td><td>-0.7035652 </td><td> 2.3323187 </td></tr>\n",
       "\t<tr><td> 0.2556552 </td><td>-0.1552623 </td><td> 0.02505181</td><td> 1.0475610 </td><td> 1.54227168</td><td>-0.7035652 </td><td>-0.4283287 </td></tr>\n",
       "</tbody>\n",
       "</table>\n"
      ],
      "text/latex": [
       "\\begin{tabular}{r|lllllll}\n",
       " loan\\_duration\\_mo & loan\\_amount & payment\\_pcnt\\_income & time\\_in\\_residence & age\\_yrs & number\\_loans & dependents\\\\\n",
       "\\hline\n",
       "\t  2.2464282  &  0.9483849  & -0.86876113 & -0.7645835  & -1.19202026 & -0.7035652  & -0.4283287 \\\\\n",
       "\t -0.7397312  & -0.4170067  & -0.86876113 &  0.1414888  &  1.18945982 & -0.7035652  &  2.3323187 \\\\\n",
       "\t  1.7487350  &  1.6323204  & -0.86876113 &  1.0475610  &  0.83664795 & -0.7035652  &  2.3323187 \\\\\n",
       "\t  0.2556552  &  0.5655086  &  0.02505181 &  1.0475610  &  1.54227168 &  1.0276211  &  2.3323187 \\\\\n",
       "\t  1.2510417  &  2.0477820  & -0.86876113 &  1.0475610  & -0.04538171 & -0.7035652  &  2.3323187 \\\\\n",
       "\t  0.2556552  & -0.1552623  &  0.02505181 &  1.0475610  &  1.54227168 & -0.7035652  & -0.4283287 \\\\\n",
       "\\end{tabular}\n"
      ],
      "text/markdown": [
       "\n",
       "loan_duration_mo | loan_amount | payment_pcnt_income | time_in_residence | age_yrs | number_loans | dependents | \n",
       "|---|---|---|---|---|---|\n",
       "|  2.2464282  |  0.9483849  | -0.86876113 | -0.7645835  | -1.19202026 | -0.7035652  | -0.4283287  | \n",
       "| -0.7397312  | -0.4170067  | -0.86876113 |  0.1414888  |  1.18945982 | -0.7035652  |  2.3323187  | \n",
       "|  1.7487350  |  1.6323204  | -0.86876113 |  1.0475610  |  0.83664795 | -0.7035652  |  2.3323187  | \n",
       "|  0.2556552  |  0.5655086  |  0.02505181 |  1.0475610  |  1.54227168 |  1.0276211  |  2.3323187  | \n",
       "|  1.2510417  |  2.0477820  | -0.86876113 |  1.0475610  | -0.04538171 | -0.7035652  |  2.3323187  | \n",
       "|  0.2556552  | -0.1552623  |  0.02505181 |  1.0475610  |  1.54227168 | -0.7035652  | -0.4283287  | \n",
       "\n",
       "\n"
      ],
      "text/plain": [
       "  loan_duration_mo loan_amount payment_pcnt_income time_in_residence\n",
       "1  2.2464282        0.9483849  -0.86876113         -0.7645835       \n",
       "2 -0.7397312       -0.4170067  -0.86876113          0.1414888       \n",
       "3  1.7487350        1.6323204  -0.86876113          1.0475610       \n",
       "4  0.2556552        0.5655086   0.02505181          1.0475610       \n",
       "5  1.2510417        2.0477820  -0.86876113          1.0475610       \n",
       "6  0.2556552       -0.1552623   0.02505181          1.0475610       \n",
       "  age_yrs     number_loans dependents\n",
       "1 -1.19202026 -0.7035652   -0.4283287\n",
       "2  1.18945982 -0.7035652    2.3323187\n",
       "3  0.83664795 -0.7035652    2.3323187\n",
       "4  1.54227168  1.0276211    2.3323187\n",
       "5 -0.04538171 -0.7035652    2.3323187\n",
       "6  1.54227168 -0.7035652   -0.4283287"
      ]
     },
     "metadata": {},
     "output_type": "display_data"
    }
   ],
   "source": [
    "num_cols = c('loan_duration_mo', 'loan_amount', 'payment_pcnt_income',\n",
    "             'time_in_residence', 'age_yrs', 'number_loans', 'dependents')\n",
    "\n",
    "preProcValues <- preProcess(credit[,num_cols], method = c(\"center\", \"scale\"))\n",
    "credit[,num_cols] = predict(preProcValues, credit[,num_cols])\n",
    "head(credit[,num_cols])"
   ]
  },
  {
   "cell_type": "markdown",
   "metadata": {},
   "source": [
    "The code in the cell below uses the capability of the R Caret package to estimate the best hyperparameters using 10 fold cross validation with 5 repeats. There are a few points to note here:\n",
    "1. Since there is significant class imbalance, recall is used as the metric to optimize. A function, `recallSummary` is used to define this metric. This function is specified in the `trainControl` object.\n",
    "2. The model is trained using all features as can be seen from the model formula in the Caret `train` function. \n",
    "3. The recall metric is specified as a `metric` in the call to `train`. \n",
    "4. Weights are specified to help with the class imbalance. \n",
    "5. he `train` function automatically generates and searches a hyperparameter grid and prints the metrics. \n",
    "\n",
    "Execute this code, examine the result, and answer **Question 3** on the course page."
   ]
  },
  {
   "cell_type": "code",
   "execution_count": 7,
   "metadata": {},
   "outputs": [
    {
     "data": {
      "text/plain": [
       "Random Forest \n",
       "\n",
       "999 samples\n",
       " 15 predictor\n",
       "  2 classes: '0', '1' \n",
       "\n",
       "No pre-processing\n",
       "Resampling: Cross-Validated (10 fold, repeated 5 times) \n",
       "Summary of sample sizes: 899, 899, 899, 899, 899, 899, ... \n",
       "Resampling results across tuning parameters:\n",
       "\n",
       "  mtry  recall   \n",
       "   2    0.7273570\n",
       "  16    0.7912464\n",
       "  31    0.7926804\n",
       "\n",
       "recall was used to select the optimal model using  the largest value.\n",
       "The final value used for the model was mtry = 31."
      ]
     },
     "metadata": {},
     "output_type": "display_data"
    }
   ],
   "source": [
    "recallSummary = function (data, lev = NULL, model = NULL) {\n",
    "                    out = recall(data$obs, data$pred)  \n",
    "                    names(out) <- \"recall\"\n",
    "                    out\n",
    "}\n",
    "\n",
    "fitControl = trainControl(method = \"repeatedcv\",\n",
    "                           number = 10,\n",
    "                           repeats = 5,\n",
    "                           summaryFunction = recallSummary)\n",
    "\n",
    "set.seed(3344)\n",
    "rf_fit <- train(factor(bad_credit) ~ ., # make label a factor since classification model\n",
    "                 data = credit, \n",
    "                 metric = \"recall\", \n",
    "                 method = \"rf\", # Random forest model\n",
    "                 trControl = fitControl,\n",
    "                 weight = c(0.9,0.1),\n",
    "                 verbose = FALSE)\n",
    "rf_fit"
   ]
  },
  {
   "cell_type": "markdown",
   "metadata": {},
   "source": [
    "The grid of hyperpameters searched by the Caret package is only `mtry`. The grid along with the recall metric is shown in the printed table. \n",
    "\n",
    "Given the optimal hyperparameters, which features are the most important? The code in the cell below computes and displays feature importance using the Caret `varImp` function. Execute this code and examine the results. "
   ]
  },
  {
   "cell_type": "code",
   "execution_count": 30,
   "metadata": {},
   "outputs": [
    {
     "name": "stdout",
     "output_type": "stream",
     "text": [
      "rf variable importance\n",
      "\n",
      "  only 20 most important variables shown (out of 31)\n",
      "\n",
      "                                                      Overall\n",
      "loan_amount                                           100.000\n",
      "age_yrs                                                65.913\n",
      "loan_duration_mo                                       59.060\n",
      "checking_account_statusnone                            52.542\n",
      "time_in_residence                                      22.751\n",
      "payment_pcnt_income                                    20.011\n",
      "other_credit_outstandingnone                           11.569\n",
      "savings_account_balanceunknown/none                    10.959\n",
      "credit_historycritical account - other non-bank loans   8.020\n",
      "time_employed_yrsunemployed                             7.848\n",
      "checking_account_status0 - 200 DM                       7.802\n",
      "propertyreal estate                                     7.795\n",
      "propertycar or other                                    7.770\n",
      "propertyunknown-none                                    7.444\n",
      "number_loans                                            7.387\n",
      "telephoneyes                                            7.161\n",
      "time_employed_yrs1 - 4 years                            6.387\n",
      "time_employed_yrs4 - 7 years                            5.888\n",
      "checking_account_status> 200 DM or salary assignment    5.446\n",
      "job_categoryskilled                                     5.340\n"
     ]
    },
    {
     "data": {},
     "metadata": {},
     "output_type": "display_data"
    },
    {
     "data": {
      "image/png": "[encoded data removed]",
      "text/plain": [
       "plot without title"
      ]
     },
     "metadata": {},
     "output_type": "display_data"
    }
   ],
   "source": [
    "options(repr.plot.width=8, repr.plot.height=6)\n",
    "var_imp = varImp(rf_fit)\n",
    "print(var_imp)\n",
    "plot(var_imp)"
   ]
  },
  {
   "cell_type": "markdown",
   "metadata": {},
   "source": [
    "In is clear that some of the features are not important to model performance. Execute the code in the cell below to prune the feature set:"
   ]
  },
  {
   "cell_type": "code",
   "execution_count": 42,
   "metadata": {},
   "outputs": [],
   "source": [
    "credit_reduced = credit[,c('loan_amount', 'age_yrs', 'loan_duration_mo', 'checking_account_status', 'time_in_residence',\n",
    "                          'payment_pcnt_income', 'other_credit_outstanding', \n",
    "                          'credit_history', 'time_employed_yrs', 'property', 'number_loans', 'telephone',\n",
    "                          'bad_credit')]"
   ]
  },
  {
   "cell_type": "markdown",
   "metadata": {},
   "source": [
    "Execute the code in the cell below to perform the cross validation grid search using the reduced feature set: "
   ]
  },
  {
   "cell_type": "code",
   "execution_count": 43,
   "metadata": {},
   "outputs": [
    {
     "data": {
      "text/plain": [
       "Random Forest \n",
       "\n",
       "999 samples\n",
       " 12 predictor\n",
       "  2 classes: '0', '1' \n",
       "\n",
       "No pre-processing\n",
       "Resampling: Cross-Validated (10 fold, repeated 5 times) \n",
       "Summary of sample sizes: 899, 899, 899, 899, 899, 899, ... \n",
       "Resampling results across tuning parameters:\n",
       "\n",
       "  mtry  recall   \n",
       "   2    0.7303519\n",
       "  12    0.7936494\n",
       "  23    0.7911459\n",
       "\n",
       "recall was used to select the optimal model using  the largest value.\n",
       "The final value used for the model was mtry = 12."
      ]
     },
     "metadata": {},
     "output_type": "display_data"
    }
   ],
   "source": [
    "set.seed(3344)\n",
    "rf_fit <- train(factor(bad_credit) ~ ., # make label a factor since classification model\n",
    "                 data = credit_reduced, \n",
    "                 metric = \"recall\", \n",
    "                 method = \"rf\", # Random forest model\n",
    "                 trControl = fitControl,\n",
    "                 weight = c(0.9,0.1),\n",
    "                 verbose = FALSE)\n",
    "rf_fit"
   ]
  },
  {
   "cell_type": "markdown",
   "metadata": {},
   "source": [
    "The results of the cross validation grid search with the reduced feature are slightly different from before. The optimal value of `mtry` is smaller. Further, the recall metric has slightly incresed. Evidentially, pruning these features was the correct step. This process can be continued, but will not be in this lab in the interest of reducing length. \n",
    "\n",
    "As a test, execute the code in the cell below to display the variable importance for the reduced feature set:"
   ]
  },
  {
   "cell_type": "code",
   "execution_count": 44,
   "metadata": {},
   "outputs": [
    {
     "name": "stdout",
     "output_type": "stream",
     "text": [
      "rf variable importance\n",
      "\n",
      "  only 20 most important variables shown (out of 23)\n",
      "\n",
      "                                                      Overall\n",
      "loan_amount                                           100.000\n",
      "age_yrs                                                68.548\n",
      "loan_duration_mo                                       54.804\n",
      "checking_account_statusnone                            43.828\n",
      "time_in_residence                                      21.879\n",
      "payment_pcnt_income                                    19.460\n",
      "other_credit_outstandingnone                            8.916\n",
      "telephoneyes                                            8.010\n",
      "number_loans                                            7.696\n",
      "credit_historycritical account - other non-bank loans   7.493\n",
      "propertyreal estate                                     7.198\n",
      "checking_account_status0 - 200 DM                       6.869\n",
      "propertycar or other                                    6.539\n",
      "propertyunknown-none                                    5.829\n",
      "time_employed_yrs1 - 4 years                            5.317\n",
      "time_employed_yrsunemployed                             5.071\n",
      "time_employed_yrs>= 7 years                             4.610\n",
      "credit_historycurrent loans paid                        4.424\n",
      "time_employed_yrs4 - 7 years                            3.882\n",
      "checking_account_status> 200 DM or salary assignment    3.064\n"
     ]
    },
    {
     "data": {},
     "metadata": {},
     "output_type": "display_data"
    },
    {
     "data": {
      "image/png": "[encoded data removed]",
      "text/plain": [
       "plot without title"
      ]
     },
     "metadata": {},
     "output_type": "display_data"
    }
   ],
   "source": [
    "var_imp = varImp(rf_fit)\n",
    "print(var_imp)\n",
    "plot(var_imp)"
   ]
  },
  {
   "cell_type": "markdown",
   "metadata": {},
   "source": [
    "Now, you will run the code in the cell below to perform the outer cross validation of the model. "
   ]
  },
  {
   "cell_type": "code",
   "execution_count": 45,
   "metadata": {},
   "outputs": [
    {
     "data": {
      "text/html": [
       "<table>\n",
       "<thead><tr><th scope=col>fold</th><th scope=col>accuracy</th><th scope=col>precision</th><th scope=col>recall</th><th scope=col>F1</th><th scope=col>AUC</th></tr></thead>\n",
       "<tbody>\n",
       "\t<tr><td>1         </td><td>0.79629630</td><td>0.7407407 </td><td>0.57142857</td><td>0.64516129</td><td>0.79549902</td></tr>\n",
       "\t<tr><td>2         </td><td>0.76767677</td><td>0.6071429 </td><td>0.58620690</td><td>0.59649123</td><td>0.79039409</td></tr>\n",
       "\t<tr><td>3         </td><td>0.70707071</td><td>0.4516129 </td><td>0.53846154</td><td>0.49122807</td><td>0.74209694</td></tr>\n",
       "\t<tr><td>4         </td><td>0.70707071</td><td>0.6428571 </td><td>0.48648649</td><td>0.55384615</td><td>0.72624237</td></tr>\n",
       "\t<tr><td>5         </td><td>0.73737374</td><td>0.5000000 </td><td>0.50000000</td><td>0.50000000</td><td>0.75974710</td></tr>\n",
       "\t<tr><td>6         </td><td>0.68686869</td><td>0.4482759 </td><td>0.46428571</td><td>0.45614035</td><td>0.75125755</td></tr>\n",
       "\t<tr><td>7         </td><td>0.71717172</td><td>0.5172414 </td><td>0.51724138</td><td>0.51724138</td><td>0.80073892</td></tr>\n",
       "\t<tr><td>8         </td><td>0.76767677</td><td>0.6400000 </td><td>0.53333333</td><td>0.58181818</td><td>0.80265700</td></tr>\n",
       "\t<tr><td>9         </td><td>0.75757576</td><td>0.6521739 </td><td>0.48387097</td><td>0.55555556</td><td>0.78581594</td></tr>\n",
       "\t<tr><td>10        </td><td>0.72727273</td><td>0.5454545 </td><td>0.41379310</td><td>0.47058824</td><td>0.68891626</td></tr>\n",
       "\t<tr><td>Mean      </td><td>0.73720539</td><td>0.5745499 </td><td>0.50951080</td><td>0.53680704</td><td>0.76433652</td></tr>\n",
       "\t<tr><td>std       </td><td>0.03257869</td><td>0.0918716 </td><td>0.04864842</td><td>0.05716445</td><td>0.03568075</td></tr>\n",
       "</tbody>\n",
       "</table>\n"
      ],
      "text/latex": [
       "\\begin{tabular}{r|llllll}\n",
       " fold & accuracy & precision & recall & F1 & AUC\\\\\n",
       "\\hline\n",
       "\t 1          & 0.79629630 & 0.7407407  & 0.57142857 & 0.64516129 & 0.79549902\\\\\n",
       "\t 2          & 0.76767677 & 0.6071429  & 0.58620690 & 0.59649123 & 0.79039409\\\\\n",
       "\t 3          & 0.70707071 & 0.4516129  & 0.53846154 & 0.49122807 & 0.74209694\\\\\n",
       "\t 4          & 0.70707071 & 0.6428571  & 0.48648649 & 0.55384615 & 0.72624237\\\\\n",
       "\t 5          & 0.73737374 & 0.5000000  & 0.50000000 & 0.50000000 & 0.75974710\\\\\n",
       "\t 6          & 0.68686869 & 0.4482759  & 0.46428571 & 0.45614035 & 0.75125755\\\\\n",
       "\t 7          & 0.71717172 & 0.5172414  & 0.51724138 & 0.51724138 & 0.80073892\\\\\n",
       "\t 8          & 0.76767677 & 0.6400000  & 0.53333333 & 0.58181818 & 0.80265700\\\\\n",
       "\t 9          & 0.75757576 & 0.6521739  & 0.48387097 & 0.55555556 & 0.78581594\\\\\n",
       "\t 10         & 0.72727273 & 0.5454545  & 0.41379310 & 0.47058824 & 0.68891626\\\\\n",
       "\t Mean       & 0.73720539 & 0.5745499  & 0.50951080 & 0.53680704 & 0.76433652\\\\\n",
       "\t std        & 0.03257869 & 0.0918716  & 0.04864842 & 0.05716445 & 0.03568075\\\\\n",
       "\\end{tabular}\n"
      ],
      "text/markdown": [
       "\n",
       "fold | accuracy | precision | recall | F1 | AUC | \n",
       "|---|---|---|---|---|---|---|---|---|---|---|---|\n",
       "| 1          | 0.79629630 | 0.7407407  | 0.57142857 | 0.64516129 | 0.79549902 | \n",
       "| 2          | 0.76767677 | 0.6071429  | 0.58620690 | 0.59649123 | 0.79039409 | \n",
       "| 3          | 0.70707071 | 0.4516129  | 0.53846154 | 0.49122807 | 0.74209694 | \n",
       "| 4          | 0.70707071 | 0.6428571  | 0.48648649 | 0.55384615 | 0.72624237 | \n",
       "| 5          | 0.73737374 | 0.5000000  | 0.50000000 | 0.50000000 | 0.75974710 | \n",
       "| 6          | 0.68686869 | 0.4482759  | 0.46428571 | 0.45614035 | 0.75125755 | \n",
       "| 7          | 0.71717172 | 0.5172414  | 0.51724138 | 0.51724138 | 0.80073892 | \n",
       "| 8          | 0.76767677 | 0.6400000  | 0.53333333 | 0.58181818 | 0.80265700 | \n",
       "| 9          | 0.75757576 | 0.6521739  | 0.48387097 | 0.55555556 | 0.78581594 | \n",
       "| 10         | 0.72727273 | 0.5454545  | 0.41379310 | 0.47058824 | 0.68891626 | \n",
       "| Mean       | 0.73720539 | 0.5745499  | 0.50951080 | 0.53680704 | 0.76433652 | \n",
       "| std        | 0.03257869 | 0.0918716  | 0.04864842 | 0.05716445 | 0.03568075 | \n",
       "\n",
       "\n"
      ],
      "text/plain": [
       "   fold accuracy   precision recall     F1         AUC       \n",
       "1  1    0.79629630 0.7407407 0.57142857 0.64516129 0.79549902\n",
       "2  2    0.76767677 0.6071429 0.58620690 0.59649123 0.79039409\n",
       "3  3    0.70707071 0.4516129 0.53846154 0.49122807 0.74209694\n",
       "4  4    0.70707071 0.6428571 0.48648649 0.55384615 0.72624237\n",
       "5  5    0.73737374 0.5000000 0.50000000 0.50000000 0.75974710\n",
       "6  6    0.68686869 0.4482759 0.46428571 0.45614035 0.75125755\n",
       "7  7    0.71717172 0.5172414 0.51724138 0.51724138 0.80073892\n",
       "8  8    0.76767677 0.6400000 0.53333333 0.58181818 0.80265700\n",
       "9  9    0.75757576 0.6521739 0.48387097 0.55555556 0.78581594\n",
       "10 10   0.72727273 0.5454545 0.41379310 0.47058824 0.68891626\n",
       "11 Mean 0.73720539 0.5745499 0.50951080 0.53680704 0.76433652\n",
       "12 std  0.03257869 0.0918716 0.04864842 0.05716445 0.03568075"
      ]
     },
     "metadata": {},
     "output_type": "display_data"
    }
   ],
   "source": [
    "score_model = function(df, threshold){\n",
    "    df$score = ifelse(df$probs[,2] > threshold, 1, 0)\n",
    "    df\n",
    "}\n",
    "\n",
    "binary.eval <- function(df, fold){ \n",
    "  # First step is to find the TP, FP, TN, FN cases\n",
    "  df$conf = ifelse(df$bad_credit == 1 & df$score == 1, 'TP',\n",
    "                    ifelse(df$bad_credit == 0 & df$score == 1, 'FP',\n",
    "                           ifelse(df$bad_credit == 0 & df$score == 0, 'TN', 'FN')))\n",
    "  # Elements of the confusion matrix\n",
    "  TP = length(df[df$conf == 'TP', 'conf'])\n",
    "  FP = length(df[df$conf == 'FP', 'conf'])\n",
    "  TN = length(df[df$conf == 'TN', 'conf'])\n",
    "  FN = length(df[df$conf == 'FN', 'conf'])\n",
    "  \n",
    "  ## Confusion matrix as data frame\n",
    "  out = data.frame(Negative = c(TN, FN), Positive = c(FP, TP))\n",
    "  row.names(out) = c('TrueNeg', 'TruePos')\n",
    "    \n",
    "  # Compute AUC with ROCR package\n",
    "  pred_obj = prediction(df$probs[,2], df$bad_credit)\n",
    "  AUC = performance(pred_obj,\"auc\")@y.values[[1]]  \n",
    "  \n",
    "  # Compute and print metrics\n",
    "  P = TP/(TP + FP)\n",
    "  R = TP/(TP + FN)  \n",
    "  F1 = 2*P*R/(P+R) \n",
    "  data.frame = data.frame(fold = as.character(fold),\n",
    "                          accuracy = (TP + TN)/(TP + TN + FP + FN),\n",
    "                          precision = P,\n",
    "                          recall = R,\n",
    "                          F1 = F1,\n",
    "                          AUC = AUC)\n",
    " }\n",
    "\n",
    "\n",
    "Create_Folds = function(df, folds){\n",
    "    ## Create a vector of the fold assignments\n",
    "    nrows = nrow(df)\n",
    "    ncount = nrows/folds\n",
    "    ## Concatenate vectors of fold number\n",
    "    fold = rep(1, ncount)\n",
    "    for(i in seq(2, folds, by = 1)){\n",
    "        fold = c(fold, rep(i, ncount))\n",
    "    }\n",
    "    fold\n",
    "}\n",
    "\n",
    "Fit_Mod = function(training, test){\n",
    "    set.seed(5566)\n",
    "    rf_mod = randomForest(factor(bad_credit) ~ ., data = training, mtry = 10,\n",
    "                         classwt = c(0.9, 0.1))\n",
    "    test$probs = predict(rf_mod, newdata = test, type = 'prob')\n",
    "    test = score_model(test, 0.5)\n",
    "    test\n",
    "}\n",
    "\n",
    "Cross_Validate_Mod = function(df, folds){\n",
    "    ## Create a vector of the fold assignments\n",
    "    fold = Create_Folds(df, folds)\n",
    "    \n",
    "    ## Randomly shuffle the rows of the data frame\n",
    "    shuffle = sample(seq(1, nrow(df), by = 1))\n",
    "    df = df[shuffle,]\n",
    "    \n",
    "    ## Loop over number of folds to fit and evaluate the model\n",
    "    training = df[fold != 1,]\n",
    "    test = df[fold == 1, ]\n",
    "    test = Fit_Mod(training, test)\n",
    "    evals = binary.eval(test, 1)\n",
    "    for(i in seq(2, folds, by = 1)){\n",
    "        training = df[fold != i,]\n",
    "        test = df[fold == i, ]\n",
    "        test = Fit_Mod(training, test)\n",
    "        evals = rbind(evals, binary.eval(test, i))\n",
    "    }\n",
    "    \n",
    "    ## Compute some summary statistics and append to the data rame\n",
    "    evals = rbind(evals, data.frame(fold = 'Mean',\n",
    "                          accuracy = mean(evals[,2]),\n",
    "                          precision = mean(evals[,3]),\n",
    "                          recall = mean(evals[,4]),\n",
    "                          F1 = mean(evals[,5]),\n",
    "                          AUC = mean(evals[,6])))\n",
    "    \n",
    "    evals = rbind(evals, data.frame(fold = 'std',\n",
    "                          accuracy = sd(evals[,2]),\n",
    "                          precision = sd(evals[,3]),\n",
    "                          recall = sd(evals[,4]),\n",
    "                          F1 = sd(evals[,5]),\n",
    "                          AUC = sd(evals[,6])))\n",
    "    evals\n",
    "}\n",
    "\n",
    "Cross_Validate_Mod(credit_reduced, 10)"
   ]
  },
  {
   "cell_type": "markdown",
   "metadata": {},
   "source": [
    "Examine these results. Notice that the standard deviation of the mean of the AUC is more than an order of magnitude smaller than the mean. This indicates that this model is likely to generalize well. \n",
    "\n",
    "Now, you will build and test a model using the estimated optimal hyperparameters. As a first step, execute the code in the cell below to create training and testing dataset."
   ]
  },
  {
   "cell_type": "code",
   "execution_count": null,
   "metadata": {},
   "outputs": [],
   "source": [
    "## Randomly sample cases to create independent training and test data\n",
    "nr.seed(1115)\n",
    "indx = range(Features.shape[0])\n",
    "indx = ms.train_test_split(indx, test_size = 300)\n",
    "x_train = Features[indx[0],:]\n",
    "y_train = np.ravel(Labels[indx[0]])\n",
    "x_test = Features[indx[1],:]\n",
    "y_test = np.ravel(Labels[indx[1]])"
   ]
  },
  {
   "cell_type": "markdown",
   "metadata": {},
   "source": [
    "The code in the cell below defines a random forest model object using the estimated optimal model hyperparameters and then fits the model to the training data. Execute this code."
   ]
  },
  {
   "cell_type": "code",
   "execution_count": null,
   "metadata": {},
   "outputs": [],
   "source": [
    "nr.seed(1115)\n",
    "rf_mod = RandomForestClassifier(n_estimators=40, class_weight = \"balanced\", max_features = 10, min_samples_leaf = 10) \n",
    "rf_mod.fit(x_train, y_train)"
   ]
  },
  {
   "cell_type": "markdown",
   "metadata": {},
   "source": [
    "As expected, the hyperparemeters of the random forest model object reflect those specified. \n",
    "\n",
    "The code in the cell below scores and prints evaluation metrics for the model, using the test data subset. \n",
    "\n",
    "Execute this code, examine the results, and answer **Question 4** on the course page. "
   ]
  },
  {
   "cell_type": "code",
   "execution_count": null,
   "metadata": {},
   "outputs": [],
   "source": [
    "def print_metrics(labels, scores):\n",
    "    metrics = sklm.precision_recall_fscore_support(labels, scores)\n",
    "    conf = sklm.confusion_matrix(labels, scores)\n",
    "    print('                 Confusion matrix')\n",
    "    print('                 Score positive    Score negative')\n",
    "    print('True positive    %6d' % conf[0,0] + '          %5d' % conf[0,1])\n",
    "    print('True negative    %6d' % conf[1,0] + '          %5d' % conf[1,1])\n",
    "    print('')\n",
    "    print('Accuracy        %0.2f' % sklm.accuracy_score(labels, scores))\n",
    "    print('AUC             %0.2f' % sklm.roc_auc_score(labels, scores))\n",
    "    print('Macro precision %0.2f' % float((float(metrics[0][0]) + float(metrics[0][1]))/2.0))\n",
    "    print('Macro recall    %0.2f' % float((float(metrics[1][0]) + float(metrics[1][1]))/2.0))\n",
    "    print(' ')\n",
    "    print('             Positive   Negative')\n",
    "    print('Num case    %0.2f' % metrics[3][0] + '       %0.2f' % metrics[3][1])\n",
    "    print('Precision   %0.2f' % metrics[0][0] + '          %0.2f' % metrics[0][1])\n",
    "    print('Recall      %0.2f' % metrics[1][0] + '          %0.2f' % metrics[1][1])\n",
    "    print('F1          %0.2f' % metrics[2][0] + '          %0.2f' % metrics[2][1])\n",
    "\n",
    "scores = rf_mod.predict(x_test)\n",
    "print_metrics(y_test, scores)     "
   ]
  },
  {
   "cell_type": "markdown",
   "metadata": {},
   "source": [
    "Overall, these performance metrics look quite good. A large majority of negative (bad credit) cases are identified at the expense of significant false positives. The reported AUC is within a standard deviation of the figure obtained with cross validation indicating that the model is generalizing well. "
   ]
  },
  {
   "cell_type": "markdown",
   "metadata": {},
   "source": [
    "## Summary\n",
    "\n",
    "In this lab you have accomplished the following:\n",
    "1. Used a random forest model to classify the cases of the iris data. A model with more trees had marginally lower error rates, but likely not significantly different.\n",
    "2. Applied feature importance was used for feature selection with the iris data. The model created and evaluated with the reduced feature set had essentially the same performance as the model with more features.  \n",
    "2. Used 10 fold to find estimated optimal hyperparameters for a random forest model to classify credit risk cases. The model appears to generalize well.  "
   ]
  },
  {
   "cell_type": "code",
   "execution_count": null,
   "metadata": {},
   "outputs": [],
   "source": []
  }
 ],
 "metadata": {
  "kernelspec": {
   "display_name": "R",
   "language": "R",
   "name": "ir"
  },
  "language_info": {
   "codemirror_mode": "r",
   "file_extension": ".r",
   "mimetype": "text/x-r-source",
   "name": "R",
   "pygments_lexer": "r",
   "version": "3.5.0"
  }
 },
 "nbformat": 4,
 "nbformat_minor": 2
}
