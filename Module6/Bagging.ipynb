{
 "cells": [
  {
   "cell_type": "markdown",
   "metadata": {},
   "source": [
    "# Bagging and Random Forest Models\n",
    "\n",
    "Using **ensemble methods** can greatly improve the results achieved with weak machine learning algorithms, also called **weak learners**. Ensemble methods achieve better performance by aggregating the results of many statistically independent models. This process averages out the errors and produces a final better prediction. \n",
    "\n",
    "In this lab you will work with a widely used ensemble method known as **bootstrap aggregating** or simply **bagging**. Bagging follows a simple procedure:\n",
    "1. N learners (machine learning models) are defined. \n",
    "2. N subsamples of the training data are created by **Bernoulli sampling with replacement**.\n",
    "3. The N learners are trained on the subsamples of the training data.\n",
    "4. The ensemble is scored by averaging, or taking a majority vote, of the predictions from the N learners.\n",
    "\n",
    "**Classification and regression tree models** are most typically used with bagging methods. The most common such algorithm is know as the **random forest**. The random forest method is highly scalable and generally produces good results, even for complex problems. \n",
    "\n",
    "Classification and regression trees tend to be robust to noise or outliers in the training data. This is true for the random forest algorithm as well. "
   ]
  },
  {
   "cell_type": "markdown",
   "metadata": {},
   "source": [
    "## Example: Iris dataset\n",
    "\n",
    "As a first example you will use random forest to classify the species of iris flowers. \n",
    "\n",
    "As a first step, execute the code in the cell below to load the required packages to run the rest of this notebook. "
   ]
  },
  {
   "cell_type": "code",
   "execution_count": 1,
   "metadata": {
    "scrolled": true
   },
   "outputs": [
    {
     "name": "stderr",
     "output_type": "stream",
     "text": [
      "\n",
      "Attaching package: 'dplyr'\n",
      "\n",
      "The following object is masked from 'package:gridExtra':\n",
      "\n",
      "    combine\n",
      "\n",
      "The following objects are masked from 'package:stats':\n",
      "\n",
      "    filter, lag\n",
      "\n",
      "The following objects are masked from 'package:base':\n",
      "\n",
      "    intersect, setdiff, setequal, union\n",
      "\n",
      "Loading required package: lattice\n",
      "randomForest 4.6-12\n",
      "Type rfNews() to see new features/changes/bug fixes.\n",
      "\n",
      "Attaching package: 'randomForest'\n",
      "\n",
      "The following object is masked from 'package:dplyr':\n",
      "\n",
      "    combine\n",
      "\n",
      "The following object is masked from 'package:gridExtra':\n",
      "\n",
      "    combine\n",
      "\n",
      "The following object is masked from 'package:ggplot2':\n",
      "\n",
      "    margin\n",
      "\n",
      "Warning message:\n",
      "\"package 'ROCR' was built under R version 3.4.4\"Loading required package: gplots\n",
      "Warning message:\n",
      "\"package 'gplots' was built under R version 3.4.4\"\n",
      "Attaching package: 'gplots'\n",
      "\n",
      "The following object is masked from 'package:stats':\n",
      "\n",
      "    lowess\n",
      "\n"
     ]
    }
   ],
   "source": [
    "## Import packages\n",
    "library(ggplot2)\n",
    "library(gridExtra)\n",
    "library(repr)\n",
    "library(dplyr)\n",
    "library(caret)\n",
    "library(randomForest)\n",
    "library(ROCR)\n",
    "\n",
    "options(repr.plot.width=4, repr.plot.height=4) # Set the initial plot area dimensions"
   ]
  },
  {
   "cell_type": "markdown",
   "metadata": {},
   "source": [
    "To get a feel for these data, you will now load and plot them. The code in the cell below does the following:\n",
    "\n",
    "1. Loads the iris data as a Pandas data frame. \n",
    "2. Adds column names to the data frame.\n",
    "3. Displays all 4 possible scatter plot views of the data. \n",
    "\n",
    "Execute this code and examine the results. "
   ]
  },
  {
   "cell_type": "code",
   "execution_count": 2,
   "metadata": {},
   "outputs": [
    {
     "data": {
      "text/html": [
       "<table>\n",
       "<thead><tr><th scope=col>Sepal.Length</th><th scope=col>Sepal.Width</th><th scope=col>Petal.Length</th><th scope=col>Petal.Width</th><th scope=col>Species</th></tr></thead>\n",
       "<tbody>\n",
       "\t<tr><td>5.1   </td><td>3.5   </td><td>1.4   </td><td>0.2   </td><td>setosa</td></tr>\n",
       "\t<tr><td>4.9   </td><td>3.0   </td><td>1.4   </td><td>0.2   </td><td>setosa</td></tr>\n",
       "\t<tr><td>4.7   </td><td>3.2   </td><td>1.3   </td><td>0.2   </td><td>setosa</td></tr>\n",
       "\t<tr><td>4.6   </td><td>3.1   </td><td>1.5   </td><td>0.2   </td><td>setosa</td></tr>\n",
       "\t<tr><td>5.0   </td><td>3.6   </td><td>1.4   </td><td>0.2   </td><td>setosa</td></tr>\n",
       "\t<tr><td>5.4   </td><td>3.9   </td><td>1.7   </td><td>0.4   </td><td>setosa</td></tr>\n",
       "\t<tr><td>4.6   </td><td>3.4   </td><td>1.4   </td><td>0.3   </td><td>setosa</td></tr>\n",
       "\t<tr><td>5.0   </td><td>3.4   </td><td>1.5   </td><td>0.2   </td><td>setosa</td></tr>\n",
       "\t<tr><td>4.4   </td><td>2.9   </td><td>1.4   </td><td>0.2   </td><td>setosa</td></tr>\n",
       "\t<tr><td>4.9   </td><td>3.1   </td><td>1.5   </td><td>0.1   </td><td>setosa</td></tr>\n",
       "</tbody>\n",
       "</table>\n"
      ],
      "text/latex": [
       "\\begin{tabular}{r|lllll}\n",
       " Sepal.Length & Sepal.Width & Petal.Length & Petal.Width & Species\\\\\n",
       "\\hline\n",
       "\t 5.1    & 3.5    & 1.4    & 0.2    & setosa\\\\\n",
       "\t 4.9    & 3.0    & 1.4    & 0.2    & setosa\\\\\n",
       "\t 4.7    & 3.2    & 1.3    & 0.2    & setosa\\\\\n",
       "\t 4.6    & 3.1    & 1.5    & 0.2    & setosa\\\\\n",
       "\t 5.0    & 3.6    & 1.4    & 0.2    & setosa\\\\\n",
       "\t 5.4    & 3.9    & 1.7    & 0.4    & setosa\\\\\n",
       "\t 4.6    & 3.4    & 1.4    & 0.3    & setosa\\\\\n",
       "\t 5.0    & 3.4    & 1.5    & 0.2    & setosa\\\\\n",
       "\t 4.4    & 2.9    & 1.4    & 0.2    & setosa\\\\\n",
       "\t 4.9    & 3.1    & 1.5    & 0.1    & setosa\\\\\n",
       "\\end{tabular}\n"
      ],
      "text/markdown": [
       "\n",
       "Sepal.Length | Sepal.Width | Petal.Length | Petal.Width | Species | \n",
       "|---|---|---|---|---|---|---|---|---|---|\n",
       "| 5.1    | 3.5    | 1.4    | 0.2    | setosa | \n",
       "| 4.9    | 3.0    | 1.4    | 0.2    | setosa | \n",
       "| 4.7    | 3.2    | 1.3    | 0.2    | setosa | \n",
       "| 4.6    | 3.1    | 1.5    | 0.2    | setosa | \n",
       "| 5.0    | 3.6    | 1.4    | 0.2    | setosa | \n",
       "| 5.4    | 3.9    | 1.7    | 0.4    | setosa | \n",
       "| 4.6    | 3.4    | 1.4    | 0.3    | setosa | \n",
       "| 5.0    | 3.4    | 1.5    | 0.2    | setosa | \n",
       "| 4.4    | 2.9    | 1.4    | 0.2    | setosa | \n",
       "| 4.9    | 3.1    | 1.5    | 0.1    | setosa | \n",
       "\n",
       "\n"
      ],
      "text/plain": [
       "   Sepal.Length Sepal.Width Petal.Length Petal.Width Species\n",
       "1  5.1          3.5         1.4          0.2         setosa \n",
       "2  4.9          3.0         1.4          0.2         setosa \n",
       "3  4.7          3.2         1.3          0.2         setosa \n",
       "4  4.6          3.1         1.5          0.2         setosa \n",
       "5  5.0          3.6         1.4          0.2         setosa \n",
       "6  5.4          3.9         1.7          0.4         setosa \n",
       "7  4.6          3.4         1.4          0.3         setosa \n",
       "8  5.0          3.4         1.5          0.2         setosa \n",
       "9  4.4          2.9         1.4          0.2         setosa \n",
       "10 4.9          3.1         1.5          0.1         setosa "
      ]
     },
     "metadata": {},
     "output_type": "display_data"
    },
    {
     "data": {
      "image/png": "[encoded data removed]",
      "text/plain": [
       "plot without title"
      ]
     },
     "metadata": {},
     "output_type": "display_data"
    }
   ],
   "source": [
    "single_plot = function(df, colx, coly){\n",
    "    ggplot(df, aes_string(colx,coly)) +\n",
    "          geom_point(aes(color = factor(df$Species)), alpha = 0.4)\n",
    "}\n",
    "\n",
    "plot_iris = function(df){\n",
    "    options(repr.plot.width=8, repr.plot.height=5)\n",
    "    grid.arrange(\n",
    "        single_plot(df, 'Sepal.Length', 'Sepal.Width'),\n",
    "        single_plot(df, 'Sepal.Length', 'Petal.Length'),\n",
    "        single_plot(df, 'Petal.Length', 'Petal.Width'),\n",
    "        single_plot(df, 'Sepal.Width', 'Petal.Length'),\n",
    "        nrow = 2)\n",
    "}\n",
    "\n",
    "head(iris, 10)   \n",
    "plot_iris(iris)"
   ]
  },
  {
   "cell_type": "markdown",
   "metadata": {},
   "source": [
    "You can see that Setosa (in blue) is well separated from the other two categories. The Versicolor (in orange) and the Virginica (in green) show considerable overlap. The question is how well our classifier will separate these categories. "
   ]
  },
  {
   "cell_type": "markdown",
   "metadata": {},
   "source": [
    "## Split the dataset\n",
    "\n",
    "You must now create randomly sampled training and test data sets. The `createDataPartition` function from the R caret package is used  to create indices for the training data sample. In this case 75% of the data will be used  for training the model. Since this data set is small only 48 cases will be included in the test dataset. Execute this code and note the dimensions of the resulting data frame."
   ]
  },
  {
   "cell_type": "code",
   "execution_count": 3,
   "metadata": {},
   "outputs": [
    {
     "data": {
      "text/html": [
       "<ol class=list-inline>\n",
       "\t<li>75</li>\n",
       "\t<li>5</li>\n",
       "</ol>\n"
      ],
      "text/latex": [
       "\\begin{enumerate*}\n",
       "\\item 75\n",
       "\\item 5\n",
       "\\end{enumerate*}\n"
      ],
      "text/markdown": [
       "1. 75\n",
       "2. 5\n",
       "\n",
       "\n"
      ],
      "text/plain": [
       "[1] 75  5"
      ]
     },
     "metadata": {},
     "output_type": "display_data"
    },
    {
     "data": {
      "text/html": [
       "<ol class=list-inline>\n",
       "\t<li>75</li>\n",
       "\t<li>5</li>\n",
       "</ol>\n"
      ],
      "text/latex": [
       "\\begin{enumerate*}\n",
       "\\item 75\n",
       "\\item 5\n",
       "\\end{enumerate*}\n"
      ],
      "text/markdown": [
       "1. 75\n",
       "2. 5\n",
       "\n",
       "\n"
      ],
      "text/plain": [
       "[1] 75  5"
      ]
     },
     "metadata": {},
     "output_type": "display_data"
    }
   ],
   "source": [
    "set.seed(1955)\n",
    "## Randomly sample cases to create independent training and test data\n",
    "partition = createDataPartition(iris[,'Species'], times = 1, p = 0.50, list = FALSE)\n",
    "training = iris[partition,] # Create the training sample\n",
    "dim(training)\n",
    "test = iris[-partition,] # Create the test sample\n",
    "dim(test)"
   ]
  },
  {
   "cell_type": "markdown",
   "metadata": {},
   "source": [
    "## Scale numeric features\n",
    "\n",
    "Numeric features must be rescaled so they have a similar range of values. Rescaling prevents features from having an undue influence on model training simply because then have a larger range of numeric variables. \n",
    "\n",
    "The code in the cell below uses the `preProcess` function from the caret function. The processing is as follows:\n",
    "1. The preprocessing model object is computed. In this case the processing includes centering and scaling the numeric feature. Notice that this model is fit only ot the training data.\n",
    "2. The scalling is appled both the test and training partitions.\n",
    "\n",
    "Execute the code. "
   ]
  },
  {
   "cell_type": "code",
   "execution_count": 4,
   "metadata": {},
   "outputs": [
    {
     "data": {
      "text/html": [
       "<table>\n",
       "<thead><tr><th></th><th scope=col>Sepal.Length</th><th scope=col>Sepal.Width</th><th scope=col>Petal.Length</th><th scope=col>Petal.Width</th></tr></thead>\n",
       "<tbody>\n",
       "\t<tr><th scope=row>3</th><td>-1.3126284</td><td> 0.4057850</td><td>-1.372230 </td><td>-1.268093 </td></tr>\n",
       "\t<tr><th scope=row>5</th><td>-0.9618666</td><td> 1.3142589</td><td>-1.316478 </td><td>-1.268093 </td></tr>\n",
       "\t<tr><th scope=row>6</th><td>-0.4941843</td><td> 1.9956143</td><td>-1.149224 </td><td>-1.012772 </td></tr>\n",
       "\t<tr><th scope=row>9</th><td>-1.6633901</td><td>-0.2755704</td><td>-1.316478 </td><td>-1.268093 </td></tr>\n",
       "\t<tr><th scope=row>10</th><td>-1.0787872</td><td> 0.1786665</td><td>-1.260727 </td><td>-1.395753 </td></tr>\n",
       "\t<tr><th scope=row>11</th><td>-0.4941843</td><td> 1.5413774</td><td>-1.260727 </td><td>-1.268093 </td></tr>\n",
       "</tbody>\n",
       "</table>\n"
      ],
      "text/latex": [
       "\\begin{tabular}{r|llll}\n",
       "  & Sepal.Length & Sepal.Width & Petal.Length & Petal.Width\\\\\n",
       "\\hline\n",
       "\t3 & -1.3126284 &  0.4057850 & -1.372230  & -1.268093 \\\\\n",
       "\t5 & -0.9618666 &  1.3142589 & -1.316478  & -1.268093 \\\\\n",
       "\t6 & -0.4941843 &  1.9956143 & -1.149224  & -1.012772 \\\\\n",
       "\t9 & -1.6633901 & -0.2755704 & -1.316478  & -1.268093 \\\\\n",
       "\t10 & -1.0787872 &  0.1786665 & -1.260727  & -1.395753 \\\\\n",
       "\t11 & -0.4941843 &  1.5413774 & -1.260727  & -1.268093 \\\\\n",
       "\\end{tabular}\n"
      ],
      "text/markdown": [
       "\n",
       "| <!--/--> | Sepal.Length | Sepal.Width | Petal.Length | Petal.Width | \n",
       "|---|---|---|---|---|---|\n",
       "| 3 | -1.3126284 |  0.4057850 | -1.372230  | -1.268093  | \n",
       "| 5 | -0.9618666 |  1.3142589 | -1.316478  | -1.268093  | \n",
       "| 6 | -0.4941843 |  1.9956143 | -1.149224  | -1.012772  | \n",
       "| 9 | -1.6633901 | -0.2755704 | -1.316478  | -1.268093  | \n",
       "| 10 | -1.0787872 |  0.1786665 | -1.260727  | -1.395753  | \n",
       "| 11 | -0.4941843 |  1.5413774 | -1.260727  | -1.268093  | \n",
       "\n",
       "\n"
      ],
      "text/plain": [
       "   Sepal.Length Sepal.Width Petal.Length Petal.Width\n",
       "3  -1.3126284    0.4057850  -1.372230    -1.268093  \n",
       "5  -0.9618666    1.3142589  -1.316478    -1.268093  \n",
       "6  -0.4941843    1.9956143  -1.149224    -1.012772  \n",
       "9  -1.6633901   -0.2755704  -1.316478    -1.268093  \n",
       "10 -1.0787872    0.1786665  -1.260727    -1.395753  \n",
       "11 -0.4941843    1.5413774  -1.260727    -1.268093  "
      ]
     },
     "metadata": {},
     "output_type": "display_data"
    }
   ],
   "source": [
    "num_cols = c('Sepal.Length', 'Sepal.Width', 'Petal.Length', 'Petal.Width')\n",
    "preProcValues <- preProcess(training[,num_cols], method = c(\"center\", \"scale\"))\n",
    "\n",
    "training[,num_cols] = predict(preProcValues, training[,num_cols])\n",
    "test[,num_cols] = predict(preProcValues, test[,num_cols])\n",
    "head(training[,num_cols])"
   ]
  },
  {
   "cell_type": "markdown",
   "metadata": {},
   "source": [
    "Now you will define and fit a random forest model. The code in the cell below defines random forest model with 5 trees using the `RandomForestClassifer` function from the Scikit Learn ensemble  package, and then fits the model. Execute this code."
   ]
  },
  {
   "cell_type": "code",
   "execution_count": 5,
   "metadata": {},
   "outputs": [],
   "source": [
    "set.seed(1115)\n",
    "rf_mod = randomForest(Species ~ ., data = training, ntrees = 5)"
   ]
  },
  {
   "cell_type": "markdown",
   "metadata": {},
   "source": [
    "Notice that the many hyperparameters of the random forest model object are displayed. \n",
    "\n",
    "Next, the code in the cell below performs the following processing to score the test data subset:\n",
    "1. The test features are scaled using the scaler computed for the training features. \n",
    "2. The `predict` method is used to compute the scores from the scaled features. \n",
    "\n",
    "Execute this code. "
   ]
  },
  {
   "cell_type": "code",
   "execution_count": 6,
   "metadata": {},
   "outputs": [
    {
     "data": {
      "text/html": [
       "<table>\n",
       "<thead><tr><th scope=col>Sepal.Length</th><th scope=col>Sepal.Width</th><th scope=col>Petal.Length</th><th scope=col>Petal.Width</th><th scope=col>Species</th></tr></thead>\n",
       "<tbody>\n",
       "\t<tr><td>5.1   </td><td>3.5   </td><td>1.4   </td><td>0.2   </td><td>setosa</td></tr>\n",
       "\t<tr><td>4.9   </td><td>3.0   </td><td>1.4   </td><td>0.2   </td><td>setosa</td></tr>\n",
       "\t<tr><td>4.7   </td><td>3.2   </td><td>1.3   </td><td>0.2   </td><td>setosa</td></tr>\n",
       "\t<tr><td>4.6   </td><td>3.1   </td><td>1.5   </td><td>0.2   </td><td>setosa</td></tr>\n",
       "\t<tr><td>5.0   </td><td>3.6   </td><td>1.4   </td><td>0.2   </td><td>setosa</td></tr>\n",
       "\t<tr><td>5.4   </td><td>3.9   </td><td>1.7   </td><td>0.4   </td><td>setosa</td></tr>\n",
       "\t<tr><td>4.6   </td><td>3.4   </td><td>1.4   </td><td>0.3   </td><td>setosa</td></tr>\n",
       "\t<tr><td>5.0   </td><td>3.4   </td><td>1.5   </td><td>0.2   </td><td>setosa</td></tr>\n",
       "\t<tr><td>4.4   </td><td>2.9   </td><td>1.4   </td><td>0.2   </td><td>setosa</td></tr>\n",
       "\t<tr><td>4.9   </td><td>3.1   </td><td>1.5   </td><td>0.1   </td><td>setosa</td></tr>\n",
       "\t<tr><td>5.4   </td><td>3.7   </td><td>1.5   </td><td>0.2   </td><td>setosa</td></tr>\n",
       "\t<tr><td>4.8   </td><td>3.4   </td><td>1.6   </td><td>0.2   </td><td>setosa</td></tr>\n",
       "\t<tr><td>4.8   </td><td>3.0   </td><td>1.4   </td><td>0.1   </td><td>setosa</td></tr>\n",
       "\t<tr><td>4.3   </td><td>3.0   </td><td>1.1   </td><td>0.1   </td><td>setosa</td></tr>\n",
       "\t<tr><td>5.8   </td><td>4.0   </td><td>1.2   </td><td>0.2   </td><td>setosa</td></tr>\n",
       "\t<tr><td>5.7   </td><td>4.4   </td><td>1.5   </td><td>0.4   </td><td>setosa</td></tr>\n",
       "\t<tr><td>5.4   </td><td>3.9   </td><td>1.3   </td><td>0.4   </td><td>setosa</td></tr>\n",
       "\t<tr><td>5.1   </td><td>3.5   </td><td>1.4   </td><td>0.3   </td><td>setosa</td></tr>\n",
       "\t<tr><td>5.7   </td><td>3.8   </td><td>1.7   </td><td>0.3   </td><td>setosa</td></tr>\n",
       "\t<tr><td>5.1   </td><td>3.8   </td><td>1.5   </td><td>0.3   </td><td>setosa</td></tr>\n",
       "</tbody>\n",
       "</table>\n"
      ],
      "text/latex": [
       "\\begin{tabular}{r|lllll}\n",
       " Sepal.Length & Sepal.Width & Petal.Length & Petal.Width & Species\\\\\n",
       "\\hline\n",
       "\t 5.1    & 3.5    & 1.4    & 0.2    & setosa\\\\\n",
       "\t 4.9    & 3.0    & 1.4    & 0.2    & setosa\\\\\n",
       "\t 4.7    & 3.2    & 1.3    & 0.2    & setosa\\\\\n",
       "\t 4.6    & 3.1    & 1.5    & 0.2    & setosa\\\\\n",
       "\t 5.0    & 3.6    & 1.4    & 0.2    & setosa\\\\\n",
       "\t 5.4    & 3.9    & 1.7    & 0.4    & setosa\\\\\n",
       "\t 4.6    & 3.4    & 1.4    & 0.3    & setosa\\\\\n",
       "\t 5.0    & 3.4    & 1.5    & 0.2    & setosa\\\\\n",
       "\t 4.4    & 2.9    & 1.4    & 0.2    & setosa\\\\\n",
       "\t 4.9    & 3.1    & 1.5    & 0.1    & setosa\\\\\n",
       "\t 5.4    & 3.7    & 1.5    & 0.2    & setosa\\\\\n",
       "\t 4.8    & 3.4    & 1.6    & 0.2    & setosa\\\\\n",
       "\t 4.8    & 3.0    & 1.4    & 0.1    & setosa\\\\\n",
       "\t 4.3    & 3.0    & 1.1    & 0.1    & setosa\\\\\n",
       "\t 5.8    & 4.0    & 1.2    & 0.2    & setosa\\\\\n",
       "\t 5.7    & 4.4    & 1.5    & 0.4    & setosa\\\\\n",
       "\t 5.4    & 3.9    & 1.3    & 0.4    & setosa\\\\\n",
       "\t 5.1    & 3.5    & 1.4    & 0.3    & setosa\\\\\n",
       "\t 5.7    & 3.8    & 1.7    & 0.3    & setosa\\\\\n",
       "\t 5.1    & 3.8    & 1.5    & 0.3    & setosa\\\\\n",
       "\\end{tabular}\n"
      ],
      "text/markdown": [
       "\n",
       "Sepal.Length | Sepal.Width | Petal.Length | Petal.Width | Species | \n",
       "|---|---|---|---|---|---|---|---|---|---|---|---|---|---|---|---|---|---|---|---|\n",
       "| 5.1    | 3.5    | 1.4    | 0.2    | setosa | \n",
       "| 4.9    | 3.0    | 1.4    | 0.2    | setosa | \n",
       "| 4.7    | 3.2    | 1.3    | 0.2    | setosa | \n",
       "| 4.6    | 3.1    | 1.5    | 0.2    | setosa | \n",
       "| 5.0    | 3.6    | 1.4    | 0.2    | setosa | \n",
       "| 5.4    | 3.9    | 1.7    | 0.4    | setosa | \n",
       "| 4.6    | 3.4    | 1.4    | 0.3    | setosa | \n",
       "| 5.0    | 3.4    | 1.5    | 0.2    | setosa | \n",
       "| 4.4    | 2.9    | 1.4    | 0.2    | setosa | \n",
       "| 4.9    | 3.1    | 1.5    | 0.1    | setosa | \n",
       "| 5.4    | 3.7    | 1.5    | 0.2    | setosa | \n",
       "| 4.8    | 3.4    | 1.6    | 0.2    | setosa | \n",
       "| 4.8    | 3.0    | 1.4    | 0.1    | setosa | \n",
       "| 4.3    | 3.0    | 1.1    | 0.1    | setosa | \n",
       "| 5.8    | 4.0    | 1.2    | 0.2    | setosa | \n",
       "| 5.7    | 4.4    | 1.5    | 0.4    | setosa | \n",
       "| 5.4    | 3.9    | 1.3    | 0.4    | setosa | \n",
       "| 5.1    | 3.5    | 1.4    | 0.3    | setosa | \n",
       "| 5.7    | 3.8    | 1.7    | 0.3    | setosa | \n",
       "| 5.1    | 3.8    | 1.5    | 0.3    | setosa | \n",
       "\n",
       "\n"
      ],
      "text/plain": [
       "   Sepal.Length Sepal.Width Petal.Length Petal.Width Species\n",
       "1  5.1          3.5         1.4          0.2         setosa \n",
       "2  4.9          3.0         1.4          0.2         setosa \n",
       "3  4.7          3.2         1.3          0.2         setosa \n",
       "4  4.6          3.1         1.5          0.2         setosa \n",
       "5  5.0          3.6         1.4          0.2         setosa \n",
       "6  5.4          3.9         1.7          0.4         setosa \n",
       "7  4.6          3.4         1.4          0.3         setosa \n",
       "8  5.0          3.4         1.5          0.2         setosa \n",
       "9  4.4          2.9         1.4          0.2         setosa \n",
       "10 4.9          3.1         1.5          0.1         setosa \n",
       "11 5.4          3.7         1.5          0.2         setosa \n",
       "12 4.8          3.4         1.6          0.2         setosa \n",
       "13 4.8          3.0         1.4          0.1         setosa \n",
       "14 4.3          3.0         1.1          0.1         setosa \n",
       "15 5.8          4.0         1.2          0.2         setosa \n",
       "16 5.7          4.4         1.5          0.4         setosa \n",
       "17 5.4          3.9         1.3          0.4         setosa \n",
       "18 5.1          3.5         1.4          0.3         setosa \n",
       "19 5.7          3.8         1.7          0.3         setosa \n",
       "20 5.1          3.8         1.5          0.3         setosa "
      ]
     },
     "metadata": {},
     "output_type": "display_data"
    }
   ],
   "source": [
    "test$scores = predict(rf_mod, newdata = test)\n",
    "head(iris, 20)"
   ]
  },
  {
   "cell_type": "markdown",
   "metadata": {},
   "source": [
    "It is time to evaluate the model results. Keep in mind that the problem has been made difficult deliberately, by having more test cases than training cases. \n",
    "\n",
    "The iris data has three species categories. Therefore it is necessary to use evaluation code for a three category problem. The function in the cell below extends code from pervious labs to deal with a three category problem. Execute this code and examine the results."
   ]
  },
  {
   "cell_type": "code",
   "execution_count": 7,
   "metadata": {},
   "outputs": [
    {
     "name": "stdout",
     "output_type": "stream",
     "text": [
      "            Predicted\n",
      "Actual       setosa versicolor virginica\n",
      "  setosa         25          0         0\n",
      "  versicolor      0         23         2\n",
      "  virginica       0          1        24\n",
      "\n",
      "Accuracy =  0.96 \n",
      " \n",
      "          setosa versicolor virginica\n",
      "Precision      1      0.920     0.960\n",
      "Recall         1      0.958     0.923\n",
      "F1             1      0.939     0.941\n"
     ]
    }
   ],
   "source": [
    "print_metrics = function(df, label){\n",
    "    ## Compute and print the confusion matrix\n",
    "    cm = as.matrix(table(Actual = df$Species, Predicted = df$scores))\n",
    "    print(cm)\n",
    "\n",
    "    ## Compute and print accuracy \n",
    "    accuracy = round(sum(sapply(1:nrow(cm), function(i) cm[i,i]))/sum(cm), 3)\n",
    "    cat('\\n')\n",
    "    cat(paste('Accuracy = ', as.character(accuracy)), '\\n \\n')                           \n",
    "\n",
    "    ## Compute and print precision, recall and F1\n",
    "    precision = sapply(1:nrow(cm), function(i) cm[i,i]/sum(cm[i,]))\n",
    "    recall = sapply(1:nrow(cm), function(i) cm[i,i]/sum(cm[,i]))    \n",
    "    F1 = sapply(1:nrow(cm), function(i) 2*(recall[i] * precision[i])/(recall[i] + precision[i]))    \n",
    "    metrics = sapply(c(precision, recall, F1), round, 3)        \n",
    "    metrics = t(matrix(metrics, nrow = nrow(cm), ncol = ncol(cm)))       \n",
    "    dimnames(metrics) = list(c('Precision', 'Recall', 'F1'), unique(test$Species))      \n",
    "    print(metrics)\n",
    "}  \n",
    "print_metrics(test, 'Species')"
   ]
  },
  {
   "cell_type": "markdown",
   "metadata": {},
   "source": [
    "Examine these results. Notice the following:\n",
    "1. The confusion matrix has dimension 3X3. You can see that most cases are correctly classified with only a few errors. \n",
    "2. The overall accuracy is 0.94. Since the classes are roughly balanced, this metric indicates relatively good performance of the classifier, particularly since it was only trained on 50 cases. \n",
    "3. The precision, recall and  F1 for each of the classes is quite good.\n",
    "|\n",
    "To get a better feel for what the classifier is doing, the code in the cell below displays a set of plots showing correctly (as '+') and incorrectly (as 'o') cases, with the species color-coded. Execute this code and examine the results. "
   ]
  },
  {
   "cell_type": "markdown",
   "metadata": {},
   "source": [
    "Examine these plots. You can see how the classifier has divided the feature space between the classes. Notice that most of the errors occur in the overlap region between Virginica and Versicolor. This behavior is to be expected.  \n",
    "\n",
    "Is it possible that a random forest model with more trees would separate these cases better? The code in the cell below uses a model with 40 trees (estimators). This model is fit with the training data and displays the evaluation of the model. \n",
    "\n",
    "Execute this code and answer **Question 1** on the course page."
   ]
  },
  {
   "cell_type": "code",
   "execution_count": 8,
   "metadata": {},
   "outputs": [
    {
     "name": "stdout",
     "output_type": "stream",
     "text": [
      "            Predicted\n",
      "Actual       setosa versicolor virginica\n",
      "  setosa         25          0         0\n",
      "  versicolor      0         23         2\n",
      "  virginica       0          1        24\n",
      "\n",
      "Accuracy =  0.96 \n",
      " \n",
      "          setosa versicolor virginica\n",
      "Precision      1      0.920     0.960\n",
      "Recall         1      0.958     0.923\n",
      "F1             1      0.939     0.941\n"
     ]
    }
   ],
   "source": [
    "set.seed(1115)\n",
    "rf_mod = randomForest(Species ~ ., data = training, ntrees = 100)\n",
    "test$scores = predict(rf_mod, newdata = test)\n",
    "print_metrics(test, 'Species')"
   ]
  },
  {
   "cell_type": "markdown",
   "metadata": {},
   "source": [
    "These results are slightly better than for the model with 5 trees. However, this small difference in performance is unlikely to be significant. \n",
    "\n",
    "Like most tree-based models, random forest models have a nice property that **feature importance** is computed during model training. Feature importance can be used as a feature selection method. The `varImp` function from the Caret package performs the calculation.  \n",
    "\n",
    "Execute the code in the cell below to display a plot of the feature importance."
   ]
  },
  {
   "cell_type": "code",
   "execution_count": 9,
   "metadata": {},
   "outputs": [
    {
     "data": {},
     "metadata": {},
     "output_type": "display_data"
    },
    {
     "data": {
      "image/png": "[encoded data removed]",
      "text/plain": [
       "plot without title"
      ]
     },
     "metadata": {},
     "output_type": "display_data"
    }
   ],
   "source": [
    "options(repr.plot.width=4, repr.plot.height=3)\n",
    "imp = varImp(rf_mod)\n",
    "imp[,'Feature'] = row.names(imp)\n",
    "ggplot(imp, aes(x = Feature, y = Overall)) + geom_point(size = 4) +\n",
    "       ggtitle('Variable importance for iris features')"
   ]
  },
  {
   "cell_type": "markdown",
   "metadata": {},
   "source": [
    "Examine the plot displayed above. Notice that the Speal_Lenght and Sepal_Width have rather low importance. \n",
    "\n",
    "Should these features be dropped from the model? To find out, you will create a model with a reduced feature set and compare the results. As a first step, execute the code in the cell below to create training and test datasets using the reduced features."
   ]
  },
  {
   "cell_type": "code",
   "execution_count": 10,
   "metadata": {},
   "outputs": [
    {
     "name": "stdout",
     "output_type": "stream",
     "text": [
      "            Predicted\n",
      "Actual       setosa versicolor virginica\n",
      "  setosa         25          0         0\n",
      "  versicolor      0         24         1\n",
      "  virginica       0          1        24\n",
      "\n",
      "Accuracy =  0.973 \n",
      " \n",
      "          setosa versicolor virginica\n",
      "Precision      1       0.96      0.96\n",
      "Recall         1       0.96      0.96\n",
      "F1             1       0.96      0.96\n"
     ]
    }
   ],
   "source": [
    "set.seed(1115)\n",
    "rf_mod = randomForest(Species ~ Petal.Length + Petal.Width, data = training, ntrees = 100)\n",
    "test$scores = predict(rf_mod, newdata = test)\n",
    "print_metrics(test, 'Species')"
   ]
  },
  {
   "cell_type": "markdown",
   "metadata": {},
   "source": [
    "Once you have executed the code, answer **Question 2** on the course page."
   ]
  },
  {
   "cell_type": "markdown",
   "metadata": {},
   "source": [
    "These results are a bit better which may indicate the original model was overfit. Given that a simpler model is more likely to generalize, this model is preferred. "
   ]
  },
  {
   "cell_type": "code",
   "execution_count": 43,
   "metadata": {},
   "outputs": [
    {
     "data": {
      "text/html": [
       "<dl class=dl-horizontal>\n",
       "\t<dt>1</dt>\n",
       "\t\t<dd>0</dd>\n",
       "\t<dt>2</dt>\n",
       "\t\t<dd>0</dd>\n",
       "\t<dt>4</dt>\n",
       "\t\t<dd>0</dd>\n",
       "\t<dt>7</dt>\n",
       "\t\t<dd>0</dd>\n",
       "\t<dt>8</dt>\n",
       "\t\t<dd>0</dd>\n",
       "\t<dt>12</dt>\n",
       "\t\t<dd>0</dd>\n",
       "\t<dt>14</dt>\n",
       "\t\t<dd>0</dd>\n",
       "\t<dt>16</dt>\n",
       "\t\t<dd>0</dd>\n",
       "\t<dt>19</dt>\n",
       "\t\t<dd>0</dd>\n",
       "\t<dt>20</dt>\n",
       "\t\t<dd>0</dd>\n",
       "\t<dt>23</dt>\n",
       "\t\t<dd>0</dd>\n",
       "\t<dt>24</dt>\n",
       "\t\t<dd>0</dd>\n",
       "\t<dt>26</dt>\n",
       "\t\t<dd>0</dd>\n",
       "\t<dt>29</dt>\n",
       "\t\t<dd>0</dd>\n",
       "\t<dt>30</dt>\n",
       "\t\t<dd>0</dd>\n",
       "\t<dt>32</dt>\n",
       "\t\t<dd>0</dd>\n",
       "\t<dt>33</dt>\n",
       "\t\t<dd>0</dd>\n",
       "\t<dt>34</dt>\n",
       "\t\t<dd>0</dd>\n",
       "\t<dt>35</dt>\n",
       "\t\t<dd>0</dd>\n",
       "\t<dt>36</dt>\n",
       "\t\t<dd>0</dd>\n",
       "\t<dt>41</dt>\n",
       "\t\t<dd>0</dd>\n",
       "\t<dt>44</dt>\n",
       "\t\t<dd>0</dd>\n",
       "\t<dt>45</dt>\n",
       "\t\t<dd>0</dd>\n",
       "\t<dt>49</dt>\n",
       "\t\t<dd>0</dd>\n",
       "\t<dt>50</dt>\n",
       "\t\t<dd>0</dd>\n",
       "\t<dt>51</dt>\n",
       "\t\t<dd>0.036</dd>\n",
       "\t<dt>52</dt>\n",
       "\t\t<dd>0</dd>\n",
       "\t<dt>53</dt>\n",
       "\t\t<dd>0.276</dd>\n",
       "\t<dt>54</dt>\n",
       "\t\t<dd>0</dd>\n",
       "\t<dt>60</dt>\n",
       "\t\t<dd>0.024</dd>\n",
       "\t<dt>62</dt>\n",
       "\t\t<dd>0</dd>\n",
       "\t<dt>65</dt>\n",
       "\t\t<dd>0</dd>\n",
       "\t<dt>67</dt>\n",
       "\t\t<dd>0</dd>\n",
       "\t<dt>68</dt>\n",
       "\t\t<dd>0</dd>\n",
       "\t<dt>71</dt>\n",
       "\t\t<dd>0.858</dd>\n",
       "\t<dt>74</dt>\n",
       "\t\t<dd>0.012</dd>\n",
       "\t<dt>76</dt>\n",
       "\t\t<dd>0.024</dd>\n",
       "\t<dt>77</dt>\n",
       "\t\t<dd>0.208</dd>\n",
       "\t<dt>82</dt>\n",
       "\t\t<dd>0</dd>\n",
       "\t<dt>83</dt>\n",
       "\t\t<dd>0</dd>\n",
       "\t<dt>84</dt>\n",
       "\t\t<dd>0.48</dd>\n",
       "\t<dt>86</dt>\n",
       "\t\t<dd>0</dd>\n",
       "\t<dt>87</dt>\n",
       "\t\t<dd>0.012</dd>\n",
       "\t<dt>88</dt>\n",
       "\t\t<dd>0</dd>\n",
       "\t<dt>90</dt>\n",
       "\t\t<dd>0</dd>\n",
       "\t<dt>92</dt>\n",
       "\t\t<dd>0.024</dd>\n",
       "\t<dt>95</dt>\n",
       "\t\t<dd>0</dd>\n",
       "\t<dt>96</dt>\n",
       "\t\t<dd>0</dd>\n",
       "\t<dt>98</dt>\n",
       "\t\t<dd>0</dd>\n",
       "\t<dt>99</dt>\n",
       "\t\t<dd>0</dd>\n",
       "\t<dt>105</dt>\n",
       "\t\t<dd>1</dd>\n",
       "\t<dt>107</dt>\n",
       "\t\t<dd>0.072</dd>\n",
       "\t<dt>109</dt>\n",
       "\t\t<dd>1</dd>\n",
       "\t<dt>111</dt>\n",
       "\t\t<dd>1</dd>\n",
       "\t<dt>112</dt>\n",
       "\t\t<dd>1</dd>\n",
       "\t<dt>113</dt>\n",
       "\t\t<dd>1</dd>\n",
       "\t<dt>114</dt>\n",
       "\t\t<dd>0.914</dd>\n",
       "\t<dt>116</dt>\n",
       "\t\t<dd>1</dd>\n",
       "\t<dt>117</dt>\n",
       "\t\t<dd>1</dd>\n",
       "\t<dt>119</dt>\n",
       "\t\t<dd>1</dd>\n",
       "\t<dt>121</dt>\n",
       "\t\t<dd>1</dd>\n",
       "\t<dt>124</dt>\n",
       "\t\t<dd>0.942</dd>\n",
       "\t<dt>125</dt>\n",
       "\t\t<dd>1</dd>\n",
       "\t<dt>129</dt>\n",
       "\t\t<dd>1</dd>\n",
       "\t<dt>130</dt>\n",
       "\t\t<dd>0.664</dd>\n",
       "\t<dt>131</dt>\n",
       "\t\t<dd>1</dd>\n",
       "\t<dt>132</dt>\n",
       "\t\t<dd>1</dd>\n",
       "\t<dt>134</dt>\n",
       "\t\t<dd>0.688</dd>\n",
       "\t<dt>137</dt>\n",
       "\t\t<dd>1</dd>\n",
       "\t<dt>138</dt>\n",
       "\t\t<dd>1</dd>\n",
       "\t<dt>139</dt>\n",
       "\t\t<dd>0.858</dd>\n",
       "\t<dt>144</dt>\n",
       "\t\t<dd>1</dd>\n",
       "\t<dt>146</dt>\n",
       "\t\t<dd>1</dd>\n",
       "\t<dt>147</dt>\n",
       "\t\t<dd>0.914</dd>\n",
       "\t<dt>148</dt>\n",
       "\t\t<dd>1</dd>\n",
       "</dl>\n"
      ],
      "text/latex": [
       "\\begin{description*}\n",
       "\\item[1] 0\n",
       "\\item[2] 0\n",
       "\\item[4] 0\n",
       "\\item[7] 0\n",
       "\\item[8] 0\n",
       "\\item[12] 0\n",
       "\\item[14] 0\n",
       "\\item[16] 0\n",
       "\\item[19] 0\n",
       "\\item[20] 0\n",
       "\\item[23] 0\n",
       "\\item[24] 0\n",
       "\\item[26] 0\n",
       "\\item[29] 0\n",
       "\\item[30] 0\n",
       "\\item[32] 0\n",
       "\\item[33] 0\n",
       "\\item[34] 0\n",
       "\\item[35] 0\n",
       "\\item[36] 0\n",
       "\\item[41] 0\n",
       "\\item[44] 0\n",
       "\\item[45] 0\n",
       "\\item[49] 0\n",
       "\\item[50] 0\n",
       "\\item[51] 0.036\n",
       "\\item[52] 0\n",
       "\\item[53] 0.276\n",
       "\\item[54] 0\n",
       "\\item[60] 0.024\n",
       "\\item[62] 0\n",
       "\\item[65] 0\n",
       "\\item[67] 0\n",
       "\\item[68] 0\n",
       "\\item[71] 0.858\n",
       "\\item[74] 0.012\n",
       "\\item[76] 0.024\n",
       "\\item[77] 0.208\n",
       "\\item[82] 0\n",
       "\\item[83] 0\n",
       "\\item[84] 0.48\n",
       "\\item[86] 0\n",
       "\\item[87] 0.012\n",
       "\\item[88] 0\n",
       "\\item[90] 0\n",
       "\\item[92] 0.024\n",
       "\\item[95] 0\n",
       "\\item[96] 0\n",
       "\\item[98] 0\n",
       "\\item[99] 0\n",
       "\\item[105] 1\n",
       "\\item[107] 0.072\n",
       "\\item[109] 1\n",
       "\\item[111] 1\n",
       "\\item[112] 1\n",
       "\\item[113] 1\n",
       "\\item[114] 0.914\n",
       "\\item[116] 1\n",
       "\\item[117] 1\n",
       "\\item[119] 1\n",
       "\\item[121] 1\n",
       "\\item[124] 0.942\n",
       "\\item[125] 1\n",
       "\\item[129] 1\n",
       "\\item[130] 0.664\n",
       "\\item[131] 1\n",
       "\\item[132] 1\n",
       "\\item[134] 0.688\n",
       "\\item[137] 1\n",
       "\\item[138] 1\n",
       "\\item[139] 0.858\n",
       "\\item[144] 1\n",
       "\\item[146] 1\n",
       "\\item[147] 0.914\n",
       "\\item[148] 1\n",
       "\\end{description*}\n"
      ],
      "text/markdown": [
       "1\n",
       ":   02\n",
       ":   04\n",
       ":   07\n",
       ":   08\n",
       ":   012\n",
       ":   014\n",
       ":   016\n",
       ":   019\n",
       ":   020\n",
       ":   023\n",
       ":   024\n",
       ":   026\n",
       ":   029\n",
       ":   030\n",
       ":   032\n",
       ":   033\n",
       ":   034\n",
       ":   035\n",
       ":   036\n",
       ":   041\n",
       ":   044\n",
       ":   045\n",
       ":   049\n",
       ":   050\n",
       ":   051\n",
       ":   0.03652\n",
       ":   053\n",
       ":   0.27654\n",
       ":   060\n",
       ":   0.02462\n",
       ":   065\n",
       ":   067\n",
       ":   068\n",
       ":   071\n",
       ":   0.85874\n",
       ":   0.01276\n",
       ":   0.02477\n",
       ":   0.20882\n",
       ":   083\n",
       ":   084\n",
       ":   0.4886\n",
       ":   087\n",
       ":   0.01288\n",
       ":   090\n",
       ":   092\n",
       ":   0.02495\n",
       ":   096\n",
       ":   098\n",
       ":   099\n",
       ":   0105\n",
       ":   1107\n",
       ":   0.072109\n",
       ":   1111\n",
       ":   1112\n",
       ":   1113\n",
       ":   1114\n",
       ":   0.914116\n",
       ":   1117\n",
       ":   1119\n",
       ":   1121\n",
       ":   1124\n",
       ":   0.942125\n",
       ":   1129\n",
       ":   1130\n",
       ":   0.664131\n",
       ":   1132\n",
       ":   1134\n",
       ":   0.688137\n",
       ":   1138\n",
       ":   1139\n",
       ":   0.858144\n",
       ":   1146\n",
       ":   1147\n",
       ":   0.914148\n",
       ":   1\n",
       "\n"
      ],
      "text/plain": [
       "    1     2     4     7     8    12    14    16    19    20    23    24    26 \n",
       "0.000 0.000 0.000 0.000 0.000 0.000 0.000 0.000 0.000 0.000 0.000 0.000 0.000 \n",
       "   29    30    32    33    34    35    36    41    44    45    49    50    51 \n",
       "0.000 0.000 0.000 0.000 0.000 0.000 0.000 0.000 0.000 0.000 0.000 0.000 0.036 \n",
       "   52    53    54    60    62    65    67    68    71    74    76    77    82 \n",
       "0.000 0.276 0.000 0.024 0.000 0.000 0.000 0.000 0.858 0.012 0.024 0.208 0.000 \n",
       "   83    84    86    87    88    90    92    95    96    98    99   105   107 \n",
       "0.000 0.480 0.000 0.012 0.000 0.000 0.024 0.000 0.000 0.000 0.000 1.000 0.072 \n",
       "  109   111   112   113   114   116   117   119   121   124   125   129   130 \n",
       "1.000 1.000 1.000 1.000 0.914 1.000 1.000 1.000 1.000 0.942 1.000 1.000 0.664 \n",
       "  131   132   134   137   138   139   144   146   147   148 \n",
       "1.000 1.000 0.688 1.000 1.000 0.858 1.000 1.000 0.914 1.000 "
      ]
     },
     "metadata": {},
     "output_type": "display_data"
    }
   ],
   "source": [
    "predict(rf_mod, newdata = test, type = 'prob')[,3]"
   ]
  },
  {
   "cell_type": "markdown",
   "metadata": {},
   "source": [
    "## Another example\n",
    "\n",
    "Now, you will try a more complex example using the credit scoring data. You will use the prepared data which had the following preprocessing:\n",
    "1. Cleaning missing values.\n",
    "2. Aggregating categories of certain categorical variables. \n",
    "\n",
    "Execute the code in the cell below to load the features and labels as numpy arrays for the example. "
   ]
  },
  {
   "cell_type": "code",
   "execution_count": 11,
   "metadata": {},
   "outputs": [
    {
     "name": "stdout",
     "output_type": "stream",
     "text": [
      "[1] 999  12\n"
     ]
    },
    {
     "data": {
      "text/html": [
       "<ol class=list-inline>\n",
       "\t<li>'checking_account_status'</li>\n",
       "\t<li>'loan_duration_mo'</li>\n",
       "\t<li>'credit_history'</li>\n",
       "\t<li>'loan_amount'</li>\n",
       "\t<li>'time_employed_yrs'</li>\n",
       "\t<li>'payment_pcnt_income'</li>\n",
       "\t<li>'time_in_residence'</li>\n",
       "\t<li>'property'</li>\n",
       "\t<li>'other_credit_outstanding'</li>\n",
       "\t<li>'number_loans'</li>\n",
       "\t<li>'job_category'</li>\n",
       "\t<li>'bad_credit'</li>\n",
       "</ol>\n"
      ],
      "text/latex": [
       "\\begin{enumerate*}\n",
       "\\item 'checking\\_account\\_status'\n",
       "\\item 'loan\\_duration\\_mo'\n",
       "\\item 'credit\\_history'\n",
       "\\item 'loan\\_amount'\n",
       "\\item 'time\\_employed\\_yrs'\n",
       "\\item 'payment\\_pcnt\\_income'\n",
       "\\item 'time\\_in\\_residence'\n",
       "\\item 'property'\n",
       "\\item 'other\\_credit\\_outstanding'\n",
       "\\item 'number\\_loans'\n",
       "\\item 'job\\_category'\n",
       "\\item 'bad\\_credit'\n",
       "\\end{enumerate*}\n"
      ],
      "text/markdown": [
       "1. 'checking_account_status'\n",
       "2. 'loan_duration_mo'\n",
       "3. 'credit_history'\n",
       "4. 'loan_amount'\n",
       "5. 'time_employed_yrs'\n",
       "6. 'payment_pcnt_income'\n",
       "7. 'time_in_residence'\n",
       "8. 'property'\n",
       "9. 'other_credit_outstanding'\n",
       "10. 'number_loans'\n",
       "11. 'job_category'\n",
       "12. 'bad_credit'\n",
       "\n",
       "\n"
      ],
      "text/plain": [
       " [1] \"checking_account_status\"  \"loan_duration_mo\"        \n",
       " [3] \"credit_history\"           \"loan_amount\"             \n",
       " [5] \"time_employed_yrs\"        \"payment_pcnt_income\"     \n",
       " [7] \"time_in_residence\"        \"property\"                \n",
       " [9] \"other_credit_outstanding\" \"number_loans\"            \n",
       "[11] \"job_category\"             \"bad_credit\"              "
      ]
     },
     "metadata": {},
     "output_type": "display_data"
    }
   ],
   "source": [
    "credit = read.csv('German_Credit_Preped.csv', header = TRUE)\n",
    "credit = credit[,c('checking_account_status', 'loan_duration_mo', 'credit_history', 'loan_amount',\n",
    "                   'time_employed_yrs', 'payment_pcnt_income', 'time_in_residence', 'property', \n",
    "                   'other_credit_outstanding', 'number_loans', 'job_category', 'bad_credit' )]\n",
    "credit[,'CustomerID'] = NULL\n",
    "print(dim(credit))\n",
    "names(credit)"
   ]
  },
  {
   "cell_type": "markdown",
   "metadata": {},
   "source": [
    "Nested cross validation is used to estimate the optimal hyperparameters and perform model selection for the random forest model. Since random forest models are efficient to train, 10 fold cross validation is used. Execute the code in the cell below to define inside and outside fold objects. "
   ]
  },
  {
   "cell_type": "code",
   "execution_count": 12,
   "metadata": {},
   "outputs": [],
   "source": [
    "#set.seed(1955)\n",
    "## Randomly sample cases to create independent training and test data\n",
    "#partition = createDataPartition(credit[,'bad_credit'], times = 1, p = 0.7, list = FALSE)\n",
    "#training = credit[partition,] # Create the training sample\n",
    "#dim(training)\n",
    "#test = credit[-partition,] # Create the test sample\n",
    "#dim(test)"
   ]
  },
  {
   "cell_type": "code",
   "execution_count": 13,
   "metadata": {},
   "outputs": [
    {
     "data": {
      "text/html": [
       "<table>\n",
       "<thead><tr><th scope=col>loan_duration_mo</th><th scope=col>loan_amount</th><th scope=col>payment_pcnt_income</th><th scope=col>time_in_residence</th><th scope=col>number_loans</th></tr></thead>\n",
       "<tbody>\n",
       "\t<tr><td> 2.2464282 </td><td> 0.9483849 </td><td>-0.86876113</td><td>-0.7645835 </td><td>-0.7035652 </td></tr>\n",
       "\t<tr><td>-0.7397312 </td><td>-0.4170067 </td><td>-0.86876113</td><td> 0.1414888 </td><td>-0.7035652 </td></tr>\n",
       "\t<tr><td> 1.7487350 </td><td> 1.6323204 </td><td>-0.86876113</td><td> 1.0475610 </td><td>-0.7035652 </td></tr>\n",
       "\t<tr><td> 0.2556552 </td><td> 0.5655086 </td><td> 0.02505181</td><td> 1.0475610 </td><td> 1.0276211 </td></tr>\n",
       "\t<tr><td> 1.2510417 </td><td> 2.0477820 </td><td>-0.86876113</td><td> 1.0475610 </td><td>-0.7035652 </td></tr>\n",
       "\t<tr><td> 0.2556552 </td><td>-0.1552623 </td><td> 0.02505181</td><td> 1.0475610 </td><td>-0.7035652 </td></tr>\n",
       "</tbody>\n",
       "</table>\n"
      ],
      "text/latex": [
       "\\begin{tabular}{r|lllll}\n",
       " loan\\_duration\\_mo & loan\\_amount & payment\\_pcnt\\_income & time\\_in\\_residence & number\\_loans\\\\\n",
       "\\hline\n",
       "\t  2.2464282  &  0.9483849  & -0.86876113 & -0.7645835  & -0.7035652 \\\\\n",
       "\t -0.7397312  & -0.4170067  & -0.86876113 &  0.1414888  & -0.7035652 \\\\\n",
       "\t  1.7487350  &  1.6323204  & -0.86876113 &  1.0475610  & -0.7035652 \\\\\n",
       "\t  0.2556552  &  0.5655086  &  0.02505181 &  1.0475610  &  1.0276211 \\\\\n",
       "\t  1.2510417  &  2.0477820  & -0.86876113 &  1.0475610  & -0.7035652 \\\\\n",
       "\t  0.2556552  & -0.1552623  &  0.02505181 &  1.0475610  & -0.7035652 \\\\\n",
       "\\end{tabular}\n"
      ],
      "text/markdown": [
       "\n",
       "loan_duration_mo | loan_amount | payment_pcnt_income | time_in_residence | number_loans | \n",
       "|---|---|---|---|---|---|\n",
       "|  2.2464282  |  0.9483849  | -0.86876113 | -0.7645835  | -0.7035652  | \n",
       "| -0.7397312  | -0.4170067  | -0.86876113 |  0.1414888  | -0.7035652  | \n",
       "|  1.7487350  |  1.6323204  | -0.86876113 |  1.0475610  | -0.7035652  | \n",
       "|  0.2556552  |  0.5655086  |  0.02505181 |  1.0475610  |  1.0276211  | \n",
       "|  1.2510417  |  2.0477820  | -0.86876113 |  1.0475610  | -0.7035652  | \n",
       "|  0.2556552  | -0.1552623  |  0.02505181 |  1.0475610  | -0.7035652  | \n",
       "\n",
       "\n"
      ],
      "text/plain": [
       "  loan_duration_mo loan_amount payment_pcnt_income time_in_residence\n",
       "1  2.2464282        0.9483849  -0.86876113         -0.7645835       \n",
       "2 -0.7397312       -0.4170067  -0.86876113          0.1414888       \n",
       "3  1.7487350        1.6323204  -0.86876113          1.0475610       \n",
       "4  0.2556552        0.5655086   0.02505181          1.0475610       \n",
       "5  1.2510417        2.0477820  -0.86876113          1.0475610       \n",
       "6  0.2556552       -0.1552623   0.02505181          1.0475610       \n",
       "  number_loans\n",
       "1 -0.7035652  \n",
       "2 -0.7035652  \n",
       "3 -0.7035652  \n",
       "4  1.0276211  \n",
       "5 -0.7035652  \n",
       "6 -0.7035652  "
      ]
     },
     "metadata": {},
     "output_type": "display_data"
    }
   ],
   "source": [
    "num_cols = c('loan_duration_mo', 'loan_amount', 'payment_pcnt_income',\n",
    "             'time_in_residence', 'number_loans')\n",
    "#preProcValues <- preProcess(training[,num_cols], method = c(\"center\", \"scale\"))\n",
    "\n",
    "#training[,num_cols] = predict(preProcValues, training[,num_cols])\n",
    "#test[,num_cols] = predict(preProcValues, test[,num_cols])\n",
    "\n",
    "preProcValues <- preProcess(credit[,num_cols], method = c(\"center\", \"scale\"))\n",
    "credit[,num_cols] = predict(preProcValues, credit[,num_cols])\n",
    "head(credit[,num_cols])"
   ]
  },
  {
   "cell_type": "markdown",
   "metadata": {},
   "source": [
    "The code in the cell below estimates the best hyperparameters using 10 fold cross validation. There are a few points to note here:\n",
    "1. In this case, a grid of two hyperparameters is searched: \n",
    "  - max_features determines the maximum number of features used to determine the splits. Minimizing the number of features can prevent model over-fitted by induces bias. \n",
    "  - min_samples_leaf determines the minimum number of samples or leaves which must be on each terminal node of the tree. Maintaining the minimum number of samples per terminal node is a regularization method. Having too few samples on terminal leaves allows the model training to memorize the data, leading to high variance. Forcing too many samples on the terminal nodes leads to biased predictions. \n",
    "2. Since there is a class imbalance and a difference in the cost to the bank of misclassification of a bad credit risk customer, the \"balanced\" argument is used. The balanced argument ensures that the subsamples used to train each tree have balanced cases. \n",
    "3. The model is fit on each set of hyperparameters from the grid. \n",
    "4. The best estimated hyperparameters are printed. \n",
    "\n",
    "Notice that the model uses regularization rather than feature selection. The hyperparameter search is intended to optimize the level of regularization. \n",
    "\n",
    "Execute this code, examine the result, and answer **Question 3** on the course page."
   ]
  },
  {
   "cell_type": "code",
   "execution_count": 58,
   "metadata": {},
   "outputs": [
    {
     "data": {
      "text/plain": [
       "Random Forest \n",
       "\n",
       "999 samples\n",
       " 11 predictor\n",
       "  2 classes: '0', '1' \n",
       "\n",
       "No pre-processing\n",
       "Resampling: Cross-Validated (10 fold, repeated 5 times) \n",
       "Summary of sample sizes: 899, 899, 899, 899, 899, 899, ... \n",
       "Resampling results across tuning parameters:\n",
       "\n",
       "  mtry  recall   \n",
       "   2    0.7241492\n",
       "  13    0.7840424\n",
       "  24    0.7865709\n",
       "\n",
       "recall was used to select the optimal model using  the largest value.\n",
       "The final value used for the model was mtry = 24."
      ]
     },
     "metadata": {},
     "output_type": "display_data"
    }
   ],
   "source": [
    "recallSummary = function (data, lev = NULL, model = NULL) {\n",
    "                    out = recall(data$obs, data$pred)  \n",
    "                    names(out) <- \"recall\"\n",
    "                    out\n",
    "}\n",
    "\n",
    "fitControl = trainControl(method = \"repeatedcv\",\n",
    "                           number = 10,\n",
    "                           repeats = 5,\n",
    "                           summaryFunction = recallSummary)\n",
    "\n",
    "set.seed(3344)\n",
    "rf_fit <- train(factor(bad_credit) ~ ., # make label a factor since classification model\n",
    "                 data = credit, \n",
    "                 metric = \"recall\", \n",
    "                 method = \"rf\", # Random forest model\n",
    "                 trControl = fitControl,\n",
    "                 weight = c(0.9,0.1),\n",
    "                 verbose = FALSE)\n",
    "rf_fit"
   ]
  },
  {
   "cell_type": "markdown",
   "metadata": {},
   "source": [
    "Now, you will run the code in the cell below to perform the outer cross validation of the model. "
   ]
  },
  {
   "cell_type": "code",
   "execution_count": 61,
   "metadata": {},
   "outputs": [
    {
     "data": {
      "text/html": [
       "<table>\n",
       "<thead><tr><th scope=col>fold</th><th scope=col>accuracy</th><th scope=col>precision</th><th scope=col>recall</th><th scope=col>F1</th><th scope=col>AUC</th></tr></thead>\n",
       "<tbody>\n",
       "\t<tr><td>1         </td><td>0.75925926</td><td>0.69230769</td><td>0.5000000 </td><td>0.58064516</td><td>0.7606096 </td></tr>\n",
       "\t<tr><td>2         </td><td>0.72727273</td><td>0.50000000</td><td>0.3703704 </td><td>0.42553191</td><td>0.8011831 </td></tr>\n",
       "\t<tr><td>3         </td><td>0.73737374</td><td>0.60714286</td><td>0.5312500 </td><td>0.56666667</td><td>0.7406716 </td></tr>\n",
       "\t<tr><td>4         </td><td>0.70707071</td><td>0.46153846</td><td>0.4444444 </td><td>0.45283019</td><td>0.7337963 </td></tr>\n",
       "\t<tr><td>5         </td><td>0.64646465</td><td>0.39285714</td><td>0.3793103 </td><td>0.38596491</td><td>0.7054187 </td></tr>\n",
       "\t<tr><td>6         </td><td>0.76767677</td><td>0.63636364</td><td>0.4827586 </td><td>0.54901961</td><td>0.7433498 </td></tr>\n",
       "\t<tr><td>7         </td><td>0.68686869</td><td>0.53571429</td><td>0.4545455 </td><td>0.49180328</td><td>0.6648301 </td></tr>\n",
       "\t<tr><td>8         </td><td>0.73737374</td><td>0.60714286</td><td>0.5312500 </td><td>0.56666667</td><td>0.7395056 </td></tr>\n",
       "\t<tr><td>9         </td><td>0.79797980</td><td>0.65384615</td><td>0.6071429 </td><td>0.62962963</td><td>0.8578974 </td></tr>\n",
       "\t<tr><td>10        </td><td>0.76767677</td><td>0.56666667</td><td>0.6296296 </td><td>0.59649123</td><td>0.7705761 </td></tr>\n",
       "\t<tr><td>Mean      </td><td>0.73350168</td><td>0.56535798</td><td>0.4930702 </td><td>0.52452493</td><td>0.7517838 </td></tr>\n",
       "\t<tr><td>std       </td><td>0.04204071</td><td>0.08841227</td><td>0.0815941 </td><td>0.07663994</td><td>0.0495086 </td></tr>\n",
       "</tbody>\n",
       "</table>\n"
      ],
      "text/latex": [
       "\\begin{tabular}{r|llllll}\n",
       " fold & accuracy & precision & recall & F1 & AUC\\\\\n",
       "\\hline\n",
       "\t 1          & 0.75925926 & 0.69230769 & 0.5000000  & 0.58064516 & 0.7606096 \\\\\n",
       "\t 2          & 0.72727273 & 0.50000000 & 0.3703704  & 0.42553191 & 0.8011831 \\\\\n",
       "\t 3          & 0.73737374 & 0.60714286 & 0.5312500  & 0.56666667 & 0.7406716 \\\\\n",
       "\t 4          & 0.70707071 & 0.46153846 & 0.4444444  & 0.45283019 & 0.7337963 \\\\\n",
       "\t 5          & 0.64646465 & 0.39285714 & 0.3793103  & 0.38596491 & 0.7054187 \\\\\n",
       "\t 6          & 0.76767677 & 0.63636364 & 0.4827586  & 0.54901961 & 0.7433498 \\\\\n",
       "\t 7          & 0.68686869 & 0.53571429 & 0.4545455  & 0.49180328 & 0.6648301 \\\\\n",
       "\t 8          & 0.73737374 & 0.60714286 & 0.5312500  & 0.56666667 & 0.7395056 \\\\\n",
       "\t 9          & 0.79797980 & 0.65384615 & 0.6071429  & 0.62962963 & 0.8578974 \\\\\n",
       "\t 10         & 0.76767677 & 0.56666667 & 0.6296296  & 0.59649123 & 0.7705761 \\\\\n",
       "\t Mean       & 0.73350168 & 0.56535798 & 0.4930702  & 0.52452493 & 0.7517838 \\\\\n",
       "\t std        & 0.04204071 & 0.08841227 & 0.0815941  & 0.07663994 & 0.0495086 \\\\\n",
       "\\end{tabular}\n"
      ],
      "text/markdown": [
       "\n",
       "fold | accuracy | precision | recall | F1 | AUC | \n",
       "|---|---|---|---|---|---|---|---|---|---|---|---|\n",
       "| 1          | 0.75925926 | 0.69230769 | 0.5000000  | 0.58064516 | 0.7606096  | \n",
       "| 2          | 0.72727273 | 0.50000000 | 0.3703704  | 0.42553191 | 0.8011831  | \n",
       "| 3          | 0.73737374 | 0.60714286 | 0.5312500  | 0.56666667 | 0.7406716  | \n",
       "| 4          | 0.70707071 | 0.46153846 | 0.4444444  | 0.45283019 | 0.7337963  | \n",
       "| 5          | 0.64646465 | 0.39285714 | 0.3793103  | 0.38596491 | 0.7054187  | \n",
       "| 6          | 0.76767677 | 0.63636364 | 0.4827586  | 0.54901961 | 0.7433498  | \n",
       "| 7          | 0.68686869 | 0.53571429 | 0.4545455  | 0.49180328 | 0.6648301  | \n",
       "| 8          | 0.73737374 | 0.60714286 | 0.5312500  | 0.56666667 | 0.7395056  | \n",
       "| 9          | 0.79797980 | 0.65384615 | 0.6071429  | 0.62962963 | 0.8578974  | \n",
       "| 10         | 0.76767677 | 0.56666667 | 0.6296296  | 0.59649123 | 0.7705761  | \n",
       "| Mean       | 0.73350168 | 0.56535798 | 0.4930702  | 0.52452493 | 0.7517838  | \n",
       "| std        | 0.04204071 | 0.08841227 | 0.0815941  | 0.07663994 | 0.0495086  | \n",
       "\n",
       "\n"
      ],
      "text/plain": [
       "   fold accuracy   precision  recall    F1         AUC      \n",
       "1  1    0.75925926 0.69230769 0.5000000 0.58064516 0.7606096\n",
       "2  2    0.72727273 0.50000000 0.3703704 0.42553191 0.8011831\n",
       "3  3    0.73737374 0.60714286 0.5312500 0.56666667 0.7406716\n",
       "4  4    0.70707071 0.46153846 0.4444444 0.45283019 0.7337963\n",
       "5  5    0.64646465 0.39285714 0.3793103 0.38596491 0.7054187\n",
       "6  6    0.76767677 0.63636364 0.4827586 0.54901961 0.7433498\n",
       "7  7    0.68686869 0.53571429 0.4545455 0.49180328 0.6648301\n",
       "8  8    0.73737374 0.60714286 0.5312500 0.56666667 0.7395056\n",
       "9  9    0.79797980 0.65384615 0.6071429 0.62962963 0.8578974\n",
       "10 10   0.76767677 0.56666667 0.6296296 0.59649123 0.7705761\n",
       "11 Mean 0.73350168 0.56535798 0.4930702 0.52452493 0.7517838\n",
       "12 std  0.04204071 0.08841227 0.0815941 0.07663994 0.0495086"
      ]
     },
     "metadata": {},
     "output_type": "display_data"
    }
   ],
   "source": [
    "score_model = function(df, threshold){\n",
    "    df$score = ifelse(df$probs[,2] > threshold, 1, 0)\n",
    "    df\n",
    "}\n",
    "\n",
    "binary.eval <- function(df, fold){ \n",
    "  # First step is to find the TP, FP, TN, FN cases\n",
    "  df$conf = ifelse(df$bad_credit == 1 & df$score == 1, 'TP',\n",
    "                    ifelse(df$bad_credit == 0 & df$score == 1, 'FP',\n",
    "                           ifelse(df$bad_credit == 0 & df$score == 0, 'TN', 'FN')))\n",
    "  # Elements of the confusion matrix\n",
    "  TP = length(df[df$conf == 'TP', 'conf'])\n",
    "  FP = length(df[df$conf == 'FP', 'conf'])\n",
    "  TN = length(df[df$conf == 'TN', 'conf'])\n",
    "  FN = length(df[df$conf == 'FN', 'conf'])\n",
    "  \n",
    "  ## Confusion matrix as data frame\n",
    "  out = data.frame(Negative = c(TN, FN), Positive = c(FP, TP))\n",
    "  row.names(out) = c('TrueNeg', 'TruePos')\n",
    "    \n",
    "  # Compute AUC with ROCR package\n",
    "  pred_obj = prediction(df$probs[,2], df$bad_credit)\n",
    "  AUC = performance(pred_obj,\"auc\")@y.values[[1]]  \n",
    "  \n",
    "  # Compute and print metrics\n",
    "  P = TP/(TP + FP)\n",
    "  R = TP/(TP + FN)  \n",
    "  F1 = 2*P*R/(P+R) \n",
    "  data.frame = data.frame(fold = as.character(fold),\n",
    "                          accuracy = (TP + TN)/(TP + TN + FP + FN),\n",
    "                          precision = P,\n",
    "                          recall = R,\n",
    "                          F1 = F1,\n",
    "                          AUC = AUC)\n",
    " }\n",
    "\n",
    "\n",
    "Create_Folds = function(df, folds){\n",
    "    ## Create a vector of the fold assignments\n",
    "    nrows = nrow(df)\n",
    "    ncount = nrows/folds\n",
    "    ## Concatenate vectors of fold number\n",
    "    fold = rep(1, ncount)\n",
    "    for(i in seq(2, folds, by = 1)){\n",
    "        fold = c(fold, rep(i, ncount))\n",
    "    }\n",
    "    fold\n",
    "}\n",
    "\n",
    "Fit_Mod = function(training, test){\n",
    "    set.seed(5566)\n",
    "    rf_mod = randomForest(factor(bad_credit) ~ ., data = training, mtry = 10,\n",
    "                         classwt = c(0.9, 0.1))\n",
    "    test$probs = predict(rf_mod, newdata = test, type = 'prob')\n",
    "    test = score_model(test, 0.5)\n",
    "    test\n",
    "}\n",
    "\n",
    "Cross_Validate_Mod = function(df, folds){\n",
    "    ## Create a vector of the fold assignments\n",
    "    fold = Create_Folds(df, folds)\n",
    "    \n",
    "    ## Randomly shuffle the rows of the data frame\n",
    "    shuffle = sample(seq(1, nrow(df), by = 1))\n",
    "    df = df[shuffle,]\n",
    "    \n",
    "    ## Loop over number of folds to fit and evaluate the model\n",
    "    training = df[fold != 1,]\n",
    "    test = df[fold == 1, ]\n",
    "    test = Fit_Mod(training, test)\n",
    "    evals = binary.eval(test, 1)\n",
    "    for(i in seq(2, folds, by = 1)){\n",
    "        training = df[fold != i,]\n",
    "        test = df[fold == i, ]\n",
    "        test = Fit_Mod(training, test)\n",
    "        evals = rbind(evals, binary.eval(test, i))\n",
    "    }\n",
    "    \n",
    "    ## Compute some summary statistics and append to the data rame\n",
    "    evals = rbind(evals, data.frame(fold = 'Mean',\n",
    "                          accuracy = mean(evals[,2]),\n",
    "                          precision = mean(evals[,3]),\n",
    "                          recall = mean(evals[,4]),\n",
    "                          F1 = mean(evals[,5]),\n",
    "                          AUC = mean(evals[,6])))\n",
    "    \n",
    "    evals = rbind(evals, data.frame(fold = 'std',\n",
    "                          accuracy = sd(evals[,2]),\n",
    "                          precision = sd(evals[,3]),\n",
    "                          recall = sd(evals[,4]),\n",
    "                          F1 = sd(evals[,5]),\n",
    "                          AUC = sd(evals[,6])))\n",
    "    evals\n",
    "}\n",
    "\n",
    "Cross_Validate_Mod(credit, 10)"
   ]
  },
  {
   "cell_type": "markdown",
   "metadata": {},
   "source": [
    "Examine these results. Notice that the standard deviation of the mean of the AUC is more than an order of magnitude smaller than the mean. This indicates that this model is likely to generalize well. \n",
    "\n",
    "Now, you will build and test a model using the estimated optimal hyperparameters. As a first step, execute the code in the cell below to create training and testing dataset."
   ]
  },
  {
   "cell_type": "code",
   "execution_count": null,
   "metadata": {},
   "outputs": [],
   "source": [
    "## Randomly sample cases to create independent training and test data\n",
    "nr.seed(1115)\n",
    "indx = range(Features.shape[0])\n",
    "indx = ms.train_test_split(indx, test_size = 300)\n",
    "x_train = Features[indx[0],:]\n",
    "y_train = np.ravel(Labels[indx[0]])\n",
    "x_test = Features[indx[1],:]\n",
    "y_test = np.ravel(Labels[indx[1]])"
   ]
  },
  {
   "cell_type": "markdown",
   "metadata": {},
   "source": [
    "The code in the cell below defines a random forest model object using the estimated optimal model hyperparameters and then fits the model to the training data. Execute this code."
   ]
  },
  {
   "cell_type": "code",
   "execution_count": null,
   "metadata": {},
   "outputs": [],
   "source": [
    "nr.seed(1115)\n",
    "rf_mod = RandomForestClassifier(n_estimators=40, class_weight = \"balanced\", max_features = 10, min_samples_leaf = 10) \n",
    "rf_mod.fit(x_train, y_train)"
   ]
  },
  {
   "cell_type": "markdown",
   "metadata": {},
   "source": [
    "As expected, the hyperparemeters of the random forest model object reflect those specified. \n",
    "\n",
    "The code in the cell below scores and prints evaluation metrics for the model, using the test data subset. \n",
    "\n",
    "Execute this code, examine the results, and answer **Question 4** on the course page. "
   ]
  },
  {
   "cell_type": "code",
   "execution_count": null,
   "metadata": {},
   "outputs": [],
   "source": [
    "def print_metrics(labels, scores):\n",
    "    metrics = sklm.precision_recall_fscore_support(labels, scores)\n",
    "    conf = sklm.confusion_matrix(labels, scores)\n",
    "    print('                 Confusion matrix')\n",
    "    print('                 Score positive    Score negative')\n",
    "    print('True positive    %6d' % conf[0,0] + '          %5d' % conf[0,1])\n",
    "    print('True negative    %6d' % conf[1,0] + '          %5d' % conf[1,1])\n",
    "    print('')\n",
    "    print('Accuracy        %0.2f' % sklm.accuracy_score(labels, scores))\n",
    "    print('AUC             %0.2f' % sklm.roc_auc_score(labels, scores))\n",
    "    print('Macro precision %0.2f' % float((float(metrics[0][0]) + float(metrics[0][1]))/2.0))\n",
    "    print('Macro recall    %0.2f' % float((float(metrics[1][0]) + float(metrics[1][1]))/2.0))\n",
    "    print(' ')\n",
    "    print('             Positive   Negative')\n",
    "    print('Num case    %0.2f' % metrics[3][0] + '       %0.2f' % metrics[3][1])\n",
    "    print('Precision   %0.2f' % metrics[0][0] + '          %0.2f' % metrics[0][1])\n",
    "    print('Recall      %0.2f' % metrics[1][0] + '          %0.2f' % metrics[1][1])\n",
    "    print('F1          %0.2f' % metrics[2][0] + '          %0.2f' % metrics[2][1])\n",
    "\n",
    "scores = rf_mod.predict(x_test)\n",
    "print_metrics(y_test, scores)     "
   ]
  },
  {
   "cell_type": "markdown",
   "metadata": {},
   "source": [
    "Overall, these performance metrics look quite good. A large majority of negative (bad credit) cases are identified at the expense of significant false positives. The reported AUC is within a standard deviation of the figure obtained with cross validation indicating that the model is generalizing well. "
   ]
  },
  {
   "cell_type": "markdown",
   "metadata": {},
   "source": [
    "## Summary\n",
    "\n",
    "In this lab you have accomplished the following:\n",
    "1. Used a random forest model to classify the cases of the iris data. A model with more trees had marginally lower error rates, but likely not significantly different.\n",
    "2. Applied feature importance was used for feature selection with the iris data. The model created and evaluated with the reduced feature set had essentially the same performance as the model with more features.  \n",
    "2. Used 10 fold to find estimated optimal hyperparameters for a random forest model to classify credit risk cases. The model appears to generalize well.  "
   ]
  },
  {
   "cell_type": "code",
   "execution_count": null,
   "metadata": {},
   "outputs": [],
   "source": []
  }
 ],
 "metadata": {
  "kernelspec": {
   "display_name": "R",
   "language": "R",
   "name": "ir"
  },
  "language_info": {
   "codemirror_mode": "r",
   "file_extension": ".r",
   "mimetype": "text/x-r-source",
   "name": "R",
   "pygments_lexer": "r",
   "version": "3.4.1"
  }
 },
 "nbformat": 4,
 "nbformat_minor": 2
}
