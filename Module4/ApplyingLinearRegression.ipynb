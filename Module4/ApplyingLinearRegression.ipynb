{
 "cells": [
  {
   "cell_type": "markdown",
   "metadata": {},
   "source": [
    "# Applications of Regression\n",
    "\n",
    "## Overview\n",
    "\n",
    "In this lab you will apply regression to some realistic data. In this lab you will work with the automotive price dataset. Your goal is to construct a linear regression model to predict the price of automobiles from their characteristics. \n",
    "\n",
    "In this lab will learn to:\n",
    "\n",
    "1. Use categorical data with Scikit-Learn. \n",
    "2. Apply transformations to features and labels to improve model performance. \n",
    "3. Compare regression models to improve model performance. "
   ]
  },
  {
   "cell_type": "markdown",
   "metadata": {},
   "source": [
    "## Load the dataset\n",
    "\n",
    "As a first, step you will load the dataset into the notebook environment. \n",
    "\n",
    "First, execute the code in the cell below to load  the packages you will need to run the rest of this notebook. "
   ]
  },
  {
   "cell_type": "code",
   "execution_count": 13,
   "metadata": {},
   "outputs": [],
   "source": [
    "## Import packages\n",
    "library(ggplot2)\n",
    "library(repr)\n",
    "library(dplyr)\n",
    "library(caret)\n",
    "\n",
    "options(repr.plot.width=4, repr.plot.height=4) # Set the initial plot area dimensions"
   ]
  },
  {
   "cell_type": "markdown",
   "metadata": {},
   "source": [
    "The code in the cell below loads the dataset which was prepared in a previous lab. Execute this code and ensure that the expected columns are present. "
   ]
  },
  {
   "cell_type": "code",
   "execution_count": 14,
   "metadata": {},
   "outputs": [
    {
     "data": {
      "text/html": [
       "<ol class=list-inline>\n",
       "\t<li>'X'</li>\n",
       "\t<li>'symboling'</li>\n",
       "\t<li>'normalized.losses'</li>\n",
       "\t<li>'make'</li>\n",
       "\t<li>'fuel.type'</li>\n",
       "\t<li>'aspiration'</li>\n",
       "\t<li>'num.of.doors'</li>\n",
       "\t<li>'body.style'</li>\n",
       "\t<li>'drive.wheels'</li>\n",
       "\t<li>'engine.location'</li>\n",
       "\t<li>'wheel.base'</li>\n",
       "\t<li>'length'</li>\n",
       "\t<li>'width'</li>\n",
       "\t<li>'height'</li>\n",
       "\t<li>'curb.weight'</li>\n",
       "\t<li>'engine.type'</li>\n",
       "\t<li>'num.of.cylinders'</li>\n",
       "\t<li>'engine.size'</li>\n",
       "\t<li>'fuel.system'</li>\n",
       "\t<li>'bore'</li>\n",
       "\t<li>'stroke'</li>\n",
       "\t<li>'compression.ratio'</li>\n",
       "\t<li>'horsepower'</li>\n",
       "\t<li>'peak.rpm'</li>\n",
       "\t<li>'city.mpg'</li>\n",
       "\t<li>'highway.mpg'</li>\n",
       "\t<li>'price'</li>\n",
       "\t<li>'log_price'</li>\n",
       "</ol>\n"
      ],
      "text/latex": [
       "\\begin{enumerate*}\n",
       "\\item 'X'\n",
       "\\item 'symboling'\n",
       "\\item 'normalized.losses'\n",
       "\\item 'make'\n",
       "\\item 'fuel.type'\n",
       "\\item 'aspiration'\n",
       "\\item 'num.of.doors'\n",
       "\\item 'body.style'\n",
       "\\item 'drive.wheels'\n",
       "\\item 'engine.location'\n",
       "\\item 'wheel.base'\n",
       "\\item 'length'\n",
       "\\item 'width'\n",
       "\\item 'height'\n",
       "\\item 'curb.weight'\n",
       "\\item 'engine.type'\n",
       "\\item 'num.of.cylinders'\n",
       "\\item 'engine.size'\n",
       "\\item 'fuel.system'\n",
       "\\item 'bore'\n",
       "\\item 'stroke'\n",
       "\\item 'compression.ratio'\n",
       "\\item 'horsepower'\n",
       "\\item 'peak.rpm'\n",
       "\\item 'city.mpg'\n",
       "\\item 'highway.mpg'\n",
       "\\item 'price'\n",
       "\\item 'log\\_price'\n",
       "\\end{enumerate*}\n"
      ],
      "text/markdown": [
       "1. 'X'\n",
       "2. 'symboling'\n",
       "3. 'normalized.losses'\n",
       "4. 'make'\n",
       "5. 'fuel.type'\n",
       "6. 'aspiration'\n",
       "7. 'num.of.doors'\n",
       "8. 'body.style'\n",
       "9. 'drive.wheels'\n",
       "10. 'engine.location'\n",
       "11. 'wheel.base'\n",
       "12. 'length'\n",
       "13. 'width'\n",
       "14. 'height'\n",
       "15. 'curb.weight'\n",
       "16. 'engine.type'\n",
       "17. 'num.of.cylinders'\n",
       "18. 'engine.size'\n",
       "19. 'fuel.system'\n",
       "20. 'bore'\n",
       "21. 'stroke'\n",
       "22. 'compression.ratio'\n",
       "23. 'horsepower'\n",
       "24. 'peak.rpm'\n",
       "25. 'city.mpg'\n",
       "26. 'highway.mpg'\n",
       "27. 'price'\n",
       "28. 'log_price'\n",
       "\n",
       "\n"
      ],
      "text/plain": [
       " [1] \"X\"                 \"symboling\"         \"normalized.losses\"\n",
       " [4] \"make\"              \"fuel.type\"         \"aspiration\"       \n",
       " [7] \"num.of.doors\"      \"body.style\"        \"drive.wheels\"     \n",
       "[10] \"engine.location\"   \"wheel.base\"        \"length\"           \n",
       "[13] \"width\"             \"height\"            \"curb.weight\"      \n",
       "[16] \"engine.type\"       \"num.of.cylinders\"  \"engine.size\"      \n",
       "[19] \"fuel.system\"       \"bore\"              \"stroke\"           \n",
       "[22] \"compression.ratio\" \"horsepower\"        \"peak.rpm\"         \n",
       "[25] \"city.mpg\"          \"highway.mpg\"       \"price\"            \n",
       "[28] \"log_price\"        "
      ]
     },
     "metadata": {},
     "output_type": "display_data"
    }
   ],
   "source": [
    "auto_prices = read.csv('Auto_Prices_Preped.csv')\n",
    "names(auto_prices)"
   ]
  },
  {
   "cell_type": "markdown",
   "metadata": {},
   "source": [
    "Notice that both the label, `price` and the logrithmically transformed versions are included. \n",
    "\n",
    "As a next step, execute the code in the cell below to display and examine the first few rows of the dataset. "
   ]
  },
  {
   "cell_type": "code",
   "execution_count": 15,
   "metadata": {},
   "outputs": [
    {
     "data": {
      "text/html": [
       "<table>\n",
       "<thead><tr><th scope=col>X</th><th scope=col>symboling</th><th scope=col>normalized.losses</th><th scope=col>make</th><th scope=col>fuel.type</th><th scope=col>aspiration</th><th scope=col>num.of.doors</th><th scope=col>body.style</th><th scope=col>drive.wheels</th><th scope=col>engine.location</th><th scope=col>...</th><th scope=col>fuel.system</th><th scope=col>bore</th><th scope=col>stroke</th><th scope=col>compression.ratio</th><th scope=col>horsepower</th><th scope=col>peak.rpm</th><th scope=col>city.mpg</th><th scope=col>highway.mpg</th><th scope=col>price</th><th scope=col>log_price</th></tr></thead>\n",
       "<tbody>\n",
       "\t<tr><td>1              </td><td>3              </td><td>?              </td><td>alfa-romero    </td><td>gas            </td><td>std            </td><td>two            </td><td>hardtop_convert</td><td>rwd            </td><td>front          </td><td>...            </td><td>mpfi           </td><td>3.47           </td><td>2.68           </td><td> 9.0           </td><td>111            </td><td>5000           </td><td>21             </td><td>27             </td><td>13495          </td><td>9.510075       </td></tr>\n",
       "\t<tr><td>2              </td><td>3              </td><td>?              </td><td>alfa-romero    </td><td>gas            </td><td>std            </td><td>two            </td><td>hardtop_convert</td><td>rwd            </td><td>front          </td><td>...            </td><td>mpfi           </td><td>3.47           </td><td>2.68           </td><td> 9.0           </td><td>111            </td><td>5000           </td><td>21             </td><td>27             </td><td>16500          </td><td>9.711116       </td></tr>\n",
       "\t<tr><td>3              </td><td>1              </td><td>?              </td><td>alfa-romero    </td><td>gas            </td><td>std            </td><td>two            </td><td>hatchback      </td><td>rwd            </td><td>front          </td><td>...            </td><td>mpfi           </td><td>2.68           </td><td>3.47           </td><td> 9.0           </td><td>154            </td><td>5000           </td><td>19             </td><td>26             </td><td>16500          </td><td>9.711116       </td></tr>\n",
       "\t<tr><td>4              </td><td>2              </td><td>164            </td><td>audi           </td><td>gas            </td><td>std            </td><td>four           </td><td>sedan          </td><td>fwd            </td><td>front          </td><td>...            </td><td>mpfi           </td><td>3.19           </td><td>3.40           </td><td>10.0           </td><td>102            </td><td>5500           </td><td>24             </td><td>30             </td><td>13950          </td><td>9.543235       </td></tr>\n",
       "\t<tr><td>5              </td><td>2              </td><td>164            </td><td>audi           </td><td>gas            </td><td>std            </td><td>four           </td><td>sedan          </td><td>4wd            </td><td>front          </td><td>...            </td><td>mpfi           </td><td>3.19           </td><td>3.40           </td><td> 8.0           </td><td>115            </td><td>5500           </td><td>18             </td><td>22             </td><td>17450          </td><td>9.767095       </td></tr>\n",
       "\t<tr><td>6              </td><td>2              </td><td>?              </td><td>audi           </td><td>gas            </td><td>std            </td><td>two            </td><td>sedan          </td><td>fwd            </td><td>front          </td><td>...            </td><td>mpfi           </td><td>3.19           </td><td>3.40           </td><td> 8.5           </td><td>110            </td><td>5500           </td><td>19             </td><td>25             </td><td>15250          </td><td>9.632335       </td></tr>\n",
       "</tbody>\n",
       "</table>\n"
      ],
      "text/latex": [
       "\\begin{tabular}{r|llllllllllllllllllllllllllll}\n",
       " X & symboling & normalized.losses & make & fuel.type & aspiration & num.of.doors & body.style & drive.wheels & engine.location & ... & fuel.system & bore & stroke & compression.ratio & horsepower & peak.rpm & city.mpg & highway.mpg & price & log\\_price\\\\\n",
       "\\hline\n",
       "\t 1                 & 3                 & ?                 & alfa-romero       & gas               & std               & two               & hardtop\\_convert & rwd               & front             & ...               & mpfi              & 3.47              & 2.68              &  9.0              & 111               & 5000              & 21                & 27                & 13495             & 9.510075         \\\\\n",
       "\t 2                 & 3                 & ?                 & alfa-romero       & gas               & std               & two               & hardtop\\_convert & rwd               & front             & ...               & mpfi              & 3.47              & 2.68              &  9.0              & 111               & 5000              & 21                & 27                & 16500             & 9.711116         \\\\\n",
       "\t 3               & 1               & ?               & alfa-romero     & gas             & std             & two             & hatchback       & rwd             & front           & ...             & mpfi            & 2.68            & 3.47            &  9.0            & 154             & 5000            & 19              & 26              & 16500           & 9.711116       \\\\\n",
       "\t 4               & 2               & 164             & audi            & gas             & std             & four            & sedan           & fwd             & front           & ...             & mpfi            & 3.19            & 3.40            & 10.0            & 102             & 5500            & 24              & 30              & 13950           & 9.543235       \\\\\n",
       "\t 5               & 2               & 164             & audi            & gas             & std             & four            & sedan           & 4wd             & front           & ...             & mpfi            & 3.19            & 3.40            &  8.0            & 115             & 5500            & 18              & 22              & 17450           & 9.767095       \\\\\n",
       "\t 6               & 2               & ?               & audi            & gas             & std             & two             & sedan           & fwd             & front           & ...             & mpfi            & 3.19            & 3.40            &  8.5            & 110             & 5500            & 19              & 25              & 15250           & 9.632335       \\\\\n",
       "\\end{tabular}\n"
      ],
      "text/markdown": [
       "\n",
       "X | symboling | normalized.losses | make | fuel.type | aspiration | num.of.doors | body.style | drive.wheels | engine.location | ... | fuel.system | bore | stroke | compression.ratio | horsepower | peak.rpm | city.mpg | highway.mpg | price | log_price | \n",
       "|---|---|---|---|---|---|\n",
       "| 1               | 3               | ?               | alfa-romero     | gas             | std             | two             | hardtop_convert | rwd             | front           | ...             | mpfi            | 3.47            | 2.68            |  9.0            | 111             | 5000            | 21              | 27              | 13495           | 9.510075        | \n",
       "| 2               | 3               | ?               | alfa-romero     | gas             | std             | two             | hardtop_convert | rwd             | front           | ...             | mpfi            | 3.47            | 2.68            |  9.0            | 111             | 5000            | 21              | 27              | 16500           | 9.711116        | \n",
       "| 3               | 1               | ?               | alfa-romero     | gas             | std             | two             | hatchback       | rwd             | front           | ...             | mpfi            | 2.68            | 3.47            |  9.0            | 154             | 5000            | 19              | 26              | 16500           | 9.711116        | \n",
       "| 4               | 2               | 164             | audi            | gas             | std             | four            | sedan           | fwd             | front           | ...             | mpfi            | 3.19            | 3.40            | 10.0            | 102             | 5500            | 24              | 30              | 13950           | 9.543235        | \n",
       "| 5               | 2               | 164             | audi            | gas             | std             | four            | sedan           | 4wd             | front           | ...             | mpfi            | 3.19            | 3.40            |  8.0            | 115             | 5500            | 18              | 22              | 17450           | 9.767095        | \n",
       "| 6               | 2               | ?               | audi            | gas             | std             | two             | sedan           | fwd             | front           | ...             | mpfi            | 3.19            | 3.40            |  8.5            | 110             | 5500            | 19              | 25              | 15250           | 9.632335        | \n",
       "\n",
       "\n"
      ],
      "text/plain": [
       "  X symboling normalized.losses make        fuel.type aspiration num.of.doors\n",
       "1 1 3         ?                 alfa-romero gas       std        two         \n",
       "2 2 3         ?                 alfa-romero gas       std        two         \n",
       "3 3 1         ?                 alfa-romero gas       std        two         \n",
       "4 4 2         164               audi        gas       std        four        \n",
       "5 5 2         164               audi        gas       std        four        \n",
       "6 6 2         ?                 audi        gas       std        two         \n",
       "  body.style      drive.wheels engine.location ... fuel.system bore stroke\n",
       "1 hardtop_convert rwd          front           ... mpfi        3.47 2.68  \n",
       "2 hardtop_convert rwd          front           ... mpfi        3.47 2.68  \n",
       "3 hatchback       rwd          front           ... mpfi        2.68 3.47  \n",
       "4 sedan           fwd          front           ... mpfi        3.19 3.40  \n",
       "5 sedan           4wd          front           ... mpfi        3.19 3.40  \n",
       "6 sedan           fwd          front           ... mpfi        3.19 3.40  \n",
       "  compression.ratio horsepower peak.rpm city.mpg highway.mpg price log_price\n",
       "1  9.0              111        5000     21       27          13495 9.510075 \n",
       "2  9.0              111        5000     21       27          16500 9.711116 \n",
       "3  9.0              154        5000     19       26          16500 9.711116 \n",
       "4 10.0              102        5500     24       30          13950 9.543235 \n",
       "5  8.0              115        5500     18       22          17450 9.767095 \n",
       "6  8.5              110        5500     19       25          15250 9.632335 "
      ]
     },
     "metadata": {},
     "output_type": "display_data"
    }
   ],
   "source": [
    "head(auto_prices)"
   ]
  },
  {
   "cell_type": "markdown",
   "metadata": {},
   "source": [
    "Notice that there are both numeric and categorical features. "
   ]
  },
  {
   "cell_type": "markdown",
   "metadata": {},
   "source": [
    "## Split the dataset\n",
    "\n",
    "You must now create randomly sampled training and test data sets. The `createDataPartition` function from the R caret package is used  to create indices for the training data sample. In this case 75% of the data will be used  for training the model. Since this data set is small only 48 cases will be included in the test dataset. Execute this code and note the dimensions of the resulting data frame. "
   ]
  },
  {
   "cell_type": "code",
   "execution_count": 16,
   "metadata": {},
   "outputs": [
    {
     "data": {
      "text/html": [
       "<ol class=list-inline>\n",
       "\t<li>147</li>\n",
       "\t<li>28</li>\n",
       "</ol>\n"
      ],
      "text/latex": [
       "\\begin{enumerate*}\n",
       "\\item 147\n",
       "\\item 28\n",
       "\\end{enumerate*}\n"
      ],
      "text/markdown": [
       "1. 147\n",
       "2. 28\n",
       "\n",
       "\n"
      ],
      "text/plain": [
       "[1] 147  28"
      ]
     },
     "metadata": {},
     "output_type": "display_data"
    },
    {
     "data": {
      "text/html": [
       "<ol class=list-inline>\n",
       "\t<li>48</li>\n",
       "\t<li>28</li>\n",
       "</ol>\n"
      ],
      "text/latex": [
       "\\begin{enumerate*}\n",
       "\\item 48\n",
       "\\item 28\n",
       "\\end{enumerate*}\n"
      ],
      "text/markdown": [
       "1. 48\n",
       "2. 28\n",
       "\n",
       "\n"
      ],
      "text/plain": [
       "[1] 48 28"
      ]
     },
     "metadata": {},
     "output_type": "display_data"
    }
   ],
   "source": [
    "set.seed(1955)\n",
    "## Randomly sample cases to create independent training and test data\n",
    "partition = createDataPartition(auto_prices[,'fuel.type'], times = 1, p = 0.75, list = FALSE)\n",
    "training = auto_prices[partition,] # Create the training sample\n",
    "dim(training)\n",
    "test = auto_prices[-partition,] # Create the test sample\n",
    "dim(test)"
   ]
  },
  {
   "cell_type": "markdown",
   "metadata": {},
   "source": [
    "## Scale numeric features\n",
    "\n",
    "Numeric features must be rescaled so they have a similar range of values. Rescaling prevents features from having an undue influence on model training simply because then have a larger range of numeric variables. \n",
    "\n",
    "The code in the cell below uses the `preProcess` function from the caret function. The processing is as follows:\n",
    "1. The preprocessing model object is computed. In this case the processing includes centering and scaling the numeric feature. Notice that this model is fit only ot the training data.\n",
    "2. The scalling is appled both the test and training partitions.\n",
    "\n",
    "Execute the code. "
   ]
  },
  {
   "cell_type": "code",
   "execution_count": 17,
   "metadata": {},
   "outputs": [
    {
     "data": {
      "text/html": [
       "<table>\n",
       "<thead><tr><th></th><th scope=col>curb.weight</th><th scope=col>horsepower</th><th scope=col>city.mpg</th></tr></thead>\n",
       "<tbody>\n",
       "\t<tr><th scope=row>1</th><td>-0.07121387</td><td>0.1417937  </td><td>-0.6352759 </td></tr>\n",
       "\t<tr><th scope=row>2</th><td>-0.07121387</td><td>0.1417937  </td><td>-0.6352759 </td></tr>\n",
       "\t<tr><th scope=row>6</th><td>-0.14739526</td><td>0.1160607  </td><td>-0.9389687 </td></tr>\n",
       "\t<tr><th scope=row>7</th><td> 0.47877864</td><td>0.1160607  </td><td>-0.9389687 </td></tr>\n",
       "\t<tr><th scope=row>8</th><td> 0.68316774</td><td>0.1160607  </td><td>-0.9389687 </td></tr>\n",
       "\t<tr><th scope=row>9</th><td> 0.92843467</td><td>0.8880485  </td><td>-1.2426616 </td></tr>\n",
       "</tbody>\n",
       "</table>\n"
      ],
      "text/latex": [
       "\\begin{tabular}{r|lll}\n",
       "  & curb.weight & horsepower & city.mpg\\\\\n",
       "\\hline\n",
       "\t1 & -0.07121387 & 0.1417937   & -0.6352759 \\\\\n",
       "\t2 & -0.07121387 & 0.1417937   & -0.6352759 \\\\\n",
       "\t6 & -0.14739526 & 0.1160607   & -0.9389687 \\\\\n",
       "\t7 &  0.47877864 & 0.1160607   & -0.9389687 \\\\\n",
       "\t8 &  0.68316774 & 0.1160607   & -0.9389687 \\\\\n",
       "\t9 &  0.92843467 & 0.8880485   & -1.2426616 \\\\\n",
       "\\end{tabular}\n"
      ],
      "text/markdown": [
       "\n",
       "| <!--/--> | curb.weight | horsepower | city.mpg | \n",
       "|---|---|---|---|---|---|\n",
       "| 1 | -0.07121387 | 0.1417937   | -0.6352759  | \n",
       "| 2 | -0.07121387 | 0.1417937   | -0.6352759  | \n",
       "| 6 | -0.14739526 | 0.1160607   | -0.9389687  | \n",
       "| 7 |  0.47877864 | 0.1160607   | -0.9389687  | \n",
       "| 8 |  0.68316774 | 0.1160607   | -0.9389687  | \n",
       "| 9 |  0.92843467 | 0.8880485   | -1.2426616  | \n",
       "\n",
       "\n"
      ],
      "text/plain": [
       "  curb.weight horsepower city.mpg  \n",
       "1 -0.07121387 0.1417937  -0.6352759\n",
       "2 -0.07121387 0.1417937  -0.6352759\n",
       "6 -0.14739526 0.1160607  -0.9389687\n",
       "7  0.47877864 0.1160607  -0.9389687\n",
       "8  0.68316774 0.1160607  -0.9389687\n",
       "9  0.92843467 0.8880485  -1.2426616"
      ]
     },
     "metadata": {},
     "output_type": "display_data"
    }
   ],
   "source": [
    "num_cols = c('curb.weight', 'horsepower', 'city.mpg')\n",
    "preProcValues <- preProcess(training[,num_cols], method = c(\"center\", \"scale\"))\n",
    "\n",
    "training[,num_cols] = predict(preProcValues, training[,num_cols])\n",
    "test[,num_cols] = predict(preProcValues, test[,num_cols])\n",
    "head(training[,num_cols])"
   ]
  },
  {
   "cell_type": "markdown",
   "metadata": {},
   "source": [
    "These three numeric features are now scaled. "
   ]
  },
  {
   "cell_type": "markdown",
   "metadata": {},
   "source": [
    "## Construct the linear regression model\n",
    "\n",
    "With data prepared and split into training and test subsets, you will now compute the linear regression model. There are 28 features, so the model will require at least 28 coefficients. The equation for such a **multiple regression** problem can be writen as:\n",
    "\n",
    "$$\\hat{y} = f(\\vec{x}) = \\vec{\\beta} \\cdot \\vec{x} + b\\\\ = \\beta_1 x_1 + \\beta_2 x_2 + \\cdots + \\beta_n x_n + b$$  \n",
    "where;  \n",
    "$\\hat{y}$ are the predicted values or scores,   \n",
    "$\\vec{x}$ is the vector of feature values with components $\\{ x_1, x_2, \\cdots, x_n$,  \n",
    "$\\vec{\\beta}$ is vector of model coefficients with components $\\{ \\beta_1, \\beta_2, \\cdots, \\beta_n$,  \n",
    "$b$ is the intercept term, if there is one.\n",
    "\n",
    "You can think of the linear regression function $f(\\vec{x})$ as the dot product between the beta vector $\\vec{\\beta}$ and the feature vector $\\vec{x}$, plus the intercecpt term $b$.\n",
    "\n",
    "In R models are defined by an equation using the $\\sim$ symbol to mean modeled by. In summary, the variable to be modeled is always on the left. The features are listed on the right. This basic scheme can be written as shown here. \n",
    "\n",
    "$$label \\sim features$$\n",
    "\n",
    "Categorical and numerical features can be combined in the model formula. Features not specified in the formula are ignored.\n",
    "\n",
    "The code in the cell below uses the R `lm` function to compute the model coefficients and create a model object.  Execute this code. "
   ]
  },
  {
   "cell_type": "code",
   "execution_count": 18,
   "metadata": {},
   "outputs": [],
   "source": [
    "## define and fit the linear regression model\n",
    "lin_mod = lm(log_price ~ curb.weight + horsepower + city.mpg + fuel.type + aspiration +\n",
    "             body.style + drive.wheels + num.of.cylinders, data = training)"
   ]
  },
  {
   "cell_type": "markdown",
   "metadata": {},
   "source": [
    "The model has been fit to the traning data. Execute the code in the cell below to examine the value of the intercept term and coefficients. "
   ]
  },
  {
   "cell_type": "code",
   "execution_count": 19,
   "metadata": {},
   "outputs": [
    {
     "data": {
      "text/html": [
       "<table>\n",
       "<thead><tr><th></th><th scope=col>Estimate</th><th scope=col>Std. Error</th><th scope=col>t value</th><th scope=col>Pr(&gt;|t|)</th></tr></thead>\n",
       "<tbody>\n",
       "\t<tr><th scope=row>(Intercept)</th><td> 9.838118246</td><td>0.17689877  </td><td>55.61439496 </td><td>1.877120e-94</td></tr>\n",
       "\t<tr><th scope=row>curb.weight</th><td> 0.186412296</td><td>0.04507548  </td><td> 4.13555920 </td><td>6.212131e-05</td></tr>\n",
       "\t<tr><th scope=row>horsepower</th><td> 0.123147071</td><td>0.03872793  </td><td> 3.17980023 </td><td>1.830948e-03</td></tr>\n",
       "\t<tr><th scope=row>city.mpg</th><td>-0.100148774</td><td>0.03722663  </td><td>-2.69024555 </td><td>8.048728e-03</td></tr>\n",
       "\t<tr><th scope=row>fuel.typegas</th><td>-0.212743286</td><td>0.08775702  </td><td>-2.42423105 </td><td>1.667438e-02</td></tr>\n",
       "\t<tr><th scope=row>aspirationturbo</th><td>-0.009604352</td><td>0.05277158  </td><td>-0.18199857 </td><td>8.558589e-01</td></tr>\n",
       "\t<tr><th scope=row>body.stylehatchback</th><td>-0.147475507</td><td>0.06416581  </td><td>-2.29835010 </td><td>2.309004e-02</td></tr>\n",
       "\t<tr><th scope=row>body.stylesedan</th><td>-0.069378678</td><td>0.06124729  </td><td>-1.13276317 </td><td>2.593365e-01</td></tr>\n",
       "\t<tr><th scope=row>body.stylewagon</th><td>-0.151977319</td><td>0.07726665  </td><td>-1.96692003 </td><td>5.125848e-02</td></tr>\n",
       "\t<tr><th scope=row>drive.wheelsfwd</th><td>-0.007944480</td><td>0.11076764  </td><td>-0.07172203 </td><td>9.429301e-01</td></tr>\n",
       "\t<tr><th scope=row>drive.wheelsrwd</th><td> 0.111904825</td><td>0.11872312  </td><td> 0.94256976 </td><td>3.475973e-01</td></tr>\n",
       "\t<tr><th scope=row>num.of.cylindersfive_six</th><td>-0.087640782</td><td>0.10834856  </td><td>-0.80887816 </td><td>4.200191e-01</td></tr>\n",
       "\t<tr><th scope=row>num.of.cylindersthree_four</th><td>-0.235638247</td><td>0.12714652  </td><td>-1.85328114 </td><td>6.604144e-02</td></tr>\n",
       "</tbody>\n",
       "</table>\n"
      ],
      "text/latex": [
       "\\begin{tabular}{r|llll}\n",
       "  & Estimate & Std. Error & t value & Pr(>\\textbar{}t\\textbar{})\\\\\n",
       "\\hline\n",
       "\t(Intercept) &  9.838118246 & 0.17689877   & 55.61439496  & 1.877120e-94\\\\\n",
       "\tcurb.weight &  0.186412296 & 0.04507548   &  4.13555920  & 6.212131e-05\\\\\n",
       "\thorsepower &  0.123147071 & 0.03872793   &  3.17980023  & 1.830948e-03\\\\\n",
       "\tcity.mpg & -0.100148774 & 0.03722663   & -2.69024555  & 8.048728e-03\\\\\n",
       "\tfuel.typegas & -0.212743286 & 0.08775702   & -2.42423105  & 1.667438e-02\\\\\n",
       "\taspirationturbo & -0.009604352 & 0.05277158   & -0.18199857  & 8.558589e-01\\\\\n",
       "\tbody.stylehatchback & -0.147475507 & 0.06416581   & -2.29835010  & 2.309004e-02\\\\\n",
       "\tbody.stylesedan & -0.069378678 & 0.06124729   & -1.13276317  & 2.593365e-01\\\\\n",
       "\tbody.stylewagon & -0.151977319 & 0.07726665   & -1.96692003  & 5.125848e-02\\\\\n",
       "\tdrive.wheelsfwd & -0.007944480 & 0.11076764   & -0.07172203  & 9.429301e-01\\\\\n",
       "\tdrive.wheelsrwd &  0.111904825 & 0.11872312   &  0.94256976  & 3.475973e-01\\\\\n",
       "\tnum.of.cylindersfive\\_six & -0.087640782 & 0.10834856   & -0.80887816  & 4.200191e-01\\\\\n",
       "\tnum.of.cylindersthree\\_four & -0.235638247 & 0.12714652   & -1.85328114  & 6.604144e-02\\\\\n",
       "\\end{tabular}\n"
      ],
      "text/markdown": [
       "\n",
       "| <!--/--> | Estimate | Std. Error | t value | Pr(>|t|) | \n",
       "|---|---|---|---|---|---|---|---|---|---|---|---|---|\n",
       "| (Intercept) |  9.838118246 | 0.17689877   | 55.61439496  | 1.877120e-94 | \n",
       "| curb.weight |  0.186412296 | 0.04507548   |  4.13555920  | 6.212131e-05 | \n",
       "| horsepower |  0.123147071 | 0.03872793   |  3.17980023  | 1.830948e-03 | \n",
       "| city.mpg | -0.100148774 | 0.03722663   | -2.69024555  | 8.048728e-03 | \n",
       "| fuel.typegas | -0.212743286 | 0.08775702   | -2.42423105  | 1.667438e-02 | \n",
       "| aspirationturbo | -0.009604352 | 0.05277158   | -0.18199857  | 8.558589e-01 | \n",
       "| body.stylehatchback | -0.147475507 | 0.06416581   | -2.29835010  | 2.309004e-02 | \n",
       "| body.stylesedan | -0.069378678 | 0.06124729   | -1.13276317  | 2.593365e-01 | \n",
       "| body.stylewagon | -0.151977319 | 0.07726665   | -1.96692003  | 5.125848e-02 | \n",
       "| drive.wheelsfwd | -0.007944480 | 0.11076764   | -0.07172203  | 9.429301e-01 | \n",
       "| drive.wheelsrwd |  0.111904825 | 0.11872312   |  0.94256976  | 3.475973e-01 | \n",
       "| num.of.cylindersfive_six | -0.087640782 | 0.10834856   | -0.80887816  | 4.200191e-01 | \n",
       "| num.of.cylindersthree_four | -0.235638247 | 0.12714652   | -1.85328114  | 6.604144e-02 | \n",
       "\n",
       "\n"
      ],
      "text/plain": [
       "                           Estimate     Std. Error t value     Pr(>|t|)    \n",
       "(Intercept)                 9.838118246 0.17689877 55.61439496 1.877120e-94\n",
       "curb.weight                 0.186412296 0.04507548  4.13555920 6.212131e-05\n",
       "horsepower                  0.123147071 0.03872793  3.17980023 1.830948e-03\n",
       "city.mpg                   -0.100148774 0.03722663 -2.69024555 8.048728e-03\n",
       "fuel.typegas               -0.212743286 0.08775702 -2.42423105 1.667438e-02\n",
       "aspirationturbo            -0.009604352 0.05277158 -0.18199857 8.558589e-01\n",
       "body.stylehatchback        -0.147475507 0.06416581 -2.29835010 2.309004e-02\n",
       "body.stylesedan            -0.069378678 0.06124729 -1.13276317 2.593365e-01\n",
       "body.stylewagon            -0.151977319 0.07726665 -1.96692003 5.125848e-02\n",
       "drive.wheelsfwd            -0.007944480 0.11076764 -0.07172203 9.429301e-01\n",
       "drive.wheelsrwd             0.111904825 0.11872312  0.94256976 3.475973e-01\n",
       "num.of.cylindersfive_six   -0.087640782 0.10834856 -0.80887816 4.200191e-01\n",
       "num.of.cylindersthree_four -0.235638247 0.12714652 -1.85328114 6.604144e-02"
      ]
     },
     "metadata": {},
     "output_type": "display_data"
    }
   ],
   "source": [
    "summary(lin_mod)$coefficients"
   ]
  },
  {
   "cell_type": "markdown",
   "metadata": {},
   "source": [
    "You can interpret these coefficients as follows:\n",
    "1. The intercept is the mean of the (log) price with respect to the (scaled) features. \n",
    "2. The coefficients numeric features are the change in the (log) price for a unit change in the (scaled) feature.\n",
    "3. The coefficients of the categorical features are a bit harder to understand. R uses a technique known at the **method of contrasts**. The intercept is computed using one, arbitrarily chosen, category. The coefficients for other categories are the differences, or contrasts, with the intercept term for each category. "
   ]
  },
  {
   "cell_type": "markdown",
   "metadata": {},
   "source": [
    "## Evaluate the model\n",
    "\n",
    "You will now use the test dataset to evaluate the performance of the regression model. As a first step, execute the code in the cell below to compute and display various performance metrics and examine the results. "
   ]
  },
  {
   "cell_type": "code",
   "execution_count": 20,
   "metadata": {},
   "outputs": [
    {
     "name": "stdout",
     "output_type": "stream",
     "text": [
      "Mean Square Error      =  0.0197 \n",
      "Root Mean Square Error =  0.1403 \n",
      "Mean Absolute Error    =  0.105 \n",
      "Median Absolute Error  =  0.0751 \n",
      "R^2                    =  0.8877 \n",
      "Adjusted R^2           =  0.8776 \n"
     ]
    }
   ],
   "source": [
    "print_metrics = function(lin_mod, df, score, label){\n",
    "    resids = df[,label] - score\n",
    "    resids2 = resids**2\n",
    "    N = length(score)\n",
    "    r2 = as.character(round(summary(lin_mod)$r.squared, 4))\n",
    "    adj_r2 = as.character(round(summary(lin_mod)$adj.r.squared, 4))\n",
    "    cat(paste('Mean Square Error      = ', as.character(round(sum(resids2)/N, 4)), '\\n'))\n",
    "    cat(paste('Root Mean Square Error = ', as.character(round(sqrt(sum(resids2)/N), 4)), '\\n'))\n",
    "    cat(paste('Mean Absolute Error    = ', as.character(round(sum(abs(resids))/N, 4)), '\\n'))\n",
    "    cat(paste('Median Absolute Error  = ', as.character(round(median(abs(resids)), 4)), '\\n'))\n",
    "    cat(paste('R^2                    = ', r2, '\\n'))\n",
    "    cat(paste('Adjusted R^2           = ', adj_r2, '\\n'))\n",
    "}\n",
    "\n",
    "score = predict(lin_mod, newdata = test)\n",
    "print_metrics(lin_mod, test, score, label = 'log_price')      "
   ]
  },
  {
   "cell_type": "markdown",
   "metadata": {},
   "source": [
    "At first glance, these metrics look promising. The RMSE, MAE and median absolute error are all small and in a similar range. However, notice that the $R^2$ and $R^2_{adj}$ are somewhat different. This model has a large number of parameters compared to the number of cases available. This result indicates that the model may be over-fit and might not generalize well. \n",
    "\n",
    "To continue the evaluation of the model performance, execute the code in the cell below to display a histogram of the residuals. "
   ]
  },
  {
   "cell_type": "code",
   "execution_count": 21,
   "metadata": {
    "scrolled": false
   },
   "outputs": [
    {
     "data": {},
     "metadata": {},
     "output_type": "display_data"
    },
    {
     "data": {
      "image/png": "[encoded data removed]",
      "text/plain": [
       "plot without title"
      ]
     },
     "metadata": {},
     "output_type": "display_data"
    }
   ],
   "source": [
    "hist_resids = function(df, score, label, bins = 10){\n",
    "    options(repr.plot.width=4, repr.plot.height=3) # Set the initial plot area dimensions\n",
    "    df$resids = df[,label] - score\n",
    "    bw = (max(df$resids) - min(df$resids))/(bins + 1)\n",
    "    ggplot(df, aes(resids)) + \n",
    "       geom_histogram(binwidth = bw, aes(y=..density..), alpha = 0.5) +\n",
    "       geom_density(aes(y=..density..), color = 'blue') +\n",
    "       xlab('Residual value') + ggtitle('Histogram of residuals')\n",
    "}\n",
    "\n",
    "hist_resids(test, score, label = 'log_price')   "
   ]
  },
  {
   "cell_type": "markdown",
   "metadata": {},
   "source": [
    "This histogram shows that the residuals are in a small range. However, there is some noticeable skew in the distribution, including an outlier. \n",
    "\n",
    "Next, execute the code in the cell below to display the Q-Q Normal plot. "
   ]
  },
  {
   "cell_type": "code",
   "execution_count": 22,
   "metadata": {},
   "outputs": [
    {
     "data": {},
     "metadata": {},
     "output_type": "display_data"
    },
    {
     "data": {
      "image/png": "[encoded data removed]",
      "text/plain": [
       "plot without title"
      ]
     },
     "metadata": {},
     "output_type": "display_data"
    }
   ],
   "source": [
    "resids_qq = function(df, score, label){\n",
    "    options(repr.plot.width=4, repr.plot.height=3.5) # Set the initial plot area dimensions\n",
    "    df$resids = df[,label] - score\n",
    "    ggplot() + \n",
    "    geom_qq(data = df, aes(sample = resids)) + \n",
    "    ylab('Quantiles of residuals') + xlab('Quantiles of standard Normal') +\n",
    "    ggtitle('QQ plot of residual values')\n",
    "}\n",
    "\n",
    "resids_qq(test, score, label = 'log_price') "
   ]
  },
  {
   "cell_type": "markdown",
   "metadata": {},
   "source": [
    "As with the histogram, the Q-Q Normal plot indicates the residuals are close to Normally distributed, show some skew (deviation from the stright line). This is particularly for large positive residuls. \n",
    "\n",
    "There is one more diagnostic plot. Execute the code in the cell below to dislplay the plot of residuals vs. predicted values. "
   ]
  },
  {
   "cell_type": "code",
   "execution_count": 23,
   "metadata": {},
   "outputs": [
    {
     "data": {},
     "metadata": {},
     "output_type": "display_data"
    },
    {
     "data": {
      "image/png": "[encoded data removed]",
      "text/plain": [
       "plot without title"
      ]
     },
     "metadata": {},
     "output_type": "display_data"
    }
   ],
   "source": [
    "resid_plot = function(df, score, label){\n",
    "    df$score = score\n",
    "    df$resids = df[,label] - score\n",
    "    ggplot(df, aes(score, resids)) + \n",
    "    geom_point() + \n",
    "    ggtitle('Residuals vs. Predicted Values') +\n",
    "    xlab('Predicted values') + ylab('Residuals')\n",
    "}\n",
    "\n",
    "resid_plot(test, score, label = 'log_price')"
   ]
  },
  {
   "cell_type": "markdown",
   "metadata": {},
   "source": [
    "This plot looks reasonable. The residual values appear to have a fairly constant dispursion as the predicted value changes. A few large residuals are noticable, particularly on the positive side.\n",
    "\n",
    "But, wait! This residual plot is for the log of the auto price. What does the plot look like when transformed to real prices? Execute the code in the cell below to find out. "
   ]
  },
  {
   "cell_type": "code",
   "execution_count": 24,
   "metadata": {},
   "outputs": [
    {
     "data": {},
     "metadata": {},
     "output_type": "display_data"
    },
    {
     "data": {
      "image/png": "[encoded data removed]",
      "text/plain": [
       "plot without title"
      ]
     },
     "metadata": {},
     "output_type": "display_data"
    }
   ],
   "source": [
    "score_untransform = exp(score)\n",
    "resid_plot(test, score_untransform, label = 'price')"
   ]
  },
  {
   "cell_type": "markdown",
   "metadata": {},
   "source": [
    "Notice that the untransformed residuals show a definite trend. The dispursion of the residuals has a cone-like pattern increasing to the right. The regression model seems to do a good job of predicting the price of low cost cars, but becomes progressively worse as the price of the car increases. "
   ]
  },
  {
   "cell_type": "markdown",
   "metadata": {},
   "source": [
    "## Summary\n",
    "\n",
    "In this lesson you have done the following in the process of constructing and evaluating a multiple linear regression model:   \n",
    "1. Transformed the label value to make it more symmetric and closer to a Normal distribution.\n",
    "2. Aggregated categories of a categorical variable to improve the statistical representation. \n",
    "3. Scaled the numeric features. \n",
    "4. Recoded the categorical features as binary dummy variables. \n",
    "5. Fit the linear regression model using the `lm` function. \n",
    "6. Evaluated the performance of the model using both numeric and graphical methods. \n",
    "\n",
    "It is clear from the outcome of the performance evaluation that this model needs to be improved. As it is, the model shows poor generalizatiion. "
   ]
  },
  {
   "cell_type": "code",
   "execution_count": null,
   "metadata": {},
   "outputs": [],
   "source": []
  }
 ],
 "metadata": {
  "anaconda-cloud": {},
  "kernelspec": {
   "display_name": "R",
   "language": "R",
   "name": "ir"
  },
  "language_info": {
   "codemirror_mode": "r",
   "file_extension": ".r",
   "mimetype": "text/x-r-source",
   "name": "R",
   "pygments_lexer": "r",
   "version": "3.4.1"
  }
 },
 "nbformat": 4,
 "nbformat_minor": 1
}
