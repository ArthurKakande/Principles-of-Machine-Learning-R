{
 "cells": [
  {
   "cell_type": "markdown",
   "metadata": {},
   "source": [
    "# Applications of Classification\n",
    "\n",
    "In this lab you will perform **two-class classification** using **logistic regression**. A classifier is a machine learning model that seperates the **label** into categories or **classes**. In other words, classification models are **supervised** machine learning modeles which predict a categorical label\n",
    "\n",
    "In this case, bank customer data is used to determine if a particular person is a good or bad credit risk. Thus, credit risk of the customer is the classes you must predict. In this case, the cost to the bank of issuing a loan to a bad risk customer is five times that of denying a loan to a good customer. This fact will become important when evaluating the performance of the model. \n",
    "\n",
    "Logistic regression is a linear model but with a nonlinear response. The response is binary, $\\{ 0,1 \\}$, or positive and negative. The response is the prediction of the category. \n",
    "\n",
    "In this lab you will learn the following: \n",
    "-  How to prepare data for classification models using Scikit-learn. \n",
    "-  Constructing a classification model using Scikit-learn.\n",
    "-  Evaluating the performance of the classification model. \n",
    "-  Using techniques such as reweighting the labels and changing the decision threshold to change the trade-off between false positive and false negative error rates. "
   ]
  },
  {
   "cell_type": "markdown",
   "metadata": {},
   "source": [
    "## Basics of logistic regression\n",
    "\n",
    "In this section some basic properties of the logistic regression model are presented. \n",
    "\n",
    "First, execute the code in the cell below to load the packages required  to run this notebook. "
   ]
  },
  {
   "cell_type": "code",
   "execution_count": 47,
   "metadata": {},
   "outputs": [],
   "source": [
    "## Import packages\n",
    "library(ggplot2)\n",
    "library(repr)\n",
    "library(dplyr)\n",
    "library(caret)\n",
    "\n",
    "options(repr.plot.width=4, repr.plot.height=4) # Set the initial plot area dimensions"
   ]
  },
  {
   "cell_type": "markdown",
   "metadata": {},
   "source": [
    "Logistic regression is widely used as a classification model. Logistic regression is linear model, with a binary response, `{False, True}` or `{0, 1}`. You can think of this response as having a Binomial distribution. For linear regression the response is just, well, linear. Logistic regression is a linear regression model with a nonlinear output. The response of the linear model is transformed or 'squashed' to values close to 0 and 1 using a **sigmoidal function**, also known as the **logistic function**. The result of this transformation is a response which is the log likelihood for each of the two classes. \n",
    "\n",
    "The sigmodial or logistic function can be expressed as follows:\n",
    "\n",
    "$$f(x) = \\frac{1}{1 + e^{-\\kappa(x - x_0)}} \\\\\n",
    "\\kappa = steepness$$\n",
    "\n",
    "Execute the code in the cell below to compute and plot an example of the logistic function."
   ]
  },
  {
   "cell_type": "code",
   "execution_count": 48,
   "metadata": {
    "scrolled": false
   },
   "outputs": [
    {
     "data": {},
     "metadata": {},
     "output_type": "display_data"
    },
    {
     "data": {
      "image/png": "[encoded data removed]",
      "text/plain": [
       "plot without title"
      ]
     },
     "metadata": {},
     "output_type": "display_data"
    }
   ],
   "source": [
    "xseq = seq(-7, 7, length.out = 500)\n",
    "plot.logistic = function(v){\n",
    "  options(repr.plot.width=6, repr.plot.height=4)\n",
    "  logistic = exp(xseq - v)/(1 + exp(xseq - v))\n",
    "  df = data.frame(x = xseq, y = logistic)\n",
    "  ggplot(df, aes(x,y)) +\n",
    "    geom_line(size = 1, color = 'red') +\n",
    "    geom_vline(xintercept = v, size = 1, color = 'black') +\n",
    "    geom_hline(yintercept = 0.5, size = 1, color = 'black') +\n",
    "    ylab('log likelihood') + xlab('Value of x') +\n",
    "    ggtitle('Logistic function for \\n two-class classification') +\n",
    "    theme_grey(base_size = 18)\n",
    "}\n",
    "plot.logistic(0)"
   ]
  },
  {
   "cell_type": "markdown",
   "metadata": {},
   "source": [
    "Let's make this a bit more concrete with a simple example. Say we have a linear model:\n",
    "\n",
    "$$\\hat{y} = \\beta_0 + \\beta_1\\ x$$\n",
    "\n",
    "Now, depending on the value of $\\hat{y}$ we want to classify the output from a logistic regression model as either `0` or `1`. Substituting the linear model into the logistic function creates the following expression:\n",
    "\n",
    "$$F(\\hat{y}) = \\frac{1}{1 + e^{-\\kappa(\\beta_0 + \\beta_1\\ x)}} $$\n",
    "\n",
    "In this way we transform the continuious output of the linear model defined on $-\\infty \\le \\hat{y} \\le \\infty$ to a binary response, $0 \\le F(\\hat{y}) \\le 1$."
   ]
  },
  {
   "cell_type": "markdown",
   "metadata": {},
   "source": [
    "## Load and prepare the data set\n",
    "\n",
    "As a first step, load the dataset. The code in the cell below loads the dataset and displays the head of the data frame. Execute this code and examine the result."
   ]
  },
  {
   "cell_type": "code",
   "execution_count": 49,
   "metadata": {},
   "outputs": [
    {
     "data": {
      "text/html": [
       "<ol class=list-inline>\n",
       "\t<li>999</li>\n",
       "\t<li>23</li>\n",
       "</ol>\n"
      ],
      "text/latex": [
       "\\begin{enumerate*}\n",
       "\\item 999\n",
       "\\item 23\n",
       "\\end{enumerate*}\n"
      ],
      "text/markdown": [
       "1. 999\n",
       "2. 23\n",
       "\n",
       "\n"
      ],
      "text/plain": [
       "[1] 999  23"
      ]
     },
     "metadata": {},
     "output_type": "display_data"
    },
    {
     "data": {
      "text/html": [
       "<table>\n",
       "<thead><tr><th scope=col>X</th><th scope=col>Customer_ID</th><th scope=col>checking_account_status</th><th scope=col>loan_duration_mo</th><th scope=col>credit_history</th><th scope=col>purpose</th><th scope=col>loan_amount</th><th scope=col>savings_account_balance</th><th scope=col>time_employed_yrs</th><th scope=col>payment_pcnt_income</th><th scope=col>...</th><th scope=col>property</th><th scope=col>age_yrs</th><th scope=col>other_credit_outstanding</th><th scope=col>home_ownership</th><th scope=col>number_loans</th><th scope=col>job_category</th><th scope=col>dependents</th><th scope=col>telephone</th><th scope=col>foreign_worker</th><th scope=col>bad_credit</th></tr></thead>\n",
       "<tbody>\n",
       "\t<tr><td>1                                                                              </td><td>6156361                                                                        </td><td>0 - 200 DM                                                                     </td><td>48                                                                             </td><td><span style=white-space:pre-wrap>current loans paid                     </span></td><td><span style=white-space:pre-wrap>radio/television   </span>                    </td><td>5951                                                                           </td><td><span style=white-space:pre-wrap>&lt; 100 DM     </span>                       </td><td>1 - 4 years                                                                    </td><td>2                                                                              </td><td>...                                                                            </td><td><span style=white-space:pre-wrap>real estate                            </span></td><td>22                                                                             </td><td>none                                                                           </td><td><span style=white-space:pre-wrap>own     </span>                               </td><td>1                                                                              </td><td><span style=white-space:pre-wrap>skilled           </span>                     </td><td>1                                                                              </td><td>none                                                                           </td><td>yes                                                                            </td><td>1                                                                              </td></tr>\n",
       "\t<tr><td>2                                                                              </td><td>2051359                                                                        </td><td><span style=white-space:pre-wrap>none      </span>                             </td><td>12                                                                             </td><td>critical account - other non-bank loans                                        </td><td><span style=white-space:pre-wrap>education          </span>                    </td><td>2096                                                                           </td><td><span style=white-space:pre-wrap>&lt; 100 DM     </span>                       </td><td>4 - 7 years                                                                    </td><td>2                                                                              </td><td>...                                                                            </td><td><span style=white-space:pre-wrap>real estate                            </span></td><td>49                                                                             </td><td>none                                                                           </td><td><span style=white-space:pre-wrap>own     </span>                               </td><td>1                                                                              </td><td>unskilled-resident                                                             </td><td>2                                                                              </td><td>none                                                                           </td><td>yes                                                                            </td><td>0                                                                              </td></tr>\n",
       "\t<tr><td>3                                                                              </td><td>8740590                                                                        </td><td><span style=white-space:pre-wrap>&lt; 0 DM    </span>                          </td><td>42                                                                             </td><td><span style=white-space:pre-wrap>current loans paid                     </span></td><td>furniture/equipment                                                            </td><td>7882                                                                           </td><td><span style=white-space:pre-wrap>&lt; 100 DM     </span>                       </td><td>4 - 7 years                                                                    </td><td>2                                                                              </td><td>...                                                                            </td><td>building society savings/life insurance                                        </td><td>45                                                                             </td><td>none                                                                           </td><td>for free                                                                       </td><td>1                                                                              </td><td><span style=white-space:pre-wrap>skilled           </span>                     </td><td>2                                                                              </td><td>none                                                                           </td><td>yes                                                                            </td><td>0                                                                              </td></tr>\n",
       "\t<tr><td>4                                                                              </td><td>3924540                                                                        </td><td><span style=white-space:pre-wrap>&lt; 0 DM    </span>                          </td><td>24                                                                             </td><td><span style=white-space:pre-wrap>past payment delays                    </span></td><td><span style=white-space:pre-wrap>car (new)          </span>                    </td><td>4870                                                                           </td><td><span style=white-space:pre-wrap>&lt; 100 DM     </span>                       </td><td>1 - 4 years                                                                    </td><td>3                                                                              </td><td>...                                                                            </td><td><span style=white-space:pre-wrap>unknown-none                           </span></td><td>53                                                                             </td><td>none                                                                           </td><td>for free                                                                       </td><td>2                                                                              </td><td><span style=white-space:pre-wrap>skilled           </span>                     </td><td>2                                                                              </td><td>none                                                                           </td><td>yes                                                                            </td><td>1                                                                              </td></tr>\n",
       "\t<tr><td>5                                      </td><td>3115687                                </td><td>none                                   </td><td>36                                     </td><td>current loans paid                     </td><td>education                              </td><td>9055                                   </td><td>unknown/none                           </td><td>1 - 4 years                            </td><td>2                                      </td><td>...                                    </td><td>unknown-none                           </td><td>35                                     </td><td>none                                   </td><td>for free                               </td><td>1                                      </td><td>unskilled-resident                     </td><td>2                                      </td><td>yes                                    </td><td>yes                                    </td><td>0                                      </td></tr>\n",
       "\t<tr><td>6                                                                              </td><td>8251714                                                                        </td><td><span style=white-space:pre-wrap>none      </span>                             </td><td>24                                                                             </td><td><span style=white-space:pre-wrap>current loans paid                     </span></td><td>furniture/equipment                                                            </td><td>2835                                                                           </td><td>500 - 1000 DM                                                                  </td><td>&gt;= 7 years                                                                  </td><td>3                                                                              </td><td>...                                                                            </td><td>building society savings/life insurance                                        </td><td>53                                                                             </td><td>none                                                                           </td><td><span style=white-space:pre-wrap>own     </span>                               </td><td>1                                                                              </td><td><span style=white-space:pre-wrap>skilled           </span>                     </td><td>1                                                                              </td><td>none                                                                           </td><td>yes                                                                            </td><td>0                                                                              </td></tr>\n",
       "</tbody>\n",
       "</table>\n"
      ],
      "text/latex": [
       "\\begin{tabular}{r|lllllllllllllllllllllll}\n",
       " X & Customer\\_ID & checking\\_account\\_status & loan\\_duration\\_mo & credit\\_history & purpose & loan\\_amount & savings\\_account\\_balance & time\\_employed\\_yrs & payment\\_pcnt\\_income & ... & property & age\\_yrs & other\\_credit\\_outstanding & home\\_ownership & number\\_loans & job\\_category & dependents & telephone & foreign\\_worker & bad\\_credit\\\\\n",
       "\\hline\n",
       "\t 1                                       & 6156361                                 & 0 - 200 DM                              & 48                                      & current loans paid                      & radio/television                        & 5951                                    & < 100 DM                                & 1 - 4 years                             & 2                                       & ...                                     & real estate                             & 22                                      & none                                    & own                                     & 1                                       & skilled                                 & 1                                       & none                                    & yes                                     & 1                                      \\\\\n",
       "\t 2                                       & 2051359                                 & none                                    & 12                                      & critical account - other non-bank loans & education                               & 2096                                    & < 100 DM                                & 4 - 7 years                             & 2                                       & ...                                     & real estate                             & 49                                      & none                                    & own                                     & 1                                       & unskilled-resident                      & 2                                       & none                                    & yes                                     & 0                                      \\\\\n",
       "\t 3                                       & 8740590                                 & < 0 DM                                  & 42                                      & current loans paid                      & furniture/equipment                     & 7882                                    & < 100 DM                                & 4 - 7 years                             & 2                                       & ...                                     & building society savings/life insurance & 45                                      & none                                    & for free                                & 1                                       & skilled                                 & 2                                       & none                                    & yes                                     & 0                                      \\\\\n",
       "\t 4                                       & 3924540                                 & < 0 DM                                  & 24                                      & past payment delays                     & car (new)                               & 4870                                    & < 100 DM                                & 1 - 4 years                             & 3                                       & ...                                     & unknown-none                            & 53                                      & none                                    & for free                                & 2                                       & skilled                                 & 2                                       & none                                    & yes                                     & 1                                      \\\\\n",
       "\t 5                                       & 3115687                                 & none                                    & 36                                      & current loans paid                      & education                               & 9055                                    & unknown/none                            & 1 - 4 years                             & 2                                       & ...                                     & unknown-none                            & 35                                      & none                                    & for free                                & 1                                       & unskilled-resident                      & 2                                       & yes                                     & yes                                     & 0                                      \\\\\n",
       "\t 6                                       & 8251714                                 & none                                    & 24                                      & current loans paid                      & furniture/equipment                     & 2835                                    & 500 - 1000 DM                           & >= 7 years                              & 3                                       & ...                                     & building society savings/life insurance & 53                                      & none                                    & own                                     & 1                                       & skilled                                 & 1                                       & none                                    & yes                                     & 0                                      \\\\\n",
       "\\end{tabular}\n"
      ],
      "text/markdown": [
       "\n",
       "X | Customer_ID | checking_account_status | loan_duration_mo | credit_history | purpose | loan_amount | savings_account_balance | time_employed_yrs | payment_pcnt_income | ... | property | age_yrs | other_credit_outstanding | home_ownership | number_loans | job_category | dependents | telephone | foreign_worker | bad_credit | \n",
       "|---|---|---|---|---|---|\n",
       "| 1                                       | 6156361                                 | 0 - 200 DM                              | 48                                      | current loans paid                      | radio/television                        | 5951                                    | < 100 DM                                | 1 - 4 years                             | 2                                       | ...                                     | real estate                             | 22                                      | none                                    | own                                     | 1                                       | skilled                                 | 1                                       | none                                    | yes                                     | 1                                       | \n",
       "| 2                                       | 2051359                                 | none                                    | 12                                      | critical account - other non-bank loans | education                               | 2096                                    | < 100 DM                                | 4 - 7 years                             | 2                                       | ...                                     | real estate                             | 49                                      | none                                    | own                                     | 1                                       | unskilled-resident                      | 2                                       | none                                    | yes                                     | 0                                       | \n",
       "| 3                                       | 8740590                                 | < 0 DM                                  | 42                                      | current loans paid                      | furniture/equipment                     | 7882                                    | < 100 DM                                | 4 - 7 years                             | 2                                       | ...                                     | building society savings/life insurance | 45                                      | none                                    | for free                                | 1                                       | skilled                                 | 2                                       | none                                    | yes                                     | 0                                       | \n",
       "| 4                                       | 3924540                                 | < 0 DM                                  | 24                                      | past payment delays                     | car (new)                               | 4870                                    | < 100 DM                                | 1 - 4 years                             | 3                                       | ...                                     | unknown-none                            | 53                                      | none                                    | for free                                | 2                                       | skilled                                 | 2                                       | none                                    | yes                                     | 1                                       | \n",
       "| 5                                       | 3115687                                 | none                                    | 36                                      | current loans paid                      | education                               | 9055                                    | unknown/none                            | 1 - 4 years                             | 2                                       | ...                                     | unknown-none                            | 35                                      | none                                    | for free                                | 1                                       | unskilled-resident                      | 2                                       | yes                                     | yes                                     | 0                                       | \n",
       "| 6                                       | 8251714                                 | none                                    | 24                                      | current loans paid                      | furniture/equipment                     | 2835                                    | 500 - 1000 DM                           | >= 7 years                              | 3                                       | ...                                     | building society savings/life insurance | 53                                      | none                                    | own                                     | 1                                       | skilled                                 | 1                                       | none                                    | yes                                     | 0                                       | \n",
       "\n",
       "\n"
      ],
      "text/plain": [
       "  X Customer_ID checking_account_status loan_duration_mo\n",
       "1 1 6156361     0 - 200 DM              48              \n",
       "2 2 2051359     none                    12              \n",
       "3 3 8740590     < 0 DM                  42              \n",
       "4 4 3924540     < 0 DM                  24              \n",
       "5 5 3115687     none                    36              \n",
       "6 6 8251714     none                    24              \n",
       "  credit_history                          purpose             loan_amount\n",
       "1 current loans paid                      radio/television    5951       \n",
       "2 critical account - other non-bank loans education           2096       \n",
       "3 current loans paid                      furniture/equipment 7882       \n",
       "4 past payment delays                     car (new)           4870       \n",
       "5 current loans paid                      education           9055       \n",
       "6 current loans paid                      furniture/equipment 2835       \n",
       "  savings_account_balance time_employed_yrs payment_pcnt_income ...\n",
       "1 < 100 DM                1 - 4 years       2                   ...\n",
       "2 < 100 DM                4 - 7 years       2                   ...\n",
       "3 < 100 DM                4 - 7 years       2                   ...\n",
       "4 < 100 DM                1 - 4 years       3                   ...\n",
       "5 unknown/none            1 - 4 years       2                   ...\n",
       "6 500 - 1000 DM           >= 7 years        3                   ...\n",
       "  property                                age_yrs other_credit_outstanding\n",
       "1 real estate                             22      none                    \n",
       "2 real estate                             49      none                    \n",
       "3 building society savings/life insurance 45      none                    \n",
       "4 unknown-none                            53      none                    \n",
       "5 unknown-none                            35      none                    \n",
       "6 building society savings/life insurance 53      none                    \n",
       "  home_ownership number_loans job_category       dependents telephone\n",
       "1 own            1            skilled            1          none     \n",
       "2 own            1            unskilled-resident 2          none     \n",
       "3 for free       1            skilled            2          none     \n",
       "4 for free       2            skilled            2          none     \n",
       "5 for free       1            unskilled-resident 2          yes      \n",
       "6 own            1            skilled            1          none     \n",
       "  foreign_worker bad_credit\n",
       "1 yes            1         \n",
       "2 yes            0         \n",
       "3 yes            0         \n",
       "4 yes            1         \n",
       "5 yes            0         \n",
       "6 yes            0         "
      ]
     },
     "metadata": {},
     "output_type": "display_data"
    }
   ],
   "source": [
    "credit = read.csv('German_Credit_Preped.csv')\n",
    "dim(credit)\n",
    "head(credit)"
   ]
  },
  {
   "cell_type": "markdown",
   "metadata": {},
   "source": [
    "There are 21 features, the customer ID, plus a label column. These features represent information a bank might have on its customers. "
   ]
  },
  {
   "cell_type": "markdown",
   "metadata": {},
   "source": [
    "The categorical features now have meaningful coding. Additionally the label is now coded as a binary variable. \n",
    "\n",
    "## Investigate label imbalance\n",
    "\n",
    "There is one other aspect of this data set which you should be aware of. The label has significant **class imbalance**. Class imbalance means that there are  unequal numbers of cases for the categories of the label. \n",
    "\n",
    "To examine the class imbalance in these data, execute the code in the cell below. "
   ]
  },
  {
   "cell_type": "code",
   "execution_count": 50,
   "metadata": {},
   "outputs": [
    {
     "data": {
      "text/plain": [
       "\n",
       "  0   1 \n",
       "699 300 "
      ]
     },
     "metadata": {},
     "output_type": "display_data"
    }
   ],
   "source": [
    "table(credit[,'bad_credit'])"
   ]
  },
  {
   "cell_type": "markdown",
   "metadata": {},
   "source": [
    "Notice that only 30% of the cases have bad credit. This is not suprising, since a bank would typically retain customers with good credit. However, this imbalance will bias the training of any model. "
   ]
  },
  {
   "cell_type": "markdown",
   "metadata": {},
   "source": [
    "## Split the data\n",
    "\n",
    "You must now create randomly sampled training and test data sets. The `createDataPartition` function from the R caret package is used  to create indices for the training data sample. In this case 70% of the data will be used  for training the model. Execute this code and note the dimensions of the resulting data frame. "
   ]
  },
  {
   "cell_type": "code",
   "execution_count": 51,
   "metadata": {},
   "outputs": [
    {
     "data": {
      "text/html": [
       "<ol class=list-inline>\n",
       "\t<li>701</li>\n",
       "\t<li>23</li>\n",
       "</ol>\n"
      ],
      "text/latex": [
       "\\begin{enumerate*}\n",
       "\\item 701\n",
       "\\item 23\n",
       "\\end{enumerate*}\n"
      ],
      "text/markdown": [
       "1. 701\n",
       "2. 23\n",
       "\n",
       "\n"
      ],
      "text/plain": [
       "[1] 701  23"
      ]
     },
     "metadata": {},
     "output_type": "display_data"
    },
    {
     "data": {
      "text/html": [
       "<ol class=list-inline>\n",
       "\t<li>298</li>\n",
       "\t<li>23</li>\n",
       "</ol>\n"
      ],
      "text/latex": [
       "\\begin{enumerate*}\n",
       "\\item 298\n",
       "\\item 23\n",
       "\\end{enumerate*}\n"
      ],
      "text/markdown": [
       "1. 298\n",
       "2. 23\n",
       "\n",
       "\n"
      ],
      "text/plain": [
       "[1] 298  23"
      ]
     },
     "metadata": {},
     "output_type": "display_data"
    }
   ],
   "source": [
    "set.seed(1955)\n",
    "## Randomly sample cases to create independent training and test data\n",
    "partition = createDataPartition(credit[,'credit_history'], times = 1, p = 0.7, list = FALSE)\n",
    "training = credit[partition,] # Create the training sample\n",
    "dim(training)\n",
    "test = credit[-partition,] # Create the test sample\n",
    "dim(test)"
   ]
  },
  {
   "cell_type": "markdown",
   "metadata": {},
   "source": [
    "## Scale numeric features\n",
    "\n"
   ]
  },
  {
   "cell_type": "code",
   "execution_count": 52,
   "metadata": {},
   "outputs": [
    {
     "data": {
      "text/html": [
       "<table>\n",
       "<thead><tr><th></th><th scope=col>loan_duration_mo</th><th scope=col>loan_amount</th><th scope=col>payment_pcnt_income</th><th scope=col>age_yrs</th></tr></thead>\n",
       "<tbody>\n",
       "\t<tr><th scope=row>1</th><td> 2.2080823 </td><td> 0.9731062 </td><td>-0.88582584</td><td>-1.17991811</td></tr>\n",
       "\t<tr><th scope=row>4</th><td> 0.2337638 </td><td> 0.5805881 </td><td> 0.01542803</td><td> 1.56006911</td></tr>\n",
       "\t<tr><th scope=row>6</th><td> 0.2337638 </td><td>-0.1583336 </td><td> 0.01542803</td><td> 1.56006911</td></tr>\n",
       "\t<tr><th scope=row>7</th><td> 1.2209231 </td><td> 1.3351234 </td><td>-0.88582584</td><td>-0.03089121</td></tr>\n",
       "\t<tr><th scope=row>9</th><td> 0.7273434 </td><td> 0.7127589 </td><td> 0.91668189</td><td>-0.64959800</td></tr>\n",
       "\t<tr><th scope=row>10</th><td>-0.7533954 </td><td>-0.7175176 </td><td> 0.01542803</td><td>-0.91475805</td></tr>\n",
       "</tbody>\n",
       "</table>\n"
      ],
      "text/latex": [
       "\\begin{tabular}{r|llll}\n",
       "  & loan\\_duration\\_mo & loan\\_amount & payment\\_pcnt\\_income & age\\_yrs\\\\\n",
       "\\hline\n",
       "\t1 &  2.2080823  &  0.9731062  & -0.88582584 & -1.17991811\\\\\n",
       "\t4 &  0.2337638  &  0.5805881  &  0.01542803 &  1.56006911\\\\\n",
       "\t6 &  0.2337638  & -0.1583336  &  0.01542803 &  1.56006911\\\\\n",
       "\t7 &  1.2209231  &  1.3351234  & -0.88582584 & -0.03089121\\\\\n",
       "\t9 &  0.7273434  &  0.7127589  &  0.91668189 & -0.64959800\\\\\n",
       "\t10 & -0.7533954  & -0.7175176  &  0.01542803 & -0.91475805\\\\\n",
       "\\end{tabular}\n"
      ],
      "text/markdown": [
       "\n",
       "| <!--/--> | loan_duration_mo | loan_amount | payment_pcnt_income | age_yrs | \n",
       "|---|---|---|---|---|---|\n",
       "| 1 |  2.2080823  |  0.9731062  | -0.88582584 | -1.17991811 | \n",
       "| 4 |  0.2337638  |  0.5805881  |  0.01542803 |  1.56006911 | \n",
       "| 6 |  0.2337638  | -0.1583336  |  0.01542803 |  1.56006911 | \n",
       "| 7 |  1.2209231  |  1.3351234  | -0.88582584 | -0.03089121 | \n",
       "| 9 |  0.7273434  |  0.7127589  |  0.91668189 | -0.64959800 | \n",
       "| 10 | -0.7533954  | -0.7175176  |  0.01542803 | -0.91475805 | \n",
       "\n",
       "\n"
      ],
      "text/plain": [
       "   loan_duration_mo loan_amount payment_pcnt_income age_yrs    \n",
       "1   2.2080823        0.9731062  -0.88582584         -1.17991811\n",
       "4   0.2337638        0.5805881   0.01542803          1.56006911\n",
       "6   0.2337638       -0.1583336   0.01542803          1.56006911\n",
       "7   1.2209231        1.3351234  -0.88582584         -0.03089121\n",
       "9   0.7273434        0.7127589   0.91668189         -0.64959800\n",
       "10 -0.7533954       -0.7175176   0.01542803         -0.91475805"
      ]
     },
     "metadata": {},
     "output_type": "display_data"
    }
   ],
   "source": [
    "num_cols = c('loan_duration_mo', 'loan_amount', 'payment_pcnt_income', 'age_yrs')\n",
    "preProcValues <- preProcess(training[,num_cols], method = c(\"center\", \"scale\"))\n",
    "\n",
    "training[,num_cols] = predict(preProcValues, training[,num_cols])\n",
    "test[,num_cols] = predict(preProcValues, test[,num_cols])\n",
    "head(training[,num_cols])"
   ]
  },
  {
   "cell_type": "markdown",
   "metadata": {},
   "source": [
    "## Construct the logistic regression model\n",
    "\n",
    "Now, it is time to compute the logistic regression model. The code in the cell below does the following:\n",
    "1. Define a logistic regression model object using the `LogisticRegression` method from the Scikit-Learn `linear_model` package.\n",
    "2. Fit the linear model using the numpy arrays of the features and the labels for the training data set.\n",
    "\n",
    "Execute this code. "
   ]
  },
  {
   "cell_type": "code",
   "execution_count": 53,
   "metadata": {},
   "outputs": [],
   "source": [
    "logistic_mod = glm(bad_credit ~ loan_duration_mo + loan_amount +  \n",
    "                                 payment_pcnt_income + age_yrs + \n",
    "                                 checking_account_status + credit_history + \n",
    "                                 purpose + gender_status + time_in_residence +\n",
    "                                 property, \n",
    "                    family = binomial, data = training)"
   ]
  },
  {
   "cell_type": "markdown",
   "metadata": {},
   "source": [
    "The model has been computed. Notice that the configuration of the model object has been printed. In this case, only default settings are shown, since no arguments were given to create the model object. \n",
    "\n",
    "Now, print and examine the model coeffients by executing the code in the cell below. "
   ]
  },
  {
   "cell_type": "code",
   "execution_count": 54,
   "metadata": {},
   "outputs": [
    {
     "data": {
      "text/plain": [
       "\n",
       "Call:\n",
       "glm(formula = bad_credit ~ loan_duration_mo + loan_amount + payment_pcnt_income + \n",
       "    age_yrs + checking_account_status + credit_history + purpose + \n",
       "    gender_status + time_in_residence + property, family = binomial, \n",
       "    data = training)\n",
       "\n",
       "Deviance Residuals: \n",
       "    Min       1Q   Median       3Q      Max  \n",
       "-2.3729  -0.7412  -0.4147   0.7794   2.4707  \n",
       "\n",
       "Coefficients:\n",
       "                                                      Estimate Std. Error\n",
       "(Intercept)                                            1.28125    0.61855\n",
       "loan_duration_mo                                       0.33821    0.12728\n",
       "loan_amount                                            0.19904    0.13491\n",
       "payment_pcnt_income                                    0.29228    0.10892\n",
       "age_yrs                                               -0.13990    0.10652\n",
       "checking_account_status> 200 DM or salary assignment  -1.00954    0.39725\n",
       "checking_account_status0 - 200 DM                     -0.56056    0.24358\n",
       "checking_account_statusnone                           -1.90483    0.25728\n",
       "credit_historycritical account - other non-bank loans -1.56458    0.45084\n",
       "credit_historycurrent loans paid                      -0.86623    0.42109\n",
       "credit_historyno credit - paid                        -0.06067    0.61172\n",
       "credit_historypast payment delays                     -0.95029    0.51511\n",
       "purposecar (new)                                       0.27518    0.36581\n",
       "purposecar (used)                                     -1.37521    0.47669\n",
       "purposedomestic appliances                             0.09786    0.82153\n",
       "purposeeducation                                       0.65388    0.52287\n",
       "purposefurniture/equipment                            -0.34216    0.39311\n",
       "purposeother                                          -0.85949    0.93375\n",
       "purposeradio/television                               -0.71457    0.37063\n",
       "purposerepairs                                         0.72314    0.63001\n",
       "purposeretraining                                     -1.43247    1.22750\n",
       "gender_statusmale-divorced/separated                   0.39540    0.43936\n",
       "gender_statusmale-married/widowed                     -0.33537    0.38335\n",
       "gender_statusmale-single                              -0.57865    0.22411\n",
       "time_in_residence                                      0.04167    0.09113\n",
       "propertycar or other                                   0.34254    0.26733\n",
       "propertyreal estate                                   -0.15851    0.29236\n",
       "propertyunknown-none                                   0.51976    0.32937\n",
       "                                                      z value Pr(>|z|)    \n",
       "(Intercept)                                             2.071  0.03832 *  \n",
       "loan_duration_mo                                        2.657  0.00788 ** \n",
       "loan_amount                                             1.475  0.14011    \n",
       "payment_pcnt_income                                     2.684  0.00728 ** \n",
       "age_yrs                                                -1.313  0.18907    \n",
       "checking_account_status> 200 DM or salary assignment   -2.541  0.01104 *  \n",
       "checking_account_status0 - 200 DM                      -2.301  0.02137 *  \n",
       "checking_account_statusnone                            -7.404 1.32e-13 ***\n",
       "credit_historycritical account - other non-bank loans  -3.470  0.00052 ***\n",
       "credit_historycurrent loans paid                       -2.057  0.03968 *  \n",
       "credit_historyno credit - paid                         -0.099  0.92100    \n",
       "credit_historypast payment delays                      -1.845  0.06506 .  \n",
       "purposecar (new)                                        0.752  0.45189    \n",
       "purposecar (used)                                      -2.885  0.00392 ** \n",
       "purposedomestic appliances                              0.119  0.90518    \n",
       "purposeeducation                                        1.251  0.21109    \n",
       "purposefurniture/equipment                             -0.870  0.38408    \n",
       "purposeother                                           -0.920  0.35732    \n",
       "purposeradio/television                                -1.928  0.05385 .  \n",
       "purposerepairs                                          1.148  0.25104    \n",
       "purposeretraining                                      -1.167  0.24322    \n",
       "gender_statusmale-divorced/separated                    0.900  0.36815    \n",
       "gender_statusmale-married/widowed                      -0.875  0.38167    \n",
       "gender_statusmale-single                               -2.582  0.00982 ** \n",
       "time_in_residence                                       0.457  0.64747    \n",
       "propertycar or other                                    1.281  0.20008    \n",
       "propertyreal estate                                    -0.542  0.58769    \n",
       "propertyunknown-none                                    1.578  0.11456    \n",
       "---\n",
       "Signif. codes:  0 '***' 0.001 '**' 0.01 '*' 0.05 '.' 0.1 ' ' 1\n",
       "\n",
       "(Dispersion parameter for binomial family taken to be 1)\n",
       "\n",
       "    Null deviance: 875.34  on 700  degrees of freedom\n",
       "Residual deviance: 671.92  on 673  degrees of freedom\n",
       "AIC: 727.92\n",
       "\n",
       "Number of Fisher Scoring iterations: 5\n"
      ]
     },
     "metadata": {},
     "output_type": "display_data"
    }
   ],
   "source": [
    "summary(logistic_mod)"
   ]
  },
  {
   "cell_type": "markdown",
   "metadata": {},
   "source": [
    "First of all, notice that model coefficients look just as they would for an regression model. This is expected as previously explained. Additionally, nearly all the coefficients have the same magnitude indicating this model is likely to be overfit, given the number of features. \n",
    "\n",
    "Recall that the logistic regression model outputs probabities for each class. The class with the highest probability is taken as the score (prediction). Execute the code and the cell below to compute and display a sample of these class probabilities for the test feature set. "
   ]
  },
  {
   "cell_type": "code",
   "execution_count": 57,
   "metadata": {},
   "outputs": [
    {
     "data": {
      "text/html": [
       "<table>\n",
       "<thead><tr><th></th><th scope=col>bad_credit</th><th scope=col>score</th></tr></thead>\n",
       "<tbody>\n",
       "\t<tr><th scope=row>2</th><td>0         </td><td>0.05147292</td></tr>\n",
       "\t<tr><th scope=row>3</th><td>0         </td><td>0.54878663</td></tr>\n",
       "\t<tr><th scope=row>5</th><td>0         </td><td>0.46213054</td></tr>\n",
       "\t<tr><th scope=row>8</th><td>0         </td><td>0.06617320</td></tr>\n",
       "\t<tr><th scope=row>14</th><td>0         </td><td>0.67371676</td></tr>\n",
       "\t<tr><th scope=row>16</th><td>0         </td><td>0.03742926</td></tr>\n",
       "\t<tr><th scope=row>18</th><td>1         </td><td>0.49877049</td></tr>\n",
       "\t<tr><th scope=row>25</th><td>0         </td><td>0.15839947</td></tr>\n",
       "\t<tr><th scope=row>27</th><td>0         </td><td>0.26585924</td></tr>\n",
       "\t<tr><th scope=row>30</th><td>0         </td><td>0.33093614</td></tr>\n",
       "\t<tr><th scope=row>33</th><td>0         </td><td>0.07727234</td></tr>\n",
       "\t<tr><th scope=row>40</th><td>0         </td><td>0.13647785</td></tr>\n",
       "\t<tr><th scope=row>41</th><td>0         </td><td>0.40904806</td></tr>\n",
       "\t<tr><th scope=row>43</th><td>0         </td><td>0.19624391</td></tr>\n",
       "\t<tr><th scope=row>47</th><td>0         </td><td>0.14101104</td></tr>\n",
       "\t<tr><th scope=row>49</th><td>0         </td><td>0.09430866</td></tr>\n",
       "\t<tr><th scope=row>54</th><td>1         </td><td>0.62032746</td></tr>\n",
       "\t<tr><th scope=row>64</th><td>0         </td><td>0.17057067</td></tr>\n",
       "\t<tr><th scope=row>66</th><td>0         </td><td>0.09168720</td></tr>\n",
       "\t<tr><th scope=row>74</th><td>1         </td><td>0.84638630</td></tr>\n",
       "</tbody>\n",
       "</table>\n"
      ],
      "text/latex": [
       "\\begin{tabular}{r|ll}\n",
       "  & bad\\_credit & score\\\\\n",
       "\\hline\n",
       "\t2 & 0          & 0.05147292\\\\\n",
       "\t3 & 0          & 0.54878663\\\\\n",
       "\t5 & 0          & 0.46213054\\\\\n",
       "\t8 & 0          & 0.06617320\\\\\n",
       "\t14 & 0          & 0.67371676\\\\\n",
       "\t16 & 0          & 0.03742926\\\\\n",
       "\t18 & 1          & 0.49877049\\\\\n",
       "\t25 & 0          & 0.15839947\\\\\n",
       "\t27 & 0          & 0.26585924\\\\\n",
       "\t30 & 0          & 0.33093614\\\\\n",
       "\t33 & 0          & 0.07727234\\\\\n",
       "\t40 & 0          & 0.13647785\\\\\n",
       "\t41 & 0          & 0.40904806\\\\\n",
       "\t43 & 0          & 0.19624391\\\\\n",
       "\t47 & 0          & 0.14101104\\\\\n",
       "\t49 & 0          & 0.09430866\\\\\n",
       "\t54 & 1          & 0.62032746\\\\\n",
       "\t64 & 0          & 0.17057067\\\\\n",
       "\t66 & 0          & 0.09168720\\\\\n",
       "\t74 & 1          & 0.84638630\\\\\n",
       "\\end{tabular}\n"
      ],
      "text/markdown": [
       "\n",
       "| <!--/--> | bad_credit | score | \n",
       "|---|---|---|---|---|---|---|---|---|---|---|---|---|---|---|---|---|---|---|---|\n",
       "| 2 | 0          | 0.05147292 | \n",
       "| 3 | 0          | 0.54878663 | \n",
       "| 5 | 0          | 0.46213054 | \n",
       "| 8 | 0          | 0.06617320 | \n",
       "| 14 | 0          | 0.67371676 | \n",
       "| 16 | 0          | 0.03742926 | \n",
       "| 18 | 1          | 0.49877049 | \n",
       "| 25 | 0          | 0.15839947 | \n",
       "| 27 | 0          | 0.26585924 | \n",
       "| 30 | 0          | 0.33093614 | \n",
       "| 33 | 0          | 0.07727234 | \n",
       "| 40 | 0          | 0.13647785 | \n",
       "| 41 | 0          | 0.40904806 | \n",
       "| 43 | 0          | 0.19624391 | \n",
       "| 47 | 0          | 0.14101104 | \n",
       "| 49 | 0          | 0.09430866 | \n",
       "| 54 | 1          | 0.62032746 | \n",
       "| 64 | 0          | 0.17057067 | \n",
       "| 66 | 0          | 0.09168720 | \n",
       "| 74 | 1          | 0.84638630 | \n",
       "\n",
       "\n"
      ],
      "text/plain": [
       "   bad_credit score     \n",
       "2  0          0.05147292\n",
       "3  0          0.54878663\n",
       "5  0          0.46213054\n",
       "8  0          0.06617320\n",
       "14 0          0.67371676\n",
       "16 0          0.03742926\n",
       "18 1          0.49877049\n",
       "25 0          0.15839947\n",
       "27 0          0.26585924\n",
       "30 0          0.33093614\n",
       "33 0          0.07727234\n",
       "40 0          0.13647785\n",
       "41 0          0.40904806\n",
       "43 0          0.19624391\n",
       "47 0          0.14101104\n",
       "49 0          0.09430866\n",
       "54 1          0.62032746\n",
       "64 0          0.17057067\n",
       "66 0          0.09168720\n",
       "74 1          0.84638630"
      ]
     },
     "metadata": {},
     "output_type": "display_data"
    }
   ],
   "source": [
    "test$score = predict(logistic_mod, newdata = test, type = 'response')\n",
    "test[1:20, c('bad_credit','score')]"
   ]
  },
  {
   "cell_type": "markdown",
   "metadata": {},
   "source": [
    "The first column is the probability of a score of $0$ and the second column is the probability of a score of $1$. Notice that for most, but not all cases, the probability of a score of $0$ is higher than $1$. "
   ]
  },
  {
   "cell_type": "markdown",
   "metadata": {},
   "source": [
    "## Score and evaluate the classification model\n",
    "\n",
    "Now that the class probabilities have been computed these values must be transformed into actual class scores. Recall that the log likelihoods for two-class logistic regression are computed by applying the sigmoid or logistic transformation to the output of the linear model. The simple choice is to set the threshold between the two likelihoods at $0.5$. The code in the cell below applies this inital threshold to the probability of a score of $0$ for the test data. A few examples along with the known labels are then displayed. Execute this code and examine the result."
   ]
  },
  {
   "cell_type": "code",
   "execution_count": 58,
   "metadata": {},
   "outputs": [
    {
     "data": {
      "text/html": [
       "<table>\n",
       "<thead><tr><th></th><th scope=col>bad_credit</th><th scope=col>score</th></tr></thead>\n",
       "<tbody>\n",
       "\t<tr><th scope=row>2</th><td>0</td><td>0</td></tr>\n",
       "\t<tr><th scope=row>3</th><td>0</td><td>1</td></tr>\n",
       "\t<tr><th scope=row>5</th><td>0</td><td>0</td></tr>\n",
       "\t<tr><th scope=row>8</th><td>0</td><td>0</td></tr>\n",
       "\t<tr><th scope=row>14</th><td>0</td><td>1</td></tr>\n",
       "\t<tr><th scope=row>16</th><td>0</td><td>0</td></tr>\n",
       "\t<tr><th scope=row>18</th><td>1</td><td>0</td></tr>\n",
       "\t<tr><th scope=row>25</th><td>0</td><td>0</td></tr>\n",
       "\t<tr><th scope=row>27</th><td>0</td><td>0</td></tr>\n",
       "\t<tr><th scope=row>30</th><td>0</td><td>0</td></tr>\n",
       "\t<tr><th scope=row>33</th><td>0</td><td>0</td></tr>\n",
       "\t<tr><th scope=row>40</th><td>0</td><td>0</td></tr>\n",
       "\t<tr><th scope=row>41</th><td>0</td><td>0</td></tr>\n",
       "\t<tr><th scope=row>43</th><td>0</td><td>0</td></tr>\n",
       "\t<tr><th scope=row>47</th><td>0</td><td>0</td></tr>\n",
       "\t<tr><th scope=row>49</th><td>0</td><td>0</td></tr>\n",
       "\t<tr><th scope=row>54</th><td>1</td><td>1</td></tr>\n",
       "\t<tr><th scope=row>64</th><td>0</td><td>0</td></tr>\n",
       "\t<tr><th scope=row>66</th><td>0</td><td>0</td></tr>\n",
       "\t<tr><th scope=row>74</th><td>1</td><td>1</td></tr>\n",
       "</tbody>\n",
       "</table>\n"
      ],
      "text/latex": [
       "\\begin{tabular}{r|ll}\n",
       "  & bad\\_credit & score\\\\\n",
       "\\hline\n",
       "\t2 & 0 & 0\\\\\n",
       "\t3 & 0 & 1\\\\\n",
       "\t5 & 0 & 0\\\\\n",
       "\t8 & 0 & 0\\\\\n",
       "\t14 & 0 & 1\\\\\n",
       "\t16 & 0 & 0\\\\\n",
       "\t18 & 1 & 0\\\\\n",
       "\t25 & 0 & 0\\\\\n",
       "\t27 & 0 & 0\\\\\n",
       "\t30 & 0 & 0\\\\\n",
       "\t33 & 0 & 0\\\\\n",
       "\t40 & 0 & 0\\\\\n",
       "\t41 & 0 & 0\\\\\n",
       "\t43 & 0 & 0\\\\\n",
       "\t47 & 0 & 0\\\\\n",
       "\t49 & 0 & 0\\\\\n",
       "\t54 & 1 & 1\\\\\n",
       "\t64 & 0 & 0\\\\\n",
       "\t66 & 0 & 0\\\\\n",
       "\t74 & 1 & 1\\\\\n",
       "\\end{tabular}\n"
      ],
      "text/markdown": [
       "\n",
       "| <!--/--> | bad_credit | score | \n",
       "|---|---|---|---|---|---|---|---|---|---|---|---|---|---|---|---|---|---|---|---|\n",
       "| 2 | 0 | 0 | \n",
       "| 3 | 0 | 1 | \n",
       "| 5 | 0 | 0 | \n",
       "| 8 | 0 | 0 | \n",
       "| 14 | 0 | 1 | \n",
       "| 16 | 0 | 0 | \n",
       "| 18 | 1 | 0 | \n",
       "| 25 | 0 | 0 | \n",
       "| 27 | 0 | 0 | \n",
       "| 30 | 0 | 0 | \n",
       "| 33 | 0 | 0 | \n",
       "| 40 | 0 | 0 | \n",
       "| 41 | 0 | 0 | \n",
       "| 43 | 0 | 0 | \n",
       "| 47 | 0 | 0 | \n",
       "| 49 | 0 | 0 | \n",
       "| 54 | 1 | 1 | \n",
       "| 64 | 0 | 0 | \n",
       "| 66 | 0 | 0 | \n",
       "| 74 | 1 | 1 | \n",
       "\n",
       "\n"
      ],
      "text/plain": [
       "   bad_credit score\n",
       "2  0          0    \n",
       "3  0          1    \n",
       "5  0          0    \n",
       "8  0          0    \n",
       "14 0          1    \n",
       "16 0          0    \n",
       "18 1          0    \n",
       "25 0          0    \n",
       "27 0          0    \n",
       "30 0          0    \n",
       "33 0          0    \n",
       "40 0          0    \n",
       "41 0          0    \n",
       "43 0          0    \n",
       "47 0          0    \n",
       "49 0          0    \n",
       "54 1          1    \n",
       "64 0          0    \n",
       "66 0          0    \n",
       "74 1          1    "
      ]
     },
     "metadata": {},
     "output_type": "display_data"
    }
   ],
   "source": [
    "score_model = function(df, threshold){\n",
    "    df$score = ifelse(df$score > threshold, 1, 0)\n",
    "    df\n",
    "}\n",
    "\n",
    "test = score_model(test, 0.5)\n",
    "test[1:20, c('bad_credit','score')]"
   ]
  },
  {
   "cell_type": "markdown",
   "metadata": {},
   "source": [
    "Some of the positive ($1$) predictions agree with the test labels in the second row, but several do not."
   ]
  },
  {
   "cell_type": "markdown",
   "metadata": {},
   "source": [
    "Given the results of the test data, how can you quantify the performance of the model? In general, you must **always use multiple metrics to evaluate the performance of any machine leaning model**, including classifiers. \n",
    "\n",
    "For classifiers there are a number of metrics commonly used. The **confusion matrix** layes out the correctly and incorrectly classified cases in a tabular format. There are various metrics derived from the values in the confusion matrix. Some of the common cases are briefly reviewed below. \n",
    "\n",
    "**Confusion matrix**\n",
    "\n",
    "As already stated, the confusion matrix lays out correctly and incorrectly classified cases. For the binary (two-class) case the confusion matrix is organized as follows:\n",
    "\n",
    "| | Scored Positive | Scored Negative|  \n",
    "|------|:------:|:------:| \n",
    "|**Actual Positive** | True Positive | False Negative |\n",
    "|**Acutal Negative**| False Positive | True Negative |   \n",
    "\n",
    "Here the four elements in the matrix are defined as:    \n",
    "**True Positive** or **TP** are cases with positive labels which have been correctly classified as positive.     \n",
    "**True Negative** or **TN** are cases with negative labels which have been correctly classified as negative.  \n",
    "**False Positive** or **FP** are cases with negative labels which have been incorrectly classified as positive.   \n",
    "**False Negative** or **FN** are cases with positive labels which have been incorrectly classified as negative.\n",
    "\n",
    "When creating a confusion matrix it is important to understand and maintain a convention for which differentiating positive and negative label values. The usual convention is to call the $1$ case positive and the $0$ case negative. \n",
    "\n",
    "Notice that there is an ambiguity in which case is considered positive and which is considered negative when the confusion matrix is computed. Whenever you examine a confusion matrix it is a good idea to spend a moment and decide which case is which. This step will help you relate the results to the problem at hand. \n",
    "\n",
    "**Accuracy**\n",
    "\n",
    "Accuracy is a simple and often misused metric. In simple terms, accuracy is the fraction of cases correctly classified. For a two-class classifier accuracy is writen as:\n",
    "\n",
    "$$Accuracy = \\frac{TP+TN}{TP+FP+TN+FN}$$\n",
    "\n",
    "Accuracy can be quite misleading. For example, say a classifer is used to detect fraudulent accounts and the rate of fraud is less than 1%. A naive model would be to say all accounts are not fraudulent. This model has accuracy exceeding  0.99. This sounds impressive, but is clearly useless. \n",
    "\n",
    "**Precsion**\n",
    "\n",
    "Precision is the fraction of correctly classified label cases out of all cases classified with that label value. We can express precision by the following relationship:\n",
    "\n",
    "$$Precision = \\frac{M_{i,i}}{\\sum_j M_{i,j}}$$\n",
    "\n",
    "In other words, the precision statistic is the number of correctly classified cases for the lable value divided by all the cases in the column. Thus, precision is sensitive to the number of cases correctly classified for a given score value. \n",
    "\n",
    "**Recall**  \n",
    "\n",
    "Recall is the fraction of cases of a label value correctly classified out of all cases that actually have that label value. We can express recall by the following relationship:\n",
    "\n",
    "$$Recall = \\frac{M_{i,i}}{\\sum_i M_{i,j}}$$\n",
    "\n",
    "In other words, the recall statistic is the number of correctly classified cases for the lable value divided by all the cases in the row. Thus, precision is sensitive to the number of cases correctly classified for a given true label value. \n",
    "\n",
    "**F1**\n",
    "\n",
    "The F1 statistic is weighted average of precision and recall. We can express F1 by the following relationship:\n",
    "\n",
    "$$F1 = 2 * \\frac{precision * recall}{precision + recall}$$\n",
    "\n",
    "In other words, F1 is a weighted metric for overall model performance. \n",
    "\n",
    "**ROC** and **AUC**\n",
    "\n",
    "The receiver operating characteristic or ROC is a curve that displays the relationship between the true postive rate on the vertical axis and false positve rate on the horizontal axis. The ROC curve shows the tradeoff between true positive rate and false positive rate. An example is illustrated below.   \n",
    "\n",
    "In principle, you can pick the desired operating point for a classifier on this curve. Towards the left favors low false positive rate at the expense of true positive rate. Towards the right favors high true positive rate at the expense of higher false positive rate.  \n",
    "\n",
    "<img src=\"img/ROC_AUC.jpg\" alt=\"Drawing\" style=\"width:600px; height:400px\"/>\n",
    "<center>**ROC curve with values of AUC for balanced two-class problem**</center>\n",
    "\n",
    "The AUC is the area or integral under the ROC curve. The overall performance of the classifier is measured by the area under the curve or AUC. But, how can you interpret a specific AUC value? The higher the AUC the lower the increase in false postive rate required to achieve a required true positive rate.  For an ideal classifier the AUC is 1.0. A true positive rate is achieved with a 0 false positive rate. This behavior means that AUC is useful for comparing classifiers. The classifier with higher AUC is generally the better one. \n",
    "\n",
    "For balanced cases, random guessing gives an AUC or 0.5. A balanced case has equal numbers of positive and negative cases. So Bernoulli sampling (random guessing) with a probability $p$ for the positive case, will produce a ROC curve that runs diagonally from $0.0,0.0$ to $1.0,1.0$. The area under this trianglular region is 0.5. It is often said that a classifier with an AUC of greater than 0.5 is better than random guessing. But, **for unbalanced cases this statement is not in true in general**. \n",
    "\n",
    "****\n",
    "**Note:** The term receive operating characteristic may seem a bit odd in the machine learning context. This term arose in the early days of radar engineering as a metric to measure the tradeoff between radar signal receiver correctly detecting a target, say an aircraft, and producing a positive response from noise, such as fying birds or clouds. A radar receiver would be adjusted to the desired operating point along its ROC curve. \n",
    "****"
   ]
  },
  {
   "cell_type": "markdown",
   "metadata": {},
   "source": [
    "The code in the cell below implements a function that computes and displays the forementioned classifer performance metrics. The code metrics are computed using the `precision_recall_fscore_support` and `accuracy_score` functions from the `metrics` package of Scikit-Learn. The confusion matrix is computed using the `confusion_matrix` function from this same package. Execute this code and examine the results for the logistic regression model. "
   ]
  },
  {
   "cell_type": "code",
   "execution_count": 64,
   "metadata": {},
   "outputs": [
    {
     "name": "stdout",
     "output_type": "stream",
     "text": [
      "        Negative Positive\n",
      "TrueNeg      186       34\n",
      "TruePos       42       36\n",
      "\n",
      "accuracy = 0.74496644295302 \n",
      "precision = 0.514286 \n",
      "recall = 0.461538461538462"
     ]
    }
   ],
   "source": [
    "logistic.eval <- function(df){ \n",
    "  # First step is to find the TP, FP, TN, FN cases\n",
    "  df$conf <- ifelse(df$bad_credit == 1 & df$score == 1, 'TP',\n",
    "                    ifelse(df$bad_credit == 0 & df$score == 1, 'FP',\n",
    "                           ifelse(df$bad_credit == 0 & df$score == 0, 'TN', 'FN')))\n",
    "\n",
    "  # Elements of the confusion matrix\n",
    "  TP = length(df[df$conf == 'TP', 'conf'])\n",
    "  FP = length(df[df$conf == 'FP', 'conf'])\n",
    "  TN = length(df[df$conf == 'TN', 'conf'])\n",
    "  FN = length(df[df$conf == 'FN', 'conf'])\n",
    "    \n",
    "  out <- data.frame(Negative = c(TN, FN), Positive = c(FP, TP))\n",
    "  row.names(out) <- c('TrueNeg', 'TruePos')\n",
    "  print(out)  \n",
    "  \n",
    "  # Compute and rint metrics\n",
    "  cat('\\n')\n",
    "  cat(paste('accuracy =', as.character((TP + TN)/(TP + TN + FP + FN)), '\\n'))      \n",
    "  cat(paste('precision =', as.character(signif(TP/(TP + FP)), digits = 2)), '\\n')     \n",
    "  cat(paste('recall =', as.character(TP/(TP + FN))))\n",
    "}\n",
    "logistic.eval(test)"
   ]
  },
  {
   "cell_type": "markdown",
   "metadata": {},
   "source": [
    "Examine these results:\n",
    "1. The confusion matrix shows the following characteristics; a) most of the positive cases are correctly classified, 177 vs. 28, however, b) most negative cases are are scored incorrectly, only 40 correct, vs. 55 incorrect.   \n",
    "2. The overall accuracy is 0.72. However as just observed this is **extremely misleading!**. In fact the negative cases are poorly classified, and it is these bad credit customers the bank cares most about. This is not an unusually case. Accuracy figures should always be regarded with healthy scepticism.\n",
    "3. The class imbalance is confirmed. Of the 300 test cases 205 are positive and 95 are negative. \n",
    "4. The precision, recall and F1 all show that positive cases are classified reasonably well, but the negative cases are not. As already mentioned, it is these negtive cases that are of greatest importance to the bank. \n",
    "\n",
    "Finally, the code in the cell below computes and displays the ROC curve and AUC. The `roc_curve` and `auc` functions from the Scikit-Learn `metrics` package are used to commpute these values. Execute this code and examine the result."
   ]
  },
  {
   "cell_type": "code",
   "execution_count": 84,
   "metadata": {},
   "outputs": [
    {
     "data": {
      "image/png": "[encoded data removed]",
      "text/plain": [
       "plot without title"
      ]
     },
     "metadata": {},
     "output_type": "display_data"
    }
   ],
   "source": [
    "simple_roc <- function(df){\n",
    "    labels = df$bad_credit\n",
    "    scores = df$score  \n",
    "    labels <- labels[order(scores, decreasing=TRUE)]\n",
    "    out = data.frame(TPR=cumsum(labels)/sum(labels), FPR=cumsum(!labels)/sum(!labels), labels)\n",
    "    \n",
    "    p = ggplot(out, aes(FPR,TPR)) + geom_line()\n",
    "    print(p)\n",
    "    out\n",
    "}\n",
    "\n",
    "roc = simple_roc(test)"
   ]
  },
  {
   "cell_type": "markdown",
   "metadata": {},
   "source": [
    "The ROC curve is above the diagonal red-dotted line and the AUC is 0.76. But, given the class imbalance of two positive cases for each negative case how good is this? \n",
    "\n",
    "One point of comparison is a naive 'classifier' that sets all cases to positive. The code in the cell below contains such a classifier. This alogrithm is not really a classifier at all. This 'classifier' is hard coded. The ROC curve and AUC are then computed and displayed. Run this code, and examine the result. "
   ]
  },
  {
   "cell_type": "code",
   "execution_count": 16,
   "metadata": {
    "scrolled": false
   },
   "outputs": [
    {
     "name": "stdout",
     "output_type": "stream",
     "text": [
      "                 Confusion matrix\n",
      "                 Score positive    Score negative\n",
      "True positive       205              0\n",
      "True negative        95              0\n",
      "\n",
      "Accuracy  0.68\n",
      " \n",
      "             Positive   Negative\n",
      "Num case    205.00       95.00\n",
      "Precision   0.68          0.00\n",
      "Recall      1.00          0.00\n",
      "F1          0.81          0.00\n"
     ]
    },
    {
     "name": "stderr",
     "output_type": "stream",
     "text": [
      "C:\\Users\\StevePC2\\Anaconda3\\lib\\site-packages\\sklearn\\metrics\\classification.py:1135: UndefinedMetricWarning: Precision and F-score are ill-defined and being set to 0.0 in labels with no predicted samples.\n",
      "  'precision', 'predicted', average, warn_for)\n"
     ]
    },
    {
     "data": {
      "image/png": "[encoded data removed]",
      "text/plain": [
       "<matplotlib.figure.Figure at 0x2ccc0449908>"
      ]
     },
     "metadata": {},
     "output_type": "display_data"
    }
   ],
   "source": [
    "#probs_positive = np.concatenate((np.ones((probabilities.shape[0], 1)), \n",
    "#                                 np.zeros((probabilities.shape[0], 1))),\n",
    "#                                 axis = 1)\n",
    "#scores_positive = score_model(probs_positive, 0.5)\n",
    "#print_metrics(y_test, scores_positive)  \n",
    "#plot_auc(y_test, probs_positive) "
   ]
  },
  {
   "cell_type": "markdown",
   "metadata": {},
   "source": [
    "Notice, the accuracy from this 'classifier' is still 0.68. This reflects the class imbalance. The ROC curve is directly along the diagonal which gives an AUC of 0.5. The logistic regression classifier is definitely better than this!"
   ]
  },
  {
   "cell_type": "markdown",
   "metadata": {},
   "source": [
    "## Compute a weighted model\n",
    "\n",
    "Recall that a falsely classifing a bad credit risk customer as good costs the bank five times more than classifing a good credit risk customer as bad. Given this situation, the results of the first model are not that good. There are two reasons for this:\n",
    "\n",
    "1. The class imbalance in the label has biased the training of the model. As you observed from the accuracy of the naive 'classifier' is not that different from the logistic regression model. \n",
    "2. Nothing has been done to weight the results toward correctly classifing the bad credit risk customers at the expense of the good credit risk customers.\n",
    "\n",
    "One approach to these problems is to weight the classes when computing the logistic regression model. The code in the cell below adds a `class_weight` argument to the call to the `LogisticRegression` function. In this case weights are chosen as $0.1, 0.9$ since there is an approximately two to one class imbalance and the asymmetry in the costs of errors to the bank. Execute this code"
   ]
  },
  {
   "cell_type": "code",
   "execution_count": 85,
   "metadata": {
    "scrolled": true
   },
   "outputs": [
    {
     "ename": "ERROR",
     "evalue": "Error in model.frame.default(formula = bad_credit ~ loan_duration_mo + : variable lengths differ (found for '(weights)')\n",
     "output_type": "error",
     "traceback": [
      "Error in model.frame.default(formula = bad_credit ~ loan_duration_mo + : variable lengths differ (found for '(weights)')\nTraceback:\n",
      "1. glm(bad_credit ~ loan_duration_mo + loan_amount + payment_pcnt_income + \n .     age_yrs + checking_account_status + credit_history + purpose + \n .     gender_status + time_in_residence + property, family = binomial, \n .     data = training, weights = c(0.1, 0.9))",
      "2. eval(mf, parent.frame())",
      "3. eval(mf, parent.frame())",
      "4. stats::model.frame(formula = bad_credit ~ loan_duration_mo + \n .     loan_amount + payment_pcnt_income + age_yrs + checking_account_status + \n .     credit_history + purpose + gender_status + time_in_residence + \n .     property, data = training, weights = c(0.1, 0.9), drop.unused.levels = TRUE)",
      "5. model.frame.default(formula = bad_credit ~ loan_duration_mo + \n .     loan_amount + payment_pcnt_income + age_yrs + checking_account_status + \n .     credit_history + purpose + gender_status + time_in_residence + \n .     property, data = training, weights = c(0.1, 0.9), drop.unused.levels = TRUE)"
     ]
    }
   ],
   "source": [
    "logistic_mod_w = glm(bad_credit ~ loan_duration_mo + loan_amount +  \n",
    "                                 payment_pcnt_income + age_yrs + \n",
    "                                 checking_account_status + credit_history + \n",
    "                                 purpose + gender_status + time_in_residence +\n",
    "                                 property, \n",
    "                    family = binomial, data = training,\n",
    "                    weights = c(0.1,0.9))"
   ]
  },
  {
   "cell_type": "markdown",
   "metadata": {},
   "source": [
    "Next, execute the code in the cell below to compute and display the class probabilities for each case. "
   ]
  },
  {
   "cell_type": "code",
   "execution_count": 18,
   "metadata": {},
   "outputs": [
    {
     "name": "stdout",
     "output_type": "stream",
     "text": [
      "[[0.67991032 0.32008968]\n",
      " [0.49165574 0.50834426]\n",
      " [0.84404653 0.15595347]\n",
      " [0.31600472 0.68399528]\n",
      " [0.34917118 0.65082882]\n",
      " [0.96015149 0.03984851]\n",
      " [0.34313761 0.65686239]\n",
      " [0.77929504 0.22070496]\n",
      " [0.85492161 0.14507839]\n",
      " [0.93792393 0.06207607]\n",
      " [0.96763624 0.03236376]\n",
      " [0.77111192 0.22888808]\n",
      " [0.89779186 0.10220814]\n",
      " [0.80622461 0.19377539]\n",
      " [0.96692379 0.03307621]]\n"
     ]
    }
   ],
   "source": [
    "probabilities = logistic_mod.predict_proba(x_test)\n",
    "print(probabilities[:15,:])"
   ]
  },
  {
   "cell_type": "markdown",
   "metadata": {},
   "source": [
    "By eyeball, the above probabilities are not terribly different from the unweighted model. \n",
    "\n",
    "To find if there is any significant difference with the unweighted model, compute the scores and .the metrics and display the metrics by executing the code in the cell below:"
   ]
  },
  {
   "cell_type": "code",
   "execution_count": 19,
   "metadata": {
    "scrolled": true
   },
   "outputs": [
    {
     "name": "stdout",
     "output_type": "stream",
     "text": [
      "                 Confusion matrix\n",
      "                 Score positive    Score negative\n",
      "True positive       174             31\n",
      "True negative        50             45\n",
      "\n",
      "Accuracy  0.73\n",
      " \n",
      "             Positive   Negative\n",
      "Num case    205.00       95.00\n",
      "Precision   0.78          0.59\n",
      "Recall      0.85          0.47\n",
      "F1          0.81          0.53\n"
     ]
    },
    {
     "data": {
      "image/png": "[encoded data removed]",
      "text/plain": [
       "<matplotlib.figure.Figure at 0x2ccc0449780>"
      ]
     },
     "metadata": {},
     "output_type": "display_data"
    }
   ],
   "source": [
    "scores = score_model(probabilities, 0.5)\n",
    "print_metrics(y_test, scores)  \n",
    "plot_auc(y_test, probabilities)  "
   ]
  },
  {
   "cell_type": "markdown",
   "metadata": {},
   "source": [
    "The accuracy is essentially unchanged with respect to the unweighted model. The precision, recall and F1 are all slightly worse for the positive cases, but better for the negative cases. Reweighting the labels has moved the results in the desired direction, at least a bit.\n",
    "\n",
    "Notice also, the ROC curve and AUC are essentially unchanged. The trade-off between true positive and false positive is simiar to the unweighted model. "
   ]
  },
  {
   "cell_type": "markdown",
   "metadata": {},
   "source": [
    "## Find a better threshold\n",
    "\n",
    "There is another way to tip the model scoring toward correctly identifing the bad credit cases. The scoring threshold can be adjusted. Until now, the scores have been computed from the probabilities using a threshold of 0.5. However, there is no reason to think this is the correct choice. Recall that the score is  determined by setting the threshold along the sigmoidal or logistic function. It is possible to favor either positive or negative cases by changing the threshold along this curve. \n",
    "\n",
    "The code in the cell below contains a function for scoring and evaluating the model for a given threshold value. The `for` loop iterates over the list of five candidate threshold values. Execute this code and examine how changing the threshold value changes the scoring for the model. "
   ]
  },
  {
   "cell_type": "code",
   "execution_count": 20,
   "metadata": {},
   "outputs": [
    {
     "name": "stdout",
     "output_type": "stream",
     "text": [
      "\n",
      "For threshold = 0.45\n",
      "                 Confusion matrix\n",
      "                 Score positive    Score negative\n",
      "True positive       166             39\n",
      "True negative        41             54\n",
      "\n",
      "Accuracy  0.73\n",
      " \n",
      "             Positive   Negative\n",
      "Num case    205.00       95.00\n",
      "Precision   0.80          0.58\n",
      "Recall      0.81          0.57\n",
      "F1          0.81          0.57\n",
      "\n",
      "For threshold = 0.4\n",
      "                 Confusion matrix\n",
      "                 Score positive    Score negative\n",
      "True positive       158             47\n",
      "True negative        40             55\n",
      "\n",
      "Accuracy  0.71\n",
      " \n",
      "             Positive   Negative\n",
      "Num case    205.00       95.00\n",
      "Precision   0.80          0.54\n",
      "Recall      0.77          0.58\n",
      "F1          0.78          0.56\n",
      "\n",
      "For threshold = 0.35\n",
      "                 Confusion matrix\n",
      "                 Score positive    Score negative\n",
      "True positive       150             55\n",
      "True negative        31             64\n",
      "\n",
      "Accuracy  0.71\n",
      " \n",
      "             Positive   Negative\n",
      "Num case    205.00       95.00\n",
      "Precision   0.83          0.54\n",
      "Recall      0.73          0.67\n",
      "F1          0.78          0.60\n",
      "\n",
      "For threshold = 0.3\n",
      "                 Confusion matrix\n",
      "                 Score positive    Score negative\n",
      "True positive       134             71\n",
      "True negative        27             68\n",
      "\n",
      "Accuracy  0.67\n",
      " \n",
      "             Positive   Negative\n",
      "Num case    205.00       95.00\n",
      "Precision   0.83          0.49\n",
      "Recall      0.65          0.72\n",
      "F1          0.73          0.58\n",
      "\n",
      "For threshold = 0.25\n",
      "                 Confusion matrix\n",
      "                 Score positive    Score negative\n",
      "True positive       127             78\n",
      "True negative        21             74\n",
      "\n",
      "Accuracy  0.67\n",
      " \n",
      "             Positive   Negative\n",
      "Num case    205.00       95.00\n",
      "Precision   0.86          0.49\n",
      "Recall      0.62          0.78\n",
      "F1          0.72          0.60\n"
     ]
    }
   ],
   "source": [
    "def test_threshold(probs, labels, threshold):\n",
    "    scores = score_model(probs, threshold)\n",
    "    print('')\n",
    "    print('For threshold = ' + str(threshold))\n",
    "    print_metrics(labels, scores)\n",
    "\n",
    "thresholds = [0.45, 0.40, 0.35, 0.3, 0.25]\n",
    "for t in thresholds:\n",
    "    test_threshold(probabilities, y_test, t)"
   ]
  },
  {
   "cell_type": "markdown",
   "metadata": {},
   "source": [
    "As the threshold is decreased the number of correctly classified negative cases (bad credit customers) increases at the expense of correctly classifing positve cases (good credit customers). At the same time, accuracy decreses. However, as you have observed, accuracy is not a particularly useful metric here. \n",
    "\n",
    "Exactly which threshold to pick is a business decision. Notice that with a threshold value of 0.25 the number of false negatives (misclassified good credit customers) is about four times that of false positives (misclassified bad credit customers). "
   ]
  },
  {
   "cell_type": "markdown",
   "metadata": {},
   "source": [
    "## Summary\n",
    "\n",
    "In this lesson you have done the following:\n",
    "1. Prepared the credit risk data set for modeling with Scikit-Learn. The steps included scaling the numeric features, and dummy variable coding the categorical features. The result is a numpy array of features and a numpy array of the label values. \n",
    "2. Computed a logistic regression model. \n",
    "3. Evaluated the performance of the module using mutliple metrics. It is clear that accuracy is not a particularly useful metric here. The naive 'classifier' produced accuracy that was only somewhat worse as a result of the class imbalance.  The confusion matrix and the precision, recall and F1 statistics gave meanful mesures of model performance, especially when considered together. \n",
    "4. Reweighted the labels and changed the decision threshold for the reweighted model. These steps helped overcome both the class imbalance problem and the asymmetric cost of misclassification to the bank. "
   ]
  },
  {
   "cell_type": "code",
   "execution_count": null,
   "metadata": {},
   "outputs": [],
   "source": []
  },
  {
   "cell_type": "code",
   "execution_count": null,
   "metadata": {},
   "outputs": [],
   "source": []
  }
 ],
 "metadata": {
  "kernelspec": {
   "display_name": "R",
   "language": "R",
   "name": "ir"
  },
  "language_info": {
   "codemirror_mode": "r",
   "file_extension": ".r",
   "mimetype": "text/x-r-source",
   "name": "R",
   "pygments_lexer": "r",
   "version": "3.4.1"
  }
 },
 "nbformat": 4,
 "nbformat_minor": 2
}
