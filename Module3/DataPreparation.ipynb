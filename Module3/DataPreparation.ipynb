{
 "cells": [
  {
   "cell_type": "markdown",
   "metadata": {},
   "source": [
    "# Data Preparation for Machine Learning\n",
    "\n",
    "**Data preparation** is a vital step in the machine learning pipeline. Just as visualization is necessary to understand the relationships in data, proper preparation or **data munging** is required to ensure machine learning models work optimally. \n",
    "\n",
    "The process of data preparation is highly interactive and iterative. A typical process includes at least the following steps:\n",
    "1. **Visualization** of the dataset to understand the relationships and identify possible problems with the data.\n",
    "2. **Data cleaning and transformation** to address the problems identified. It many cases, step 1 is then repeated to verify that the cleaning and transformation had the desired effect. \n",
    "3. **Construction and evaluation of a machine learning models**. Visualization of the results will often lead to understanding of further data preparation that is required; going back to step 1. \n",
    "\n",
    "In this lab you will learn the following: \n",
    "- Recode character strings to eliminate characters that will not be processed correctly.\n",
    "- Find and treat missing values. \n",
    "- Set correct data type of each column. \n",
    "- Transform categorical features to create categories with more cases and coding likely to be useful in predicting the label. \n",
    "- Apply transformations to numeric features and the label to improve the distribution properties. \n",
    "- Locate and treat duplicate cases. \n"
   ]
  },
  {
   "cell_type": "markdown",
   "metadata": {},
   "source": [
    "## An example\n",
    "\n",
    "As a first example you will prepare the automotive dataset. Careful preparation of this dataset, or any dataset, is required before attempting to train any machine learning model. This dataset has a number of problems which must be addressed. Further, some feature engineering will be applied. \n",
    "\n",
    "### Load the dataset\n",
    "\n",
    "As a first step you must load the dataset. \n",
    "\n",
    "Execute the code in the cell below to load the packages required  to run this notebook. \n",
    "\n",
    "> **Note:** If you are running in Azure Notebooks, make sure that you run the code in the `setup.ipynb` notebook at the start of you session to ensure your environment is correctly configured. "
   ]
  },
  {
   "cell_type": "code",
   "execution_count": 1,
   "metadata": {},
   "outputs": [
    {
     "name": "stderr",
     "output_type": "stream",
     "text": [
      "Warning message:\n",
      "\"package 'ggplot2' was built under R version 3.5.1\"\n",
      "Attaching package: 'dplyr'\n",
      "\n",
      "The following objects are masked from 'package:stats':\n",
      "\n",
      "    filter, lag\n",
      "\n",
      "The following objects are masked from 'package:base':\n",
      "\n",
      "    intersect, setdiff, setequal, union\n",
      "\n"
     ]
    }
   ],
   "source": [
    "## Import packages\n",
    "library(ggplot2)\n",
    "library(repr)\n",
    "library(dplyr)\n",
    "\n",
    "options(repr.plot.width=4, repr.plot.height=4) # Set the initial plot area dimensions"
   ]
  },
  {
   "cell_type": "markdown",
   "metadata": {},
   "source": [
    "Execute the code in the cell below to load the dataset and print the first few rows of the data frame."
   ]
  },
  {
   "cell_type": "code",
   "execution_count": 2,
   "metadata": {},
   "outputs": [
    {
     "data": {
      "text/html": [
       "<table>\n",
       "<thead><tr><th scope=col>symboling</th><th scope=col>normalized.losses</th><th scope=col>make</th><th scope=col>fuel.type</th><th scope=col>aspiration</th><th scope=col>num.of.doors</th><th scope=col>body.style</th><th scope=col>drive.wheels</th><th scope=col>engine.location</th><th scope=col>wheel.base</th><th scope=col>...</th><th scope=col>engine.size</th><th scope=col>fuel.system</th><th scope=col>bore</th><th scope=col>stroke</th><th scope=col>compression.ratio</th><th scope=col>horsepower</th><th scope=col>peak.rpm</th><th scope=col>city.mpg</th><th scope=col>highway.mpg</th><th scope=col>price</th></tr></thead>\n",
       "<tbody>\n",
       "\t<tr><td>3          </td><td>?          </td><td>alfa-romero</td><td>gas        </td><td>std        </td><td>two        </td><td>convertible</td><td>rwd        </td><td>front      </td><td> 88.6      </td><td>...        </td><td>130        </td><td>mpfi       </td><td>3.47       </td><td>2.68       </td><td> 9.0       </td><td>111        </td><td>5000       </td><td>21         </td><td>27         </td><td>13495      </td></tr>\n",
       "\t<tr><td>3          </td><td>?          </td><td>alfa-romero</td><td>gas        </td><td>std        </td><td>two        </td><td>convertible</td><td>rwd        </td><td>front      </td><td> 88.6      </td><td>...        </td><td>130        </td><td>mpfi       </td><td>3.47       </td><td>2.68       </td><td> 9.0       </td><td>111        </td><td>5000       </td><td>21         </td><td>27         </td><td>16500      </td></tr>\n",
       "\t<tr><td>1          </td><td>?          </td><td>alfa-romero</td><td>gas        </td><td>std        </td><td>two        </td><td>hatchback  </td><td>rwd        </td><td>front      </td><td> 94.5      </td><td>...        </td><td>152        </td><td>mpfi       </td><td>2.68       </td><td>3.47       </td><td> 9.0       </td><td>154        </td><td>5000       </td><td>19         </td><td>26         </td><td>16500      </td></tr>\n",
       "\t<tr><td>2          </td><td>164        </td><td>audi       </td><td>gas        </td><td>std        </td><td>four       </td><td>sedan      </td><td>fwd        </td><td>front      </td><td> 99.8      </td><td>...        </td><td>109        </td><td>mpfi       </td><td>3.19       </td><td>3.40       </td><td>10.0       </td><td>102        </td><td>5500       </td><td>24         </td><td>30         </td><td>13950      </td></tr>\n",
       "\t<tr><td>2          </td><td>164        </td><td>audi       </td><td>gas        </td><td>std        </td><td>four       </td><td>sedan      </td><td>4wd        </td><td>front      </td><td> 99.4      </td><td>...        </td><td>136        </td><td>mpfi       </td><td>3.19       </td><td>3.40       </td><td> 8.0       </td><td>115        </td><td>5500       </td><td>18         </td><td>22         </td><td>17450      </td></tr>\n",
       "\t<tr><td>2          </td><td>?          </td><td>audi       </td><td>gas        </td><td>std        </td><td>two        </td><td>sedan      </td><td>fwd        </td><td>front      </td><td> 99.8      </td><td>...        </td><td>136        </td><td>mpfi       </td><td>3.19       </td><td>3.40       </td><td> 8.5       </td><td>110        </td><td>5500       </td><td>19         </td><td>25         </td><td>15250      </td></tr>\n",
       "\t<tr><td>1          </td><td>158        </td><td>audi       </td><td>gas        </td><td>std        </td><td>four       </td><td>sedan      </td><td>fwd        </td><td>front      </td><td>105.8      </td><td>...        </td><td>136        </td><td>mpfi       </td><td>3.19       </td><td>3.40       </td><td> 8.5       </td><td>110        </td><td>5500       </td><td>19         </td><td>25         </td><td>17710      </td></tr>\n",
       "\t<tr><td>1          </td><td>?          </td><td>audi       </td><td>gas        </td><td>std        </td><td>four       </td><td>wagon      </td><td>fwd        </td><td>front      </td><td>105.8      </td><td>...        </td><td>136        </td><td>mpfi       </td><td>3.19       </td><td>3.40       </td><td> 8.5       </td><td>110        </td><td>5500       </td><td>19         </td><td>25         </td><td>18920      </td></tr>\n",
       "\t<tr><td>1          </td><td>158        </td><td>audi       </td><td>gas        </td><td>turbo      </td><td>four       </td><td>sedan      </td><td>fwd        </td><td>front      </td><td>105.8      </td><td>...        </td><td>131        </td><td>mpfi       </td><td>3.13       </td><td>3.40       </td><td> 8.3       </td><td>140        </td><td>5500       </td><td>17         </td><td>20         </td><td>23875      </td></tr>\n",
       "\t<tr><td>0          </td><td>?          </td><td>audi       </td><td>gas        </td><td>turbo      </td><td>two        </td><td>hatchback  </td><td>4wd        </td><td>front      </td><td> 99.5      </td><td>...        </td><td>131        </td><td>mpfi       </td><td>3.13       </td><td>3.40       </td><td> 7.0       </td><td>160        </td><td>5500       </td><td>16         </td><td>22         </td><td>?          </td></tr>\n",
       "\t<tr><td>2          </td><td>192        </td><td>bmw        </td><td>gas        </td><td>std        </td><td>two        </td><td>sedan      </td><td>rwd        </td><td>front      </td><td>101.2      </td><td>...        </td><td>108        </td><td>mpfi       </td><td>3.50       </td><td>2.80       </td><td> 8.8       </td><td>101        </td><td>5800       </td><td>23         </td><td>29         </td><td>16430      </td></tr>\n",
       "\t<tr><td>0          </td><td>192        </td><td>bmw        </td><td>gas        </td><td>std        </td><td>four       </td><td>sedan      </td><td>rwd        </td><td>front      </td><td>101.2      </td><td>...        </td><td>108        </td><td>mpfi       </td><td>3.50       </td><td>2.80       </td><td> 8.8       </td><td>101        </td><td>5800       </td><td>23         </td><td>29         </td><td>16925      </td></tr>\n",
       "\t<tr><td>0          </td><td>188        </td><td>bmw        </td><td>gas        </td><td>std        </td><td>two        </td><td>sedan      </td><td>rwd        </td><td>front      </td><td>101.2      </td><td>...        </td><td>164        </td><td>mpfi       </td><td>3.31       </td><td>3.19       </td><td> 9.0       </td><td>121        </td><td>4250       </td><td>21         </td><td>28         </td><td>20970      </td></tr>\n",
       "\t<tr><td>0          </td><td>188        </td><td>bmw        </td><td>gas        </td><td>std        </td><td>four       </td><td>sedan      </td><td>rwd        </td><td>front      </td><td>101.2      </td><td>...        </td><td>164        </td><td>mpfi       </td><td>3.31       </td><td>3.19       </td><td> 9.0       </td><td>121        </td><td>4250       </td><td>21         </td><td>28         </td><td>21105      </td></tr>\n",
       "\t<tr><td>1          </td><td>?          </td><td>bmw        </td><td>gas        </td><td>std        </td><td>four       </td><td>sedan      </td><td>rwd        </td><td>front      </td><td>103.5      </td><td>...        </td><td>164        </td><td>mpfi       </td><td>3.31       </td><td>3.19       </td><td> 9.0       </td><td>121        </td><td>4250       </td><td>20         </td><td>25         </td><td>24565      </td></tr>\n",
       "\t<tr><td>0          </td><td>?          </td><td>bmw        </td><td>gas        </td><td>std        </td><td>four       </td><td>sedan      </td><td>rwd        </td><td>front      </td><td>103.5      </td><td>...        </td><td>209        </td><td>mpfi       </td><td>3.62       </td><td>3.39       </td><td> 8.0       </td><td>182        </td><td>5400       </td><td>16         </td><td>22         </td><td>30760      </td></tr>\n",
       "\t<tr><td>0          </td><td>?          </td><td>bmw        </td><td>gas        </td><td>std        </td><td>two        </td><td>sedan      </td><td>rwd        </td><td>front      </td><td>103.5      </td><td>...        </td><td>209        </td><td>mpfi       </td><td>3.62       </td><td>3.39       </td><td> 8.0       </td><td>182        </td><td>5400       </td><td>16         </td><td>22         </td><td>41315      </td></tr>\n",
       "\t<tr><td>0          </td><td>?          </td><td>bmw        </td><td>gas        </td><td>std        </td><td>four       </td><td>sedan      </td><td>rwd        </td><td>front      </td><td>110.0      </td><td>...        </td><td>209        </td><td>mpfi       </td><td>3.62       </td><td>3.39       </td><td> 8.0       </td><td>182        </td><td>5400       </td><td>15         </td><td>20         </td><td>36880      </td></tr>\n",
       "\t<tr><td>2          </td><td>121        </td><td>chevrolet  </td><td>gas        </td><td>std        </td><td>two        </td><td>hatchback  </td><td>fwd        </td><td>front      </td><td> 88.4      </td><td>...        </td><td> 61        </td><td>2bbl       </td><td>2.91       </td><td>3.03       </td><td> 9.5       </td><td>48         </td><td>5100       </td><td>47         </td><td>53         </td><td>5151       </td></tr>\n",
       "\t<tr><td>1          </td><td>98         </td><td>chevrolet  </td><td>gas        </td><td>std        </td><td>two        </td><td>hatchback  </td><td>fwd        </td><td>front      </td><td> 94.5      </td><td>...        </td><td> 90        </td><td>2bbl       </td><td>3.03       </td><td>3.11       </td><td> 9.6       </td><td>70         </td><td>5400       </td><td>38         </td><td>43         </td><td>6295       </td></tr>\n",
       "</tbody>\n",
       "</table>\n"
      ],
      "text/latex": [
       "\\begin{tabular}{r|llllllllllllllllllllllllll}\n",
       " symboling & normalized.losses & make & fuel.type & aspiration & num.of.doors & body.style & drive.wheels & engine.location & wheel.base & ... & engine.size & fuel.system & bore & stroke & compression.ratio & horsepower & peak.rpm & city.mpg & highway.mpg & price\\\\\n",
       "\\hline\n",
       "\t 3           & ?           & alfa-romero & gas         & std         & two         & convertible & rwd         & front       &  88.6       & ...         & 130         & mpfi        & 3.47        & 2.68        &  9.0        & 111         & 5000        & 21          & 27          & 13495      \\\\\n",
       "\t 3           & ?           & alfa-romero & gas         & std         & two         & convertible & rwd         & front       &  88.6       & ...         & 130         & mpfi        & 3.47        & 2.68        &  9.0        & 111         & 5000        & 21          & 27          & 16500      \\\\\n",
       "\t 1           & ?           & alfa-romero & gas         & std         & two         & hatchback   & rwd         & front       &  94.5       & ...         & 152         & mpfi        & 2.68        & 3.47        &  9.0        & 154         & 5000        & 19          & 26          & 16500      \\\\\n",
       "\t 2           & 164         & audi        & gas         & std         & four        & sedan       & fwd         & front       &  99.8       & ...         & 109         & mpfi        & 3.19        & 3.40        & 10.0        & 102         & 5500        & 24          & 30          & 13950      \\\\\n",
       "\t 2           & 164         & audi        & gas         & std         & four        & sedan       & 4wd         & front       &  99.4       & ...         & 136         & mpfi        & 3.19        & 3.40        &  8.0        & 115         & 5500        & 18          & 22          & 17450      \\\\\n",
       "\t 2           & ?           & audi        & gas         & std         & two         & sedan       & fwd         & front       &  99.8       & ...         & 136         & mpfi        & 3.19        & 3.40        &  8.5        & 110         & 5500        & 19          & 25          & 15250      \\\\\n",
       "\t 1           & 158         & audi        & gas         & std         & four        & sedan       & fwd         & front       & 105.8       & ...         & 136         & mpfi        & 3.19        & 3.40        &  8.5        & 110         & 5500        & 19          & 25          & 17710      \\\\\n",
       "\t 1           & ?           & audi        & gas         & std         & four        & wagon       & fwd         & front       & 105.8       & ...         & 136         & mpfi        & 3.19        & 3.40        &  8.5        & 110         & 5500        & 19          & 25          & 18920      \\\\\n",
       "\t 1           & 158         & audi        & gas         & turbo       & four        & sedan       & fwd         & front       & 105.8       & ...         & 131         & mpfi        & 3.13        & 3.40        &  8.3        & 140         & 5500        & 17          & 20          & 23875      \\\\\n",
       "\t 0           & ?           & audi        & gas         & turbo       & two         & hatchback   & 4wd         & front       &  99.5       & ...         & 131         & mpfi        & 3.13        & 3.40        &  7.0        & 160         & 5500        & 16          & 22          & ?          \\\\\n",
       "\t 2           & 192         & bmw         & gas         & std         & two         & sedan       & rwd         & front       & 101.2       & ...         & 108         & mpfi        & 3.50        & 2.80        &  8.8        & 101         & 5800        & 23          & 29          & 16430      \\\\\n",
       "\t 0           & 192         & bmw         & gas         & std         & four        & sedan       & rwd         & front       & 101.2       & ...         & 108         & mpfi        & 3.50        & 2.80        &  8.8        & 101         & 5800        & 23          & 29          & 16925      \\\\\n",
       "\t 0           & 188         & bmw         & gas         & std         & two         & sedan       & rwd         & front       & 101.2       & ...         & 164         & mpfi        & 3.31        & 3.19        &  9.0        & 121         & 4250        & 21          & 28          & 20970      \\\\\n",
       "\t 0           & 188         & bmw         & gas         & std         & four        & sedan       & rwd         & front       & 101.2       & ...         & 164         & mpfi        & 3.31        & 3.19        &  9.0        & 121         & 4250        & 21          & 28          & 21105      \\\\\n",
       "\t 1           & ?           & bmw         & gas         & std         & four        & sedan       & rwd         & front       & 103.5       & ...         & 164         & mpfi        & 3.31        & 3.19        &  9.0        & 121         & 4250        & 20          & 25          & 24565      \\\\\n",
       "\t 0           & ?           & bmw         & gas         & std         & four        & sedan       & rwd         & front       & 103.5       & ...         & 209         & mpfi        & 3.62        & 3.39        &  8.0        & 182         & 5400        & 16          & 22          & 30760      \\\\\n",
       "\t 0           & ?           & bmw         & gas         & std         & two         & sedan       & rwd         & front       & 103.5       & ...         & 209         & mpfi        & 3.62        & 3.39        &  8.0        & 182         & 5400        & 16          & 22          & 41315      \\\\\n",
       "\t 0           & ?           & bmw         & gas         & std         & four        & sedan       & rwd         & front       & 110.0       & ...         & 209         & mpfi        & 3.62        & 3.39        &  8.0        & 182         & 5400        & 15          & 20          & 36880      \\\\\n",
       "\t 2           & 121         & chevrolet   & gas         & std         & two         & hatchback   & fwd         & front       &  88.4       & ...         &  61         & 2bbl        & 2.91        & 3.03        &  9.5        & 48          & 5100        & 47          & 53          & 5151       \\\\\n",
       "\t 1           & 98          & chevrolet   & gas         & std         & two         & hatchback   & fwd         & front       &  94.5       & ...         &  90         & 2bbl        & 3.03        & 3.11        &  9.6        & 70          & 5400        & 38          & 43          & 6295       \\\\\n",
       "\\end{tabular}\n"
      ],
      "text/markdown": [
       "\n",
       "symboling | normalized.losses | make | fuel.type | aspiration | num.of.doors | body.style | drive.wheels | engine.location | wheel.base | ... | engine.size | fuel.system | bore | stroke | compression.ratio | horsepower | peak.rpm | city.mpg | highway.mpg | price | \n",
       "|---|---|---|---|---|---|---|---|---|---|---|---|---|---|---|---|---|---|---|---|\n",
       "| 3           | ?           | alfa-romero | gas         | std         | two         | convertible | rwd         | front       |  88.6       | ...         | 130         | mpfi        | 3.47        | 2.68        |  9.0        | 111         | 5000        | 21          | 27          | 13495       | \n",
       "| 3           | ?           | alfa-romero | gas         | std         | two         | convertible | rwd         | front       |  88.6       | ...         | 130         | mpfi        | 3.47        | 2.68        |  9.0        | 111         | 5000        | 21          | 27          | 16500       | \n",
       "| 1           | ?           | alfa-romero | gas         | std         | two         | hatchback   | rwd         | front       |  94.5       | ...         | 152         | mpfi        | 2.68        | 3.47        |  9.0        | 154         | 5000        | 19          | 26          | 16500       | \n",
       "| 2           | 164         | audi        | gas         | std         | four        | sedan       | fwd         | front       |  99.8       | ...         | 109         | mpfi        | 3.19        | 3.40        | 10.0        | 102         | 5500        | 24          | 30          | 13950       | \n",
       "| 2           | 164         | audi        | gas         | std         | four        | sedan       | 4wd         | front       |  99.4       | ...         | 136         | mpfi        | 3.19        | 3.40        |  8.0        | 115         | 5500        | 18          | 22          | 17450       | \n",
       "| 2           | ?           | audi        | gas         | std         | two         | sedan       | fwd         | front       |  99.8       | ...         | 136         | mpfi        | 3.19        | 3.40        |  8.5        | 110         | 5500        | 19          | 25          | 15250       | \n",
       "| 1           | 158         | audi        | gas         | std         | four        | sedan       | fwd         | front       | 105.8       | ...         | 136         | mpfi        | 3.19        | 3.40        |  8.5        | 110         | 5500        | 19          | 25          | 17710       | \n",
       "| 1           | ?           | audi        | gas         | std         | four        | wagon       | fwd         | front       | 105.8       | ...         | 136         | mpfi        | 3.19        | 3.40        |  8.5        | 110         | 5500        | 19          | 25          | 18920       | \n",
       "| 1           | 158         | audi        | gas         | turbo       | four        | sedan       | fwd         | front       | 105.8       | ...         | 131         | mpfi        | 3.13        | 3.40        |  8.3        | 140         | 5500        | 17          | 20          | 23875       | \n",
       "| 0           | ?           | audi        | gas         | turbo       | two         | hatchback   | 4wd         | front       |  99.5       | ...         | 131         | mpfi        | 3.13        | 3.40        |  7.0        | 160         | 5500        | 16          | 22          | ?           | \n",
       "| 2           | 192         | bmw         | gas         | std         | two         | sedan       | rwd         | front       | 101.2       | ...         | 108         | mpfi        | 3.50        | 2.80        |  8.8        | 101         | 5800        | 23          | 29          | 16430       | \n",
       "| 0           | 192         | bmw         | gas         | std         | four        | sedan       | rwd         | front       | 101.2       | ...         | 108         | mpfi        | 3.50        | 2.80        |  8.8        | 101         | 5800        | 23          | 29          | 16925       | \n",
       "| 0           | 188         | bmw         | gas         | std         | two         | sedan       | rwd         | front       | 101.2       | ...         | 164         | mpfi        | 3.31        | 3.19        |  9.0        | 121         | 4250        | 21          | 28          | 20970       | \n",
       "| 0           | 188         | bmw         | gas         | std         | four        | sedan       | rwd         | front       | 101.2       | ...         | 164         | mpfi        | 3.31        | 3.19        |  9.0        | 121         | 4250        | 21          | 28          | 21105       | \n",
       "| 1           | ?           | bmw         | gas         | std         | four        | sedan       | rwd         | front       | 103.5       | ...         | 164         | mpfi        | 3.31        | 3.19        |  9.0        | 121         | 4250        | 20          | 25          | 24565       | \n",
       "| 0           | ?           | bmw         | gas         | std         | four        | sedan       | rwd         | front       | 103.5       | ...         | 209         | mpfi        | 3.62        | 3.39        |  8.0        | 182         | 5400        | 16          | 22          | 30760       | \n",
       "| 0           | ?           | bmw         | gas         | std         | two         | sedan       | rwd         | front       | 103.5       | ...         | 209         | mpfi        | 3.62        | 3.39        |  8.0        | 182         | 5400        | 16          | 22          | 41315       | \n",
       "| 0           | ?           | bmw         | gas         | std         | four        | sedan       | rwd         | front       | 110.0       | ...         | 209         | mpfi        | 3.62        | 3.39        |  8.0        | 182         | 5400        | 15          | 20          | 36880       | \n",
       "| 2           | 121         | chevrolet   | gas         | std         | two         | hatchback   | fwd         | front       |  88.4       | ...         |  61         | 2bbl        | 2.91        | 3.03        |  9.5        | 48          | 5100        | 47          | 53          | 5151        | \n",
       "| 1           | 98          | chevrolet   | gas         | std         | two         | hatchback   | fwd         | front       |  94.5       | ...         |  90         | 2bbl        | 3.03        | 3.11        |  9.6        | 70          | 5400        | 38          | 43          | 6295        | \n",
       "\n",
       "\n"
      ],
      "text/plain": [
       "   symboling normalized.losses make        fuel.type aspiration num.of.doors\n",
       "1  3         ?                 alfa-romero gas       std        two         \n",
       "2  3         ?                 alfa-romero gas       std        two         \n",
       "3  1         ?                 alfa-romero gas       std        two         \n",
       "4  2         164               audi        gas       std        four        \n",
       "5  2         164               audi        gas       std        four        \n",
       "6  2         ?                 audi        gas       std        two         \n",
       "7  1         158               audi        gas       std        four        \n",
       "8  1         ?                 audi        gas       std        four        \n",
       "9  1         158               audi        gas       turbo      four        \n",
       "10 0         ?                 audi        gas       turbo      two         \n",
       "11 2         192               bmw         gas       std        two         \n",
       "12 0         192               bmw         gas       std        four        \n",
       "13 0         188               bmw         gas       std        two         \n",
       "14 0         188               bmw         gas       std        four        \n",
       "15 1         ?                 bmw         gas       std        four        \n",
       "16 0         ?                 bmw         gas       std        four        \n",
       "17 0         ?                 bmw         gas       std        two         \n",
       "18 0         ?                 bmw         gas       std        four        \n",
       "19 2         121               chevrolet   gas       std        two         \n",
       "20 1         98                chevrolet   gas       std        two         \n",
       "   body.style  drive.wheels engine.location wheel.base ... engine.size\n",
       "1  convertible rwd          front            88.6      ... 130        \n",
       "2  convertible rwd          front            88.6      ... 130        \n",
       "3  hatchback   rwd          front            94.5      ... 152        \n",
       "4  sedan       fwd          front            99.8      ... 109        \n",
       "5  sedan       4wd          front            99.4      ... 136        \n",
       "6  sedan       fwd          front            99.8      ... 136        \n",
       "7  sedan       fwd          front           105.8      ... 136        \n",
       "8  wagon       fwd          front           105.8      ... 136        \n",
       "9  sedan       fwd          front           105.8      ... 131        \n",
       "10 hatchback   4wd          front            99.5      ... 131        \n",
       "11 sedan       rwd          front           101.2      ... 108        \n",
       "12 sedan       rwd          front           101.2      ... 108        \n",
       "13 sedan       rwd          front           101.2      ... 164        \n",
       "14 sedan       rwd          front           101.2      ... 164        \n",
       "15 sedan       rwd          front           103.5      ... 164        \n",
       "16 sedan       rwd          front           103.5      ... 209        \n",
       "17 sedan       rwd          front           103.5      ... 209        \n",
       "18 sedan       rwd          front           110.0      ... 209        \n",
       "19 hatchback   fwd          front            88.4      ...  61        \n",
       "20 hatchback   fwd          front            94.5      ...  90        \n",
       "   fuel.system bore stroke compression.ratio horsepower peak.rpm city.mpg\n",
       "1  mpfi        3.47 2.68    9.0              111        5000     21      \n",
       "2  mpfi        3.47 2.68    9.0              111        5000     21      \n",
       "3  mpfi        2.68 3.47    9.0              154        5000     19      \n",
       "4  mpfi        3.19 3.40   10.0              102        5500     24      \n",
       "5  mpfi        3.19 3.40    8.0              115        5500     18      \n",
       "6  mpfi        3.19 3.40    8.5              110        5500     19      \n",
       "7  mpfi        3.19 3.40    8.5              110        5500     19      \n",
       "8  mpfi        3.19 3.40    8.5              110        5500     19      \n",
       "9  mpfi        3.13 3.40    8.3              140        5500     17      \n",
       "10 mpfi        3.13 3.40    7.0              160        5500     16      \n",
       "11 mpfi        3.50 2.80    8.8              101        5800     23      \n",
       "12 mpfi        3.50 2.80    8.8              101        5800     23      \n",
       "13 mpfi        3.31 3.19    9.0              121        4250     21      \n",
       "14 mpfi        3.31 3.19    9.0              121        4250     21      \n",
       "15 mpfi        3.31 3.19    9.0              121        4250     20      \n",
       "16 mpfi        3.62 3.39    8.0              182        5400     16      \n",
       "17 mpfi        3.62 3.39    8.0              182        5400     16      \n",
       "18 mpfi        3.62 3.39    8.0              182        5400     15      \n",
       "19 2bbl        2.91 3.03    9.5              48         5100     47      \n",
       "20 2bbl        3.03 3.11    9.6              70         5400     38      \n",
       "   highway.mpg price\n",
       "1  27          13495\n",
       "2  27          16500\n",
       "3  26          16500\n",
       "4  30          13950\n",
       "5  22          17450\n",
       "6  25          15250\n",
       "7  25          17710\n",
       "8  25          18920\n",
       "9  20          23875\n",
       "10 22          ?    \n",
       "11 29          16430\n",
       "12 29          16925\n",
       "13 28          20970\n",
       "14 28          21105\n",
       "15 25          24565\n",
       "16 22          30760\n",
       "17 22          41315\n",
       "18 20          36880\n",
       "19 53          5151 \n",
       "20 43          6295 "
      ]
     },
     "metadata": {},
     "output_type": "display_data"
    }
   ],
   "source": [
    "auto_prices = read.csv('Automobile price data _Raw_.csv', stringsAsFactors = FALSE, header = TRUE)\n",
    "head(auto_prices,20)"
   ]
  },
  {
   "cell_type": "markdown",
   "metadata": {},
   "source": [
    "### Treat missing values\n",
    "\n",
    "**Missing values** are a common problem in data set. Failure to deal with missing values before training a machine learning model will lead to biased training at best, and in many cases actual failure. Many R models will not process arrays with missing values. \n",
    "\n",
    "There are two problems that must be dealt with when treating missing values:\n",
    "1. First you must find the missing values. This can be difficult as there is no standard way missing values are coded. Some common possibilities for missing values are:\n",
    "  - Coded by some particular character string, or numeric value like -999. \n",
    "  - A NULL value or numeric missing value such as a NaN. \n",
    "2. You must determine how to treat the missing values:\n",
    "  - Remove features with substantial numbers of missing values. In many cases, such features are likely to have little information value. \n",
    "  - Remove rows with missing values. If there are only a few rows with missing values it might be easier and more certain to simply remove them. \n",
    "  - Impute values. Imputation can be done with simple algorithms such as replacing the missing values with the mean or median value. There are also complex statistical methods such as the expectation maximization (EM) or SMOTE algorithms. \n",
    "  - Use nearest neighbor values. Alternatives for nearest neighbor values include, averaging, forward filling or backward filling. \n",
    "  \n",
    "Carefully observe the first few cases from the data frame and notice that missing values are coded with a '?' character. Execute the code in the cell below to identify the columns with missing values."
   ]
  },
  {
   "cell_type": "code",
   "execution_count": 3,
   "metadata": {},
   "outputs": [
    {
     "data": {
      "text/html": [
       "<dl>\n",
       "\t<dt>$symboling</dt>\n",
       "\t\t<dd>FALSE</dd>\n",
       "\t<dt>$normalized.losses</dt>\n",
       "\t\t<dd>TRUE</dd>\n",
       "\t<dt>$make</dt>\n",
       "\t\t<dd>FALSE</dd>\n",
       "\t<dt>$fuel.type</dt>\n",
       "\t\t<dd>FALSE</dd>\n",
       "\t<dt>$aspiration</dt>\n",
       "\t\t<dd>FALSE</dd>\n",
       "\t<dt>$num.of.doors</dt>\n",
       "\t\t<dd>TRUE</dd>\n",
       "\t<dt>$body.style</dt>\n",
       "\t\t<dd>FALSE</dd>\n",
       "\t<dt>$drive.wheels</dt>\n",
       "\t\t<dd>FALSE</dd>\n",
       "\t<dt>$engine.location</dt>\n",
       "\t\t<dd>FALSE</dd>\n",
       "\t<dt>$wheel.base</dt>\n",
       "\t\t<dd>FALSE</dd>\n",
       "\t<dt>$length</dt>\n",
       "\t\t<dd>FALSE</dd>\n",
       "\t<dt>$width</dt>\n",
       "\t\t<dd>FALSE</dd>\n",
       "\t<dt>$height</dt>\n",
       "\t\t<dd>FALSE</dd>\n",
       "\t<dt>$curb.weight</dt>\n",
       "\t\t<dd>FALSE</dd>\n",
       "\t<dt>$engine.type</dt>\n",
       "\t\t<dd>FALSE</dd>\n",
       "\t<dt>$num.of.cylinders</dt>\n",
       "\t\t<dd>FALSE</dd>\n",
       "\t<dt>$engine.size</dt>\n",
       "\t\t<dd>FALSE</dd>\n",
       "\t<dt>$fuel.system</dt>\n",
       "\t\t<dd>FALSE</dd>\n",
       "\t<dt>$bore</dt>\n",
       "\t\t<dd>TRUE</dd>\n",
       "\t<dt>$stroke</dt>\n",
       "\t\t<dd>TRUE</dd>\n",
       "\t<dt>$compression.ratio</dt>\n",
       "\t\t<dd>FALSE</dd>\n",
       "\t<dt>$horsepower</dt>\n",
       "\t\t<dd>TRUE</dd>\n",
       "\t<dt>$peak.rpm</dt>\n",
       "\t\t<dd>TRUE</dd>\n",
       "\t<dt>$city.mpg</dt>\n",
       "\t\t<dd>FALSE</dd>\n",
       "\t<dt>$highway.mpg</dt>\n",
       "\t\t<dd>FALSE</dd>\n",
       "\t<dt>$price</dt>\n",
       "\t\t<dd>TRUE</dd>\n",
       "</dl>\n"
      ],
      "text/latex": [
       "\\begin{description}\n",
       "\\item[\\$symboling] FALSE\n",
       "\\item[\\$normalized.losses] TRUE\n",
       "\\item[\\$make] FALSE\n",
       "\\item[\\$fuel.type] FALSE\n",
       "\\item[\\$aspiration] FALSE\n",
       "\\item[\\$num.of.doors] TRUE\n",
       "\\item[\\$body.style] FALSE\n",
       "\\item[\\$drive.wheels] FALSE\n",
       "\\item[\\$engine.location] FALSE\n",
       "\\item[\\$wheel.base] FALSE\n",
       "\\item[\\$length] FALSE\n",
       "\\item[\\$width] FALSE\n",
       "\\item[\\$height] FALSE\n",
       "\\item[\\$curb.weight] FALSE\n",
       "\\item[\\$engine.type] FALSE\n",
       "\\item[\\$num.of.cylinders] FALSE\n",
       "\\item[\\$engine.size] FALSE\n",
       "\\item[\\$fuel.system] FALSE\n",
       "\\item[\\$bore] TRUE\n",
       "\\item[\\$stroke] TRUE\n",
       "\\item[\\$compression.ratio] FALSE\n",
       "\\item[\\$horsepower] TRUE\n",
       "\\item[\\$peak.rpm] TRUE\n",
       "\\item[\\$city.mpg] FALSE\n",
       "\\item[\\$highway.mpg] FALSE\n",
       "\\item[\\$price] TRUE\n",
       "\\end{description}\n"
      ],
      "text/markdown": [
       "$symboling\n",
       ":   FALSE\n",
       "$normalized.losses\n",
       ":   TRUE\n",
       "$make\n",
       ":   FALSE\n",
       "$fuel.type\n",
       ":   FALSE\n",
       "$aspiration\n",
       ":   FALSE\n",
       "$num.of.doors\n",
       ":   TRUE\n",
       "$body.style\n",
       ":   FALSE\n",
       "$drive.wheels\n",
       ":   FALSE\n",
       "$engine.location\n",
       ":   FALSE\n",
       "$wheel.base\n",
       ":   FALSE\n",
       "$length\n",
       ":   FALSE\n",
       "$width\n",
       ":   FALSE\n",
       "$height\n",
       ":   FALSE\n",
       "$curb.weight\n",
       ":   FALSE\n",
       "$engine.type\n",
       ":   FALSE\n",
       "$num.of.cylinders\n",
       ":   FALSE\n",
       "$engine.size\n",
       ":   FALSE\n",
       "$fuel.system\n",
       ":   FALSE\n",
       "$bore\n",
       ":   TRUE\n",
       "$stroke\n",
       ":   TRUE\n",
       "$compression.ratio\n",
       ":   FALSE\n",
       "$horsepower\n",
       ":   TRUE\n",
       "$peak.rpm\n",
       ":   TRUE\n",
       "$city.mpg\n",
       ":   FALSE\n",
       "$highway.mpg\n",
       ":   FALSE\n",
       "$price\n",
       ":   TRUE\n",
       "\n",
       "\n"
      ],
      "text/plain": [
       "$symboling\n",
       "[1] FALSE\n",
       "\n",
       "$normalized.losses\n",
       "[1] TRUE\n",
       "\n",
       "$make\n",
       "[1] FALSE\n",
       "\n",
       "$fuel.type\n",
       "[1] FALSE\n",
       "\n",
       "$aspiration\n",
       "[1] FALSE\n",
       "\n",
       "$num.of.doors\n",
       "[1] TRUE\n",
       "\n",
       "$body.style\n",
       "[1] FALSE\n",
       "\n",
       "$drive.wheels\n",
       "[1] FALSE\n",
       "\n",
       "$engine.location\n",
       "[1] FALSE\n",
       "\n",
       "$wheel.base\n",
       "[1] FALSE\n",
       "\n",
       "$length\n",
       "[1] FALSE\n",
       "\n",
       "$width\n",
       "[1] FALSE\n",
       "\n",
       "$height\n",
       "[1] FALSE\n",
       "\n",
       "$curb.weight\n",
       "[1] FALSE\n",
       "\n",
       "$engine.type\n",
       "[1] FALSE\n",
       "\n",
       "$num.of.cylinders\n",
       "[1] FALSE\n",
       "\n",
       "$engine.size\n",
       "[1] FALSE\n",
       "\n",
       "$fuel.system\n",
       "[1] FALSE\n",
       "\n",
       "$bore\n",
       "[1] TRUE\n",
       "\n",
       "$stroke\n",
       "[1] TRUE\n",
       "\n",
       "$compression.ratio\n",
       "[1] FALSE\n",
       "\n",
       "$horsepower\n",
       "[1] TRUE\n",
       "\n",
       "$peak.rpm\n",
       "[1] TRUE\n",
       "\n",
       "$city.mpg\n",
       "[1] FALSE\n",
       "\n",
       "$highway.mpg\n",
       "[1] FALSE\n",
       "\n",
       "$price\n",
       "[1] TRUE\n"
      ]
     },
     "metadata": {},
     "output_type": "display_data"
    }
   ],
   "source": [
    "#(auto_prices == '?').any\n",
    "lapply(auto_prices, function(x){any(x == '?')})"
   ]
  },
  {
   "cell_type": "markdown",
   "metadata": {},
   "source": [
    "Execute the code in the cell below to display the data types of each column and a sample of the values."
   ]
  },
  {
   "cell_type": "code",
   "execution_count": 4,
   "metadata": {},
   "outputs": [
    {
     "name": "stdout",
     "output_type": "stream",
     "text": [
      "'data.frame':\t205 obs. of  26 variables:\n",
      " $ symboling        : int  3 3 1 2 2 2 1 1 1 0 ...\n",
      " $ normalized.losses: chr  \"?\" \"?\" \"?\" \"164\" ...\n",
      " $ make             : chr  \"alfa-romero\" \"alfa-romero\" \"alfa-romero\" \"audi\" ...\n",
      " $ fuel.type        : chr  \"gas\" \"gas\" \"gas\" \"gas\" ...\n",
      " $ aspiration       : chr  \"std\" \"std\" \"std\" \"std\" ...\n",
      " $ num.of.doors     : chr  \"two\" \"two\" \"two\" \"four\" ...\n",
      " $ body.style       : chr  \"convertible\" \"convertible\" \"hatchback\" \"sedan\" ...\n",
      " $ drive.wheels     : chr  \"rwd\" \"rwd\" \"rwd\" \"fwd\" ...\n",
      " $ engine.location  : chr  \"front\" \"front\" \"front\" \"front\" ...\n",
      " $ wheel.base       : num  88.6 88.6 94.5 99.8 99.4 ...\n",
      " $ length           : num  169 169 171 177 177 ...\n",
      " $ width            : num  64.1 64.1 65.5 66.2 66.4 66.3 71.4 71.4 71.4 67.9 ...\n",
      " $ height           : num  48.8 48.8 52.4 54.3 54.3 53.1 55.7 55.7 55.9 52 ...\n",
      " $ curb.weight      : int  2548 2548 2823 2337 2824 2507 2844 2954 3086 3053 ...\n",
      " $ engine.type      : chr  \"dohc\" \"dohc\" \"ohcv\" \"ohc\" ...\n",
      " $ num.of.cylinders : chr  \"four\" \"four\" \"six\" \"four\" ...\n",
      " $ engine.size      : int  130 130 152 109 136 136 136 136 131 131 ...\n",
      " $ fuel.system      : chr  \"mpfi\" \"mpfi\" \"mpfi\" \"mpfi\" ...\n",
      " $ bore             : chr  \"3.47\" \"3.47\" \"2.68\" \"3.19\" ...\n",
      " $ stroke           : chr  \"2.68\" \"2.68\" \"3.47\" \"3.40\" ...\n",
      " $ compression.ratio: num  9 9 9 10 8 8.5 8.5 8.5 8.3 7 ...\n",
      " $ horsepower       : chr  \"111\" \"111\" \"154\" \"102\" ...\n",
      " $ peak.rpm         : chr  \"5000\" \"5000\" \"5000\" \"5500\" ...\n",
      " $ city.mpg         : int  21 21 19 24 18 19 19 19 17 16 ...\n",
      " $ highway.mpg      : int  27 27 26 30 22 25 25 25 20 22 ...\n",
      " $ price            : chr  \"13495\" \"16500\" \"16500\" \"13950\" ...\n"
     ]
    }
   ],
   "source": [
    "str(auto_prices)"
   ]
  },
  {
   "cell_type": "markdown",
   "metadata": {},
   "source": [
    "Compare the columns with missing values to their data types. In all cases, the columns with missing values have a `character` type as a result of using the '?' code. As a result, some columns that should be numeric (bore, stroke, horsepower, peak.rpm, and price) are coded as `character`.\n",
    "\n",
    "The next question is how many missing values are in each of these `character` type columns? Execute the code in the cell below to display the counts of missing values. "
   ]
  },
  {
   "cell_type": "code",
   "execution_count": 5,
   "metadata": {},
   "outputs": [
    {
     "name": "stdout",
     "output_type": "stream",
     "text": [
      "normalized.losses 41 \n",
      "make 0 \n",
      "fuel.type 0 \n",
      "aspiration 0 \n",
      "num.of.doors 2 \n",
      "body.style 0 \n",
      "drive.wheels 0 \n",
      "engine.location 0 \n",
      "engine.type 0 \n",
      "num.of.cylinders 0 \n",
      "fuel.system 0 \n",
      "bore 4 \n",
      "stroke 4 \n",
      "horsepower 2 \n",
      "peak.rpm 2 \n",
      "price 4 \n"
     ]
    }
   ],
   "source": [
    "for(col in names(auto_prices)){\n",
    "    if(is.character(auto_prices[,col])){\n",
    "        count = sum(ifelse(auto_prices[,col] == '?', 1, 0))\n",
    "        cat(paste(col, as.character(count), '\\n'))\n",
    "    }\n",
    "}"
   ]
  },
  {
   "cell_type": "markdown",
   "metadata": {},
   "source": [
    "The `normalize.losses` column has a significant number of missing values and will be removed. Columns that should be numeric, but contain missing values, are processed in the following manner:\n",
    "1. The '?' values are replaced with R `NA` values.\n",
    "2. Rows containing `NA` values are removed with `complete.cases`. \n",
    "\n",
    "Execute this code, noticing the resulting shape of the data frame. "
   ]
  },
  {
   "cell_type": "code",
   "execution_count": 6,
   "metadata": {},
   "outputs": [
    {
     "data": {
      "text/html": [
       "<ol class=list-inline>\n",
       "\t<li>195</li>\n",
       "\t<li>25</li>\n",
       "</ol>\n"
      ],
      "text/latex": [
       "\\begin{enumerate*}\n",
       "\\item 195\n",
       "\\item 25\n",
       "\\end{enumerate*}\n"
      ],
      "text/markdown": [
       "1. 195\n",
       "2. 25\n",
       "\n",
       "\n"
      ],
      "text/plain": [
       "[1] 195  25"
      ]
     },
     "metadata": {},
     "output_type": "display_data"
    }
   ],
   "source": [
    "## Drop column with too many missing values\n",
    "auto_prices[,'normalized.losses'] = NULL\n",
    "## Remove rows with missing values, accounting for mising values coded as '?'\n",
    "cols = c('price', 'bore', 'stroke', 'horsepower', 'peak.rpm')\n",
    "auto_prices[,cols] = lapply(auto_prices[,cols], function(x){ifelse(x == '?', NA, x)})\n",
    "auto_prices = auto_prices[complete.cases(auto_prices[,cols]),]\n",
    "dim(auto_prices)"
   ]
  },
  {
   "cell_type": "markdown",
   "metadata": {},
   "source": [
    "The data set now contains 195 cases and 25 columns. 10 rows have been dropped by removing missing values. "
   ]
  },
  {
   "cell_type": "markdown",
   "metadata": {},
   "source": [
    "### Transform column data type\n",
    "\n",
    "As has been previously noted, there are five columns in this dataset which do not have the correct type as a result of missing values. This is a common situation, as the methods used to automatically determine data type when loading files can fail when missing values are present. \n",
    "\n",
    "The code in the cell below iterates over a list of columns setting them to numeric. Execute this code and observe the resulting  types."
   ]
  },
  {
   "cell_type": "code",
   "execution_count": 7,
   "metadata": {},
   "outputs": [
    {
     "name": "stdout",
     "output_type": "stream",
     "text": [
      "'data.frame':\t195 obs. of  5 variables:\n",
      " $ price     : num  13495 16500 16500 13950 17450 ...\n",
      " $ bore      : num  3.47 3.47 2.68 3.19 3.19 3.19 3.19 3.19 3.13 3.5 ...\n",
      " $ stroke    : num  2.68 2.68 3.47 3.4 3.4 3.4 3.4 3.4 3.4 2.8 ...\n",
      " $ horsepower: num  111 111 154 102 115 110 110 110 140 101 ...\n",
      " $ peak.rpm  : num  5000 5000 5000 5500 5500 5500 5500 5500 5500 5800 ...\n"
     ]
    }
   ],
   "source": [
    "auto_prices[,cols] = lapply(auto_prices[,cols], as.numeric)\n",
    "str(auto_prices[,cols])"
   ]
  },
  {
   "cell_type": "markdown",
   "metadata": {},
   "source": [
    "### Feature engineering and transforming variables\n",
    "\n",
    "In most cases, machine learning is not performed using raw features. Features are transformed, or combined to form new features in forms which are more predictive This process is known as **feature engineering**. In many cases, good feature engineering is more important than the details of the machine learning model used. It is often the case that good features can make even poor machine learning models work well, whereas, given poor features even the best machine learning model will produce poor results. Some common approaches to feature engineering include:\n",
    "- **Aggregating categories** of categorical variables to reduce the number. Categorical features or labels with too many unique categories will limit the predictive power of a machine learning model. Aggregating categories can improve this situation, sometime greatly. However, one must be careful. It only makes sense to aggregate categories that are similar in the domain of the problem. Thus, domain expertise must be applied. \n",
    "- **Transforming numeric variables** to improve their distribution properties to make them more covariate with other variables. This process can be applied not only to features, but to labels for regression problems. Some common transformations include, **logarithmic** and **power** included squares and square roots. \n",
    "- **Compute new features** from two or more existing features. These new features are often referred to as **interaction terms**. An interaction occurs when the behavior of say, the produce of the values of two features, is significantly more predictive than the two features by themselves. Consider the probability of purchase for a luxury mens' shoe. This probability depends on the interaction of the user being a man and the buyer being wealthy. As another example, consider the number of expected riders on a bus route. This value will depend on the interaction between the time of day and if it is a holiday. "
   ]
  },
  {
   "cell_type": "markdown",
   "metadata": {},
   "source": [
    "#### Aggregating categorical variables\n",
    "\n",
    "When a dataset contains categorical variables these need to be investigated to ensure that each category has sufficient samples. It is commonly the case that some categories may have very few samples, or have so many similar categories as to be meaningless. \n",
    "\n",
    "As a specific case, you will examine the number of cylinders in the cars. Execute the code in the cell below to print a frequency table for this variable and examine the result. "
   ]
  },
  {
   "cell_type": "code",
   "execution_count": 8,
   "metadata": {},
   "outputs": [
    {
     "data": {
      "text/plain": [
       "\n",
       " eight   five   four    six  three twelve \n",
       "     4     10    155     24      1      1 "
      ]
     },
     "metadata": {},
     "output_type": "display_data"
    }
   ],
   "source": [
    "table(auto_prices[,'num.of.cylinders'])"
   ]
  },
  {
   "cell_type": "markdown",
   "metadata": {},
   "source": [
    "Notice that there is only one car with three and twelve cylinders. There are only four cars with eight cylinders, and 10 cars with five cylinders. It is likely that all of these categories will not have statistically significant difference in predicting auto price. It is clear that these categories need to be aggregated. \n",
    "\n",
    "The code in the cell below uses a list with named elements to recode the number of cylinder categories into a smaller number categories. Notice that `out` vector is defined in advance. Execute this code and examine the resulting frequency table."
   ]
  },
  {
   "cell_type": "code",
   "execution_count": 9,
   "metadata": {},
   "outputs": [
    {
     "data": {
      "text/plain": [
       "\n",
       "eight_twelve     five_six   three_four \n",
       "           5           34          156 "
      ]
     },
     "metadata": {},
     "output_type": "display_data"
    }
   ],
   "source": [
    "cylinder_categories = c('three' = 'three_four', 'four' = 'three_four', \n",
    "                    'five' = 'five_six', 'six' = 'five_six',\n",
    "                    'eight' = 'eight_twelve', 'twelve' = 'eight_twelve')\n",
    "\n",
    "out = rep('i', length.out = nrow(auto_prices))\n",
    "i = 1\n",
    "for(x in auto_prices[,'num.of.cylinders']){\n",
    "    out[i] = cylinder_categories[[x]]\n",
    "    i = i + 1\n",
    "}\n",
    "auto_prices[,'num.of.cylinders'] = out\n",
    "\n",
    "table(auto_prices[,'num.of.cylinders'])"
   ]
  },
  {
   "cell_type": "markdown",
   "metadata": {},
   "source": [
    "There are now three categories. One of these categories only has five members. However, it is likely that these autos will have different pricing from others.\n",
    "\n",
    "Next, execute the code in the cell below to make box plots of the new cylinder categories."
   ]
  },
  {
   "cell_type": "code",
   "execution_count": 10,
   "metadata": {},
   "outputs": [
    {
     "data": {},
     "metadata": {},
     "output_type": "display_data"
    },
    {
     "data": {
      "image/png": "[encoded data removed]",
      "text/plain": [
       "plot without title"
      ]
     },
     "metadata": {},
     "output_type": "display_data"
    }
   ],
   "source": [
    "ggplot(auto_prices, aes(num.of.cylinders,price)) + \n",
    "       geom_boxplot()"
   ]
  },
  {
   "cell_type": "markdown",
   "metadata": {},
   "source": [
    "Indeed, the price range of these categories is distinctive. It is likely that these new categories will be useful in predicting the price of autos. \n",
    "\n",
    "Now, execute the code in the cell below and examine the frequency table for the `body.style` feature."
   ]
  },
  {
   "cell_type": "code",
   "execution_count": 11,
   "metadata": {},
   "outputs": [
    {
     "data": {
      "text/plain": [
       "\n",
       "convertible     hardtop   hatchback       sedan       wagon \n",
       "          6           8          63          94          24 "
      ]
     },
     "metadata": {},
     "output_type": "display_data"
    }
   ],
   "source": [
    "table(auto_prices[,'body.style'])"
   ]
  },
  {
   "cell_type": "markdown",
   "metadata": {},
   "source": [
    "Two of these categories have a limited number of cases. These categories can be aggregated to increase the number of cases using a similar approach as used for the number of cylinders. Execute the code in the cell below to aggregate these categories."
   ]
  },
  {
   "cell_type": "code",
   "execution_count": 12,
   "metadata": {},
   "outputs": [
    {
     "data": {
      "text/plain": [
       "\n",
       "hardtop_convert       hatchback           sedan           wagon \n",
       "             14              63              94              24 "
      ]
     },
     "metadata": {},
     "output_type": "display_data"
    }
   ],
   "source": [
    "body_cats = c('sedan' = 'sedan', 'hatchback' = 'hatchback', 'wagon' = 'wagon', \n",
    "             'hardtop' = 'hardtop_convert', 'convertible' = 'hardtop_convert')\n",
    "\n",
    "out = rep('i', length.out = nrow(auto_prices))\n",
    "i = 1\n",
    "for(x in auto_prices[,'body.style']){\n",
    "    out[i] = body_cats[[x]]\n",
    "    i = i + 1\n",
    "}\n",
    "auto_prices[,'body.style'] = out\n",
    "\n",
    "table(auto_prices[,'body.style'])"
   ]
  },
  {
   "cell_type": "markdown",
   "metadata": {},
   "source": [
    "To investigate if this aggregation of categories was a good idea, execute the code in the cell below to display a box plot. \n",
    "\n",
    "Then, answer **Question 1** on the course page."
   ]
  },
  {
   "cell_type": "code",
   "execution_count": 13,
   "metadata": {},
   "outputs": [
    {
     "data": {},
     "metadata": {},
     "output_type": "display_data"
    },
    {
     "data": {
      "image/png": "[encoded data removed]",
      "text/plain": [
       "plot without title"
      ]
     },
     "metadata": {},
     "output_type": "display_data"
    }
   ],
   "source": [
    "ggplot(auto_prices, aes(body.style,price)) + \n",
    "       geom_boxplot()  "
   ]
  },
  {
   "cell_type": "markdown",
   "metadata": {},
   "source": [
    "The `hardtop_convert` category does appear to have values distinct from the other body style. "
   ]
  },
  {
   "cell_type": "markdown",
   "metadata": {},
   "source": [
    "#### Transforming numeric variables\n",
    "\n",
    "To improve performance of machine learning models transformations of the values are often applied. Typically, transformations are used to make the relationships between variables more linear. In other cases, transformations are performed to make distributions closer to Normal, or at least more symmetric. These transformations can include taking logarithms, exponential transformations and power transformations. \n",
    "\n",
    "In this case, you will transform the label, the price of the car. Execute the code in the cell below to display and examine a histogram of the label. "
   ]
  },
  {
   "cell_type": "code",
   "execution_count": 14,
   "metadata": {},
   "outputs": [
    {
     "data": {
      "image/png": "[encoded data removed]",
      "text/plain": [
       "plot without title"
      ]
     },
     "metadata": {},
     "output_type": "display_data"
    }
   ],
   "source": [
    "plot_hist = function(df, col = 'price', bins = 10){\n",
    "    options(repr.plot.width=4, repr.plot.height=3) # Set the initial plot area dimensions\n",
    "    bw = (max(df[,col]) - min(df[,col]))/(bins + 1)\n",
    "    p = ggplot(df, aes_string(col)) + \n",
    "               geom_histogram(binwidth = bw, aes(y=..density..), alpha = 0.5) +\n",
    "               geom_density(aes(y=..density..), color = 'blue') + \n",
    "               geom_rug()\n",
    "    print(p)\n",
    "}    \n",
    "plot_hist(auto_prices)    "
   ]
  },
  {
   "cell_type": "markdown",
   "metadata": {},
   "source": [
    "The distribution of auto price is both quite skewed to the left and multi-modal. Given the skew and the fact that there are no values less than or equal to zero, a log transformation might be appropriate.\n",
    "\n",
    "The code in the cell below displays a histogram of the logarithm of prices. Execute this code and examine the result."
   ]
  },
  {
   "cell_type": "code",
   "execution_count": 15,
   "metadata": {},
   "outputs": [
    {
     "data": {
      "image/png": "[encoded data removed]",
      "text/plain": [
       "plot without title"
      ]
     },
     "metadata": {},
     "output_type": "display_data"
    }
   ],
   "source": [
    "auto_prices[, 'log_price'] = log(auto_prices[,'price'])\n",
    "plot_hist(auto_prices, col = 'log_price')"
   ]
  },
  {
   "cell_type": "markdown",
   "metadata": {},
   "source": [
    "The distribution of the logarithm of price is more symmetric, but still shows some multi-modal tendency and skew. None-the-less, this is an improvement so we will use these values as our label.\n",
    "\n",
    "The next question is, how does this transformation change the relationship between the label and some of the features? To find out, execute the code in the cell below. "
   ]
  },
  {
   "cell_type": "code",
   "execution_count": 16,
   "metadata": {},
   "outputs": [
    {
     "data": {
      "image/png": "[encoded data removed]",
      "text/plain": [
       "plot without title"
      ]
     },
     "metadata": {},
     "output_type": "display_data"
    },
    {
     "data": {
      "image/png": "[encoded data removed]",
      "text/plain": [
       "plot without title"
      ]
     },
     "metadata": {},
     "output_type": "display_data"
    },
    {
     "data": {
      "image/png": "[encoded data removed]",
      "text/plain": [
       "plot without title"
      ]
     },
     "metadata": {},
     "output_type": "display_data"
    },
    {
     "data": {
      "image/png": "[encoded data removed]",
      "text/plain": [
       "plot without title"
      ]
     },
     "metadata": {},
     "output_type": "display_data"
    }
   ],
   "source": [
    "plot_scatter_sp = function(df, cols, col_y = 'log_price', alpha = 1.0){\n",
    "    options(repr.plot.width=5, repr.plot.height=3.5) # Set the initial plot area dimensions\n",
    "    for(col in cols){\n",
    "        p = ggplot(df, aes_string(col, col_y)) + \n",
    "                   geom_point(aes(shape = factor(fuel.type)), alpha = alpha) +\n",
    "                   ggtitle(paste('Scatter plot of', col_y, 'vs.', col, '\\n with shape by fuel type'))\n",
    "        print(p)\n",
    "    }\n",
    "}\n",
    "\n",
    "num_cols = c('curb.weight', 'engine.size', 'horsepower', 'city.mpg')\n",
    "plot_scatter_sp(auto_prices, num_cols, alpha = 0.2)"
   ]
  },
  {
   "cell_type": "markdown",
   "metadata": {},
   "source": [
    "Comparing the results to those obtained in the visualization lab, it does appear that the relationships between curb.weight and log_price and city.mpg and log_price are more linear. \n",
    "\n",
    "The relationship with the log_price and categorical variables should likely also be investigated. It is also possible that some type of power transformation should be applied to, say horsepower or engine size. In the interest of brevity, these ideas are not pursued here. \n",
    "\n",
    "Before proceeding, answer **Question 2** on the course page."
   ]
  },
  {
   "cell_type": "code",
   "execution_count": 17,
   "metadata": {},
   "outputs": [],
   "source": [
    "# Let's save the dataframe to a csv file \n",
    "# We will use this in the next module so that we don't have to re-do the steps above\n",
    "# You don't have to run this code as the csv file has been saved under the next module's folder\n",
    "#write.csv(auto_prices, file = 'Auto_Prices_Preped.csv', row.names = FALSE)"
   ]
  },
  {
   "cell_type": "markdown",
   "metadata": {},
   "source": [
    "## Another example\n",
    "\n",
    "Next, you will prepare the German credit data. Execute the code in the cell below  to load the dataset and print the head (first 5 rows) of the dataframe."
   ]
  },
  {
   "cell_type": "code",
   "execution_count": 18,
   "metadata": {},
   "outputs": [
    {
     "data": {
      "text/html": [
       "<table>\n",
       "<thead><tr><th scope=col>V1</th><th scope=col>V2</th><th scope=col>V3</th><th scope=col>V4</th><th scope=col>V5</th><th scope=col>V6</th><th scope=col>V7</th><th scope=col>V8</th><th scope=col>V9</th><th scope=col>V10</th><th scope=col>...</th><th scope=col>V13</th><th scope=col>V14</th><th scope=col>V15</th><th scope=col>V16</th><th scope=col>V17</th><th scope=col>V18</th><th scope=col>V19</th><th scope=col>V20</th><th scope=col>V21</th><th scope=col>V22</th></tr></thead>\n",
       "<tbody>\n",
       "\t<tr><td>1122334</td><td>A11    </td><td> 6     </td><td>A34    </td><td>A43    </td><td>1169   </td><td>A65    </td><td>A75    </td><td>4      </td><td>A93    </td><td>...    </td><td>A121   </td><td>67     </td><td>A143   </td><td>A152   </td><td>2      </td><td>A173   </td><td>1      </td><td>A192   </td><td>A201   </td><td>1      </td></tr>\n",
       "\t<tr><td>6156361</td><td>A12    </td><td>48     </td><td>A32    </td><td>A43    </td><td>5951   </td><td>A61    </td><td>A73    </td><td>2      </td><td>A92    </td><td>...    </td><td>A121   </td><td>22     </td><td>A143   </td><td>A152   </td><td>1      </td><td>A173   </td><td>1      </td><td>A191   </td><td>A201   </td><td>2      </td></tr>\n",
       "\t<tr><td>2051359</td><td>A14    </td><td>12     </td><td>A34    </td><td>A46    </td><td>2096   </td><td>A61    </td><td>A74    </td><td>2      </td><td>A93    </td><td>...    </td><td>A121   </td><td>49     </td><td>A143   </td><td>A152   </td><td>1      </td><td>A172   </td><td>2      </td><td>A191   </td><td>A201   </td><td>1      </td></tr>\n",
       "\t<tr><td>8740590</td><td>A11    </td><td>42     </td><td>A32    </td><td>A42    </td><td>7882   </td><td>A61    </td><td>A74    </td><td>2      </td><td>A93    </td><td>...    </td><td>A122   </td><td>45     </td><td>A143   </td><td>A153   </td><td>1      </td><td>A173   </td><td>2      </td><td>A191   </td><td>A201   </td><td>1      </td></tr>\n",
       "\t<tr><td>3924540</td><td>A11    </td><td>24     </td><td>A33    </td><td>A40    </td><td>4870   </td><td>A61    </td><td>A73    </td><td>3      </td><td>A93    </td><td>...    </td><td>A124   </td><td>53     </td><td>A143   </td><td>A153   </td><td>2      </td><td>A173   </td><td>2      </td><td>A191   </td><td>A201   </td><td>2      </td></tr>\n",
       "</tbody>\n",
       "</table>\n"
      ],
      "text/latex": [
       "\\begin{tabular}{r|llllllllllllllllllllll}\n",
       " V1 & V2 & V3 & V4 & V5 & V6 & V7 & V8 & V9 & V10 & ... & V13 & V14 & V15 & V16 & V17 & V18 & V19 & V20 & V21 & V22\\\\\n",
       "\\hline\n",
       "\t 1122334 & A11     &  6      & A34     & A43     & 1169    & A65     & A75     & 4       & A93     & ...     & A121    & 67      & A143    & A152    & 2       & A173    & 1       & A192    & A201    & 1      \\\\\n",
       "\t 6156361 & A12     & 48      & A32     & A43     & 5951    & A61     & A73     & 2       & A92     & ...     & A121    & 22      & A143    & A152    & 1       & A173    & 1       & A191    & A201    & 2      \\\\\n",
       "\t 2051359 & A14     & 12      & A34     & A46     & 2096    & A61     & A74     & 2       & A93     & ...     & A121    & 49      & A143    & A152    & 1       & A172    & 2       & A191    & A201    & 1      \\\\\n",
       "\t 8740590 & A11     & 42      & A32     & A42     & 7882    & A61     & A74     & 2       & A93     & ...     & A122    & 45      & A143    & A153    & 1       & A173    & 2       & A191    & A201    & 1      \\\\\n",
       "\t 3924540 & A11     & 24      & A33     & A40     & 4870    & A61     & A73     & 3       & A93     & ...     & A124    & 53      & A143    & A153    & 2       & A173    & 2       & A191    & A201    & 2      \\\\\n",
       "\\end{tabular}\n"
      ],
      "text/markdown": [
       "\n",
       "V1 | V2 | V3 | V4 | V5 | V6 | V7 | V8 | V9 | V10 | ... | V13 | V14 | V15 | V16 | V17 | V18 | V19 | V20 | V21 | V22 | \n",
       "|---|---|---|---|---|\n",
       "| 1122334 | A11     |  6      | A34     | A43     | 1169    | A65     | A75     | 4       | A93     | ...     | A121    | 67      | A143    | A152    | 2       | A173    | 1       | A192    | A201    | 1       | \n",
       "| 6156361 | A12     | 48      | A32     | A43     | 5951    | A61     | A73     | 2       | A92     | ...     | A121    | 22      | A143    | A152    | 1       | A173    | 1       | A191    | A201    | 2       | \n",
       "| 2051359 | A14     | 12      | A34     | A46     | 2096    | A61     | A74     | 2       | A93     | ...     | A121    | 49      | A143    | A152    | 1       | A172    | 2       | A191    | A201    | 1       | \n",
       "| 8740590 | A11     | 42      | A32     | A42     | 7882    | A61     | A74     | 2       | A93     | ...     | A122    | 45      | A143    | A153    | 1       | A173    | 2       | A191    | A201    | 1       | \n",
       "| 3924540 | A11     | 24      | A33     | A40     | 4870    | A61     | A73     | 3       | A93     | ...     | A124    | 53      | A143    | A153    | 2       | A173    | 2       | A191    | A201    | 2       | \n",
       "\n",
       "\n"
      ],
      "text/plain": [
       "  V1      V2  V3 V4  V5  V6   V7  V8  V9 V10 ... V13  V14 V15  V16  V17 V18 \n",
       "1 1122334 A11  6 A34 A43 1169 A65 A75 4  A93 ... A121 67  A143 A152 2   A173\n",
       "2 6156361 A12 48 A32 A43 5951 A61 A73 2  A92 ... A121 22  A143 A152 1   A173\n",
       "3 2051359 A14 12 A34 A46 2096 A61 A74 2  A93 ... A121 49  A143 A152 1   A172\n",
       "4 8740590 A11 42 A32 A42 7882 A61 A74 2  A93 ... A122 45  A143 A153 1   A173\n",
       "5 3924540 A11 24 A33 A40 4870 A61 A73 3  A93 ... A124 53  A143 A153 2   A173\n",
       "  V19 V20  V21  V22\n",
       "1 1   A192 A201 1  \n",
       "2 1   A191 A201 2  \n",
       "3 2   A191 A201 1  \n",
       "4 2   A191 A201 1  \n",
       "5 2   A191 A201 2  "
      ]
     },
     "metadata": {},
     "output_type": "display_data"
    }
   ],
   "source": [
    "credit = read.csv('German_Credit.csv', stringsAsFactors = FALSE, header = FALSE)\n",
    "head(credit, 5)"
   ]
  },
  {
   "cell_type": "markdown",
   "metadata": {},
   "source": [
    "This dataset is a bit hard to understand. For a start, the column names are not human readable. \n",
    "\n",
    "### Recode character strings \n",
    "\n",
    "You have likely noticed that the the column names are  not human readable. This can be changed as was done for the previous dataset. Execute the code in the cell below to add human-readable column names to the data frame. "
   ]
  },
  {
   "cell_type": "code",
   "execution_count": 19,
   "metadata": {},
   "outputs": [
    {
     "data": {
      "text/html": [
       "<table>\n",
       "<thead><tr><th scope=col>Customer_ID</th><th scope=col>checking_account_status</th><th scope=col>loan_duration_mo</th><th scope=col>credit_history</th><th scope=col>purpose</th><th scope=col>loan_amount</th><th scope=col>savings_account_balance</th><th scope=col>time_employed_yrs</th><th scope=col>payment_pcnt_income</th><th scope=col>gender_status</th><th scope=col>...</th><th scope=col>property</th><th scope=col>age_yrs</th><th scope=col>other_credit_outstanding</th><th scope=col>home_ownership</th><th scope=col>number_loans</th><th scope=col>job_category</th><th scope=col>dependents</th><th scope=col>telephone</th><th scope=col>foreign_worker</th><th scope=col>bad_credit</th></tr></thead>\n",
       "<tbody>\n",
       "\t<tr><td>1122334</td><td>A11    </td><td> 6     </td><td>A34    </td><td>A43    </td><td>1169   </td><td>A65    </td><td>A75    </td><td>4      </td><td>A93    </td><td>...    </td><td>A121   </td><td>67     </td><td>A143   </td><td>A152   </td><td>2      </td><td>A173   </td><td>1      </td><td>A192   </td><td>A201   </td><td>1      </td></tr>\n",
       "\t<tr><td>6156361</td><td>A12    </td><td>48     </td><td>A32    </td><td>A43    </td><td>5951   </td><td>A61    </td><td>A73    </td><td>2      </td><td>A92    </td><td>...    </td><td>A121   </td><td>22     </td><td>A143   </td><td>A152   </td><td>1      </td><td>A173   </td><td>1      </td><td>A191   </td><td>A201   </td><td>2      </td></tr>\n",
       "\t<tr><td>2051359</td><td>A14    </td><td>12     </td><td>A34    </td><td>A46    </td><td>2096   </td><td>A61    </td><td>A74    </td><td>2      </td><td>A93    </td><td>...    </td><td>A121   </td><td>49     </td><td>A143   </td><td>A152   </td><td>1      </td><td>A172   </td><td>2      </td><td>A191   </td><td>A201   </td><td>1      </td></tr>\n",
       "\t<tr><td>8740590</td><td>A11    </td><td>42     </td><td>A32    </td><td>A42    </td><td>7882   </td><td>A61    </td><td>A74    </td><td>2      </td><td>A93    </td><td>...    </td><td>A122   </td><td>45     </td><td>A143   </td><td>A153   </td><td>1      </td><td>A173   </td><td>2      </td><td>A191   </td><td>A201   </td><td>1      </td></tr>\n",
       "\t<tr><td>3924540</td><td>A11    </td><td>24     </td><td>A33    </td><td>A40    </td><td>4870   </td><td>A61    </td><td>A73    </td><td>3      </td><td>A93    </td><td>...    </td><td>A124   </td><td>53     </td><td>A143   </td><td>A153   </td><td>2      </td><td>A173   </td><td>2      </td><td>A191   </td><td>A201   </td><td>2      </td></tr>\n",
       "</tbody>\n",
       "</table>\n"
      ],
      "text/latex": [
       "\\begin{tabular}{r|llllllllllllllllllllll}\n",
       " Customer\\_ID & checking\\_account\\_status & loan\\_duration\\_mo & credit\\_history & purpose & loan\\_amount & savings\\_account\\_balance & time\\_employed\\_yrs & payment\\_pcnt\\_income & gender\\_status & ... & property & age\\_yrs & other\\_credit\\_outstanding & home\\_ownership & number\\_loans & job\\_category & dependents & telephone & foreign\\_worker & bad\\_credit\\\\\n",
       "\\hline\n",
       "\t 1122334 & A11     &  6      & A34     & A43     & 1169    & A65     & A75     & 4       & A93     & ...     & A121    & 67      & A143    & A152    & 2       & A173    & 1       & A192    & A201    & 1      \\\\\n",
       "\t 6156361 & A12     & 48      & A32     & A43     & 5951    & A61     & A73     & 2       & A92     & ...     & A121    & 22      & A143    & A152    & 1       & A173    & 1       & A191    & A201    & 2      \\\\\n",
       "\t 2051359 & A14     & 12      & A34     & A46     & 2096    & A61     & A74     & 2       & A93     & ...     & A121    & 49      & A143    & A152    & 1       & A172    & 2       & A191    & A201    & 1      \\\\\n",
       "\t 8740590 & A11     & 42      & A32     & A42     & 7882    & A61     & A74     & 2       & A93     & ...     & A122    & 45      & A143    & A153    & 1       & A173    & 2       & A191    & A201    & 1      \\\\\n",
       "\t 3924540 & A11     & 24      & A33     & A40     & 4870    & A61     & A73     & 3       & A93     & ...     & A124    & 53      & A143    & A153    & 2       & A173    & 2       & A191    & A201    & 2      \\\\\n",
       "\\end{tabular}\n"
      ],
      "text/markdown": [
       "\n",
       "Customer_ID | checking_account_status | loan_duration_mo | credit_history | purpose | loan_amount | savings_account_balance | time_employed_yrs | payment_pcnt_income | gender_status | ... | property | age_yrs | other_credit_outstanding | home_ownership | number_loans | job_category | dependents | telephone | foreign_worker | bad_credit | \n",
       "|---|---|---|---|---|\n",
       "| 1122334 | A11     |  6      | A34     | A43     | 1169    | A65     | A75     | 4       | A93     | ...     | A121    | 67      | A143    | A152    | 2       | A173    | 1       | A192    | A201    | 1       | \n",
       "| 6156361 | A12     | 48      | A32     | A43     | 5951    | A61     | A73     | 2       | A92     | ...     | A121    | 22      | A143    | A152    | 1       | A173    | 1       | A191    | A201    | 2       | \n",
       "| 2051359 | A14     | 12      | A34     | A46     | 2096    | A61     | A74     | 2       | A93     | ...     | A121    | 49      | A143    | A152    | 1       | A172    | 2       | A191    | A201    | 1       | \n",
       "| 8740590 | A11     | 42      | A32     | A42     | 7882    | A61     | A74     | 2       | A93     | ...     | A122    | 45      | A143    | A153    | 1       | A173    | 2       | A191    | A201    | 1       | \n",
       "| 3924540 | A11     | 24      | A33     | A40     | 4870    | A61     | A73     | 3       | A93     | ...     | A124    | 53      | A143    | A153    | 2       | A173    | 2       | A191    | A201    | 2       | \n",
       "\n",
       "\n"
      ],
      "text/plain": [
       "  Customer_ID checking_account_status loan_duration_mo credit_history purpose\n",
       "1 1122334     A11                      6               A34            A43    \n",
       "2 6156361     A12                     48               A32            A43    \n",
       "3 2051359     A14                     12               A34            A46    \n",
       "4 8740590     A11                     42               A32            A42    \n",
       "5 3924540     A11                     24               A33            A40    \n",
       "  loan_amount savings_account_balance time_employed_yrs payment_pcnt_income\n",
       "1 1169        A65                     A75               4                  \n",
       "2 5951        A61                     A73               2                  \n",
       "3 2096        A61                     A74               2                  \n",
       "4 7882        A61                     A74               2                  \n",
       "5 4870        A61                     A73               3                  \n",
       "  gender_status ... property age_yrs other_credit_outstanding home_ownership\n",
       "1 A93           ... A121     67      A143                     A152          \n",
       "2 A92           ... A121     22      A143                     A152          \n",
       "3 A93           ... A121     49      A143                     A152          \n",
       "4 A93           ... A122     45      A143                     A153          \n",
       "5 A93           ... A124     53      A143                     A153          \n",
       "  number_loans job_category dependents telephone foreign_worker bad_credit\n",
       "1 2            A173         1          A192      A201           1         \n",
       "2 1            A173         1          A191      A201           2         \n",
       "3 1            A172         2          A191      A201           1         \n",
       "4 1            A173         2          A191      A201           1         \n",
       "5 2            A173         2          A191      A201           2         "
      ]
     },
     "metadata": {},
     "output_type": "display_data"
    }
   ],
   "source": [
    "names(credit) = c('Customer_ID', 'checking_account_status', 'loan_duration_mo', 'credit_history', \n",
    "                  'purpose', 'loan_amount', 'savings_account_balance', \n",
    "                  'time_employed_yrs', 'payment_pcnt_income','gender_status', \n",
    "                  'other_signators', 'time_in_residence', 'property', 'age_yrs',\n",
    "                  'other_credit_outstanding', 'home_ownership', 'number_loans', \n",
    "                  'job_category', 'dependents', 'telephone', 'foreign_worker', \n",
    "                  'bad_credit')\n",
    "head(credit, 5)"
   ]
  },
  {
   "cell_type": "markdown",
   "metadata": {},
   "source": [
    "Next, there is a trickier problem to deal with. The current coding of the categorical variables is impossible to understand. This makes interpreting these variables nearly impossible.  \n",
    "\n",
    "The code in the cell below uses a list of lists to recode the categorical features with human-readable text. The last list recodes good and bad credit as a binary variable, $\\{ 0,1 \\}$. This process is:\n",
    "1. The `for` loop iterates over the columns. \n",
    "2. A lookup is performed on the list for each column to find the human-readable code which is then substituted. \n",
    "\n",
    "Execute this code and examine the result: "
   ]
  },
  {
   "cell_type": "code",
   "execution_count": 20,
   "metadata": {
    "scrolled": true
   },
   "outputs": [
    {
     "data": {
      "text/html": [
       "<table>\n",
       "<thead><tr><th scope=col>Customer_ID</th><th scope=col>checking_account_status</th><th scope=col>loan_duration_mo</th><th scope=col>credit_history</th><th scope=col>purpose</th><th scope=col>loan_amount</th><th scope=col>savings_account_balance</th><th scope=col>time_employed_yrs</th><th scope=col>payment_pcnt_income</th><th scope=col>gender_status</th><th scope=col>...</th><th scope=col>property</th><th scope=col>age_yrs</th><th scope=col>other_credit_outstanding</th><th scope=col>home_ownership</th><th scope=col>number_loans</th><th scope=col>job_category</th><th scope=col>dependents</th><th scope=col>telephone</th><th scope=col>foreign_worker</th><th scope=col>bad_credit</th></tr></thead>\n",
       "<tbody>\n",
       "\t<tr><td>1122334                                                                        </td><td><span style=white-space:pre-wrap>&lt; 0 DM    </span>                          </td><td> 6                                                                             </td><td>critical account - other non-bank loans                                        </td><td><span style=white-space:pre-wrap>radio/television   </span>                    </td><td>1169                                                                           </td><td>unknown/none                                                                   </td><td>&gt;= 7 years                                                                  </td><td>4                                                                              </td><td><span style=white-space:pre-wrap>male-single                      </span>      </td><td>...                                                                            </td><td><span style=white-space:pre-wrap>real estate                            </span></td><td>67                                                                             </td><td>none                                                                           </td><td><span style=white-space:pre-wrap>own     </span>                               </td><td>2                                                                              </td><td><span style=white-space:pre-wrap>skilled           </span>                     </td><td>1                                                                              </td><td>yes                                                                            </td><td>yes                                                                            </td><td>0                                                                              </td></tr>\n",
       "\t<tr><td>6156361                                                                        </td><td>0 - 200 DM                                                                     </td><td>48                                                                             </td><td><span style=white-space:pre-wrap>current loans paid                     </span></td><td><span style=white-space:pre-wrap>radio/television   </span>                    </td><td>5951                                                                           </td><td><span style=white-space:pre-wrap>&lt; 100 DM    </span>                        </td><td>1 - 4 years                                                                    </td><td>2                                                                              </td><td>female-divorced/separated/married                                              </td><td>...                                                                            </td><td><span style=white-space:pre-wrap>real estate                            </span></td><td>22                                                                             </td><td>none                                                                           </td><td><span style=white-space:pre-wrap>own     </span>                               </td><td>1                                                                              </td><td><span style=white-space:pre-wrap>skilled           </span>                     </td><td>1                                                                              </td><td>none                                                                           </td><td>yes                                                                            </td><td>1                                                                              </td></tr>\n",
       "\t<tr><td>2051359                                                                        </td><td><span style=white-space:pre-wrap>none      </span>                             </td><td>12                                                                             </td><td>critical account - other non-bank loans                                        </td><td><span style=white-space:pre-wrap>education          </span>                    </td><td>2096                                                                           </td><td><span style=white-space:pre-wrap>&lt; 100 DM    </span>                        </td><td>4 - 7 years                                                                    </td><td>2                                                                              </td><td><span style=white-space:pre-wrap>male-single                      </span>      </td><td>...                                                                            </td><td><span style=white-space:pre-wrap>real estate                            </span></td><td>49                                                                             </td><td>none                                                                           </td><td><span style=white-space:pre-wrap>own     </span>                               </td><td>1                                                                              </td><td>unskilled-resident                                                             </td><td>2                                                                              </td><td>none                                                                           </td><td>yes                                                                            </td><td>0                                                                              </td></tr>\n",
       "\t<tr><td>8740590                                                                        </td><td><span style=white-space:pre-wrap>&lt; 0 DM    </span>                          </td><td>42                                                                             </td><td><span style=white-space:pre-wrap>current loans paid                     </span></td><td>furniture/equipment                                                            </td><td>7882                                                                           </td><td><span style=white-space:pre-wrap>&lt; 100 DM    </span>                        </td><td>4 - 7 years                                                                    </td><td>2                                                                              </td><td><span style=white-space:pre-wrap>male-single                      </span>      </td><td>...                                                                            </td><td>building society savings/life insurance                                        </td><td>45                                                                             </td><td>none                                                                           </td><td>for free                                                                       </td><td>1                                                                              </td><td><span style=white-space:pre-wrap>skilled           </span>                     </td><td>2                                                                              </td><td>none                                                                           </td><td>yes                                                                            </td><td>0                                                                              </td></tr>\n",
       "\t<tr><td>3924540                                                                        </td><td><span style=white-space:pre-wrap>&lt; 0 DM    </span>                          </td><td>24                                                                             </td><td><span style=white-space:pre-wrap>past payment delays                    </span></td><td><span style=white-space:pre-wrap>car (new)          </span>                    </td><td>4870                                                                           </td><td><span style=white-space:pre-wrap>&lt; 100 DM    </span>                        </td><td>1 - 4 years                                                                    </td><td>3                                                                              </td><td><span style=white-space:pre-wrap>male-single                      </span>      </td><td>...                                                                            </td><td><span style=white-space:pre-wrap>unknown-none                           </span></td><td>53                                                                             </td><td>none                                                                           </td><td>for free                                                                       </td><td>2                                                                              </td><td><span style=white-space:pre-wrap>skilled           </span>                     </td><td>2                                                                              </td><td>none                                                                           </td><td>yes                                                                            </td><td>1                                                                              </td></tr>\n",
       "</tbody>\n",
       "</table>\n"
      ],
      "text/latex": [
       "\\begin{tabular}{r|llllllllllllllllllllll}\n",
       " Customer\\_ID & checking\\_account\\_status & loan\\_duration\\_mo & credit\\_history & purpose & loan\\_amount & savings\\_account\\_balance & time\\_employed\\_yrs & payment\\_pcnt\\_income & gender\\_status & ... & property & age\\_yrs & other\\_credit\\_outstanding & home\\_ownership & number\\_loans & job\\_category & dependents & telephone & foreign\\_worker & bad\\_credit\\\\\n",
       "\\hline\n",
       "\t 1122334                                 & < 0 DM                                  &  6                                      & critical account - other non-bank loans & radio/television                        & 1169                                    & unknown/none                            & >= 7 years                              & 4                                       & male-single                             & ...                                     & real estate                             & 67                                      & none                                    & own                                     & 2                                       & skilled                                 & 1                                       & yes                                     & yes                                     & 0                                      \\\\\n",
       "\t 6156361                                 & 0 - 200 DM                              & 48                                      & current loans paid                      & radio/television                        & 5951                                    & < 100 DM                                & 1 - 4 years                             & 2                                       & female-divorced/separated/married       & ...                                     & real estate                             & 22                                      & none                                    & own                                     & 1                                       & skilled                                 & 1                                       & none                                    & yes                                     & 1                                      \\\\\n",
       "\t 2051359                                 & none                                    & 12                                      & critical account - other non-bank loans & education                               & 2096                                    & < 100 DM                                & 4 - 7 years                             & 2                                       & male-single                             & ...                                     & real estate                             & 49                                      & none                                    & own                                     & 1                                       & unskilled-resident                      & 2                                       & none                                    & yes                                     & 0                                      \\\\\n",
       "\t 8740590                                 & < 0 DM                                  & 42                                      & current loans paid                      & furniture/equipment                     & 7882                                    & < 100 DM                                & 4 - 7 years                             & 2                                       & male-single                             & ...                                     & building society savings/life insurance & 45                                      & none                                    & for free                                & 1                                       & skilled                                 & 2                                       & none                                    & yes                                     & 0                                      \\\\\n",
       "\t 3924540                                 & < 0 DM                                  & 24                                      & past payment delays                     & car (new)                               & 4870                                    & < 100 DM                                & 1 - 4 years                             & 3                                       & male-single                             & ...                                     & unknown-none                            & 53                                      & none                                    & for free                                & 2                                       & skilled                                 & 2                                       & none                                    & yes                                     & 1                                      \\\\\n",
       "\\end{tabular}\n"
      ],
      "text/markdown": [
       "\n",
       "Customer_ID | checking_account_status | loan_duration_mo | credit_history | purpose | loan_amount | savings_account_balance | time_employed_yrs | payment_pcnt_income | gender_status | ... | property | age_yrs | other_credit_outstanding | home_ownership | number_loans | job_category | dependents | telephone | foreign_worker | bad_credit | \n",
       "|---|---|---|---|---|\n",
       "| 1122334                                 | < 0 DM                                  |  6                                      | critical account - other non-bank loans | radio/television                        | 1169                                    | unknown/none                            | >= 7 years                              | 4                                       | male-single                             | ...                                     | real estate                             | 67                                      | none                                    | own                                     | 2                                       | skilled                                 | 1                                       | yes                                     | yes                                     | 0                                       | \n",
       "| 6156361                                 | 0 - 200 DM                              | 48                                      | current loans paid                      | radio/television                        | 5951                                    | < 100 DM                                | 1 - 4 years                             | 2                                       | female-divorced/separated/married       | ...                                     | real estate                             | 22                                      | none                                    | own                                     | 1                                       | skilled                                 | 1                                       | none                                    | yes                                     | 1                                       | \n",
       "| 2051359                                 | none                                    | 12                                      | critical account - other non-bank loans | education                               | 2096                                    | < 100 DM                                | 4 - 7 years                             | 2                                       | male-single                             | ...                                     | real estate                             | 49                                      | none                                    | own                                     | 1                                       | unskilled-resident                      | 2                                       | none                                    | yes                                     | 0                                       | \n",
       "| 8740590                                 | < 0 DM                                  | 42                                      | current loans paid                      | furniture/equipment                     | 7882                                    | < 100 DM                                | 4 - 7 years                             | 2                                       | male-single                             | ...                                     | building society savings/life insurance | 45                                      | none                                    | for free                                | 1                                       | skilled                                 | 2                                       | none                                    | yes                                     | 0                                       | \n",
       "| 3924540                                 | < 0 DM                                  | 24                                      | past payment delays                     | car (new)                               | 4870                                    | < 100 DM                                | 1 - 4 years                             | 3                                       | male-single                             | ...                                     | unknown-none                            | 53                                      | none                                    | for free                                | 2                                       | skilled                                 | 2                                       | none                                    | yes                                     | 1                                       | \n",
       "\n",
       "\n"
      ],
      "text/plain": [
       "  Customer_ID checking_account_status loan_duration_mo\n",
       "1 1122334     < 0 DM                   6              \n",
       "2 6156361     0 - 200 DM              48              \n",
       "3 2051359     none                    12              \n",
       "4 8740590     < 0 DM                  42              \n",
       "5 3924540     < 0 DM                  24              \n",
       "  credit_history                          purpose             loan_amount\n",
       "1 critical account - other non-bank loans radio/television    1169       \n",
       "2 current loans paid                      radio/television    5951       \n",
       "3 critical account - other non-bank loans education           2096       \n",
       "4 current loans paid                      furniture/equipment 7882       \n",
       "5 past payment delays                     car (new)           4870       \n",
       "  savings_account_balance time_employed_yrs payment_pcnt_income\n",
       "1 unknown/none            >= 7 years        4                  \n",
       "2 < 100 DM                1 - 4 years       2                  \n",
       "3 < 100 DM                4 - 7 years       2                  \n",
       "4 < 100 DM                4 - 7 years       2                  \n",
       "5 < 100 DM                1 - 4 years       3                  \n",
       "  gender_status                     ... property                               \n",
       "1 male-single                       ... real estate                            \n",
       "2 female-divorced/separated/married ... real estate                            \n",
       "3 male-single                       ... real estate                            \n",
       "4 male-single                       ... building society savings/life insurance\n",
       "5 male-single                       ... unknown-none                           \n",
       "  age_yrs other_credit_outstanding home_ownership number_loans\n",
       "1 67      none                     own            2           \n",
       "2 22      none                     own            1           \n",
       "3 49      none                     own            1           \n",
       "4 45      none                     for free       1           \n",
       "5 53      none                     for free       2           \n",
       "  job_category       dependents telephone foreign_worker bad_credit\n",
       "1 skilled            1          yes       yes            0         \n",
       "2 skilled            1          none      yes            1         \n",
       "3 unskilled-resident 2          none      yes            0         \n",
       "4 skilled            2          none      yes            0         \n",
       "5 skilled            2          none      yes            1         "
      ]
     },
     "metadata": {},
     "output_type": "display_data"
    }
   ],
   "source": [
    "checking_account_status = c('< 0 DM', '0 - 200 DM', '> 200 DM or salary assignment', 'none')\n",
    "names(checking_account_status) = c('A11', 'A12', 'A13', 'A14')\n",
    "credit_history = c('no credit - paid', 'all loans at bank paid', 'current loans paid', \n",
    "                   'past payment delays',  'critical account - other non-bank loans')\n",
    "names(credit_history) = c('A30', 'A31', 'A32', 'A33', 'A34')\n",
    "purpose = c( 'car (new)', 'car (used)', 'furniture/equipment', 'radio/television', \n",
    "             'domestic appliances', 'repairs', 'education', 'vacation', 'retraining',\n",
    "             'business', 'other')\n",
    "names(purpose) = c('A40', 'A41', 'A42', 'A43', 'A44', 'A45', 'A46', 'A47', 'A48', 'A49', 'A410')\n",
    "savings_account_balance = c('< 100 DM', '100 - 500 DM', '500 - 1000 DM', '>= 1000 DM', 'unknown/none')\n",
    "names(savings_account_balance) = c('A61', 'A62', 'A63', 'A64', 'A65')\n",
    "time_employed_yrs = c('unemployed', '< 1 year', '1 - 4 years', '4 - 7 years', '>= 7 years')\n",
    "names(time_employed_yrs) = c('A71', 'A72', 'A73', 'A74', 'A75')\n",
    "gender_status = c('male-divorced/separated', 'female-divorced/separated/married',\n",
    "                  'male-single', 'male-married/widowed', 'female-single')\n",
    "names(gender_status) = c('A91', 'A92', 'A93', 'A94', 'A95')\n",
    "other_signators = c('none', 'co-applicant', 'guarantor')\n",
    "names(other_signators) = c('A101', 'A102', 'A103')\n",
    "property =  c('real estate', 'building society savings/life insurance', 'car or other', 'unknown-none')\n",
    "names(property) = c('A121', 'A122', 'A123', 'A124')\n",
    "other_credit_outstanding = c('bank', 'stores', 'none')\n",
    "names(other_credit_outstanding) = c('A141', 'A142', 'A143')\n",
    "home_ownership = c('rent', 'own', 'for free')\n",
    "names(home_ownership) = c('A151', 'A152', 'A153')\n",
    "job_category = c('unemployed-unskilled-non-resident', 'unskilled-resident', 'skilled', 'highly skilled')\n",
    "names(job_category) =c('A171', 'A172', 'A173', 'A174')\n",
    "telephone = c('none', 'yes')\n",
    "names(telephone) = c('A191', 'A192')\n",
    "foreign_worker = c('yes', 'no')\n",
    "names(foreign_worker) = c('A201', 'A202')\n",
    "bad_credit = c(1, 0)\n",
    "names(bad_credit) = c(2, 1)\n",
    "            \n",
    "codes = c('checking_account_status' = checking_account_status,\n",
    "         'credit_history' = credit_history,\n",
    "         'purpose' = purpose,\n",
    "         'savings_account_balance' = savings_account_balance,\n",
    "         'time_employed_yrs' = time_employed_yrs,\n",
    "         'gender_status' = gender_status,\n",
    "         'other_signators' = other_signators,\n",
    "         'property' = property,\n",
    "         'other_credit_outstanding' = other_credit_outstanding,\n",
    "         'home_ownership' = home_ownership,\n",
    "         'job_category' = job_category,\n",
    "         'telephone' = telephone,\n",
    "         'foreign_worker' = foreign_worker,\n",
    "         'bad_credit' = bad_credit)         \n",
    "\n",
    "cat_cols = c('checking_account_status', 'credit_history', 'purpose', 'savings_account_balance', \n",
    "                  'time_employed_yrs','gender_status', 'other_signators', 'property',\n",
    "                  'other_credit_outstanding', 'home_ownership', 'job_category', 'telephone', 'foreign_worker', \n",
    "                  'bad_credit')\n",
    "\n",
    "for(col in cat_cols){\n",
    "    credit[,col] = sapply(credit[,col], function(code){codes[[paste(col, '.', code, sep = '')]]})\n",
    "}\n",
    "#credit$bad_credit = as.numeric(credit$bad_credit)\n",
    "head(credit, 5)"
   ]
  },
  {
   "cell_type": "markdown",
   "metadata": {},
   "source": [
    "The categorical values are now coded in a human readable manner. "
   ]
  },
  {
   "cell_type": "markdown",
   "metadata": {},
   "source": [
    "### Remove duplicate rows\n",
    "\n",
    "Duplicate cases can seriously bias the training of machine learning models. In simple terms, cases which are duplicates add undue weight to that case when training a machine learning model. Therefore, it is necessary to ensure there are no duplicates in the dataset before training a model.  \n",
    "\n",
    "One must be careful when determining if a case is a duplicate or not. It is possible that some cases have identical values, particularly if most or all features are categorical. On the other hand, if there are columns with values guaranteed to be unique these can be used to detect and remove duplicates.\n",
    "\n",
    "Another consideration when removing duplicate cases is determining which case to remove. If the duplicates have different dates of creation, the newest date is often selected. In the absence of such a criteria, the choice is often arbitrary. You may chose to keep the first case or the last case. \n",
    "\n",
    "The German credit data has a Customer ID column which should be unique. The presence of duplicates can be determined by comparing the number of rows to the number of unique values. The code in the cell below prints the shape of the data frame and the number of unique rows determined by the dplyr `distinct` function. \n",
    "\n",
    "Execute this code, examine the results, and answer **Question 3** on the course page."
   ]
  },
  {
   "cell_type": "code",
   "execution_count": 21,
   "metadata": {},
   "outputs": [
    {
     "name": "stdout",
     "output_type": "stream",
     "text": [
      "[1] 1012   22\n"
     ]
    },
    {
     "data": {
      "text/html": [
       "<ol class=list-inline>\n",
       "\t<li>1000</li>\n",
       "\t<li>22</li>\n",
       "</ol>\n"
      ],
      "text/latex": [
       "\\begin{enumerate*}\n",
       "\\item 1000\n",
       "\\item 22\n",
       "\\end{enumerate*}\n"
      ],
      "text/markdown": [
       "1. 1000\n",
       "2. 22\n",
       "\n",
       "\n"
      ],
      "text/plain": [
       "[1] 1000   22"
      ]
     },
     "metadata": {},
     "output_type": "display_data"
    }
   ],
   "source": [
    "print(dim(credit))\n",
    "dim(distinct(credit))"
   ]
  },
  {
   "cell_type": "markdown",
   "metadata": {},
   "source": [
    "There are 12 duplicate cases. These need to be located and the duplicates removed. In this case, the first instance will be kept. \n",
    "\n",
    "The code in the cell below removes these duplicates from the data frame and resulting dimension is printed. Execute this code and examine the results. "
   ]
  },
  {
   "cell_type": "code",
   "execution_count": 22,
   "metadata": {
    "scrolled": true
   },
   "outputs": [
    {
     "data": {
      "text/html": [
       "<ol class=list-inline>\n",
       "\t<li>1000</li>\n",
       "\t<li>22</li>\n",
       "</ol>\n"
      ],
      "text/latex": [
       "\\begin{enumerate*}\n",
       "\\item 1000\n",
       "\\item 22\n",
       "\\end{enumerate*}\n"
      ],
      "text/markdown": [
       "1. 1000\n",
       "2. 22\n",
       "\n",
       "\n"
      ],
      "text/plain": [
       "[1] 1000   22"
      ]
     },
     "metadata": {},
     "output_type": "display_data"
    }
   ],
   "source": [
    "credit = distinct(credit)\n",
    "dim(credit)"
   ]
  },
  {
   "cell_type": "markdown",
   "metadata": {},
   "source": [
    "The duplicate rows have been successfully removed. "
   ]
  },
  {
   "cell_type": "code",
   "execution_count": 23,
   "metadata": {},
   "outputs": [],
   "source": [
    "# Let's save the dataframe to a csv file \n",
    "# We will use this in the next module so that we don't have to re-do the steps above\n",
    "# You don't have to run this code as the csv file has been saved under the next module's folder\n",
    "#write.csv(credit, file = 'German_Credit_Preped.csv', row.names = FALSE)"
   ]
  },
  {
   "cell_type": "markdown",
   "metadata": {},
   "source": [
    "### Feature engineering\n",
    "\n",
    "Some feature engineering needs to be investigated to determine if any improvement in predictive power can be expected. From the previous data exploration, it is apparent that several of the numeric features had a strong left skew. A log transformation may help in a case like this. \n",
    "\n",
    "Execute the code in the cell below iterates over selected columns with `lapply` to apply the `log` function to each column."
   ]
  },
  {
   "cell_type": "code",
   "execution_count": 24,
   "metadata": {},
   "outputs": [],
   "source": [
    "credit[,c('log_loan_duration_mo', 'log_loan_amount', 'log_age_yrs')] = lapply(credit[,c('loan_duration_mo', 'loan_amount', 'age_yrs')], log)"
   ]
  },
  {
   "cell_type": "markdown",
   "metadata": {},
   "source": [
    "Next, execute the code in the cell below to visualize the differences in the distributions of the untransformed and transformed variables for the two label values. "
   ]
  },
  {
   "cell_type": "code",
   "execution_count": 25,
   "metadata": {
    "scrolled": false
   },
   "outputs": [
    {
     "data": {
      "image/png": "[encoded data removed]",
      "text/plain": [
       "plot without title"
      ]
     },
     "metadata": {},
     "output_type": "display_data"
    },
    {
     "data": {
      "image/png": "[encoded data removed]",
      "text/plain": [
       "plot without title"
      ]
     },
     "metadata": {},
     "output_type": "display_data"
    },
    {
     "data": {
      "image/png": "[encoded data removed]",
      "text/plain": [
       "plot without title"
      ]
     },
     "metadata": {},
     "output_type": "display_data"
    },
    {
     "data": {
      "image/png": "[encoded data removed]",
      "text/plain": [
       "plot without title"
      ]
     },
     "metadata": {},
     "output_type": "display_data"
    },
    {
     "data": {
      "image/png": "[encoded data removed]",
      "text/plain": [
       "plot without title"
      ]
     },
     "metadata": {},
     "output_type": "display_data"
    },
    {
     "data": {
      "image/png": "[encoded data removed]",
      "text/plain": [
       "plot without title"
      ]
     },
     "metadata": {},
     "output_type": "display_data"
    }
   ],
   "source": [
    "plot_violin = function(df, cols, col_x = 'bad_credit'){\n",
    "    options(repr.plot.width=4, repr.plot.height=3.5) # Set the initial plot area dimensions\n",
    "    for(col in cols){\n",
    "        p = ggplot(df, aes_string(col_x, col)) + \n",
    "                   geom_violin() +\n",
    "                   ggtitle(paste('Box plot of', col, '\\n vs.', col_x))\n",
    "        print(p)\n",
    "    }\n",
    "}\n",
    "\n",
    "num_cols = c('log_loan_duration_mo', 'log_loan_amount', 'log_age_yrs',\n",
    "                   'loan_duration_mo', 'loan_amount', 'age_yrs')\n",
    "plot_violin(credit, num_cols) "
   ]
  },
  {
   "cell_type": "markdown",
   "metadata": {},
   "source": [
    "The log transformed features have more symmetric distributions. However, it does not appear that the separation of the label cases is improved. \n",
    "\n",
    "****\n",
    "**Note:** Recalling the visualization of the categorical features, there are quite a few categories with few cases. However, it is not clear how these categories can be reasonably combined. It may be the case that some of these categorical features are not terribly predictive.\n",
    "****"
   ]
  },
  {
   "cell_type": "markdown",
   "metadata": {},
   "source": [
    "## Summary\n",
    "\n",
    "Good data preparation is the key to good machine learning performance. Data preparation or data munging is a time interactive and iterative process. Continue to visualize the results as you test ideas. Expect to try many approaches, reject the ones that do not help, and keep the ones that do. In summary, test a lot of ideas, fail fast, keep what works. The reward is that well prepared data can improve the performance of almost any machine learning algorithm."
   ]
  }
 ],
 "metadata": {
  "kernelspec": {
   "display_name": "R",
   "language": "R",
   "name": "ir"
  },
  "language_info": {
   "codemirror_mode": "r",
   "file_extension": ".r",
   "mimetype": "text/x-r-source",
   "name": "R",
   "pygments_lexer": "r",
   "version": "3.5.0"
  }
 },
 "nbformat": 4,
 "nbformat_minor": 2
}
