{
 "cells": [
  {
   "cell_type": "code",
   "execution_count": 1,
   "metadata": {},
   "outputs": [
    {
     "data": {
      "text/html": [],
      "text/latex": [],
      "text/markdown": [],
      "text/plain": [
       "character(0)"
      ]
     },
     "metadata": {},
     "output_type": "display_data"
    },
    {
     "data": {
      "text/html": [],
      "text/latex": [],
      "text/markdown": [],
      "text/plain": [
       "character(0)"
      ]
     },
     "metadata": {},
     "output_type": "display_data"
    },
    {
     "name": "stderr",
     "output_type": "stream",
     "text": [
      "Installing package into ‘/home/nbuser/R’\n",
      "(as ‘lib’ is unspecified)\n",
      "system (cmd0): /opt/microsoft/ropen/3.4.1/lib64/R/bin/R CMD INSTALL\n",
      "also installing the dependencies ‘geometry’, ‘ddalpha’, ‘recipes’\n",
      "\n",
      "foundpkgs: geometry, ddalpha, recipes, caret, /tmp/RtmpS5L0Ab/downloaded_packages/geometry_0.3-6.tar.gz, /tmp/RtmpS5L0Ab/downloaded_packages/ddalpha_1.3.4.tar.gz, /tmp/RtmpS5L0Ab/downloaded_packages/recipes_0.1.3.tar.gz, /tmp/RtmpS5L0Ab/downloaded_packages/caret_6.0-80.tar.gz\n",
      "files: /tmp/RtmpS5L0Ab/downloaded_packages/geometry_0.3-6.tar.gz, \n",
      "\t/tmp/RtmpS5L0Ab/downloaded_packages/ddalpha_1.3.4.tar.gz, \n",
      "\t/tmp/RtmpS5L0Ab/downloaded_packages/recipes_0.1.3.tar.gz, \n",
      "\t/tmp/RtmpS5L0Ab/downloaded_packages/caret_6.0-80.tar.gz\n",
      "1): succeeded '/opt/microsoft/ropen/3.4.1/lib64/R/bin/R CMD INSTALL -l '/home/nbuser/R' /tmp/RtmpS5L0Ab/downloaded_packages/geometry_0.3-6.tar.gz'\n",
      "2): succeeded '/opt/microsoft/ropen/3.4.1/lib64/R/bin/R CMD INSTALL -l '/home/nbuser/R' /tmp/RtmpS5L0Ab/downloaded_packages/ddalpha_1.3.4.tar.gz'\n",
      "3): succeeded '/opt/microsoft/ropen/3.4.1/lib64/R/bin/R CMD INSTALL -l '/home/nbuser/R' /tmp/RtmpS5L0Ab/downloaded_packages/recipes_0.1.3.tar.gz'\n",
      "4): succeeded '/opt/microsoft/ropen/3.4.1/lib64/R/bin/R CMD INSTALL -l '/home/nbuser/R' /tmp/RtmpS5L0Ab/downloaded_packages/caret_6.0-80.tar.gz'\n"
     ]
    }
   ],
   "source": [
    "system(\"mkdir -p ~/.R\", intern = TRUE)\n",
    "system(\"cp ~/library/Makevars ~/.R/Makevars\", intern = TRUE)\n",
    "install.packages(\"caret\", verbose = TRUE)"
   ]
  },
  {
   "cell_type": "code",
   "execution_count": null,
   "metadata": {},
   "outputs": [],
   "source": []
  }
 ],
 "metadata": {
  "kernelspec": {
   "display_name": "R",
   "language": "R",
   "name": "ir"
  },
  "language_info": {
   "codemirror_mode": "r",
   "file_extension": ".r",
   "mimetype": "text/x-r-source",
   "name": "R",
   "pygments_lexer": "r",
   "version": "3.5.0"
  }
 },
 "nbformat": 4,
 "nbformat_minor": 2
}
